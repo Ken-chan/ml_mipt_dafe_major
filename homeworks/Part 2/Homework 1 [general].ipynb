{
 "cells": [
  {
   "cell_type": "markdown",
   "metadata": {},
   "source": [
    "# Домашнее задание №1 - Применение методов NLP\n",
    "\n",
    "\n",
    "В этом домашнем задании мы будем работать с данными из сорневнования: \n",
    "[Toxic comment classification challenge](https://www.kaggle.com/c/jigsaw-toxic-comment-classification-challenge)\n",
    "  \n",
    "  \n",
    "В задании небходимо по тексту комментария определить веротяности следующих категорий:\n",
    "- toxic\n",
    "- severe_toxic\n",
    "- obscene\n",
    "- threat\n",
    "- insult\n",
    "- identity_hate\n",
    "\n",
    "Как и в соревновании мы везде будем использовать метрику ROC AUC для валидации\n",
    "\n",
    "_Обратите внимание, что каждый комментарий может иметь несколько меток разных классов_\n",
    "\n",
    "### Что нужно сделать? \n",
    "\n",
    "1. Подготовка __[10%]__:\n",
    "    - Скачайте данные, проведите первоначальные EDA: баланс классов, пересечение классов и т.д. \n",
    "    "
   ]
  },
  {
   "cell_type": "code",
   "execution_count": 118,
   "metadata": {},
   "outputs": [],
   "source": [
    "import pandas as pd \n",
    "import numpy as np\n",
    "%matplotlib inline"
   ]
  },
  {
   "cell_type": "code",
   "execution_count": 119,
   "metadata": {},
   "outputs": [],
   "source": [
    "train = pd.read_csv(\"train.csv\")\n",
    "test = pd.read_csv(\"test.csv\")"
   ]
  },
  {
   "cell_type": "code",
   "execution_count": 120,
   "metadata": {},
   "outputs": [
    {
     "data": {
      "text/html": [
       "<div>\n",
       "<style scoped>\n",
       "    .dataframe tbody tr th:only-of-type {\n",
       "        vertical-align: middle;\n",
       "    }\n",
       "\n",
       "    .dataframe tbody tr th {\n",
       "        vertical-align: top;\n",
       "    }\n",
       "\n",
       "    .dataframe thead th {\n",
       "        text-align: right;\n",
       "    }\n",
       "</style>\n",
       "<table border=\"1\" class=\"dataframe\">\n",
       "  <thead>\n",
       "    <tr style=\"text-align: right;\">\n",
       "      <th></th>\n",
       "      <th>id</th>\n",
       "      <th>comment_text</th>\n",
       "      <th>toxic</th>\n",
       "      <th>severe_toxic</th>\n",
       "      <th>obscene</th>\n",
       "      <th>threat</th>\n",
       "      <th>insult</th>\n",
       "      <th>identity_hate</th>\n",
       "    </tr>\n",
       "  </thead>\n",
       "  <tbody>\n",
       "    <tr>\n",
       "      <th>0</th>\n",
       "      <td>0000997932d777bf</td>\n",
       "      <td>Explanation\\nWhy the edits made under my usern...</td>\n",
       "      <td>0</td>\n",
       "      <td>0</td>\n",
       "      <td>0</td>\n",
       "      <td>0</td>\n",
       "      <td>0</td>\n",
       "      <td>0</td>\n",
       "    </tr>\n",
       "    <tr>\n",
       "      <th>1</th>\n",
       "      <td>000103f0d9cfb60f</td>\n",
       "      <td>D'aww! He matches this background colour I'm s...</td>\n",
       "      <td>0</td>\n",
       "      <td>0</td>\n",
       "      <td>0</td>\n",
       "      <td>0</td>\n",
       "      <td>0</td>\n",
       "      <td>0</td>\n",
       "    </tr>\n",
       "    <tr>\n",
       "      <th>2</th>\n",
       "      <td>000113f07ec002fd</td>\n",
       "      <td>Hey man, I'm really not trying to edit war. It...</td>\n",
       "      <td>0</td>\n",
       "      <td>0</td>\n",
       "      <td>0</td>\n",
       "      <td>0</td>\n",
       "      <td>0</td>\n",
       "      <td>0</td>\n",
       "    </tr>\n",
       "    <tr>\n",
       "      <th>3</th>\n",
       "      <td>0001b41b1c6bb37e</td>\n",
       "      <td>\"\\nMore\\nI can't make any real suggestions on ...</td>\n",
       "      <td>0</td>\n",
       "      <td>0</td>\n",
       "      <td>0</td>\n",
       "      <td>0</td>\n",
       "      <td>0</td>\n",
       "      <td>0</td>\n",
       "    </tr>\n",
       "    <tr>\n",
       "      <th>4</th>\n",
       "      <td>0001d958c54c6e35</td>\n",
       "      <td>You, sir, are my hero. Any chance you remember...</td>\n",
       "      <td>0</td>\n",
       "      <td>0</td>\n",
       "      <td>0</td>\n",
       "      <td>0</td>\n",
       "      <td>0</td>\n",
       "      <td>0</td>\n",
       "    </tr>\n",
       "  </tbody>\n",
       "</table>\n",
       "</div>"
      ],
      "text/plain": [
       "                 id                                       comment_text  toxic  \\\n",
       "0  0000997932d777bf  Explanation\\nWhy the edits made under my usern...      0   \n",
       "1  000103f0d9cfb60f  D'aww! He matches this background colour I'm s...      0   \n",
       "2  000113f07ec002fd  Hey man, I'm really not trying to edit war. It...      0   \n",
       "3  0001b41b1c6bb37e  \"\\nMore\\nI can't make any real suggestions on ...      0   \n",
       "4  0001d958c54c6e35  You, sir, are my hero. Any chance you remember...      0   \n",
       "\n",
       "   severe_toxic  obscene  threat  insult  identity_hate  \n",
       "0             0        0       0       0              0  \n",
       "1             0        0       0       0              0  \n",
       "2             0        0       0       0              0  \n",
       "3             0        0       0       0              0  \n",
       "4             0        0       0       0              0  "
      ]
     },
     "execution_count": 120,
     "metadata": {},
     "output_type": "execute_result"
    }
   ],
   "source": [
    "train.head()"
   ]
  },
  {
   "cell_type": "code",
   "execution_count": 121,
   "metadata": {},
   "outputs": [
    {
     "name": "stdout",
     "output_type": "stream",
     "text": [
      "Check for missing values in Train dataset\n",
      "id               0\n",
      "comment_text     0\n",
      "toxic            0\n",
      "severe_toxic     0\n",
      "obscene          0\n",
      "threat           0\n",
      "insult           0\n",
      "identity_hate    0\n",
      "dtype: int64\n"
     ]
    }
   ],
   "source": [
    "print(\"Check for missing values in Train dataset\")\n",
    "null_check=train.isnull().sum()\n",
    "print(null_check)"
   ]
  },
  {
   "cell_type": "code",
   "execution_count": 122,
   "metadata": {},
   "outputs": [
    {
     "name": "stdout",
     "output_type": "stream",
     "text": [
      "Total comments =  159571\n",
      "Total clean comments =  143346\n",
      "Total tags =  35098\n"
     ]
    }
   ],
   "source": [
    "count_classes = train.iloc[:,2:].sum(axis = 1)\n",
    "train['clean'] = (count_classes == 0)\n",
    "print(\"Total comments = \", len(train))\n",
    "print(\"Total clean comments = \", train['clean'].sum())\n",
    "print(\"Total tags = \", count_classes.sum())"
   ]
  },
  {
   "cell_type": "code",
   "execution_count": 123,
   "metadata": {},
   "outputs": [
    {
     "data": {
      "image/png": "[encoded data removed]",
      "text/plain": [
       "<Figure size 576x288 with 1 Axes>"
      ]
     },
     "metadata": {
      "needs_background": "light"
     },
     "output_type": "display_data"
    }
   ],
   "source": [
    "import matplotlib.pyplot as plt\n",
    "import seaborn as sns\n",
    "\n",
    "classes=train.iloc[:,2:].sum()\n",
    "plt.figure(figsize=(8,4))\n",
    "ax= sns.barplot(classes.index, classes.values)\n",
    "plt.title(\"# per class\")\n",
    "plt.ylabel('# of Occurrences', fontsize=12)\n",
    "plt.xlabel('Type ', fontsize=12)\n",
    "rects = ax.patches\n",
    "labels = classes.values\n",
    "for rect, label in zip(rects, labels):\n",
    "    height = rect.get_height()\n",
    "    ax.text(rect.get_x() + rect.get_width()/2, height + 5, label, ha='center', va='bottom')\n",
    "\n",
    "plt.show()"
   ]
  },
  {
   "cell_type": "code",
   "execution_count": 124,
   "metadata": {},
   "outputs": [
    {
     "data": {
      "image/png": "[encoded data removed]",
      "text/plain": [
       "<Figure size 576x288 with 1 Axes>"
      ]
     },
     "metadata": {
      "needs_background": "light"
     },
     "output_type": "display_data"
    },
    {
     "name": "stdout",
     "output_type": "stream",
     "text": [
      "0    143346\n",
      "1      6360\n",
      "3      4209\n",
      "2      3480\n",
      "4      1760\n",
      "5       385\n",
      "6        31\n",
      "dtype: int64\n"
     ]
    }
   ],
   "source": [
    "x=count_classes.value_counts()\n",
    "\n",
    "plt.figure(figsize=(8,4))\n",
    "ax = sns.barplot(x.index, x.values, alpha=0.8)\n",
    "plt.title(\"Multiple tags per comment\")\n",
    "plt.ylabel('# of Occurrences', fontsize=12)\n",
    "plt.xlabel('# of tags ', fontsize=12)\n",
    "plt.show()\n",
    "print(x)"
   ]
  },
  {
   "cell_type": "code",
   "execution_count": 125,
   "metadata": {},
   "outputs": [
    {
     "data": {
      "image/png": "[encoded data removed]",
      "text/plain": [
       "<Figure size 720x576 with 2 Axes>"
      ]
     },
     "metadata": {
      "needs_background": "light"
     },
     "output_type": "display_data"
    }
   ],
   "source": [
    "temp_df=train.iloc[:,2:-1]\n",
    "\n",
    "corr=temp_df.corr()\n",
    "plt.figure(figsize=(10,8))\n",
    "sns.heatmap(corr, annot=True);"
   ]
  },
  {
   "cell_type": "code",
   "execution_count": 126,
   "metadata": {},
   "outputs": [
    {
     "data": {
      "text/html": [
       "<div>\n",
       "<style scoped>\n",
       "    .dataframe tbody tr th:only-of-type {\n",
       "        vertical-align: middle;\n",
       "    }\n",
       "\n",
       "    .dataframe tbody tr th {\n",
       "        vertical-align: top;\n",
       "    }\n",
       "\n",
       "    .dataframe thead tr th {\n",
       "        text-align: left;\n",
       "    }\n",
       "\n",
       "    .dataframe thead tr:last-of-type th {\n",
       "        text-align: right;\n",
       "    }\n",
       "</style>\n",
       "<table border=\"1\" class=\"dataframe\">\n",
       "  <thead>\n",
       "    <tr>\n",
       "      <th></th>\n",
       "      <th colspan=\"2\" halign=\"left\">severe_toxic</th>\n",
       "      <th colspan=\"2\" halign=\"left\">obscene</th>\n",
       "      <th colspan=\"2\" halign=\"left\">threat</th>\n",
       "      <th colspan=\"2\" halign=\"left\">insult</th>\n",
       "      <th colspan=\"2\" halign=\"left\">identity_hate</th>\n",
       "    </tr>\n",
       "    <tr>\n",
       "      <th></th>\n",
       "      <th>0</th>\n",
       "      <th>1</th>\n",
       "      <th>0</th>\n",
       "      <th>1</th>\n",
       "      <th>0</th>\n",
       "      <th>1</th>\n",
       "      <th>0</th>\n",
       "      <th>1</th>\n",
       "      <th>0</th>\n",
       "      <th>1</th>\n",
       "    </tr>\n",
       "    <tr>\n",
       "      <th>toxic</th>\n",
       "      <th></th>\n",
       "      <th></th>\n",
       "      <th></th>\n",
       "      <th></th>\n",
       "      <th></th>\n",
       "      <th></th>\n",
       "      <th></th>\n",
       "      <th></th>\n",
       "      <th></th>\n",
       "      <th></th>\n",
       "    </tr>\n",
       "  </thead>\n",
       "  <tbody>\n",
       "    <tr>\n",
       "      <th>0</th>\n",
       "      <td>144277</td>\n",
       "      <td>0</td>\n",
       "      <td>143754</td>\n",
       "      <td>523</td>\n",
       "      <td>144248</td>\n",
       "      <td>29</td>\n",
       "      <td>143744</td>\n",
       "      <td>533</td>\n",
       "      <td>144174</td>\n",
       "      <td>103</td>\n",
       "    </tr>\n",
       "    <tr>\n",
       "      <th>1</th>\n",
       "      <td>13699</td>\n",
       "      <td>1595</td>\n",
       "      <td>7368</td>\n",
       "      <td>7926</td>\n",
       "      <td>14845</td>\n",
       "      <td>449</td>\n",
       "      <td>7950</td>\n",
       "      <td>7344</td>\n",
       "      <td>13992</td>\n",
       "      <td>1302</td>\n",
       "    </tr>\n",
       "  </tbody>\n",
       "</table>\n",
       "</div>"
      ],
      "text/plain": [
       "      severe_toxic       obscene        threat       insult        \\\n",
       "                 0     1       0     1       0    1       0     1   \n",
       "toxic                                                               \n",
       "0           144277     0  143754   523  144248   29  143744   533   \n",
       "1            13699  1595    7368  7926   14845  449    7950  7344   \n",
       "\n",
       "      identity_hate        \n",
       "                  0     1  \n",
       "toxic                      \n",
       "0            144174   103  \n",
       "1             13992  1302  "
      ]
     },
     "execution_count": 126,
     "metadata": {},
     "output_type": "execute_result"
    }
   ],
   "source": [
    "main_col=\"toxic\"\n",
    "corr_mats=[]\n",
    "for other_col in temp_df.columns[1:]:\n",
    "    confusion_matrix = pd.crosstab(temp_df[main_col], temp_df[other_col])\n",
    "    array_conf_matrix = np.array(confusion_matrix.values)\n",
    "    df_conf_matrix = pd.DataFrame(array_conf_matrix)\n",
    "    corr_mats.append(df_conf_matrix)\n",
    "out = pd.concat(corr_mats,axis=1,keys=temp_df.columns[1:])\n",
    "out.index.name = 'toxic'\n",
    "\n",
    "out"
   ]
  },
  {
   "cell_type": "markdown",
   "metadata": {},
   "source": [
    "## Все очень токсичные комментарии - токсичные"
   ]
  },
  {
   "cell_type": "markdown",
   "metadata": {},
   "source": [
    "# Придумайте и обоснуйте стратегию валидации.\n",
    "Сделайте предбработку данных. Оцените что требуется делать с символами, заглавными буквами. Проведите лемматизацию или стеминг."
   ]
  },
  {
   "cell_type": "markdown",
   "metadata": {},
   "source": [
    "# Сделал Adversarial validation, вроде неплохо сходится с тестом"
   ]
  },
  {
   "cell_type": "code",
   "execution_count": 127,
   "metadata": {},
   "outputs": [],
   "source": [
    "from sklearn.linear_model import LogisticRegression\n",
    "from sklearn.feature_extraction.text import CountVectorizer, TfidfVectorizer\n",
    "import re, string\n",
    "import time\n",
    "from scipy.sparse import hstack, vstack\n",
    "\n",
    "from sklearn.model_selection import StratifiedKFold"
   ]
  },
  {
   "cell_type": "code",
   "execution_count": 129,
   "metadata": {},
   "outputs": [],
   "source": [
    "def tokenize(s): \n",
    "#     global a\n",
    "#     if a == 0:\n",
    "#         print(s)\n",
    "#         a = 1\n",
    "    return re_tok.sub(r' \\1 ', s).split()"
   ]
  },
  {
   "cell_type": "code",
   "execution_count": 130,
   "metadata": {},
   "outputs": [
    {
     "data": {
      "text/plain": [
       "'!\"#$%&\\'()*+,-./:;<=>?@[\\\\]^_`{|}~'"
      ]
     },
     "execution_count": 130,
     "metadata": {},
     "output_type": "execute_result"
    }
   ],
   "source": [
    "string.punctuation"
   ]
  },
  {
   "cell_type": "code",
   "execution_count": 131,
   "metadata": {},
   "outputs": [],
   "source": [
    "tmp = \"explanation why the edits made under my username hardcore metallica fan were reverted? they weren' t vandalisms, just closure on some gas after i voted at new york dolls fac. and please don't remove the template from the talk page since i'm retired now.89.205.38.27\""
   ]
  },
  {
   "cell_type": "code",
   "execution_count": 132,
   "metadata": {},
   "outputs": [
    {
     "data": {
      "text/plain": [
       "0    Explanation\\nWhy the edits made under my usern...\n",
       "1    D'aww! He matches this background colour I'm s...\n",
       "2    Hey man, I'm really not trying to edit war. It...\n",
       "3    \"\\nMore\\nI can't make any real suggestions on ...\n",
       "4    You, sir, are my hero. Any chance you remember...\n",
       "Name: comment_text, dtype: object"
      ]
     },
     "execution_count": 132,
     "metadata": {},
     "output_type": "execute_result"
    }
   ],
   "source": [
    "train['comment_text'][:5]"
   ]
  },
  {
   "cell_type": "code",
   "execution_count": 146,
   "metadata": {},
   "outputs": [],
   "source": [
    "vec = TfidfVectorizer(ngram_range=(1,2), lowercase=True,\n",
    "               min_df=4, strip_accents='unicode', use_idf=1,\n",
    "                      smooth_idf=1, sublinear_tf=1)\n",
    "tmp1 = vec.fit_transform(train['comment_text'][:1000])"
   ]
  },
  {
   "cell_type": "code",
   "execution_count": 147,
   "metadata": {},
   "outputs": [],
   "source": [
    "# print(tmp1)"
   ]
  },
  {
   "cell_type": "code",
   "execution_count": 148,
   "metadata": {},
   "outputs": [
    {
     "name": "stdout",
     "output_type": "stream",
     "text": [
      "['000', '04', '06', '07', '08', '09', '10', '100', '11', '12', '13', '14', '15', '16', '161', '17', '177', '18', '19', '194', '1px', '1px solid', '1st', '20', '200', '2000', '2004', '2004 utc', '2005', '2005 utc', '2006', '2006 utc', '2007', '2007 utc', '2008', '2010', '2011', '2012', '2013', '2014', '209', '20th', '21', '23', '24', '25', '27', '28', '29', '30', '31', '33', '36', '38', '3rr', '45', '50', '67', '70', '80', '81', '82', '86', '90', 'able', 'able to', 'about', 'about contributing', 'about him', 'about his', 'about it', 'about my', 'about person', 'about that', 'about the', 'about this', 'about what', 'about your', 'above', 'absolutely', 'abusing', 'academic', 'accept', 'accepted', 'accepted as', 'access', 'access to', 'according', 'according to', 'account', 'accounts', 'accurate', 'accusations', 'accused', 'accusing', 'accusing me', 'across', 'across the', 'act', 'action', 'actions', 'actual', 'actually', 'ad', 'ad hominem', 'add', 'add information', 'add the', 'added', 'added by', 'added the', 'adding', 'adding note', 'adding the', 'adding to', 'addition', 'addition to', 'additional', 'address', 'admin', 'administrator', 'administrators', 'admins', 'admit', 'admit that', 'advice', 'afd', 'afraid', 'africa', 'african', 'after', 'after all', 'after that', 'after the', 'again', 'again welcome', 'against', 'against me', 'against the', 'age', 'agenda', 'ago', 'agree', 'agree that', 'agree to', 'agree with', 'agreed', 'agreement', 'aircraft', 'al', 'album', 'align', 'alive', 'all', 'all in', 'all know', 'all of', 'all the', 'all you', 'allow', 'allowed', 'allowed to', 'almost', 'alone', 'along', 'along with', 'already', 'already been', 'also', 'also be', 'also have', 'also please', 'also the', 'alternative', 'although', 'always', 'am', 'am going', 'am not', 'amazing', 'america', 'american', 'among', 'among other', 'an', 'an admin', 'an administrator', 'an american', 'an article', 'an edit', 'an editor', 'an encyclopedia', 'an important', 'and', 'and all', 'and also', 'and am', 'and are', 'and as', 'and being', 'and can', 'and don', 'and even', 'and for', 'and good', 'and guidelines', 'and has', 'and have', 'and he', 'and his', 'and how', 'and if', 'and in', 'and is', 'and it', 'and just', 'and made', 'and most', 'and my', 'and no', 'and not', 'and now', 'and of', 'and one', 'and or', 'and other', 'and please', 'and present', 'and should', 'and so', 'and that', 'and the', 'and their', 'and then', 'and they', 'and think', 'and to', 'and was', 'and we', 'and welcome', 'and what', 'and wikipedia', 'and will', 'and you', 'another', 'another editor', 'answer', 'anti', 'any', 'any case', 'any more', 'any of', 'any one', 'any other', 'any questions', 'any sort', 'any time', 'anymore', 'anyone', 'anyone can', 'anything', 'anything that', 'anyway', 'apart', 'apologies', 'apologize', 'apparently', 'appear', 'appear to', 'appears', 'appears to', 'applied', 'applied to', 'apply', 'appreciate', 'appreciate it', 'appreciated', 'approach', 'appropriate', 'april', 'april 2006', 'arbitration', 'archive', 'are', 'are all', 'are an', 'are being', 'are free', 'are going', 'are good', 'are in', 'are no', 'are not', 'are so', 'are some', 'are still', 'are the', 'are to', 'are too', 'are trying', 'are two', 'are verifiable', 'are very', 'are welcome', 'are you', 'area', 'areas', 'aren', 'argue', 'arguing', 'argument', 'arguments', 'army', 'around', 'art', 'article', 'article about', 'article and', 'article as', 'article but', 'article has', 'article in', 'article is', 'article it', 'article manual', 'article meets', 'article of', 'article on', 'article should', 'article talk', 'article that', 'article there', 'article to', 'articles', 'articles and', 'articles for', 'articles how', 'articles on', 'articles that', 'as', 'as an', 'as being', 'as far', 'as for', 'as have', 'as he', 'as if', 'as in', 'as is', 'as it', 'as much', 'as opposed', 'as per', 'as possible', 'as soon', 'as source', 'as that', 'as the', 'as they', 'as to', 'as we', 'as well', 'as you', 'asia', 'ask', 'ask for', 'ask you', 'asked', 'asking', 'ass', 'assert', 'assessment', 'asshole', 'associated', 'associated with', 'assume', 'assyrian', 'at', 'at all', 'at any', 'at it', 'at least', 'at me', 'at that', 'at the', 'at this', 'at wikipedia', 'at wp', 'attack', 'attacking', 'attacks', 'attempt', 'attempt to', 'attempts', 'attention', 'attention to', 'attitude', 'august', 'australia', 'author', 'automatically', 'automatically produce', 'available', 'avoid', 'award', 'aware', 'aware of', 'aware that', 'away', 'back', 'back and', 'back to', 'back up', 'background', 'background color', 'bad', 'ban', 'band', 'bands', 'banned', 'barnstar', 'based', 'based on', 'basically', 'basis', 'battle', 'be', 'be able', 'be about', 'be an', 'be aware', 'be blocked', 'be changed', 'be considered', 'be deleted', 'be done', 'be in', 'be included', 'be mentioned', 'be more', 'be on', 'be removed', 'be speedily', 'be sure', 'be the', 'be there', 'be used', 'be very', 'bear', 'because', 'because it', 'because of', 'because that', 'because the', 'because they', 'because was', 'because you', 'become', 'been', 'been able', 'been done', 'been placed', 'been reverted', 'before', 'before the', 'before you', 'begin', 'behavior', 'behaviour', 'behind', 'being', 'being an', 'being used', 'being wikipedian', 'believe', 'believe it', 'believe that', 'believe the', 'believe this', 'believed', 'belongs', 'below', 'below the', 'besides', 'best', 'best to', 'better', 'better than', 'better to', 'between', 'between the', 'beyond', 'bias', 'biased', 'big', 'biggest', 'bill', 'biographical', 'biography', 'bit', 'bit of', 'bitch', 'black', 'block', 'block me', 'blocked', 'blocked from', 'blocking', 'blocks', 'blog', 'blogs', 'bloody', 'board', 'body', 'book', 'books', 'books and', 'border', 'border 1px', 'born', 'born in', 'bot', 'both', 'both the', 'bother', 'bottom', 'bottom of', 'box', 'boy', 'brief', 'bring', 'british', 'broken', 'brought', 'btw', 'built', 'business', 'busy', 'but', 'but also', 'but am', 'but at', 'but be', 'but can', 'but don', 'but have', 'but if', 'but in', 'but it', 'but no', 'but not', 'but now', 'but rather', 'but that', 'but the', 'but then', 'but they', 'but think', 'but this', 'but was', 'but you', 'by', 'by adding', 'by following', 'by removing', 'by the', 'by wikipedia', 'cabinet', 'call', 'called', 'calling', 'came', 'came from', 'can', 'can be', 'can do', 'can edit', 'can find', 'can have', 'can help', 'can make', 'can not', 'can see', 'can tell', 'can use', 'can we', 'can you', 'canada', 'candidates', 'cannot', 'cant', 'care', 'care to', 'career', 'careful', 'carefully', 'cares', 'carried', 'carried out', 'carry', 'case', 'cases', 'category', 'cause', 'center', 'central', 'century', 'certain', 'certainly', 'chance', 'change', 'change the', 'changed', 'changes', 'changing', 'changing the', 'character', 'check', 'check out', 'checked', 'cheers', 'chicago', 'child', 'children', 'china', 'chinese', 'choose', 'choose to', 'christmas', 'citation', 'citations', 'cite', 'cited', 'cities', 'city', 'civil', 'claim', 'claim that', 'claimed', 'claims', 'claims of', 'clarification', 'clarify', 'class', 'clean', 'clear', 'clear that', 'clearly', 'click', 'clicking', 'close', 'clutter', 'code', 'college', 'color', 'com', 'combination', 'come', 'come from', 'come up', 'comes', 'coming', 'coming from', 'comment', 'comment added', 'comment on', 'comments', 'comments on', 'common', 'commons', 'communist', 'communities', 'community', 'company', 'complete', 'completely', 'complex', 'compromise', 'computer', 'concept', 'concept of', 'concepts', 'concern', 'concerned', 'concerned about', 'concerning', 'concerns', 'conclusions', 'condition', 'conflict', 'conflict of', 'conformance', 'conformance with', 'confused', 'confusing', 'consensus', 'consider', 'considered', 'considering', 'constantly', 'constitutes', 'constructive', 'content', 'content of', 'contents', 'contest', 'contest the', 'context', 'context of', 'continue', 'continue to', 'continues', 'contribs', 'contribute', 'contributing', 'contributing to', 'contribution', 'contributions', 'contributors', 'controversial', 'controversy', 'conversation', 'cool', 'copy', 'copyright', 'copyrighted', 'core', 'correct', 'corrected', 'correctly', 'could', 'could be', 'could have', 'could the', 'could you', 'council', 'countries', 'country', 'couple', 'couple of', 'coupled', 'coupled with', 'course', 'court', 'crap', 'create', 'created', 'creating', 'creation', 'credible', 'criminal', 'criteria', 'criteria for', 'criterion', 'criterion it', 'criticism', 'cult', 'cultural', 'culture', 'current', 'currently', 'cut', 'daily', 'damage', 'data', 'date', 'daughter', 'david', 'day', 'days', 'db', 'db tag', 'de', 'dead', 'deal', 'deal with', 'dear', 'death', 'debate', 'dec', 'december', 'decent', 'decided', 'decided to', 'decision', 'deep', 'definition', 'degree', 'delay', 'delay please', 'delete', 'delete my', 'delete the', 'deleted', 'deleted at', 'deleted from', 'deleted it', 'deleted without', 'deleting', 'deletion', 'deletion because', 'deletion by', 'deletion if', 'deletion of', 'deletion or', 'deletion tag', 'deliberate', 'demonstrates', 'denied', 'depends', 'describe', 'described', 'description', 'design', 'despite', 'despite the', 'detail', 'detailed', 'details', 'develop', 'developed', 'dick', 'did', 'did and', 'did it', 'did not', 'did the', 'did to', 'did with', 'did you', 'didn', 'didn know', 'die', 'died', 'difference', 'differences', 'different', 'difficult', 'difficult to', 'direct', 'directly', 'disagree', 'disagree with', 'disambiguation', 'discuss', 'discuss it', 'discuss this', 'discussed', 'discussing', 'discussion', 'discussion of', 'discussion on', 'discussion page', 'discussions', 'dispute', 'disruptive', 'do', 'do it', 'do know', 'do not', 'do so', 'do take', 'do that', 'do this', 'do with', 'do you', 'does', 'does it', 'does not', 'doesn', 'doesn have', 'dog', 'doing', 'doing it', 'doing so', 'doing this', 'don', 'don believe', 'don have', 'don hesitate', 'don know', 'don see', 'don think', 'don understand', 'don want', 'don you', 'done', 'done under', 'dont', 'doubt', 'down', 'down the', 'down to', 'dr', 'drive', 'due', 'due to', 'during', 'during the', 'during this', 'each', 'each other', 'earlier', 'early', 'earth', 'easier', 'easily', 'east', 'easy', 'economic', 'edit', 'edit and', 'edit it', 'edit or', 'edit page', 'edit summary', 'edit the', 'edit to', 'edit war', 'edit warring', 'edited', 'editing', 'editing the', 'editor', 'editor is', 'editors', 'edits', 'edits made', 'effect', 'effort', 'eg', 'either', 'else', 'elsewhere', 'email', 'en', 'en wikipedia', 'encyclopedia', 'encyclopedic', 'end', 'end of', 'england', 'english', 'enjoy', 'enjoy editing', 'enough', 'enough to', 'entire', 'entire article', 'entirely', 'entries', 'entry', 'episode', 'episodes', 'equivalent', 'error', 'error you', 'errors', 'especially', 'established', 'etc', 'ethnicity', 'europe', 'even', 'even if', 'even know', 'even the', 'even though', 'event', 'events', 'ever', 'every', 'everyone', 'everything', 'everywhere', 'evidence', 'evidence of', 'evil', 'exactly', 'example', 'example the', 'examples', 'except', 'exist', 'existence', 'existing', 'existing speedy', 'exists', 'expansion', 'expect', 'experimenting', 'experimenting with', 'expert', 'explain', 'explain why', 'explained', 'explaining', 'explaining your', 'explanation', 'extend', 'external', 'face', 'fact', 'fact that', 'fact the', 'facts', 'factual', 'faggot', 'fail', 'failed', 'fair', 'fair use', 'faith', 'fall', 'false', 'familiar', 'familiar with', 'family', 'famous', 'fan', 'fans', 'far', 'far as', 'far from', 'father', 'fear', 'featured', 'february', 'feel', 'feel free', 'feel like', 'feel that', 'feelings', 'few', 'field', 'figure', 'file', 'files', 'film', 'final', 'finally', 'find', 'find it', 'find the', 'finding', 'fine', 'finger', 'first', 'first and', 'first paragraph', 'first place', 'five', 'five pillars', 'fix', 'fixed', 'fixing', 'follow', 'following', 'following the', 'food', 'fool', 'for', 'for an', 'for any', 'for deletion', 'for example', 'for experimenting', 'for fixing', 'for help', 'for his', 'for it', 'for me', 'for more', 'for my', 'for no', 'for our', 'for some', 'for speedy', 'for that', 'for the', 'for their', 'for this', 'for while', 'for wikipedia', 'for you', 'for your', 'forced', 'forces', 'foreign', 'form', 'form of', 'format', 'formatting', 'formed', 'former', 'forms', 'forth', 'forum', 'forward', 'found', 'four', 'four tildes', 'frankly', 'free', 'free to', 'french', 'friend', 'friendly', 'fringe', 'from', 'from editing', 'from my', 'from that', 'from the', 'from wikipedia', 'from your', 'front', 'front of', 'fuck', 'fuck off', 'fuck you', 'fucking', 'full', 'full of', 'fully', 'fun', 'funny', 'further', 'furthermore', 'future', 'ga', 'game', 'games', 'gave', 'gave me', 'gay', 'general', 'generally', 'george', 'german', 'get', 'get it', 'get the', 'gets', 'getting', 'gfdl', 'girl', 'give', 'give me', 'given', 'given by', 'given the', 'giving', 'glad', 'go', 'go to', 'god', 'goes', 'going', 'going back', 'going to', 'gone', 'good', 'good and', 'good faith', 'good idea', 'good to', 'google', 'got', 'government', 'great', 'greater', 'greek', 'group', 'group of', 'guess', 'guide', 'guide to', 'guideline', 'guidelines', 'guidelines for', 'guy', 'guys', 'had', 'had to', 'half', 'hand', 'handle', 'happen', 'happy', 'happy editing', 'happy to', 'harassment', 'hard', 'has', 'has also', 'has been', 'has no', 'has not', 'has the', 'has to', 'hate', 'have', 'have already', 'have an', 'have any', 'have been', 'have done', 'have made', 'have never', 'have no', 'have not', 'have on', 'have problem', 'have some', 'have the', 'have to', 'have you', 'haven', 'having', 'he', 'he did', 'he does', 'he has', 'he is', 'he says', 'he seems', 'he was', 'head', 'hear', 'heard', 'heart', 'hell', 'hello', 'hello and', 'help', 'help at', 'help me', 'help pages', 'helpful', 'helpme', 'helps', 'hence', 'henry', 'her', 'here', 'here and', 'here are', 'here but', 'here in', 'here is', 'here it', 'here on', 'here or', 'here to', 'hesitate', 'hesitate to', 'hey', 'hi', 'high', 'higher', 'highest', 'him', 'him to', 'himself', 'his', 'his father', 'his own', 'his political', 'his talk', 'historian', 'historical', 'history', 'history and', 'history of', 'hit', 'holocaust', 'home', 'hominem', 'honest', 'hope', 'hope you', 'hour', 'hours', 'house', 'how', 'how can', 'how it', 'how that', 'how the', 'how to', 'however', 'however if', 'however the', 'html', 'http', 'http en', 'http www', 'https', 'human', 'hurt', 'id', 'idea', 'ideas', 'identified', 'identify', 'ie', 'if', 'if anyone', 'if he', 'if it', 'if not', 'if so', 'if someone', 'if the', 'if there', 'if they', 'if this', 'if we', 'if you', 'ignorant', 'ignore', 'ignored', 'ii', 'im', 'image', 'image is', 'image of', 'images', 'immediately', 'important', 'improve', 'improve the', 'improved', 'improvement', 'improving', 'improving the', 'in', 'in addition', 'in all', 'in an', 'in any', 'in both', 'in common', 'in conformance', 'in english', 'in error', 'in europe', 'in every', 'in fact', 'in front', 'in general', 'in good', 'in hell', 'in his', 'in history', 'in it', 'in london', 'in my', 'in no', 'in one', 'in order', 'in question', 'in some', 'in that', 'in the', 'in their', 'in there', 'in this', 'in to', 'in which', 'in wikipedia', 'in your', 'inappropriate', 'incident', 'include', 'included', 'included in', 'includes', 'including', 'including the', 'inclusion', 'inclusion of', 'incorrect', 'indeed', 'independent', 'india', 'indicate', 'individual', 'individuals', 'info', 'information', 'information about', 'information and', 'information in', 'information is', 'information on', 'information should', 'information to', 'initial', 'input', 'insert', 'instance', 'instead', 'instead of', 'insult', 'insulting', 'intelligent', 'intended', 'intent', 'intention', 'intentions', 'interest', 'interested', 'interested in', 'interesting', 'international', 'internet', 'into', 'into the', 'introduction', 'invalid', 'involved', 'involved in', 'involvement', 'ip', 'irc', 'ireland', 'irrelevant', 'is', 'is about', 'is actually', 'is all', 'is also', 'is always', 'is an', 'is and', 'is at', 'is based', 'is because', 'is being', 'is better', 'is clearly', 'is common', 'is completely', 'is considered', 'is dead', 'is for', 'is full', 'is going', 'is good', 'is great', 'is his', 'is in', 'is incorrect', 'is it', 'is just', 'is mentioned', 'is more', 'is no', 'is not', 'is notable', 'is now', 'is obviously', 'is part', 'is really', 'is simply', 'is so', 'is still', 'is that', 'is the', 'is there', 'is this', 'is to', 'is too', 'is true', 'is used', 'is very', 'is what', 'is why', 'is wrong', 'isn', 'issue', 'issue is', 'issue of', 'issue with', 'issues', 'issues with', 'it', 'it again', 'it all', 'it and', 'it appears', 'it as', 'it be', 'it because', 'it better', 'it but', 'it by', 'it can', 'it does', 'it doesn', 'it for', 'it from', 'it has', 'it here', 'it if', 'it in', 'it is', 'it isn', 'it it', 'it just', 'it looks', 'it makes', 'it may', 'it more', 'it not', 'it now', 'it on', 'it or', 'it out', 'it pretty', 'it really', 'it says', 'it seems', 'it should', 'it so', 'it sounds', 'it that', 'it the', 'it then', 'it to', 'it up', 'it was', 'it wasn', 'it why', 'it will', 'it with', 'it would', 'it you', 'italy', 'items', 'its', 'itself', 'january', 'japan', 'jewish', 'jews', 'jim', 'jimbo', 'job', 'john', 'joke', 'jpg', 'judge', 'judging', 'july', 'jump', 'just', 'just because', 'just below', 'just don', 'just like', 'just one', 'just so', 'just the', 'just to', 'just wanted', 'justified', 'justify', 'keep', 'keep the', 'keeping', 'keeps', 'key', 'kids', 'killed', 'kind', 'kind of', 'kindly', 'king', 'kingdom', 'knew', 'know', 'know about', 'know how', 'know if', 'know it', 'know that', 'know the', 'know there', 'know what', 'knowledge', 'knowledge and', 'known', 'known as', 'knows', 'la', 'lack', 'lack of', 'language', 'languages', 'large', 'largest', 'last', 'late', 'later', 'laugh', 'law', 'lazy', 'lead', 'learn', 'learn more', 'learned', 'least', 'least the', 'leave', 'leave me', 'leaving', 'left', 'legal', 'legally', 'legitimate', 'less', 'let', 'let me', 'lets', 'letter', 'level', 'level of', 'library', 'license', 'lie', 'lies', 'life', 'light', 'like', 'like it', 'like that', 'like the', 'like this', 'like to', 'like you', 'likely', 'likely to', 'limited', 'line', 'lines', 'link', 'link to', 'linked', 'links', 'links to', 'list', 'list of', 'listed', 'listed at', 'listed in', 'listen', 'listing', 'lists', 'literature', 'little', 'live', 'living', 'll', 'll be', 'll see', 'll take', 'local', 'lock', 'log', 'logged', 'logged in', 'logic', 'lol', 'london', 'long', 'long time', 'longer', 'look', 'look at', 'looked', 'looked at', 'looking', 'looking at', 'looking for', 'looks', 'looks like', 'lost', 'lot', 'lot of', 'love', 'low', 'lower', 'luck', 'macedonia', 'macedonian', 'made', 'made in', 'made the', 'made to', 'magazine', 'main', 'main article', 'main page', 'mainly', 'major', 'make', 'make it', 'make sure', 'make the', 'makes', 'making', 'making the', 'man', 'manual', 'manual of', 'many', 'many people', 'march', 'mark', 'mass', 'massacre', 'master', 'match', 'material', 'materials', 'matt', 'matter', 'matters', 'may', 'may be', 'may contest', 'may have', 'may not', 'may want', 'maybe', 'me', 'me and', 'me as', 'me but', 'me for', 'me know', 'me of', 'me off', 'me on', 'me or', 'me that', 'me to', 'me what', 'me with', 'me you', 'mean', 'mean that', 'mean to', 'meaning', 'means', 'meant', 'meant to', 'media', 'mediation', 'meet', 'meeting', 'meets', 'meets the', 'member', 'members', 'members of', 'membership', 'men', 'mention', 'mention of', 'mentioned', 'mentioned in', 'mentions', 'merely', 'merge', 'mess', 'message', 'messages', 'middle', 'might', 'military', 'million', 'millions', 'mind', 'mine', 'minor', 'misleading', 'missed', 'missing', 'mistake', 'modern', 'moment', 'money', 'month', 'months', 'more', 'more about', 'more in', 'more information', 'more of', 'more than', 'more time', 'moron', 'most', 'most of', 'mother', 'mouth', 'move', 'moved', 'moved to', 'movement', 'movie', 'moving', 'mr', 'much', 'much more', 'much of', 'multiple', 'music', 'muslim', 'muslims', 'must', 'must be', 'must have', 'my', 'my edit', 'my edits', 'my head', 'my own', 'my page', 'my point', 'my question', 'my talk', 'my user', 'myself', 'name', 'name and', 'name is', 'name of', 'name on', 'named', 'names', 'nation', 'national', 'nationalist', 'natural', 'nature', 'nazi', 'near', 'necessarily', 'necessary', 'need', 'need help', 'need some', 'need to', 'needed', 'needs', 'needs to', 'neither', 'net', 'neutral', 'neutrality', 'never', 'never been', 'new', 'new to', 'new york', 'news', 'newsletter', 'newspaper', 'next', 'nice', 'nice to', 'night', 'no', 'no need', 'no one', 'no problem', 'no reason', 'no there', 'no way', 'nobody', 'nominated', 'nominated for', 'nomination', 'non', 'none', 'nonsense', 'nor', 'normal', 'north', 'northern', 'not', 'not an', 'not and', 'not be', 'not do', 'not even', 'not going', 'not have', 'not in', 'not just', 'not like', 'not make', 'not mean', 'not on', 'not only', 'not remove', 'not see', 'not sure', 'not that', 'not the', 'not to', 'not vandalism', 'not vandalize', 'not what', 'not yet', 'notability', 'notable', 'notable and', 'note', 'note on', 'note that', 'noted', 'notes', 'nothing', 'nothing to', 'notice', 'notice was', 'noticeboard', 'noticed', 'nov', 'now', 'now as', 'now but', 'now that', 'npov', 'number', 'number of', 'numerous', 'objective', 'obvious', 'obviously', 'odd', 'of', 'of all', 'of an', 'of articles', 'of being', 'of course', 'of having', 'of her', 'of him', 'of his', 'of how', 'of india', 'of information', 'of interest', 'of it', 'of its', 'of knowledge', 'of my', 'of our', 'of people', 'of some', 'of style', 'of that', 'of the', 'of their', 'of them', 'of these', 'of this', 'of those', 'of time', 'of view', 'of what', 'of which', 'of wikipedia', 'of wp', 'of you', 'of your', 'off', 'off of', 'off the', 'offer', 'office', 'official', 'officially', 'often', 'oh', 'ok', 'okay', 'old', 'omitted', 'on', 'on an', 'on content', 'on here', 'on his', 'on how', 'on it', 'on its', 'on me', 'on my', 'on talk', 'on that', 'on the', 'on their', 'on this', 'on to', 'on wiki', 'on wikipedia', 'on your', 'once', 'once again', 'once tagged', 'one', 'one can', 'one more', 'one of', 'one or', 'one person', 'one that', 'one who', 'ones', 'online', 'only', 'only one', 'only the', 'onto', 'open', 'openly', 'operation', 'opinion', 'opinions', 'opposed', 'opposed to', 'or', 'or any', 'or ask', 'or db', 'or even', 'or for', 'or not', 'or one', 'or other', 'or removed', 'or that', 'or the', 'or you', 'order', 'order to', 'org', 'org wiki', 'organizations', 'origin', 'original', 'original research', 'other', 'other editors', 'other people', 'other tests', 'other than', 'other things', 'other users', 'others', 'others have', 'otherwise', 'our', 'our encyclopedia', 'out', 'out and', 'out of', 'out that', 'out the', 'out there', 'outside', 'over', 'over the', 'overall', 'own', 'page', 'page and', 'page but', 'page explaining', 'page for', 'page if', 'page in', 'page it', 'page on', 'page or', 'page please', 'page so', 'page thank', 'page that', 'page the', 'page there', 'page to', 'page why', 'page will', 'pages', 'pages as', 'pages using', 'paper', 'paragraph', 'part', 'part of', 'particular', 'particularly', 'parts', 'party', 'passed', 'past', 'pay', 'peace', 'peer', 'people', 'people are', 'people in', 'people like', 'people who', 'per', 'per wikipedia', 'perfect', 'perfectly', 'perhaps', 'period', 'permission', 'person', 'person who', 'personal', 'personal attack', 'personal attacks', 'personally', 'persons', 'picture', 'pictures', 'piece', 'piece of', 'pieces', 'pillars', 'pillars of', 'place', 'place and', 'placed', 'placed here', 'placed on', 'places', 'play', 'playing', 'please', 'please add', 'please do', 'please don', 'please read', 'please see', 'please sign', 'please stop', 'please use', 'plus', 'point', 'point of', 'point that', 'pointed', 'points', 'policies', 'policies and', 'policy', 'political', 'politics', 'pop', 'popular', 'population', 'position', 'position but', 'position is', 'possible', 'possible to', 'possibly', 'post', 'posted', 'posting', 'posts', 'pov', 'power', 'practice', 'preceding', 'preceding unsigned', 'precise', 'precisely', 'prefer', 'present', 'presented', 'president', 'press', 'pretty', 'pretty much', 'previous', 'primary', 'prime', 'principle', 'prior', 'private', 'pro', 'probably', 'problem', 'problem is', 'problem with', 'problems', 'problems with', 'process', 'produce', 'produce your', 'product', 'professional', 'profile', 'program', 'project', 'proof', 'propaganda', 'proper', 'properly', 'proposal', 'propose', 'proposed', 'protect', 'protected', 'prove', 'proves', 'provide', 'provided', 'providing', 'ps', 'public', 'published', 'publisher', 'purpose', 'pushing', 'put', 'putting', 'quality', 'quality of', 'question', 'question is', 'question on', 'questions', 'questions about', 'quickly', 'quite', 'quote', 'quoted', 'quotes', 'race', 'radio', 'raised', 'rather', 'rather than', 're', 're not', 'reach', 'reached', 'read', 'read the', 'read this', 'reader', 'readers', 'reading', 'ready', 'real', 'real world', 'reality', 'realize', 'really', 'reason', 'reason for', 'reason to', 'reasonable', 'reasoning', 'reasons', 'reasons for', 'received', 'recent', 'recently', 'recognise', 'recognize', 'record', 'redirect', 'redirect talk', 'redirect to', 'ref', 'refer', 'refer to', 'reference', 'reference to', 'referenced', 'references', 'refers', 'refers to', 'reflect', 'regarding', 'regarding the', 'regardless', 'regardless of', 'regards', 'region', 'related', 'related to', 'release', 'relevant', 'reliable', 'reliable source', 'reliable sources', 'religion', 'remain', 'remains', 'remarks', 'remember', 'removal', 'remove', 'remove it', 'remove the', 'removed', 'removed from', 'removed it', 'removed please', 'removed the', 'removing', 'removing the', 'render', 'render it', 'repeat', 'repeatedly', 'replace', 'replaced', 'reply', 'report', 'reported', 'republic', 'republic of', 'request', 'request for', 'request that', 'requested', 'requesting', 'requesting that', 'requests', 'require', 'requires', 'research', 'resolved', 'resources', 'respect', 'respond', 'response', 'response to', 'rest', 'rest of', 'restoring', 'result', 'results', 'return', 'revert', 'revert it', 'reverted', 'reverted or', 'reverted the', 'reverting', 'reverts', 'review', 'reviewed', 'revolution', 'rfc', 'ridiculous', 'right', 'right now', 'right to', 'rights', 'rise', 'rock', 'royal', 'rs', 'rule', 'rules', 'run', 'running', 'sad', 'said', 'said in', 'said that', 'said this', 'sake', 'same', 'same thing', 'sandbox', 'sandbox for', 'save', 'saw', 'saw that', 'say', 'say it', 'say that', 'saying', 'saying that', 'says', 'says that', 'scholars', 'school', 'schools', 'science', 'scientific', 'search', 'second', 'section', 'section is', 'sections', 'see', 'see how', 'see if', 'see it', 'see that', 'see the', 'see this', 'see wikipedia', 'see you', 'seeing', 'seek', 'seem', 'seem to', 'seemed', 'seems', 'seems to', 'seen', 'self', 'send', 'sense', 'sent', 'sentence', 'sentences', 'series', 'serious', 'seriously', 'service', 'set', 'several', 'shall', 'share', 'she', 'she did', 'shit', 'short', 'shot', 'should', 'should be', 'should have', 'should not', 'shouldn', 'show', 'show that', 'showing', 'shows', 'side', 'sides', 'sign', 'sign your', 'signed', 'significance', 'significant', 'similar', 'simple', 'simply', 'simply not', 'since', 'since it', 'since the', 'since there', 'since you', 'single', 'site', 'site and', 'sites', 'situation', 'six', 'size', 'small', 'smaller', 'smith', 'so', 'so far', 'so if', 'so in', 'so it', 'so many', 'so much', 'so reverted', 'so that', 'so the', 'so they', 'so we', 'so you', 'social', 'socialist', 'society', 'sock', 'sockpuppet', 'solid', 'solve', 'some', 'some more', 'some of', 'some sort', 'somebody', 'somehow', 'someone', 'someone else', 'someone who', 'something', 'something that', 'sometimes', 'somewhat', 'somewhere', 'son', 'son of', 'songs', 'soon', 'soon as', 'sorry', 'sort', 'sort of', 'sound', 'sounds', 'source', 'source for', 'source in', 'source is', 'source of', 'source please', 'sourced', 'sources', 'sources and', 'sources are', 'sources for', 'sources that', 'south', 'southern', 'soviet', 'space', 'spam', 'spanish', 'speak', 'speaking', 'special', 'specific', 'specifically', 'speech', 'speedily', 'speedily deleted', 'speedy', 'speedy deletion', 'spending', 'spent', 'stalking', 'stance', 'stand', 'standard', 'standards', 'stands', 'start', 'started', 'state', 'state of', 'state that', 'stated', 'statement', 'statements', 'states', 'states that', 'stating', 'status', 'stay', 'stay here', 'still', 'still be', 'still have', 'stop', 'story', 'strategy', 'strong', 'stub', 'studies', 'study', 'stuff', 'stupid', 'style', 'style border', 'style vertical', 'subject', 'subjects', 'subsequent', 'substantially', 'successful', 'such', 'such as', 'sufficient', 'suggest', 'suggest that', 'suggested', 'suggestion', 'suggestions', 'summaries', 'summary', 'summary of', 'support', 'supposed', 'supposed to', 'sure', 'sure that', 'surely', 'surprised', 'surrounding', 'suspect', 'system', 'systems', 'table', 'tag', 'tag coupled', 'tag has', 'tag yourself', 'tagged', 'tagged as', 'tagged for', 'tags', 'take', 'take it', 'take look', 'take the', 'taken', 'takes', 'taking', 'talk', 'talk about', 'talk contribs', 'talk page', 'talk pages', 'talk to', 'talking', 'talking about', 'tank', 'team', 'technically', 'tell', 'tell me', 'tell you', 'telling', 'template', 'templates', 'term', 'term is', 'terms', 'terms of', 'test', 'test worked', 'tests', 'tests you', 'text', 'than', 'than the', 'thank', 'thank you', 'thanks', 'thanks for', 'that', 'that all', 'that am', 'that and', 'that are', 'that but', 'that can', 'that do', 'that doesn', 'that has', 'that have', 'that he', 'that his', 'that if', 'that in', 'that is', 'that it', 'that just', 'that ll', 'that my', 'that not', 'that number', 'that once', 'that one', 'that page', 'that people', 'that some', 'that subject', 'that the', 'that there', 'that they', 'that this', 'that user', 'that was', 'that way', 'that we', 'that were', 'that what', 'that wikipedia', 'that will', 'that would', 'that you', 'that your', 'thats', 'the', 'the 3rr', 'the above', 'the administrators', 'the afd', 'the american', 'the argument', 'the article', 'the articles', 'the ass', 'the best', 'the block', 'the bottom', 'the case', 'the changes', 'the citation', 'the comments', 'the community', 'the content', 'the copyright', 'the correct', 'the country', 'the criteria', 'the criterion', 'the current', 'the date', 'the day', 'the deletion', 'the discussion', 'the early', 'the edit', 'the edits', 'the end', 'the english', 'the entire', 'the evidence', 'the existing', 'the fact', 'the facts', 'the father', 'the first', 'the five', 'the following', 'the former', 'the french', 'the full', 'the future', 'the government', 'the great', 'the guidelines', 'the head', 'the history', 'the image', 'the info', 'the information', 'the internet', 'the issue', 'the issues', 'the last', 'the lead', 'the link', 'the list', 'the main', 'the major', 'the matter', 'the media', 'the middle', 'the moment', 'the most', 'the move', 'the movie', 'the name', 'the new', 'the next', 'the notice', 'the number', 'the official', 'the old', 'the one', 'the ones', 'the only', 'the original', 'the other', 'the page', 'the part', 'the past', 'the people', 'the picture', 'the place', 'the point', 'the power', 'the primary', 'the problem', 'the quality', 'the question', 'the reader', 'the real', 'the reason', 'the reasons', 'the reference', 'the references', 'the rest', 'the right', 'the rules', 'the same', 'the sandbox', 'the second', 'the section', 'the situation', 'the sort', 'the source', 'the sources', 'the speedy', 'the state', 'the subject', 'the table', 'the tag', 'the talk', 'the template', 'the term', 'the text', 'the third', 'the three', 'the time', 'the title', 'the top', 'the topic', 'the truth', 'the two', 'the united', 'the us', 'the use', 'the user', 'the various', 'the very', 'the way', 'the website', 'the welcome', 'the whole', 'the wikipedia', 'the word', 'the world', 'their', 'their own', 'their way', 'them', 'them as', 'them in', 'them to', 'themselves', 'then', 'then it', 'then the', 'then you', 'theories', 'there', 'there are', 'there is', 'there no', 'there should', 'there that', 'there to', 'there was', 'there were', 'therefore', 'these', 'they', 'they are', 'they can', 'they have', 'they may', 'they re', 'they should', 'they ve', 'they want', 'they were', 'they will', 'thing', 'thing is', 'thing to', 'things', 'things that', 'think', 'think it', 'think of', 'think that', 'think the', 'think they', 'think this', 'think we', 'think you', 'thinking', 'thinking about', 'thinks', 'third', 'this', 'this and', 'this article', 'this as', 'this block', 'this but', 'this case', 'this discussion', 'this edit', 'this guy', 'this has', 'this if', 'this image', 'this in', 'this is', 'this issue', 'this link', 'this message', 'this notice', 'this one', 'this or', 'this page', 'this should', 'this site', 'this sort', 'this time', 'this to', 'this user', 'this was', 'this way', 'this will', 'this year', 'those', 'those who', 'though', 'though it', 'thought', 'thought it', 'threatening', 'threats', 'three', 'through', 'through the', 'throughout', 'throwing', 'thus', 'tildes', 'tildes this', 'time', 'time that', 'time the', 'time to', 'time you', 'times', 'tired', 'title', 'to', 'to add', 'to address', 'to allow', 'to answer', 'to any', 'to ask', 'to avoid', 'to be', 'to block', 'to bring', 'to call', 'to carry', 'to check', 'to come', 'to comment', 'to continue', 'to create', 'to delete', 'to describe', 'to develop', 'to discuss', 'to do', 'to edit', 'to explain', 'to find', 'to follow', 'to get', 'to give', 'to go', 'to have', 'to help', 'to him', 'to his', 'to how', 'to identify', 'to improve', 'to include', 'to it', 'to its', 'to keep', 'to know', 'to learn', 'to leave', 'to look', 'to make', 'to me', 'to mention', 'to my', 'to not', 'to one', 'to our', 'to post', 'to prove', 'to provide', 'to put', 'to re', 'to read', 'to remove', 'to revert', 'to say', 'to see', 'to show', 'to sign', 'to some', 'to speak', 'to stay', 'to suggest', 'to take', 'to talk', 'to tell', 'to that', 'to the', 'to their', 'to think', 'to this', 'to use', 'to verify', 'to what', 'to whether', 'to why', 'to wikipedia', 'to work', 'to write', 'to you', 'to your', 'today', 'together', 'told', 'tomorrow', 'tonight', 'too', 'too much', 'took', 'took the', 'top', 'top of', 'topic', 'total', 'totally', 'towards', 'town', 'track', 'traditional', 'trees', 'tried', 'tried to', 'troll', 'trouble', 'true', 'truly', 'truth', 'try', 'try to', 'trying', 'trying to', 'turkish', 'turn', 'turned', 'tutorial', 'tutorial how', 'tv', 'two', 'type', 'type of', 'types', 'types of', 'typically', 'uk', 'unable', 'unable to', 'unacceptable', 'unblock', 'under', 'under section', 'under the', 'understand', 'understand that', 'understand your', 'understanding', 'understood', 'unfair', 'unfortunately', 'union', 'united', 'united states', 'university', 'unless', 'unless you', 'unnecessary', 'unsigned', 'unsigned comment', 'unsourced', 'until', 'up', 'up and', 'up his', 'up in', 'up on', 'up the', 'up to', 'up with', 'up you', 'update', 'upload', 'uploaded', 'upon', 'us', 'us to', 'use', 'use it', 'use of', 'use the', 'used', 'used as', 'used by', 'used for', 'used in', 'used to', 'useful', 'user', 'user in', 'user is', 'user page', 'user talk', 'username', 'username and', 'users', 'users who', 'using', 'using four', 'using the', 'usual', 'usually', 'utc', 'valid', 'vandalism', 'vandalize', 'vandalize pages', 'vandalizing', 'various', 've', 've been', 've never', 'verifiable', 'verify', 'version', 'version of', 'vertical', 'vertical align', 'very', 'very clear', 'very much', 'via', 'video', 'view', 'view of', 'view that', 'views', 'violate', 'violating', 'violation', 'violation of', 'voice', 'vote', 'votes', 'wall', 'want', 'want but', 'want to', 'wanted', 'wanted to', 'wants', 'wants to', 'war', 'warn', 'warning', 'warnings', 'warring', 'was', 'was going', 'was in', 'was it', 'was just', 'was no', 'was not', 'was on', 'was placed', 'was that', 'was the', 'wasn', 'waste', 'watch', 'water', 'way', 'way around', 'way to', 'ways', 'we', 'we all', 'we are', 'we can', 'we could', 'we do', 'we don', 'we have', 'we re', 'we should', 'web', 'web sites', 'website', 'websites', 'week', 'weeks', 'weight', 'welcome', 'welcome hello', 'welcome page', 'welcome to', 'well', 'well as', 'went', 'were', 'were not', 'western', 'what', 'what do', 'what have', 'what is', 'what the', 'what they', 'what you', 'whatever', 'when', 'when it', 'when the', 'when they', 'when you', 'where', 'where the', 'where you', 'whether', 'whether or', 'whether the', 'which', 'which are', 'which have', 'which is', 'which the', 'which was', 'which you', 'while', 'while the', 'white', 'who', 'who are', 'who has', 'who have', 'who is', 'who knows', 'who was', 'who were', 'whoever', 'whole', 'whose', 'why', 'why are', 'why can', 'why don', 'why is', 'why it', 'why the', 'why you', 'widely', 'width', 'wiki', 'wikipedia', 'wikipedia administrators', 'wikipedia and', 'wikipedia article', 'wikipedia articles', 'wikipedia for', 'wikipedia has', 'wikipedia how', 'wikipedia is', 'wikipedia org', 'wikipedia please', 'wikipedia policies', 'wikipedia thank', 'wikipedia the', 'wikipedia this', 'wikipedia to', 'wikipedia wikiproject', 'wikipedia your', 'wikipedian', 'wikipedians', 'wikiproject', 'will', 'will also', 'will automatically', 'will be', 'will continue', 'will not', 'will you', 'william', 'win', 'wish', 'wish to', 'wishes', 'with', 'with adding', 'with an', 'with any', 'with it', 'with me', 'with my', 'with no', 'with people', 'with some', 'with that', 'with the', 'with them', 'with this', 'with wikipedia', 'with you', 'with your', 'within', 'within the', 'without', 'without delay', 'women', 'won', 'wondering', 'word', 'wording', 'words', 'work', 'work on', 'worked', 'worked and', 'working', 'works', 'world', 'worry', 'worst', 'worth', 'would', 'would appreciate', 'would be', 'would have', 'would like', 'would not', 'would render', 'would would', 'would you', 'wouldn', 'wow', 'wp', 'wrestling', 'write', 'writing', 'writings', 'written', 'wrong', 'wrote', 'wrote to', 'www', 'yeah', 'year', 'year old', 'years', 'years ago', 'yes', 'yet', 'yet another', 'york', 'you', 'you and', 'you are', 'you believe', 'you block', 'you but', 'you call', 'you can', 'you cant', 'you continue', 'you could', 'you did', 'you didn', 'you do', 'you don', 'you enjoy', 'you feel', 'you find', 'you for', 'you get', 'you guys', 'you had', 'you have', 'you just', 'you know', 'you like', 'you ll', 'you look', 'you made', 'you may', 'you might', 'you must', 'you need', 'you on', 'you or', 'you please', 'you re', 'you really', 'you remove', 'you removed', 'you said', 'you say', 'you see', 'you seem', 'you should', 'you still', 'you talk', 'you that', 'you think', 'you to', 'you ve', 'you want', 'you were', 'you will', 'you wish', 'you would', 'young', 'younger', 'your', 'your best', 'your comments', 'your contributions', 'your first', 'your life', 'your name', 'your own', 'your position', 'your question', 'your talk', 'your test', 'your username', 'your way', 'yours', 'yourself', 'yourself and', 'yourself but', 'youtube', 'zero']\n"
     ]
    }
   ],
   "source": [
    "print(vec.get_feature_names())"
   ]
  },
  {
   "cell_type": "code",
   "execution_count": 46,
   "metadata": {},
   "outputs": [
    {
     "name": "stdout",
     "output_type": "stream",
     "text": [
      "\u0001\n"
     ]
    }
   ],
   "source": [
    "print('\\1')"
   ]
  },
  {
   "cell_type": "code",
   "execution_count": 20,
   "metadata": {},
   "outputs": [],
   "source": [
    "# Tf-idf\n",
    "\n",
    "# prepare tokenizer\n",
    "re_tok = re.compile(f'([{string.punctuation}“”¨«»®´·º½¾¿¡§£₤‘’])')\n",
    "\n",
    "# create sparse matrices\n",
    "n = train.shape[0]\n",
    "vec = TfidfVectorizer(ngram_range=(1,2), tokenizer=tokenize,\n",
    "               min_df=3, max_df=0.9, strip_accents='unicode', use_idf=1,\n",
    "                      smooth_idf=1, sublinear_tf=1)\n",
    "train_term_doc = vec.fit_transform(train['comment_text'])\n",
    "test_term_doc = vec.transform(test['comment_text'])"
   ]
  },
  {
   "cell_type": "code",
   "execution_count": 21,
   "metadata": {},
   "outputs": [
    {
     "name": "stdout",
     "output_type": "stream",
     "text": [
      "['!', '! !', '! \"', '! #', '! $', '! &', \"! '\", '! (', '! )', '! *', '! +', '! ,', '! -', '! .', '! /', '! 0', '! 00', '! 01', '! 02', '! 03', '! 04', '! 05', '! 06', '! 07', '! 08', '! 09', '! 1', '! 10', '! 108', '! 11', '! 111', '! 1111', '! 12', '! 122', '! 124', '! 13', '! 137', '! 14', '! 141', '! 142', '! 15', '! 16', '! 17', '! 172', '! 173', '! 18', '! 184', '! 188', '! 19', '! 192', '! 195', '! 198', '! 199', '! 2', '! 20', '! 203', '! 204', '! 207', '! 208', '! 209', '! 21', '! 211', '! 212', '! 216', '! 217', '! 22', '! 220', '! 23', '! 24', '! 3', '! 303', '! 37', '! 4', '! 5', '! 58', '! 60', '! 62', '! 63', '! 64', '! 65', '! 66', '! 67', '! 68', '! 69', '! 70', '! 70px', '! 71', '! 72', '! 74', '! 75', '! 76', '! 77', '! 78', '! 79', '! 8', '! 80', '! 81', '! 82', '! 83', '! 84', '! 85', '! 86', '! 87', '! 90', '! 91', '! 92', '! 93', '! 94', '! 95', '! 96', '! 98', '! 99', '! :', '! ;', '! <', '! =', '! >', '! ?', '! @', '! [', '! \\\\', '! \\\\talk', '! ]', '! ^', '! _', '! `', '! a', '! about', '! accept', '! according', '! actually', '! add', '! added', '! additional', '! after', '! again', '! ah', '! ahh', '! align', '! all', '! alright', '! also', '! although', '! always', '! am', '! amazing', '! an', '! and', '! another', '! any', '! anybody', '! anyhow', '! anyone', '! anything', '! anyway', '! anyways', '! aoluwatoyin', '! apparently', '! are', '! ariel♥gold', '! article', '! as', '! ask', '! at', '! avant', '! avoiding', '! awww', '! b', '! back', '! bad', '! ban', '! based', '! basically', '! batphonegrooves', '! be', '! because', '! been', '! before', '! being', '! besides', '! best', '! better', '! beware', '! big', '! bitch', '! black', '! block', '! blocked', '! blood', '! bold', '! both', '! bring', '! broz', '! btw', '! buddy', '! but', '! by', '! bye', '! c', '! call', '! calling', '! can', '! category', '! cause', '! certainly', '! chat', '! che', '! check', '! cheers', '! chill', '! chord2', '! chris', '! cierekim', '! ck', '! click', '! colspan', '! come', '! concerning', '! congrats', '! congratulations', '! consider', '! considering', '! cookies', '! cool', '! correct', '! cos', '! could', '! d', '! damn', '! dave', '! david', '! dear', '! death', '! delete', '! deleting', '! did', '! didn', '! didnt', '! die', '! dirty', '! do', '! does', '! don', '! done', '! dont', '! down', '! drop', '! dude', '! duh', '! dust', '! e', '! each', '! eat', '! edit', '! editor', '! eh', '! either', '! electriceye', '! email', '! end', '! enjoy', '! enough', '! episode', '! especially', '! et', '! even', '! ever', '! everybody', '! everyone', '! everything', '! excellent', '! excuse', '! explain', '! external', '! f', '! faddle', '! feel', '! feudalist', '! fight', '! file', '! finally', '! find', '! fine', '! first', '! firstly', '! follow', '! for', '! forget', '! forgive', '! found', '! frankly', '! franksanello', '! free', '! from', '! fuck', '! fucker', '! fuckin', '! fucking', '! furthermore', '! fyi', '! fæ', '! gabsadds', '! geez', '! get', '! getting', '! gger', '! give', '! glad', '! go', '! god', '! going', '! good', '! goodbye', '! got', '! great', '! greetings', '! group', '! grow', '! guess', '! ha', '! hablame', '! had', '! hadley', '! haha', '! hahaha', '! hahahaha', '! hail', '! happy', '! harry', '! has', '! have', '! haven', '! having', '! he', '! head', '! header', '! hear', '! hehe', '! heil', '! hell', '! hello', '! help', '! helpful', '! her', '! here', '! herrgoebbles', '! hey', '! hezbollah', '! hi', '! his', '! hmm', '! holla', '! holy', '! honestly', '! hope', '! hopefully', '! hot', '! how', '! however', '! http', '! https', '! i', '! idiot', '! if', '! ill', '! im', '! image', '! imperatrix', '! important', '! in', '! incidentally', '! infact', '! infonerd2216', '! instead', '! invitation', '! is', '! isn', '! it', '! italic', '! its', '! ive', '! j', '! jesus', '! john', '! just', '! keep', '! khoi', '! kind', '! kindly', '! knock', '! know', '! last', '! later', '! learn', '! leave', '! let', '! lets', '! lewis', '! like', '! link', '! listen', '! little', '! lmao', '! lol', '! lolololol', '! lolz', '! long', '! look', '! looking', '! looks', '! loser', '! lots', '! love', '! m', '! make', '! makes', '! making', '! man', '! many', '! mark', '! maveric149', '! may', '! maybe', '! me', '! meanwhile', '! melmac', '! member', '! merry', '! message', '! michaelisgreat', '! might', '! mind', '! miscellaneous', '! more', '! moreover', '! most', '! mr', '! much', '! must', '! my', '! n', '! nah', '! need', '! needs', '! never', '! nevertheless', '! new', '! news', '! next', '! ng', '! nice', '! nick', '! no', '! nobody', '! none', '! nor', '! not', '! notability', '! note', '! nothing', '! now', '! o', '! obviously', '! of', '! official', '! ofshalott', '! oh', '! ok', '! okay', '! omg', '! on', '! once', '! one', '! only', '! oops', '! open', '! or', '! other', '! otherwise', '! our', '! over', '! p', '! page', '! pamela', '! parley', '! party', '! pathetic', '! paul', '! peace', '! people', '! perhaps', '! period', '! peter', '! phuq', '! please', '! plus', '! plz', '! policies', '! poop', '! poor', '! prepare', '! probably', '! project', '! proof', '! ps', '! put', '! quick', '! quit', '! quite', '! quote', '! r', '! re', '! read', '! readme', '! really', '! reason', '! red', '! refrain', '! regarding', '! regards', '! remember', '! remove', '! report', '! request', '! response', '! rfa', '! right', '! rjaguar3', '! robert', '! rofl', '! ryulong', '! rzz', '! s', '! sadly', '! said', '! salt', '! same', '! satusuro', '! say', '! science', '! screw', '! second', '! see', '! seeing', '! seems', '! selena', '! send', '! sent', '! seriously', '! serves', '! shall', '! shame', '! she', '! should', '! shouldn', '! show', '! shut', '! si', '! sigh', '! sign', '! signed', '! since', '! sincerely', '! sir', '! smart', '! smile', '! smiles', '! snowysusan', '! so', '! some', '! someone', '! something', '! sometimes', '! sonisona', '! sorry', '! sort', '! source', '! sources', '! speak', '! speaking', '! special', '! speedy', '! spend', '! sports', '! spread', '! st', '! stalk', '! stay', '! still', '! stop', '! stupid', '! style', '! subwayjack', '! such', '! suck', '! surely', '! suro', '! suspicion', '! t', '! ta', '! tab', '! tabtab', '! take', '! taking', '! talk', '! talkcontribs', '! tally', '! tc', '! tell', '! template', '! thank', '! thanks', '! that', '! thats', '! the', '! then', '! there', '! therefore', '! these', '! they', '! think', '! this', '! those', '! though', '! three', '! thx', '! tim', '! time', '! tip', '! tlk', '! to', '! today', '! tomorrow', '! too', '! translations', '! triple', '! try', '! tsk', '! tute', '! two', '! u', '! unban', '! unblock', '! understand', '! unfortunately', '! unless', '! until', '! update', '! ur', '! use', '! user', '! using', '! usually', '! vandalism', '! very', '! victory', '! viva', '! vote', '! voted', '! votes', '! voting', '! wait', '! wanna', '! want', '! wanted', '! was', '! watch', '! we', '! welcome', '! well', '! were', '! what', '! whatever', '! whats', '! when', '! where', '! whether', '! which', '! while', '! white', '! who', '! whoopee', '! why', '! width', '! wikhead', '! wiki', '! wikipedia', '! wikipedians', '! wikiproject', '! will', '! wishing', '! with', '! without', '! women', '! world', '! would', '! wow', '! wp', '! write', '! writing', '! wtf', '! x', '! xd', '! xxx', '! y', '! ya', '! yay', '! yck', '! yea', '! yeah', '! yes', '! yet', '! yo', '! you', '! your', '! yourcousin', '! yours', '! zoey', '! {', '! |', '! }', '! ~', '! ¡', '! §', '! ©TM', '! ·', '! ¿', '! –', '! —', '! —bol', '! —encmstr', '! —preceding', '! —the', '! ―œ', '! ”', '! †', '! •', '! ←', '! →', '! ►', '! ☎', '! ☥', '! ☯', '! ☺', '! ♠♣♥♦TMNo1185©♪♫', '! ♦', '! ♫♫', '! ⚇♔', '! ✉', '! ➨', '\"', '\" !', '\" \"', '\" #', '\" $', '\" %', '\" &', '\" \\'', '\" (', '\" )', '\" *', '\" +', '\" ,', '\" -', '\" .', '\" /', '\" 0', '\" 00', '\" 01', '\" 03', '\" 04', '\" 05', '\" 07', '\" 08', '\" 1', '\" 10', '\" 100', '\" 10th', '\" 11', '\" 110', '\" 12', '\" 123', '\" 13', '\" 134', '\" 14', '\" 15', '\" 16', '\" 17', '\" 18', '\" 19', '\" 1948', '\" 198', '\" 1984', '\" 1st', '\" 2', '\" 20', '\" 200', '\" 2005', '\" 2006', '\" 2007', '\" 2008', '\" 2009', '\" 2010', '\" 2011', '\" 2012', '\" 2013', '\" 2014', '\" 2015', '\" 203', '\" 209', '\" 21', '\" 22', '\" 23', '\" 24', '\" 25', '\" 26', '\" 27', '\" 28', '\" 29', '\" 3', '\" 30', '\" 300', '\" 31', '\" 32', '\" 33', '\" 34', '\" 3d', '\" 3rd', '\" 3rr', '\" 4', '\" 40', '\" 44', '\" 45', '\" 48', '\" 48px', '\" 4th', '\" 5', '\" 50', '\" 500', '\" 55', '\" 57', '\" 6', '\" 60', '\" 62', '\" 65', '\" 68', '\" 69', '\" 7', '\" 70', '\" 71', '\" 72', '\" 75', '\" 76', '\" 77', '\" 8', '\" 80', '\" 800', '\" 86', '\" 88', '\" 9', '\" 90', '\" 97', '\" 98', '\" 99', '\" :', '\" ;', '\" <', '\" =', '\" >', '\" ?', '\" @', '\" [', '\" \\\\', '\" ]', '\" ^', '\" _', '\" `', '\" a', '\" a7', '\" aa', '\" aaliyah', '\" ab', '\" aba', '\" abaddon', '\" abc', '\" ability', '\" aboriginal', '\" abortion', '\" about', '\" above', '\" abrahamic', '\" absence', '\" absent', '\" absolute', '\" absolutely', '\" abstain', '\" absurd', '\" abuse', '\" abusing', '\" abusive', '\" academia', '\" academic', '\" academics', '\" academy', '\" accent', '\" accept', '\" acceptable', '\" accepted', '\" access', '\" accident', '\" accomplishments', '\" according', '\" account', '\" accounts', '\" accurate', '\" accurately', '\" accusation', '\" accusations', '\" accused', '\" accuses', '\" accusing', '\" ace', '\" achievement', '\" achievements', '\" across', '\" act', '\" acted', '\" acting', '\" action', '\" actions', '\" active', '\" activism', '\" activist', '\" activists', '\" activities', '\" activity', '\" actor', '\" acts', '\" actual', '\" actually', '\" ad', '\" ada', '\" adam', '\" add', '\" added', '\" addendum', '\" adding', '\" addition', '\" additional', '\" additionally', '\" additions', '\" address', '\" addresses', '\" addressing', '\" adhd', '\" adjust', '\" admin', '\" administration', '\" administrative', '\" administrator', '\" administrators', '\" admins', '\" adminship', '\" admission', '\" adopt', '\" adopted', '\" adoption', '\" adult', '\" advanced', '\" advert', '\" advertisement', '\" advertisements', '\" advertising', '\" advice', '\" advisor', '\" advocacy', '\" advocates', '\" ae', '\" aegean', '\" aesthetic', '\" afc', '\" afd', '\" afghan', '\" afl', '\" african', '\" afro', '\" after', '\" aftermath', '\" again', '\" against', '\" age', '\" agenda', '\" agent', '\" agents', '\" aggression', '\" aggressive', '\" aggressively', '\" agree', '\" agreed', '\" agreeing', '\" agreement', '\" ah', '\" aha', '\" ahem', '\" ahh', '\" ahhh', '\" ahhhh', '\" aids', '\" aimed', '\" ain', '\" air', '\" aircraft', '\" airplane', '\" aiv', '\" aka', '\" al', '\" alan', '\" albert', '\" album', '\" albums', '\" alert', '\" alex', '\" alexander', '\" alice', '\" alien', '\" align', '\" all', '\" allah', '\" allegations', '\" allege', '\" alleged', '\" allegedly', '\" allegiance', '\" allied', '\" allies', '\" allow', '\" allowed', '\" allowing', '\" allows', '\" alma', '\" almost', '\" alone', '\" along', '\" alongside', '\" alot', '\" alpha', '\" already', '\" alright', '\" also', '\" alt', '\" alternate', '\" alternative', '\" alternatively', '\" alternatives', '\" although', '\" altogether', '\" alumni', '\" always', '\" am', '\" amanda', '\" amateur', '\" amazing', '\" ambiguous', '\" ambush', '\" america', '\" american', '\" americans', '\" among', '\" amount', '\" an', '\" anal', '\" analogy', '\" analysis', '\" anarchism', '\" anarchist', '\" anarcho', '\" ancestors', '\" ancestry', '\" ancient', '\" and', '\" andhra', '\" andrew', '\" andy', '\" anecdote', '\" ang', '\" angel', '\" anger', '\" angle', '\" anglican', '\" anglo', '\" angry', '\" ani', '\" animal', '\" animals', '\" animation', '\" anna', '\" anne', '\" announcement', '\" annoying', '\" annual', '\" anon', '\" anonymous', '\" another', '\" answer', '\" answered', '\" answering', '\" answers', '\" anti', '\" antisemitic', '\" antisemitism', '\" antonio', '\" any', '\" anybody', '\" anymore', '\" anyone', '\" anything', '\" anyway', '\" anyways', '\" anywhere', '\" apart', '\" apartheid', '\" apocalypse', '\" apologies', '\" apologize', '\" apology', '\" apparent', '\" apparently', '\" appeal', '\" appear', '\" appearance', '\" appearances', '\" appeared', '\" appears', '\" apple', '\" apples', '\" applied', '\" applies', '\" apply', '\" appreciate', '\" approach', '\" appropriate', '\" approval', '\" approved', '\" april', '\" aquiline', '\" arab', '\" arabic', '\" arabs', '\" arbcom', '\" arbitrarily', '\" arbitrary', '\" arbitration', '\" arborsculpture', '\" arcayne', '\" archive', '\" archived', '\" archives', '\" archiving', '\" are', '\" area', '\" areas', '\" aren', '\" argentina', '\" argh', '\" arguably', '\" argue', '\" arguing', '\" argument', '\" arguments', '\" aria', '\" ariana', '\" ariel', '\" aristotle', '\" arkansas', '\" armed', '\" armenian', '\" armies', '\" army', '\" around', '\" arrested', '\" arrests', '\" arrogant', '\" art', '\" arthur', '\" article', '\" articles', '\" artificial', '\" artist', '\" artists', '\" arts', '\" aryan', '\" aryana', '\" aryans', '\" as', '\" ashley', '\" asian', '\" aside', '\" ask', '\" asking', '\" aspect', '\" aspects', '\" ass', '\" assange', '\" assassination', '\" assault', '\" assessment', '\" asshole', '\" assimilation', '\" assistance', '\" associated', '\" association', '\" assume', '\" assuming', '\" assyrian', '\" at', '\" atheist', '\" atheistic', '\" atheists', '\" athiest', '\" attack', '\" attacked', '\" attacking', '\" attacks', '\" attempt', '\" attempted', '\" attempting', '\" attempts', '\" attention', '\" attitude', '\" attn', '\" attribution', '\" au', '\" audio', '\" august', '\" aussie', '\" australia', '\" australian', '\" austrian', '\" authentic', '\" author', '\" authoritative', '\" authority', '\" authors', '\" auto', '\" autoblocked', '\" automatic', '\" automatically', '\" autosigned', '\" available', '\" avatar', '\" avengers', '\" average', '\" avoid', '\" avoided', '\" avoiding', '\" aw', '\" award', '\" awarded', '\" awards', '\" away', '\" awb', '\" awesome', '\" awkward', '\" azerbaijani', '\" azeri', '\" b', '\" b4', '\" ba', '\" babies', '\" baby', '\" bachelor', '\" back', '\" background', '\" backlash', '\" backwards', '\" bad', '\" bah', '\" bait', '\" baiting', '\" baker', '\" baktun', '\" balance', '\" balanced', '\" balls', '\" baltic', '\" ban', '\" banana', '\" band', '\" bands', '\" bang', '\" bank', '\" banned', '\" banner', '\" bar', '\" barack', '\" barbarians', '\" barbaro', '\" barcelona', '\" barnstar', '\" barnstars', '\" barry', '\" base', '\" baseball', '\" based', '\" baseless', '\" basic', '\" basically', '\" basis', '\" basque', '\" bastard', '\" bath', '\" battle', '\" bay', '\" bbc', '\" bc', '\" be', '\" beat', '\" beating', '\" beatles', '\" beautiful', '\" beauty', '\" became', '\" because', '\" beck', '\" become', '\" becomes', '\" becoming', '\" beef', '\" been', '\" beer', '\" before', '\" began', '\" begging', '\" beginning', '\" behavior', '\" behavioral', '\" behaviour', '\" behind', '\" being', '\" bektashi', '\" belfast', '\" belief', '\" beliefs', '\" believe', '\" believers', '\" believes', '\" belittle', '\" bell', '\" belong', '\" belongs', '\" beloved', '\" below', '\" ben', '\" benefit', '\" benefits', '\" besides', '\" best', '\" beta', '\" betrayal', '\" better', '\" betty', '\" between', '\" beware', '\" beyond', '\" bi', '\" bias', '\" biased', '\" bible', '\" biblical', '\" bibliography', '\" big', '\" bigfoot', '\" bigger', '\" biggest', '\" bill', '\" billie', '\" billion', '\" billy', '\" binding', '\" binksternet', '\" bio', '\" biographical', '\" biographies', '\" biography', '\" biological', '\" biology', '\" bird', '\" birth', '\" birthday', '\" bishonen', '\" bit', '\" bitch', '\" bite', '\" bits', '\" bitter', '\" bizarre', '\" black', '\" blacks', '\" blah', '\" blake', '\" blaming', '\" blank', '\" blanked', '\" blanking', '\" blatant', '\" bleh', '\" blessed', '\" blind', '\" block', '\" blocked', '\" blocking', '\" blocks', '\" blog', '\" blogs', '\" blood', '\" bloody', '\" bloomex', '\" blow', '\" blp', '\" blue', '\" blunt', '\" bmw', '\" board', '\" boat', '\" bob', '\" bodies', '\" body', '\" bogus', '\" bohemian', '\" boilerplate', '\" bold', '\" boldly', '\" bomb', '\" bone', '\" boo', '\" boogie', '\" book', '\" books', '\" boolean', '\" border', '\" borderline', '\" born', '\" bosnia', '\" bosniak', '\" bosnian', '\" boss', '\" bosses', '\" boston', '\" bot', '\" both', '\" bottom', '\" bounce', '\" bow', '\" bowled', '\" bowling', '\" box', '\" boxed', '\" boy', '\" boys', '\" bp', '\" bracketbot', '\" bradley', '\" bragging', '\" brahmins', '\" brain', '\" branch', '\" brand', '\" branding', '\" brandon', '\" brazil', '\" brazilian', '\" brd', '\" breach', '\" break', '\" breaking', '\" breast', '\" brendan', '\" brevity', '\" brian', '\" bridge', '\" brief', '\" briefly', '\" bright', '\" brilliant', '\" bring', '\" bringing', '\" brings', '\" britain', '\" britannica', '\" british', '\" broad', '\" broadcast', '\" broadly', '\" broken', '\" brother', '\" brothers', '\" brought', '\" brown', '\" bruce', '\" bs', '\" btw', '\" bubble', '\" buck', '\" buddhism', '\" buffalo', '\" bug', '\" built', '\" bulgarian', '\" bulk', '\" bull', '\" bullet', '\" bullshit', '\" bully', '\" bullying', '\" bunch', '\" burden', '\" buried', '\" burn', '\" burned', '\" burning', '\" bus', '\" bush', '\" business', '\" busy', '\" but', '\" butt', '\" button', '\" buy', '\" bwilkins', '\" by', '\" bye', '\" c', '\" cabal', '\" cafe', '\" california', '\" call', '\" called', '\" calling', '\" calls', '\" calm', '\" came', '\" camp', '\" campaign', '\" campaigning', '\" campbell', '\" can', '\" canada', '\" canadian', '\" cancer', '\" candidate', '\" candy', '\" cannabis', '\" cannon', '\" cannot', '\" canon', '\" canvassing', '\" capacity', '\" capital', '\" capitalization', '\" captain', '\" captured', '\" car', '\" carbon', '\" card', '\" care', '\" career', '\" careful', '\" carnival', '\" carol', '\" carried', '\" carries', '\" cartoon', '\" case', '\" cassie', '\" casting', '\" casual', '\" cat', '\" categories', '\" categorization', '\" category', '\" catholic', '\" catholics', '\" cats', '\" caucasian', '\" caught', '\" cause', '\" caused', '\" causes', '\" causing', '\" caution', '\" cautious', '\" cc', '\" ce', '\" cease', '\" ceiling', '\" celebrity', '\" cell', '\" cellpadding', '\" cellspacing', '\" celtic', '\" censor', '\" censored', '\" censoring', '\" censors', '\" censorship', '\" census', '\" center', '\" central', '\" centre', '\" century', '\" certain', '\" certainly', '\" certified', '\" cf', '\" cfd', '\" ch', '\" chad', '\" chain', '\" chairman', '\" challenge', '\" champion', '\" championship', '\" chan', '\" change', '\" changed', '\" changes', '\" changing', '\" channel', '\" channels', '\" chapter', '\" character', '\" characterized', '\" characters', '\" charge', '\" charges', '\" charles', '\" chart', '\" chat', '\" chateau', '\" cheap', '\" cheatsheet', '\" check', '\" checkbox', '\" checking', '\" checkuser', '\" cheers', '\" cheese', '\" chemical', '\" cherry', '\" chess', '\" chezzy', '\" chick', '\" chicken', '\" chief', '\" child', '\" childish', '\" children', '\" chile', '\" chill', '\" chilling', '\" china', '\" chinese', '\" chip', '\" choice', '\" choose', '\" choosing', '\" chosen', '\" chris', '\" christ', '\" christaphobic', '\" christian', '\" christianity', '\" christians', '\" christmas', '\" christopher', '\" chronology', '\" chuck', '\" church', '\" churches', '\" churchill', '\" cia', '\" circle', '\" circumcised', '\" circumcision', '\" circus', '\" citation', '\" citations', '\" cite', '\" cited', '\" cities', '\" citing', '\" citizen', '\" citizens', '\" citizenship', '\" city', '\" civil', '\" civilians', '\" civility', '\" cj', '\" claim', '\" claimed', '\" claiming', '\" claims', '\" clan', '\" clarification', '\" clarify', '\" class', '\" classic', '\" classical', '\" classification', '\" clause', '\" clean', '\" cleaning', '\" cleansing', '\" cleanup', '\" clear', '\" clearing', '\" clearly', '\" click', '\" climate', '\" clinical', '\" close', '\" closed', '\" closely', '\" closing', '\" club', '\" clubs', '\" clue', '\" cluebot', '\" clusterfucked', '\" cm', '\" cnn', '\" co', '\" coal', '\" coat', '\" cock', '\" cocksucker', '\" code', '\" coffee', '\" cognitive', '\" coi', '\" cold', '\" coldplay', '\" cole', '\" collaboration', '\" collaborative', '\" collapse', '\" collapsed', '\" collapsible', '\" colleagues', '\" collect', '\" collection', '\" college', '\" colonial', '\" color', '\" colored', '\" colour', '\" coloured', '\" colspan', '\" columbia', '\" column', '\" columns', '\" combat', '\" combative', '\" combined', '\" come', '\" comes', '\" comfort', '\" comic', '\" coming', '\" comma', '\" comment', '\" commentary', '\" commented', '\" commenting', '\" comments', '\" commercial', '\" commie', '\" committed', '\" committee', '\" common', '\" commonly', '\" commons', '\" commonwealth', '\" communications', '\" communism', '\" communist', '\" communists', '\" community', '\" company', '\" compare', '\" compared', '\" comparing', '\" comparison', '\" compatibility', '\" complaining', '\" complaint', '\" complaints', '\" complete', '\" completed', '\" completely', '\" complex', '\" compliance', '\" component', '\" composition', '\" compound', '\" compounding', '\" compromise', '\" computer', '\" comrade', '\" con', '\" concensus', '\" concentrate', '\" concept', '\" concepts', '\" concern', '\" concerning', '\" concerns', '\" conclusion', '\" conclusions', '\" concrete', '\" concur', '\" condition', '\" confederate', '\" conference', '\" confession', '\" confirmation', '\" confirmed', '\" conflict', '\" conflicts', '\" conforms', '\" confrontational', '\" confucius', '\" confused', '\" confusing', '\" confusion', '\" congrats', '\" congratulations', '\" congress', '\" conjures', '\" connected', '\" connection', '\" cons', '\" consensus', '\" conservatism', '\" conservative', '\" consider', '\" considerable', '\" considered', '\" considering', '\" consisted', '\" consistency', '\" consistent', '\" consistently', '\" consists', '\" conspiracy', '\" constant', '\" constantly', '\" constituent', '\" constitutes', '\" constitution', '\" constructive', '\" contact', '\" contained', '\" contains', '\" contemporary', '\" content', '\" contentious', '\" contents', '\" contest', '\" context', '\" continental', '\" continue', '\" continued', '\" continuing', '\" continuous', '\" contract', '\" contradiction', '\" contradictory', '\" contrary', '\" contribs', '\" contribute', '\" contributing', '\" contribution', '\" contributions', '\" contributor', '\" contributors', '\" control', '\" controlled', '\" controversey', '\" controversial', '\" controversies', '\" controversy', '\" convention', '\" conventional', '\" conventions', '\" conversation', '\" conversely', '\" conversion', '\" convert', '\" convicted', '\" conway', '\" cookie', '\" cool', '\" cooling', '\" cooperation', '\" coordinate', '\" copied', '\" copy', '\" copyedit', '\" copyediting', '\" copying', '\" copyright', '\" copyrighted', '\" copyvio', '\" core', '\" cornish', '\" corporate', '\" correct', '\" corrected', '\" correcting', '\" correction', '\" corrections', '\" correctly', '\" correspond', '\" corruption', '\" could', '\" couldn', '\" council', '\" count', '\" counter', '\" counting', '\" countries', '\" country', '\" county', '\" coup', '\" course', '\" court', '\" courtesy', '\" courtney', '\" cover', '\" coverage', '\" covered', '\" covers', '\" coward', '\" cowboy', '\" crackpot', '\" cradle', '\" crank', '\" crap', '\" crappy', '\" crash', '\" crazy', '\" cream', '\" create', '\" created', '\" creates', '\" creating', '\" creation', '\" creationist', '\" creative', '\" creator', '\" creatures', '\" credibility', '\" credible', '\" credit', '\" credits', '\" creepy', '\" crew', '\" crick', '\" crime', '\" crimes', '\" criminal', '\" crisis', '\" criteria', '\" critical', '\" critically', '\" criticism', '\" criticisms', '\" criticize', '\" criticized', '\" criticizing', '\" critics', '\" critique', '\" croatian', '\" cross', '\" crossing', '\" crowd', '\" crown', '\" crusade', '\" crush', '\" csd', '\" cuisine', '\" cull', '\" cult', '\" cultural', '\" culture', '\" cum', '\" cumberland', '\" cunt', '\" cunts', '\" curious', '\" current', '\" currently', '\" custom', '\" customer', '\" customers', '\" cut', '\" cyber', '\" cycle', '\" cynical', '\" cynically', '\" czech', '\" d', '\" d15b8', '\" da', '\" dab', '\" dad', '\" daddy', '\" daily', '\" dallas', '\" dalmatia', '\" damemk', '\" damn', '\" dan', '\" dan56', '\" dana', '\" dance', '\" dances', '\" dancing', '\" dangerous', '\" daniel', '\" danny', '\" dark', '\" darwin', '\" darwinist', '\" das', '\" data', '\" date', '\" dates', '\" dating', '\" dave', '\" david', '\" dawn', '\" day', '\" dayewalker', '\" days', '\" db', '\" dc', '\" dc101', '\" de', '\" dead', '\" deadly', '\" deal', '\" dealing', '\" dear', '\" death', '\" deaths', '\" debatable', '\" debate', '\" debunked', '\" debunking', '\" deceased', '\" december', '\" decent', '\" deception', '\" decide', '\" decided', '\" decision', '\" decisions', '\" decisive', '\" declaration', '\" declaring', '\" decline', '\" declined', '\" dedicated', '\" deep', '\" deeply', '\" defacing', '\" defamation', '\" defamatory', '\" default', '\" defected', '\" defend', '\" defender', '\" defenders', '\" defending', '\" defense', '\" defensive', '\" define', '\" defined', '\" definitely', '\" definition', '\" definitions', '\" definitive', '\" degree', '\" deity', '\" delete', '\" deleted', '\" deleting', '\" deletion', '\" deletionist', '\" deletionists', '\" deletions', '\" deliberate', '\" deliberately', '\" delist', '\" delta', '\" delusional', '\" demand', '\" democracy', '\" democrat', '\" democratic', '\" democrats', '\" demographics', '\" demon', '\" denial', '\" dennis', '\" denotes', '\" department', '\" depending', '\" depends', '\" depopulation', '\" der', '\" derek', '\" derivative', '\" derogatory', '\" derpyday', '\" describe', '\" described', '\" describes', '\" describing', '\" description', '\" deserves', '\" designation', '\" designed', '\" despite', '\" destiny', '\" destroy', '\" destroyed', '\" destruction', '\" detail', '\" detailed', '\" detroit', '\" developed', '\" developing', '\" development', '\" devil', '\" devoted', '\" dialect', '\" diamond', '\" dianetics', '\" diatribe', '\" dick', '\" dictator', '\" dictionary', '\" did', '\" didn', '\" die', '\" died', '\" diff', '\" differ', '\" differences', '\" different', '\" differentiate', '\" diffs', '\" diffusion', '\" digital', '\" dignity', '\" dildo', '\" diplomatic', '\" direct', '\" direction', '\" directly', '\" dirt', '\" dirty', '\" disagree', '\" disagreement', '\" disambiguation', '\" disappear', '\" disappearance', '\" disappearing', '\" disappointing', '\" discharged', '\" disciplinary', '\" discovered', '\" discoveries', '\" discovery', '\" discredited', '\" discrediting', '\" discrepancies', '\" discretionary', '\" discrimination', '\" discuss', '\" discussing', '\" discussion', '\" discussions', '\" disease', '\" disgraced', '\" disgusting', '\" dishonest', '\" disingenuous', '\" dismantling', '\" dismissed', '\" disney', '\" dispute', '\" disputed', '\" disputes', '\" disrespectful', '\" disrupting', '\" disruption', '\" disruptive', '\" dissent', '\" distance', '\" distinction', '\" distinguished', '\" distorted', '\" distortion', '\" ditto', '\" diverse', '\" divide', '\" divine', '\" division', '\" dj', '\" do', '\" doc', '\" doctor', '\" doctorate', '\" doctors', '\" doctrine', '\" documentary', '\" documentation', '\" documented', '\" dodgy', '\" does', '\" doesn', '\" doesnt', '\" dog', '\" dogs', '\" dogsoc', '\" doing', '\" domain', '\" dominion', '\" dominionism', '\" don', '\" donald', '\" donating', '\" done', '\" dont', '\" door', '\" double', '\" doubt', '\" doug', '\" dougweller', '\" dowager', '\" down', '\" downgrade', '\" download', '\" dozens', '\" dr', '\" draft', '\" drake', '\" drama', '\" dramatic', '\" drawing', '\" dreadstar', '\" dream', '\" drive', '\" driven', '\" driving', '\" drk', '\" drmies', '\" drn', '\" drop', '\" dropping', '\" drug', '\" drugs', '\" drv', '\" du', '\" dual', '\" dubious', '\" dubya', '\" duck', '\" dude', '\" due', '\" duesberg', '\" duh', '\" dumb', '\" dumbass', '\" dumbed', '\" dumbo', '\" dummy', '\" dump', '\" dunderheads', '\" during', '\" dutch', '\" duty', '\" dvd', '\" dying', '\" dyk', '\" dylan', '\" dynamic', '\" e', '\" each', '\" eagle', '\" earlier', '\" earliest', '\" early', '\" earth', '\" easier', '\" easily', '\" east', '\" easter', '\" eastern', '\" easy', '\" eat', '\" ebay', '\" ebonics', '\" ebony', '\" economic', '\" economics', '\" economistbr', '\" economists', '\" ed', '\" eddie', '\" edit', '\" edited', '\" editing', '\" edition', '\" editor', '\" editorial', '\" editors', '\" edits', '\" edmund', '\" educate', '\" educated', '\" education', '\" educational', '\" edward', '\" ee', '\" effect', '\" effective', '\" effects', '\" effort', '\" ego', '\" egregious', '\" egypt', '\" eh', '\" eight', '\" ein', '\" einstein', '\" either', '\" ejanev', '\" el', '\" elected', '\" election', '\" elections', '\" electoral', '\" electric', '\" electronic', '\" element', '\" elements', '\" eleven', '\" eli', '\" eliminate', '\" elimination', '\" elitist', '\" elizabeth', '\" elon', '\" elonka', '\" elvis', '\" email', '\" emancipation', '\" embedded', '\" emerging', '\" eminent', '\" emo', '\" emotive', '\" emperor', '\" emphasis', '\" empire', '\" empirical', '\" empty', '\" en', '\" encouraging', '\" encyclopaedia', '\" encyclopedia', '\" encyclopedic', '\" encylopediactionary', '\" end', '\" ended', '\" ending', '\" endless', '\" endocinal', '\" ends', '\" enemies', '\" enemy', '\" energy', '\" enforce', '\" enforcing', '\" engaging', '\" engine', '\" england', '\" english', '\" enhanced', '\" enjoy', '\" enjoys', '\" enormous', '\" enough', '\" enter', '\" entire', '\" entirely', '\" entity', '\" entrenched', '\" entries', '\" entry', '\" environment', '\" environmental', '\" ep', '\" epic', '\" episode', '\" episodes', '\" epithet', '\" equal', '\" equivalent', '\" er', '\" era', '\" eric', '\" erik', '\" erm', '\" ernie', '\" erotic', '\" err', '\" erroneous', '\" error', '\" errors', '\" es', '\" escape', '\" esoteric', '\" especially', '\" esperanza', '\" essay', '\" essentially', '\" established', '\" establishing', '\" establishment', '\" estadunidense', '\" estimate', '\" estimated', '\" estimates', '\" et', '\" etc', '\" ethical', '\" ethics', '\" ethiopian', '\" ethnic', '\" ethnicity', '\" etomcat', '\" etymology', '\" eu', '\" eunice', '\" europe', '\" european', '\" europeans', '\" evangelical', '\" even', '\" event', '\" events', '\" eventually', '\" ever', '\" every', '\" everybody', '\" everyone', '\" everything', '\" everytime', '\" everywhere', '\" evidence', '\" evidently', '\" evil', '\" evolution', '\" evolutionary', '\" evolutionists', '\" evolved', '\" ex', '\" exact', '\" exactly', '\" example', '\" examples', '\" excellent', '\" except', '\" exception', '\" exceptional', '\" excessive', '\" exclusive', '\" excuse', '\" execution', '\" exhibit', '\" exist', '\" existed', '\" existence', '\" exists', '\" exo', '\" exotic', '\" expansion', '\" expect', '\" expecting', '\" expelled', '\" experience', '\" experienced', '\" experimental', '\" expert', '\" expertise', '\" experts', '\" expired', '\" explain', '\" explaining', '\" explanation', '\" explanations', '\" expose', '\" exposed', '\" expresses', '\" extended', '\" extensive', '\" external', '\" extra', '\" extracurriculur', '\" extraordinary', '\" extreme', '\" extremely', '\" extremism', '\" extremist', '\" eye', '\" f', '\" fa', '\" face', '\" facebook', '\" fact', '\" factoid', '\" factor', '\" facts', '\" factual', '\" fag', '\" faggot', '\" fail', '\" failed', '\" failure', '\" fair', '\" fairly', '\" fairness', '\" faith', '\" fake', '\" fall', '\" false', '\" falsely', '\" fame', '\" families', '\" family', '\" famous', '\" famously', '\" fan', '\" fanboy', '\" fandom', '\" fans', '\" fansites', '\" fantasia', '\" fantastic', '\" fantasy', '\" far', '\" farix', '\" fascinating', '\" fascism', '\" fascist', '\" fashion', '\" fast', '\" fat', '\" fatal', '\" father', '\" favor', '\" favoring', '\" fbi', '\" fc', '\" fear', '\" feature', '\" featured', '\" features', '\" feb', '\" february', '\" federal', '\" feedback', '\" feeding', '\" feel', '\" feeling', '\" feels', '\" fellow', '\" female', '\" feminism', '\" femme', '\" few', '\" fictional', '\" field', '\" fifth', '\" fight', '\" fighting', '\" fights', '\" figure', '\" file', '\" files', '\" filipino', '\" fill', '\" film', '\" filming', '\" filmography', '\" films', '\" filter', '\" filthy', '\" final', '\" finally', '\" financial', '\" find', '\" finding', '\" fine', '\" fingerprints', '\" finished', '\" finnish', '\" fire', '\" first', '\" firstly', '\" fish', '\" fisherqueen', '\" fit', '\" five', '\" fix', '\" fixed', '\" fixes', '\" fixing', '\" flag', '\" flags', '\" flagship', '\" flame', '\" flash', '\" flat', '\" fled', '\" flee', '\" fleeing', '\" flemish', '\" flight', '\" flip', '\" float', '\" floating', '\" flow', '\" flying', '\" focus', '\" focusing', '\" fold', '\" folk', '\" follow', '\" followed', '\" followers', '\" following', '\" followup', '\" folly', '\" font', '\" foo', '\" food', '\" fool', '\" foolish', '\" football', '\" footnote', '\" footnotes', '\" for', '\" forbidden', '\" force', '\" forced', '\" forces', '\" forcing', '\" ford', '\" foreign', '\" forever', '\" forgery', '\" forget', '\" forgive', '\" forgot', '\" forgotten', '\" fork', '\" form', '\" formal', '\" format', '\" formation', '\" formatting', '\" formed', '\" former', '\" formerly', '\" formula', '\" fort', '\" forum', '\" forums', '\" forward', '\" fossil', '\" fossils', '\" found', '\" founded', '\" founder', '\" founding', '\" four', '\" fourth', '\" fox', '\" fpc', '\" france', '\" francis', '\" franco', '\" frank', '\" frankly', '\" fraud', '\" fred', '\" frederic', '\" free', '\" freedom', '\" french', '\" frequently', '\" fresh', '\" friend', '\" friendly', '\" friends', '\" fringe', '\" frivolous', '\" from', '\" front', '\" fuck', '\" fucking', '\" full', '\" fully', '\" fun', '\" function', '\" functions', '\" fundamental', '\" fundie', '\" funky', '\" funny', '\" further', '\" furthermore', '\" fusion', '\" future', '\" fwiw', '\" fyi', '\" fyrom', '\" g', '\" ga', '\" gaga', '\" gaia', '\" gain', '\" galactic', '\" gallery', '\" galling', '\" gallipoli', '\" gamaliel', '\" game', '\" gameplay', '\" games', '\" gaming', '\" gan', '\" gang', '\" ganging', '\" garage', '\" garbage', '\" gas', '\" gave', '\" gay', '\" gays', '\" gaza', '\" gee', '\" geeks', '\" geez', '\" gender', '\" general', '\" generally', '\" generated', '\" generation', '\" generic', '\" genes', '\" genesis', '\" genetic', '\" genetics', '\" genital', '\" genius', '\" genocide', '\" genre', '\" genus', '\" geographic', '\" geographically', '\" geography', '\" george', '\" georgia', '\" german', '\" germanic', '\" germany', '\" gerry', '\" get', '\" gets', '\" getting', '\" ghost', '\" giant', '\" gibberish', '\" girl', '\" girls', '\" give', '\" given', '\" gives', '\" giving', '\" glad', '\" glen', '\" glenn', '\" global', '\" glorious', '\" glory', '\" gnaa', '\" gnu', '\" go', '\" goading', '\" goal', '\" goals', '\" god', '\" gods', '\" goes', '\" goethean', '\" going', '\" gold', '\" golden', '\" gone', '\" gonna', '\" good', '\" goodbye', '\" goodies', '\" google', '\" gook', '\" gore', '\" gosh', '\" gospel', '\" gossip', '\" got', '\" gotcha', '\" gothic', '\" gotta', '\" governing', '\" government', '\" governor', '\" grace', '\" graduation', '\" graffiti', '\" grammar', '\" grand', '\" granted', '\" gravity', '\" great', '\" greater', '\" greatest', '\" greece', '\" greek', '\" greeks', '\" green', '\" greetings', '\" gregalton', '\" gregory', '\" grey', '\" gross', '\" grossly', '\" ground', '\" group', '\" groups', '\" grow', '\" growing', '\" growth', '\" grudge', '\" guardian', '\" guards', '\" guess', '\" guessing', '\" guest', '\" guide', '\" guideline', '\" guidelines', '\" guilt', '\" guilty', '\" guitar', '\" gum', '\" gun', '\" guru', '\" guy', '\" guys', '\" gwen', '\" h', '\" ha', '\" hack', '\" hacked', '\" hacking', '\" had', '\" hah', '\" haha', '\" hahaha', '\" hahahahaha', '\" hair', '\" haiti', '\" hakenkreuz', '\" half', '\" hall', '\" hallo', '\" halo', '\" hamas', '\" hamlet', '\" hamsun', '\" hand', '\" hang', '\" hanging', '\" hangon', '\" hans', '\" happened', '\" happens', '\" happy', '\" harald88', '\" harassing', '\" harassment', '\" hard', '\" hardcore', '\" hardly', '\" haredi', '\" hari', '\" harmonic', '\" harold', '\" harrasment', '\" harrassment', '\" harris', '\" harry', '\" harsh', '\" harvard', '\" has', '\" hasta', '\" hat', '\" hate', '\" have', '\" haven', '\" having', '\" he', '\" head', '\" header', '\" heading', '\" headline', '\" heads', '\" healing', '\" health', '\" hear', '\" heard', '\" hearing', '\" heat', '\" heather', '\" heaven', '\" heavily', '\" heavy', '\" hebrew', '\" heh', '\" hehe', '\" height', '\" heil', '\" held', '\" hell', '\" hello', '\" help', '\" helped', '\" helpful', '\" helpme', '\" helter', '\" hence', '\" henry', '\" her', '\" here', '\" herman', '\" hero', '\" heroes', '\" hesperian', '\" hey', '\" hi', '\" hidden', '\" hide', '\" high', '\" higher', '\" highest', '\" highlight', '\" highly', '\" hilarious', '\" him', '\" himself', '\" hindu', '\" hinduism', '\" hindus', '\" hint', '\" hip', '\" hiram', '\" his', '\" hispanic', '\" historian', '\" historians', '\" historic', '\" historical', '\" history', '\" hit', '\" hitler', '\" hits', '\" hm', '\" hmm', '\" hmmm', '\" hmmmmm', '\" ho', '\" hoary', '\" hoax', '\" hobby', '\" hold', '\" holds', '\" hole', '\" hollywood', '\" holocaust', '\" holy', '\" home', '\" homeopathy', '\" homo', '\" homophobia', '\" homophobic', '\" homosexual', '\" homosexuality', '\" homosexuals', '\" honest', '\" honestly', '\" honey', '\" hong', '\" honors', '\" honours', '\" hook', '\" hop', '\" hope', '\" hopefully', '\" hornet', '\" horror', '\" horse', '\" hostile', '\" hot', '\" hounding', '\" house', '\" housekeeping', '\" how', '\" howard', '\" howdy', '\" however', '\" hp', '\" http', '\" https', '\" hub', '\" huge', '\" huggle', '\" huh', '\" human', '\" humanitarian', '\" humans', '\" humor', '\" humour', '\" hundreds', '\" hungarian', '\" hunt', '\" hunter', '\" hunting', '\" hurt', '\" hurtful', '\" hype', '\" hypocrisy', '\" hypocrites', '\" hypocritical', '\" hypothesis', '\" hypothetical', '\" i', '\" ice', '\" ich', '\" icon', '\" iconic', '\" id', '\" idea', '\" ideal', '\" ideas', '\" identical', '\" identify', '\" identity', '\" ideology', '\" idiot', '\" idiotic', '\" idiots', '\" ie', '\" if', '\" ignorance', '\" ignorant', '\" ignore', '\" ignored', '\" ignores', '\" ignoring', '\" igor', '\" iirc', '\" il', '\" ill', '\" illegal', '\" illegitimate', '\" im', '\" image', '\" images', '\" imagination', '\" imagine', '\" imdb', '\" imho', '\" immature', '\" immediately', '\" immigrant', '\" imo', '\" impact', '\" imperial', '\" implied', '\" implies', '\" implying', '\" importance', '\" important', '\" impossible', '\" impressive', '\" improper', '\" improperly', '\" improve', '\" improved', '\" improvement', '\" improvements', '\" improving', '\" in', '\" inaccuracies', '\" inaccurate', '\" inactive', '\" inadvertent', '\" inappropriate', '\" inbreeding', '\" incest', '\" incident', '\" incidentally', '\" incidents', '\" incivil', '\" incivility', '\" include', '\" included', '\" includes', '\" including', '\" inclusion', '\" inclusionist', '\" inclusive', '\" income', '\" incomplete', '\" incorporated', '\" incorrect', '\" incorrectly', '\" increase', '\" increased', '\" increasingly', '\" incremental', '\" indeed', '\" indefinite', '\" indefinitely', '\" independent', '\" index', '\" india', '\" indian', '\" indians', '\" indicate', '\" indicates', '\" indicating', '\" indie', '\" indigenous', '\" indiscriminate', '\" indisputable', '\" individual', '\" indo', '\" industrial', '\" inertia', '\" inferior', '\" infinite', '\" inflation', '\" influence', '\" influenced', '\" influences', '\" info', '\" infobox', '\" informal', '\" information', '\" infrastructure', '\" ing', '\" inherent', '\" initial', '\" initially', '\" initiated', '\" injury', '\" inland', '\" inline', '\" inmates', '\" inner', '\" innocent', '\" input', '\" inre', '\" insert', '\" inserting', '\" inside', '\" insignificant', '\" inspired', '\" instead', '\" institute', '\" insufficient', '\" insult', '\" insulting', '\" insults', '\" int', '\" integral', '\" intellectual', '\" intelligence', '\" intelligent', '\" intended', '\" intentional', '\" intentionally', '\" interacting', '\" interest', '\" interested', '\" interesting', '\" interestingly', '\" interests', '\" internal', '\" international', '\" internet', '\" interpretation', '\" interpretations', '\" interpreted', '\" intervention', '\" interview', '\" into', '\" intro', '\" introduction', '\" introductory', '\" invalid', '\" invasion', '\" invented', '\" inverted', '\" investigations', '\" investment', '\" invitation', '\" invite', '\" involved', '\" involvement', '\" involves', '\" ip', '\" ipa', '\" iphone', '\" ipod', '\" iq', '\" ira', '\" iran', '\" iranian', '\" iranians', '\" iraq', '\" irc', '\" ireland', '\" irish', '\" iron', '\" ironically', '\" irony', '\" irrational', '\" irrelevant', '\" irs', '\" is', '\" isbn', '\" isis', '\" islam', '\" islamic', '\" islamism', '\" islamist', '\" islamophobia', '\" island', '\" islands', '\" isle', '\" isles', '\" ism', '\" isn', '\" iso', '\" israel', '\" israeli', '\" issue', '\" issued', '\" issues', '\" it', '\" italian', '\" italics', '\" italy', '\" item', '\" items', '\" itn', '\" its', '\" itself', '\" ivan', '\" ivory', '\" j', '\" jack', '\" jackson', '\" jacob', '\" jaime', '\" jake', '\" james', '\" jamie', '\" jan', '\" jane', '\" janice', '\" january', '\" japan', '\" japanese', '\" jason', '\" jayjg', '\" jazz', '\" jeff', '\" jehovah', '\" jerk', '\" jerusalem', '\" jessica', '\" jesus', '\" jew', '\" jewish', '\" jews', '\" jfk', '\" jihadist', '\" jim', '\" jimbo', '\" jimmy', '\" job', '\" jobs', '\" joe', '\" john', '\" johnny', '\" johnson', '\" join', '\" joined', '\" joint', '\" joke', '\" jokes', '\" jon', '\" jonathan', '\" joppa', '\" jordan', '\" jorge', '\" jose', '\" joseph', '\" josephus', '\" josh', '\" joshua', '\" joshuaz', '\" journal', '\" journalist', '\" journey', '\" judaism', '\" judas', '\" judea', '\" judge', '\" judges', '\" judgment', '\" juicy', '\" july', '\" jump', '\" june', '\" jungle', '\" junior', '\" junk', '\" just', '\" justice', '\" justification', '\" justified', '\" justin', '\" juvenile', '\" k', '\" kane', '\" kangaroo', '\" kansas', '\" karnataka', '\" kashmir', '\" kaysing', '\" ke', '\" keep', '\" keeper', '\" keeping', '\" keeps', '\" keith', '\" kekeke', '\" ken', '\" kenneth', '\" kent', '\" kept', '\" kevin', '\" key', '\" kick', '\" kid', '\" kids', '\" kike', '\" kill', '\" killed', '\" killer', '\" killerchihuahua', '\" killing', '\" kim', '\" kind', '\" kinda', '\" kindly', '\" king', '\" kingdom', '\" kiss', '\" kla', '\" knew', '\" know', '\" knowing', '\" knowledge', '\" known', '\" knows', '\" kook', '\" korea', '\" korean', '\" kosher', '\" kosovo', '\" kshatriya', '\" kumite', '\" kurdish', '\" kurdistan', '\" kurds', '\" kurgan', '\" kwami', '\" kyle', '\" l', '\" la', '\" label', '\" labeled', '\" labels', '\" labor', '\" lack', '\" lacks', '\" lady', '\" lake', '\" lame', '\" land', '\" language', '\" languages', '\" lanicoya', '\" large', '\" largely', '\" largest', '\" larry', '\" las', '\" last', '\" lastly', '\" lately', '\" later', '\" latest', '\" latin', '\" latvian', '\" laugh', '\" laughable', '\" laveol', '\" law', '\" laws', '\" layout', '\" lazy', '\" le', '\" lead', '\" leader', '\" leaders', '\" leadership', '\" leading', '\" leads', '\" leak', '\" leaked', '\" learn', '\" learning', '\" least', '\" leave', '\" leaving', '\" lebanon', '\" led', '\" lede', '\" lee', '\" left', '\" leftist', '\" legacy', '\" legal', '\" legend', '\" legends', '\" legitimate', '\" length', '\" lenin', '\" less', '\" lesser', '\" let', '\" lets', '\" letter', '\" letters', '\" level', '\" lgbt', '\" liar', '\" liars', '\" libel', '\" libelous', '\" liberal', '\" liberalism', '\" liberals', '\" liberation', '\" libertarian', '\" libertarianism', '\" liberty', '\" library', '\" license', '\" licensed', '\" lie', '\" lies', '\" life', '\" lifestyle', '\" lift', '\" light', '\" lighten', '\" like', '\" likely', '\" likes', '\" likewise', '\" lil', '\" lily', '\" limited', '\" lincoln', '\" linda', '\" line', '\" lines', '\" lingua', '\" linguafranc', '\" link', '\" linked', '\" linking', '\" links', '\" linux', '\" lisa', '\" list', '\" listed', '\" listen', '\" listing', '\" lists', '\" literally', '\" literary', '\" literature', '\" little', '\" live', '\" lived', '\" lives', '\" living', '\" liz', '\" ll', '\" lloyd', '\" lmao', '\" loaded', '\" local', '\" located', '\" location', '\" locations', '\" lock', '\" log', '\" logic', '\" logical', '\" logo', '\" logos', '\" lol', '\" london', '\" lone', '\" long', '\" look', '\" looked', '\" looking', '\" looks', '\" loose', '\" lord', '\" lords', '\" los', '\" lose', '\" loser', '\" lost', '\" lots', '\" lou', '\" love', '\" lovely', '\" loving', '\" low', '\" lower', '\" lphant', '\" lucky', '\" lucy', '\" luke', '\" lulz', '\" lunatic', '\" luton', '\" lying', '\" lyrics', '\" m', '\" ma', '\" mac', '\" macedonia', '\" macedonian', '\" macedonians', '\" machida', '\" mad', '\" made', '\" magazine', '\" magic', '\" mail', '\" main', '\" mainland', '\" mainly', '\" mainpagebg', '\" mainstream', '\" maintaining', '\" maintenance', '\" major', '\" majority', '\" make', '\" makedonji', '\" makes', '\" making', '\" malcolm', '\" male', '\" malicious', '\" malleus', '\" man', '\" manage', '\" managed', '\" management', '\" manchester', '\" mandatory', '\" manga', '\" manual', '\" many', '\" map', '\" maps', '\" marc', '\" march', '\" margaret', '\" margin', '\" maria', '\" mariah', '\" mario', '\" mark', '\" market', '\" marketing', '\" marking', '\" marriage', '\" married', '\" martin', '\" martyrs', '\" marx', '\" marxism', '\" mary', '\" masonic', '\" mass', '\" massacre', '\" massacres', '\" massive', '\" master', '\" masterpiece', '\" match', '\" matches', '\" mate', '\" material', '\" math', '\" mathematical', '\" mathematics', '\" matrix', '\" matt', '\" matter', '\" max', '\" may', '\" maybe', '\" mc', '\" mccain', '\" mcewan', '\" mcwhinney', '\" md', '\" me', '\" mean', '\" meaning', '\" meaningful', '\" means', '\" meant', '\" meanwhile', '\" measurement', '\" measuring', '\" meat', '\" meatpuppet', '\" meatpuppets', '\" medals', '\" media', '\" mediate', '\" mediation', '\" mediawiki', '\" medical', '\" medication', '\" medieval', '\" meet', '\" meg', '\" mega', '\" meh', '\" mel', '\" member', '\" members', '\" membership', '\" meme', '\" memorable', '\" men', '\" mental', '\" mentality', '\" mention', '\" mentioned', '\" mentioning', '\" mentions', '\" mentor', '\" mentorship', '\" mere', '\" merely', '\" merge', '\" merger', '\" merging', '\" merry', '\" message', '\" messagebox', '\" messages', '\" messenger', '\" messes', '\" messiah', '\" meta', '\" metadata', '\" metal', '\" meters', '\" method', '\" metric', '\" metro', '\" metropolitan', '\" mexican', '\" mexico', '\" mfd', '\" mi', '\" michael', '\" michelle', '\" microsoft', '\" mid', '\" middle', '\" might', '\" migration', '\" mikan', '\" mike', '\" mile', '\" miley', '\" militant', '\" military', '\" miller', '\" million', '\" millions', '\" milton', '\" mind', '\" mindless', '\" mine', '\" mini', '\" minimal', '\" minnesota', '\" minor', '\" minority', '\" mint', '\" minus', '\" mis', '\" misc', '\" miscarriage', '\" miscellaneous', '\" misconception', '\" misinformation', '\" misleading', '\" misrepresent', '\" misrepresentation', '\" miss', '\" missing', '\" mission', '\" mistake', '\" mistakes', '\" mister', '\" misunderstanding', '\" misunderstood', '\" mixed', '\" mma', '\" mmm', '\" mmmm', '\" mo', '\" mode', '\" model', '\" moderate', '\" moderator', '\" modern', '\" modi', '\" moldovan', '\" mom', '\" moment', '\" monetary', '\" money', '\" moneybomb', '\" mongo', '\" mongolia', '\" monkey', '\" monster', '\" montenegrin', '\" monthly', '\" months', '\" montreal', '\" moon', '\" mop', '\" moral', '\" more', '\" moreover', '\" mormon', '\" mormonism', '\" mormons', '\" morocco', '\" moron', '\" moronic', '\" morons', '\" morris', '\" mos', '\" moses', '\" mosque', '\" most', '\" mostly', '\" mother', '\" motivation', '\" motive', '\" motor', '\" motto', '\" mountain', '\" move', '\" moved', '\" movement', '\" movie', '\" moving', '\" mr', '\" ms', '\" msm', '\" much', '\" muhammad', '\" mulatto', '\" mulattos', '\" multi', '\" multiple', '\" murder', '\" murdered', '\" murray', '\" muscle', '\" music', '\" musical', '\" muslim', '\" muslims', '\" must', '\" mutt', '\" mutual', '\" my', '\" myanmar', '\" myself', '\" mystery', '\" myth', '\" mythological', '\" mythology', '\" myths', '\" n', '\" na', '\" nableezy', '\" nah', '\" nai', '\" nair', '\" naked', '\" name', '\" named', '\" names', '\" naming', '\" nancy', '\" nandigram', '\" napoleon', '\" narciso', '\" narrow', '\" nassim', '\" nasty', '\" natalee', '\" nathan', '\" nation', '\" national', '\" nationalism', '\" nationalist', '\" nationalists', '\" nationality', '\" nations', '\" native', '\" natural', '\" naturally', '\" nature', '\" naughty', '\" navbox', '\" nazi', '\" nazis', '\" nb', '\" near', '\" nearly', '\" necessarily', '\" necessary', '\" need', '\" needed', '\" needs', '\" negative', '\" negligible', '\" negotiation', '\" neither', '\" neo', '\" neologism', '\" nepal', '\" nerd', '\" nescio', '\" net', '\" network', '\" neutral', '\" neutrality', '\" neutralize', '\" never', '\" nevermind', '\" nevertheless', '\" new', '\" newbie', '\" newbies', '\" newly', '\" news', '\" newsletter', '\" newspaper', '\" newspapers', '\" next', '\" nice', '\" nick', '\" nickname', '\" nicknames', '\" nicosia', '\" niggardly', '\" nigger', '\" niggers', '\" night', '\" nikolai', '\" nile', '\" ninguem', '\" nintendo', '\" no', '\" nobel', '\" noble', '\" nobody', '\" node', '\" noel', '\" noise', '\" nomanac', '\" nominated', '\" nomination', '\" nominations', '\" non', '\" none', '\" nonsense', '\" nonsensical', '\" noone', '\" nope', '\" nor', '\" nordic', '\" normal', '\" normally', '\" norman', '\" norris', '\" north', '\" northeast', '\" northern', '\" not', '\" notability', '\" notable', '\" notables', '\" note', '\" noted', '\" notes', '\" nothing', '\" notice', '\" notices', '\" notification', '\" noting', '\" notorious', '\" november', '\" now', '\" nowhere', '\" nowiki', '\" npov', '\" nu', '\" nuclear', '\" number', '\" numbered', '\" numbering', '\" numbers', '\" numerous', '\" nyscholar', '\" o', '\" obama', '\" object', '\" objection', '\" objections', '\" objective', '\" objectively', '\" objectivity', '\" obnoxious', '\" obscene', '\" obscure', '\" observation', '\" observations', '\" obsolete', '\" obvious', '\" obviously', '\" occasionally', '\" occupation', '\" occupied', '\" occupy', '\" occurs', '\" oct', '\" october', '\" odd', '\" of', '\" off', '\" offended', '\" offending', '\" offense', '\" offensive', '\" official', '\" officially', '\" officialness', '\" often', '\" oh', '\" ohh', '\" oi', '\" oil', '\" ok', '\" okay', '\" okie', '\" old', '\" older', '\" oldest', '\" oliver', '\" olyeller', '\" omega', '\" omg', '\" on', '\" once', '\" one', '\" ones', '\" ongoing', '\" online', '\" only', '\" onto', '\" onwards', '\" ooh', '\" oooo', '\" ooops', '\" oops', '\" op', '\" open', '\" opening', '\" opera', '\" operating', '\" operation', '\" operational', '\" opinion', '\" opinions', '\" opponent', '\" opponents', '\" oppose', '\" opposed', '\" opposing', '\" opposition', '\" oprah', '\" optical', '\" option', '\" or', '\" oral', '\" orange', '\" order', '\" ordered', '\" orders', '\" ordinary', '\" oregon', '\" organic', '\" organisation', '\" organization', '\" organized', '\" oriental', '\" origin', '\" original', '\" originally', '\" originated', '\" origins', '\" orlady', '\" orphan', '\" orphaned', '\" orthodox', '\" orthodoxy', '\" oscar', '\" ostensibly', '\" other', '\" others', '\" otherwise', '\" otrs', '\" ottoman', '\" ought', '\" our', '\" out', '\" outdated', '\" outed', '\" outfielder', '\" outing', '\" outline', '\" outrage', '\" outrageous', '\" outright', '\" outside', '\" outsider', '\" outstanding', '\" over', '\" overall', '\" overly', '\" oversight', '\" overview', '\" overwhelming', '\" overwhelmingly', '\" owing', '\" own', '\" owned', '\" owner', '\" owners', '\" ownership', '\" owning', '\" owns', '\" oxford', '\" oy', '\" p', '\" pa', '\" pacific', '\" pact', '\" padding', '\" page', '\" pages', '\" paid', '\" pain', '\" painting', '\" pakis', '\" pakistan', '\" pakistani', '\" pal', '\" palestine', '\" palestinian', '\" palestinians', '\" palin', '\" pan', '\" paper', '\" papers', '\" paragraph', '\" paragraphs', '\" parallel', '\" parameter', '\" parameters', '\" paramilitary', '\" pardo', '\" pardon', '\" parent', '\" paris', '\" park', '\" parliament', '\" parody', '\" part', '\" partial', '\" partially', '\" particle', '\" particularly', '\" partisan', '\" parts', '\" party', '\" pass', '\" passage', '\" passed', '\" passive', '\" past', '\" patent', '\" pathetic', '\" patient', '\" patrick', '\" patriotic', '\" patrolled', '\" pattern', '\" paul', '\" pay', '\" pbs', '\" pc', '\" pd', '\" pdf', '\" peace', '\" peacekeeping', '\" peacock', '\" peak', '\" pearl', '\" pedophile', '\" pedophilia', '\" peer', '\" pen', '\" pending', '\" penis', '\" people', '\" peoples', '\" per', '\" perfect', '\" perfectly', '\" perhaps', '\" period', '\" permanent', '\" permission', '\" permissions', '\" perpetual', '\" persecution', '\" persian', '\" persians', '\" persistent', '\" persistently', '\" person', '\" personal', '\" personality', '\" personally', '\" persons', '\" perspective', '\" pet', '\" pete', '\" peter', '\" pets', '\" petty', '\" phase', '\" phil', '\" philip', '\" philosopher', '\" philosophical', '\" philosophy', '\" phnom', '\" phobia', '\" phoebe', '\" phoenix', '\" phone', '\" photo', '\" photographer', '\" photon', '\" photos', '\" phrase', '\" phrases', '\" physical', '\" physically', '\" piano', '\" pic', '\" pick', '\" picking', '\" picture', '\" pictures', '\" pie', '\" piece', '\" pig', '\" pile', '\" pillars', '\" pine', '\" ping', '\" pink', '\" pinocchio', '\" pipe', '\" piss', '\" pit', '\" pity', '\" place', '\" placement', '\" plagiarism', '\" plain', '\" plainlinks', '\" planet', '\" planned', '\" plans', '\" plant', '\" plato', '\" play', '\" playable', '\" played', '\" player', '\" players', '\" playing', '\" plays', '\" please', '\" pleasure', '\" pledge', '\" plot', '\" plural', '\" plus', '\" plymouth', '\" pm', '\" pocket', '\" point', '\" pointing', '\" pointless', '\" points', '\" poland', '\" pole', '\" poles', '\" police', '\" policies', '\" policing', '\" policy', '\" polish', '\" polite', '\" political', '\" politically', '\" politics', '\" poll', '\" polls', '\" pon', '\" pontic', '\" pool', '\" poor', '\" poorly', '\" pop', '\" pope', '\" popular', '\" popularity', '\" population', '\" populations', '\" pornographic', '\" port', '\" portal', '\" portion', '\" portuguese', '\" position', '\" positions', '\" positive', '\" positively', '\" possible', '\" possibly', '\" post', '\" posted', '\" poster', '\" posting', '\" potd', '\" potential', '\" potentially', '\" pound', '\" pov', '\" poverty', '\" power', '\" powerful', '\" powers', '\" pp', '\" pr', '\" practical', '\" practically', '\" practice', '\" prague', '\" pre', '\" precious', '\" precisely', '\" predicted', '\" preference', '\" preferred', '\" prejudice', '\" premature', '\" present', '\" presented', '\" president', '\" press', '\" pressure', '\" prestige', '\" presumably', '\" pretty', '\" prevalence', '\" preview', '\" previous', '\" previously', '\" price', '\" primary', '\" prime', '\" primitive', '\" prince', '\" princess', '\" principle', '\" principles', '\" prior', '\" prison', '\" privacy', '\" private', '\" privileges', '\" pro', '\" probable', '\" probably', '\" problem', '\" problematic', '\" problems', '\" procedure', '\" process', '\" processes', '\" prod', '\" produce', '\" produced', '\" producer', '\" producing', '\" product', '\" production', '\" products', '\" prof', '\" profanity', '\" professional', '\" professor', '\" program', '\" programming', '\" programs', '\" progress', '\" progressive', '\" project', '\" projects', '\" prometheus', '\" prominent', '\" prominently', '\" promises', '\" promo', '\" promote', '\" promoting', '\" promotion', '\" promotional', '\" pronounced', '\" pronunciation', '\" proof', '\" proofs', '\" propaganda', '\" proper', '\" properly', '\" prophet', '\" proponents', '\" proposal', '\" propose', '\" proposed', '\" proposition', '\" proprietary', '\" prosecution', '\" protect', '\" protected', '\" protecting', '\" protection', '\" protest', '\" protestant', '\" proto', '\" protocols', '\" proud', '\" prove', '\" proven', '\" proves', '\" provide', '\" provided', '\" provides', '\" providing', '\" province', '\" proving', '\" ps', '\" pseudo', '\" pseudoscience', '\" public', '\" publication', '\" publications', '\" publish', '\" published', '\" punishment', '\" punk', '\" puppet', '\" pure', '\" purely', '\" purple', '\" purported', '\" purpose', '\" push', '\" pushing', '\" pussy', '\" put', '\" putin', '\" putting', '\" pwn', '\" q', '\" quack', '\" qualification', '\" qualifications', '\" quality', '\" quantity', '\" quantum', '\" quasi', '\" quebec', '\" queen', '\" query', '\" question', '\" questionable', '\" questions', '\" quick', '\" quickly', '\" quit', '\" quite', '\" quotation', '\" quotations', '\" quote', '\" quoted', '\" quotes', '\" quoting', '\" qwyrxian', '\" r', '\" rabbi', '\" race', '\" races', '\" rachel', '\" racial', '\" racially', '\" racism', '\" racist', '\" radical', '\" radio', '\" ragnarok', '\" railway', '\" rain', '\" raised', '\" rajput', '\" rajus', '\" ramdasia', '\" rampant', '\" ran', '\" random', '\" randy', '\" range', '\" rank', '\" rankings', '\" rant', '\" rants', '\" rape', '\" rapid', '\" rapist', '\" rare', '\" rarely', '\" rate', '\" rated', '\" rather', '\" rating', '\" rational', '\" rationale', '\" rave', '\" raw', '\" ray', '\" rcc', '\" re', '\" reach', '\" reached', '\" reaction', '\" read', '\" readers', '\" reading', '\" reads', '\" ready', '\" real', '\" reality', '\" really', '\" reason', '\" reasonable', '\" reasoning', '\" reasons', '\" rebel', '\" rebirth', '\" reblock', '\" received', '\" recent', '\" recentism', '\" recently', '\" reception', '\" reckless', '\" recognised', '\" recognition', '\" recognize', '\" recognized', '\" record', '\" recorded', '\" recurring', '\" red', '\" redirect', '\" redirected', '\" redirecting', '\" redirects', '\" reduce', '\" redundant', '\" ref', '\" refactor', '\" refer', '\" reference', '\" referencebot', '\" referenced', '\" references', '\" referencing', '\" referred', '\" referring', '\" refers', '\" refimprove', '\" reflections', '\" reflist', '\" refugee', '\" refusal', '\" refuse', '\" refused', '\" refusing', '\" refutation', '\" regarding', '\" regardless', '\" regards', '\" regimes', '\" region', '\" regional', '\" regions', '\" registered', '\" registries', '\" regular', '\" regulatory', '\" reich', '\" reinstated', '\" rejected', '\" rejection', '\" related', '\" relation', '\" relations', '\" relationship', '\" relationships', '\" relative', '\" relatively', '\" release', '\" released', '\" relevance', '\" relevant', '\" reliability', '\" reliable', '\" reliably', '\" religion', '\" religions', '\" religious', '\" relisted', '\" reloaded', '\" rely', '\" remain', '\" remaining', '\" remains', '\" remark', '\" remedies', '\" remember', '\" reminder', '\" reminds', '\" removal', '\" removals', '\" remove', '\" removed', '\" removing', '\" renaissance', '\" rename', '\" renowned', '\" repair', '\" repeated', '\" repeatedly', '\" replace', '\" replaceable', '\" replaced', '\" replacement', '\" replacing', '\" replied', '\" reply', '\" report', '\" reported', '\" reportedly', '\" reporting', '\" reports', '\" represent', '\" representative', '\" representing', '\" represents', '\" republic', '\" republican', '\" republicans', '\" reputable', '\" reputation', '\" request', '\" requested', '\" requesting', '\" requests', '\" required', '\" requirement', '\" requires', '\" research', '\" researchers', '\" resentment', '\" reset', '\" residential', '\" resistance', '\" resolution', '\" resolve', '\" resolved', '\" resonance', '\" resource', '\" respect', '\" respectable', '\" respected', '\" respond', '\" responded', '\" responding', '\" response', '\" responses', '\" responsible', '\" rest', '\" restore', '\" restored', '\" restoring', '\" result', '\" results', '\" resurrection', '\" retail', '\" retaliation', '\" retarded', '\" retire', '\" retired', '\" retirement', '\" retort', '\" retracted', '\" retrieved', '\" return', '\" returned', '\" returning', '\" returns', '\" rev', '\" revealed', '\" reveals', '\" revelation', '\" revelations', '\" revenge', '\" reverse', '\" reversion', '\" revert', '\" reverted', '\" reverting', '\" reverts', '\" review', '\" reviewed', '\" reviewer', '\" reviewing', '\" reviews', '\" revision', '\" revisions', '\" revolution', '\" revolutionary', '\" rewrite', '\" rfa', '\" rfc', '\" rfd', '\" rhetoric', '\" rhobite', '\" rhymes', '\" rich', '\" richard', '\" rick', '\" ricky', '\" ridiculous', '\" right', '\" rightly', '\" rights', '\" ring', '\" risk', '\" ritual', '\" rivalry', '\" river', '\" rm', '\" road', '\" rob', '\" robert', '\" robertson', '\" robin', '\" robot', '\" rock', '\" rocket', '\" rofl', '\" roger', '\" rogue', '\" role', '\" roll', '\" rollback', '\" rolling', '\" roma', '\" roman', '\" romance', '\" romani', '\" romanian', '\" romanization', '\" ron', '\" ronald', '\" roosevelt', '\" roots', '\" rose', '\" ross', '\" roster', '\" rotten', '\" rough', '\" roughly', '\" round', '\" route', '\" routine', '\" row', '\" rowspan', '\" roy', '\" royal', '\" rubbish', '\" rude', '\" rugby', '\" ruhrfisch', '\" ruin', '\" rule', '\" rulers', '\" rules', '\" ruling', '\" rum', '\" rumination', '\" rumor', '\" rumors', '\" run', '\" running', '\" runs', '\" rural', '\" rush', '\" russell', '\" russia', '\" russian', '\" russification', '\" rv', '\" rvv', '\" ryan', '\" ryanpostlethwaite', '\" s', '\" sa', '\" sacred', '\" sacrifice', '\" sad', '\" sadly', '\" safe', '\" said', '\" sailor', '\" saint', '\" saints', '\" sales', '\" salted', '\" sam', '\" sambo', '\" same', '\" samoa', '\" san', '\" sanchez', '\" sanctioned', '\" sanctions', '\" sandbox', '\" sandy', '\" sanskrit', '\" santa', '\" sante', '\" sarcasm', '\" sarek', '\" satan', '\" satanism', '\" save', '\" saved', '\" saving', '\" saw', '\" say', '\" saying', '\" says', '\" scam', '\" scandal', '\" scare', '\" scene', '\" schedule', '\" scholar', '\" scholarly', '\" scholars', '\" scholarship', '\" school', '\" schools', '\" sci', '\" science', '\" scientific', '\" scientifically', '\" scientist', '\" scientists', '\" scientology', '\" scope', '\" scored', '\" scotland', '\" scott', '\" scottish', '\" screamo', '\" screw', '\" script', '\" sd', '\" sea', '\" seal', '\" sean', '\" search', '\" season', '\" seasonal', '\" seattle', '\" seb', '\" second', '\" secondary', '\" seconded', '\" secondly', '\" secret', '\" secrets', '\" section', '\" sections', '\" secular', '\" security', '\" see', '\" seeing', '\" seek', '\" seeking', '\" seem', '\" seemed', '\" seems', '\" seen', '\" sega', '\" segment', '\" select', '\" selected', '\" selective', '\" self', '\" semantic', '\" semi', '\" senate', '\" send', '\" senior', '\" sense', '\" sensible', '\" sent', '\" sentence', '\" sentences', '\" separate', '\" separated', '\" separation', '\" september', '\" serb', '\" serbia', '\" serbian', '\" serbo', '\" serbs', '\" series', '\" serious', '\" seriously', '\" serve', '\" server', '\" serves', '\" service', '\" serving', '\" sessions', '\" set', '\" setting', '\" settings', '\" settled', '\" settlement', '\" seven', '\" seventy', '\" several', '\" severe', '\" sex', '\" sexist', '\" sexual', '\" sexuality', '\" shall', '\" shame', '\" shannon', '\" shape', '\" share', '\" shared', '\" shark', '\" shawn', '\" she', '\" sherlock', '\" shift', '\" shiloh', '\" shin', '\" ship', '\" ships', '\" shit', '\" shock', '\" shooting', '\" shopping', '\" short', '\" shorter', '\" shortly', '\" should', '\" shouldn', '\" shout', '\" show', '\" showed', '\" showing', '\" shown', '\" shows', '\" shrug', '\" shuffle', '\" shut', '\" si', '\" siamese', '\" sick', '\" side', '\" sidebar', '\" sides', '\" sidestepping', '\" sigh', '\" sign', '\" signature', '\" signatures', '\" signed', '\" significant', '\" significantly', '\" signing', '\" signpost', '\" signs', '\" silence', '\" silent', '\" silly', '\" silver', '\" similar', '\" similarly', '\" simon', '\" simple', '\" simplified', '\" simplify', '\" simply', '\" simpson', '\" sin', '\" since', '\" sincerely', '\" sindhu', '\" singh', '\" single', '\" singles', '\" sinn', '\" sinner', '\" sir', '\" sirs', '\" sister', '\" site', '\" sites', '\" sitting', '\" situation', '\" sitush', '\" six', '\" sixteen', '\" size', '\" skeptic', '\" skeptical', '\" skepticism', '\" skin', '\" skip', '\" sky', '\" slander', '\" slang', '\" slap', '\" slavery', '\" slaves', '\" slavic', '\" sleazy', '\" sleep', '\" slight', '\" slightly', '\" slimvirgin', '\" slip', '\" slow', '\" small', '\" smart', '\" smash', '\" smell', '\" smile', '\" smith', '\" smoking', '\" snakes', '\" sneaky', '\" snow', '\" snowded', '\" snuff', '\" so', '\" soap', '\" soapbox', '\" soapboxing', '\" soccer', '\" social', '\" socialism', '\" socialist', '\" socially', '\" societal', '\" society', '\" sock', '\" sockpuppet', '\" sockpuppetry', '\" sockpuppets', '\" socks', '\" sodomite', '\" sodomy', '\" soft', '\" software', '\" soil', '\" solar', '\" sold', '\" soldier', '\" soldiers', '\" sole', '\" solid', '\" solo', '\" solution', '\" solved', '\" some', '\" somebody', '\" somehow', '\" someone', '\" something', '\" sometime', '\" sometimes', '\" somewhat', '\" somewhere', '\" son', '\" song', '\" songs', '\" sonic', '\" soon', '\" sorry', '\" sort', '\" sorting', '\" sound', '\" sounded', '\" sounds', '\" soundtrack', '\" source', '\" sourced', '\" sources', '\" sourcing', '\" south', '\" southern', '\" sovereign', '\" soviet', '\" space', '\" spade', '\" spain', '\" spam', '\" spamming', '\" spammy', '\" span', '\" spanish', '\" speak', '\" speaking', '\" speaks', '\" special', '\" specialists', '\" specialized', '\" species', '\" specific', '\" specifically', '\" speculation', '\" speculative', '\" speech', '\" speed', '\" speedily', '\" speedy', '\" spelled', '\" spelling', '\" spi', '\" spider', '\" spin', '\" spinoff', '\" spirit', '\" spiritual', '\" split', '\" splitting', '\" spoiler', '\" spoken', '\" sponsored', '\" sport', '\" sports', '\" spread', '\" spreading', '\" spring', '\" square', '\" squash', '\" squeakbox', '\" sri', '\" ss', '\" st', '\" stabbed', '\" stable', '\" stage', '\" stalin', '\" stalinist', '\" stalker', '\" stalking', '\" stan', '\" stance', '\" stand', '\" standard', '\" standards', '\" standing', '\" stands', '\" star', '\" starbucks', '\" starfire', '\" starring', '\" stars', '\" start', '\" started', '\" starting', '\" starts', '\" stat', '\" state', '\" stated', '\" statement', '\" statements', '\" states', '\" stating', '\" station', '\" statistical', '\" statistically', '\" statistics', '\" stats', '\" status', '\" stay', '\" staying', '\" stealing', '\" stealth', '\" stefan', '\" step', '\" stephen', '\" steve', '\" steven', '\" stick', '\" sticking', '\" sticks', '\" sticky', '\" still', '\" stolen', '\" stone', '\" stood', '\" stop', '\" stopping', '\" stories', '\" storm', '\" story', '\" straight', '\" strange', '\" strangely', '\" strategy', '\" straw', '\" strawman', '\" streamlining', '\" stress', '\" stricken', '\" strict', '\" strikes', '\" string', '\" strong', '\" stronger', '\" strongly', '\" struck', '\" structure', '\" stub', '\" student', '\" students', '\" studies', '\" studio', '\" study', '\" stuff', '\" stuffed', '\" stupid', '\" style', '\" styles', '\" sub', '\" subheading', '\" subject', '\" subsection', '\" subsequent', '\" subsequently', '\" substantial', '\" substitute', '\" suburban', '\" success', '\" successful', '\" such', '\" suck', '\" sucks', '\" sudden', '\" suddenly', '\" sue', '\" sufficient', '\" suffix', '\" sugar', '\" suggest', '\" suggested', '\" suggesting', '\" suggestion', '\" suggestions', '\" suggests', '\" suicidal', '\" suicide', '\" suitable', '\" summarize', '\" summary', '\" summer', '\" sun', '\" sunset', '\" super', '\" superior', '\" superman', '\" supernatural', '\" superpowers', '\" support', '\" supported', '\" supporter', '\" supporters', '\" supporting', '\" supports', '\" supposed', '\" supposedly', '\" supremacist', '\" supreme', '\" sure', '\" surely', '\" surname', '\" surnames', '\" surprised', '\" surrealism', '\" survey', '\" susan', '\" suspect', '\" suspected', '\" suspicious', '\" swastika', '\" swat', '\" swedish', '\" sweet', '\" switch', '\" symbol', '\" symbolic', '\" symbolism', '\" symbols', '\" symptoms', '\" syndrome', '\" syntax', '\" synthesis', '\" synthetic', '\" syria', '\" syriac', '\" system', '\" systematic', '\" systemic', '\" t', '\" ta', '\" tab', '\" table', '\" tables', '\" tabloid', '\" tag', '\" tagged', '\" tagging', '\" tags', '\" taiwan', '\" tajik', '\" take', '\" taken', '\" takes', '\" taking', '\" talk', '\" talkback', '\" talkheader', '\" talking', '\" talkpage', '\" tall', '\" tamil', '\" target', '\" tax', '\" tba', '\" tea', '\" teach', '\" teacher', '\" teaching', '\" teahouse', '\" team', '\" teams', '\" teaser', '\" tech', '\" technical', '\" technically', '\" techno', '\" technology', '\" tedious', '\" teen', '\" teenage', '\" teh', '\" telephone', '\" television', '\" tell', '\" telling', '\" tells', '\" temperature', '\" template', '\" templates', '\" temple', '\" temporary', '\" ten', '\" tend', '\" tendentious', '\" tends', '\" tens', '\" term', '\" terminology', '\" terms', '\" terra', '\" terrible', '\" territory', '\" terror', '\" terrorism', '\" terrorist', '\" terrorists', '\" tesla', '\" test', '\" testimony', '\" testing', '\" tests', '\" texas', '\" text', '\" tfa', '\" tfd', '\" th', '\" than', '\" thank', '\" thanks', '\" thankyou', '\" thanx', '\" that', '\" thats', '\" the', '\" theater', '\" theatre', '\" their', '\" theistic', '\" them', '\" theme', '\" themes', '\" themselves', '\" then', '\" theology', '\" theoretical', '\" theoretically', '\" theories', '\" theory', '\" theos', '\" therapeutic', '\" there', '\" therefore', '\" these', '\" they', '\" thing', '\" things', '\" think', '\" thinking', '\" thinks', '\" thinly', '\" third', '\" this', '\" thomas', '\" thor', '\" those', '\" thou', '\" though', '\" thought', '\" thoughts', '\" thousands', '\" thread', '\" threads', '\" threat', '\" threatened', '\" threatening', '\" threats', '\" three', '\" thriller', '\" through', '\" throughout', '\" throw', '\" throwing', '\" thus', '\" thx', '\" tidy', '\" tie', '\" till', '\" tim', '\" time', '\" timeline', '\" times', '\" tip', '\" tippx', '\" tips', '\" tire', '\" tired', '\" titanic', '\" title', '\" titles', '\" tlx', '\" tm', '\" to', '\" toccolours', '\" today', '\" together', '\" tom', '\" tomorrow', '\" tone', '\" tony', '\" too', '\" took', '\" tool', '\" tools', '\" top', '\" topic', '\" topics', '\" total', '\" totally', '\" tough', '\" tour', '\" tournament', '\" towards', '\" town', '\" toxic', '\" toxins', '\" tr', '\" track', '\" trading', '\" tradition', '\" traditional', '\" tragedy', '\" train', '\" training', '\" traitor', '\" transcendental', '\" transfer', '\" transitional', '\" translates', '\" translating', '\" translation', '\" translations', '\" transphobia', '\" treason', '\" treasure', '\" treat', '\" treatment', '\" trial', '\" tribe', '\" tribute', '\" trick', '\" tried', '\" trinity', '\" triple', '\" triplet', '\" trivia', '\" trivial', '\" troll', '\" trolling', '\" trolls', '\" tropical', '\" trouble', '\" truce', '\" true', '\" truly', '\" trust', '\" trusted', '\" truth', '\" try', '\" trying', '\" tsk', '\" tune', '\" turk', '\" turkey', '\" turkic', '\" turkish', '\" turks', '\" turn', '\" turned', '\" turning', '\" turns', '\" tv', '\" twelve', '\" twice', '\" twilight', '\" twinkle', '\" two', '\" type', '\" types', '\" typical', '\" typically', '\" typo', '\" u', '\" uber', '\" ufc', '\" ufo', '\" ugh', '\" ugly', '\" uh', '\" uk', '\" ukraine', '\" ukrainian', '\" ulster', '\" ultimate', '\" ultimately', '\" ultra', '\" um', '\" umbrella', '\" umm', '\" ummm', '\" un', '\" unacceptable', '\" unambiguous', '\" unbalanced', '\" unbelievable', '\" unbiased', '\" unblock', '\" unblocked', '\" unblocking', '\" unborn', '\" uncited', '\" uncivil', '\" uncle', '\" unclear', '\" uncomfortable', '\" unconditional', '\" unconstructive', '\" uncontroversial', '\" under', '\" underground', '\" underneath', '\" understand', '\" understanding', '\" understood', '\" undid', '\" undo', '\" undos', '\" undue', '\" uneducated', '\" unencyclopedic', '\" unethical', '\" unexplained', '\" unfair', '\" unfortunately', '\" unfounded', '\" unhelpful', '\" unincorporated', '\" uninvolved', '\" union', '\" unique', '\" unit', '\" united', '\" unity', '\" universal', '\" universally', '\" universe', '\" university', '\" unjustified', '\" unknown', '\" unlawful', '\" unless', '\" unlike', '\" unlikely', '\" unnecessarily', '\" unnecessary', '\" unneeded', '\" unnotable', '\" unofficial', '\" unprotect', '\" unprotection', '\" unratified', '\" unreferenced', '\" unrelated', '\" unreliable', '\" unremarkable', '\" unresolved', '\" unsigned', '\" unsolved', '\" unsourced', '\" unspecified', '\" unsuccessful', '\" unsuitable', '\" unsupported', '\" until', '\" untitled', '\" untrue', '\" unusual', '\" unverifiable', '\" unverified', '\" unwanted', '\" unwarranted', '\" unwilling', '\" up', '\" upcoming', '\" update', '\" updated', '\" updates', '\" updating', '\" upheld', '\" upload', '\" upon', '\" upright', '\" urartu', '\" urban', '\" urgent', '\" url', '\" us', '\" usa', '\" usage', '\" use', '\" used', '\" useful', '\" useless', '\" user', '\" userbox', '\" userboxes', '\" username', '\" userpage', '\" userright', '\" users', '\" userspace', '\" uses', '\" using', '\" usrd', '\" uss', '\" usual', '\" usually', '\" utc', '\" utter', '\" v', '\" vacation', '\" vague', '\" vaishnavite', '\" valid', '\" valign', '\" value', '\" values', '\" van', '\" vancouver', '\" vandal', '\" vandalising', '\" vandalism', '\" vandalize', '\" vandalized', '\" vandalizing', '\" vandals', '\" vanish', '\" vanity', '\" variant', '\" variety', '\" various', '\" vast', '\" vatican', '\" ve', '\" vedic', '\" veganism', '\" veiled', '\" verifiability', '\" verifiable', '\" verification', '\" verified', '\" verify', '\" verse', '\" version', '\" versions', '\" versus', '\" vertical', '\" very', '\" vicious', '\" victim', '\" victims', '\" victoria', '\" victorian', '\" victory', '\" video', '\" videos', '\" vienna', '\" view', '\" viewpoint', '\" viewpoints', '\" views', '\" vile', '\" villian', '\" vincent', '\" violates', '\" violating', '\" violation', '\" violence', '\" violent', '\" virgin', '\" virginia', '\" viriditas', '\" virtual', '\" virtually', '\" virus', '\" vista', '\" visual', '\" visually', '\" voice', '\" voices', '\" volume', '\" volunteer', '\" volunteers', '\" von', '\" vote', '\" voted', '\" voter', '\" voters', '\" votes', '\" voting', '\" vs', '\" w', '\" wait', '\" wake', '\" wales', '\" walk', '\" walking', '\" wall', '\" wallis', '\" walmart', '\" walter', '\" wanker', '\" want', '\" wanted', '\" wants', '\" war', '\" ward', '\" warm', '\" warn', '\" warned', '\" warning', '\" warnings', '\" warring', '\" wars', '\" was', '\" washington', '\" wasn', '\" waste', '\" watch', '\" watched', '\" watching', '\" watchlist', '\" water', '\" waterboarding', '\" way', '\" ways', '\" we', '\" weak', '\" wealth', '\" weapon', '\" weasel', '\" web', '\" website', '\" websites', '\" wee', '\" weight', '\" weird', '\" welcome', '\" welcoming', '\" well', '\" wells', '\" welsh', '\" went', '\" were', '\" weren', '\" west', '\" western', '\" wet', '\" what', '\" whatever', '\" whats', '\" when', '\" whenever', '\" where', '\" whereas', '\" whereby', '\" wherefore', '\" whether', '\" which', '\" while', '\" whilst', '\" white', '\" whitewashed', '\" whitewashing', '\" who', '\" whoa', '\" whoever', '\" whole', '\" whom', '\" whoops', '\" whose', '\" why', '\" widely', '\" widespread', '\" width', '\" wiki', '\" wikibreak', '\" wikicup', '\" wikified', '\" wikify', '\" wikilawyering', '\" wikilove', '\" wikimedia', '\" wikipedia', '\" wikipedian', '\" wikipedians', '\" wikiproject', '\" wikiquette', '\" wikis', '\" wikistalking', '\" wikitable', '\" wikiwomen', '\" wiktionary', '\" wild', '\" will', '\" william', '\" williams', '\" willing', '\" wilson', '\" win', '\" wind', '\" windows', '\" wink', '\" winners', '\" winning', '\" winningest', '\" winter', '\" wish', '\" wishes', '\" witch', '\" with', '\" within', '\" without', '\" wizard', '\" wm', '\" wolf', '\" woman', '\" women', '\" won', '\" wonder', '\" woo', '\" wooden', '\" wool', '\" word', '\" wording', '\" words', '\" work', '\" worked', '\" working', '\" works', '\" world', '\" worlds', '\" worldwide', '\" worse', '\" worst', '\" worth', '\" worthless', '\" worthy', '\" would', '\" wouldn', '\" wow', '\" wp', '\" wpf1', '\" wqa', '\" wrestling', '\" write', '\" writers', '\" writing', '\" written', '\" wrong', '\" wrote', '\" wt', '\" wtf', '\" wwe', '\" www', '\" x', '\" xenophobia', '\" y', '\" ya', '\" yadav', '\" yah', '\" yamla', '\" yay', '\" ye', '\" yea', '\" yeah', '\" year', '\" years', '\" yellow', '\" yep', '\" yes', '\" yesterday', '\" yet', '\" yields', '\" yikes', '\" yo', '\" yogurt', '\" you', '\" young', '\" younger', '\" your', '\" yours', '\" yourself', '\" youtube', '\" yugoslav', '\" yup', '\" z', '\" zen', '\" zero', '\" zervas', '\" zhang', '\" zionist', '\" zomg', '\" zuck', '\" {', '\" |', '\" }', '\" ~', '\" ©', '\" ·', '\" я', '\" \\u200e', '\" –', '\" –jimmy', '\" —', '\" —i', '\" —preceding', '\" —the', '\" —this', '\" ‘', '\" “', '\" ←', '\" →', '\" 😉', '#', '# !', '# \"', '# #', '# $', '# %', \"# '\", '# (', '# )', '# ,', '# .', '# /', '# 0', '# 000', '# 000000', '# 084080', '# 1', '# 10', '# 1015380438', '# 1015392289', '# 10c', '# 11', '# 12', '# 13', '# 14', '# 15', '# 16', '# 17', '# 19', '# 2', '# 20', '# 24', '# 25', '# 28', '# 3', '# 31', '# 4', '# 42', '# 44', '# 5', '# 50a6c2', '# 57', '# 6', '# 64', '# 7', '# 73', '# 8', '# 9', '# :', '# ;', '# >', '# @', '# ^', '# _', '# a', '# a7', '# about', '# add', '# additional', '# allegations', '# are', '# article', '# articles', '# at', '# babbaq', '# bfb1a3', '# block', '# blocked', '# c', '# c0c090', '# categories', '# category', '# cedff2', '# cef2e0', '# citations', '# cite', '# consensus', '# creating', '# criticism', '# cultural', '# current', '# dates', '# ddcef2', '# definition', '# dff2f3', '# dir', '# discretionary', '# discussion', '# disruptive', '# do', '# edit', '# editing', '# eee', '# external', '# f5faff', '# f5fffa', '# f8eaba', '# fair', '# fceb92', '# fdffe7', '# february', '# fff', '# ffffff', '# file', '# final', '# first', '# for', '# full', '# general', '# gossip', '# help', '# history', '# hl', '# how', '# huma', '# i', '# if', '# ifeq', '# image', '# images', '# in', '# inappropriate', '# infobox', '# irsentience', '# is', '# john', '# june', '# lead', '# legal', '# length', '# link', '# linking', '# links', '# list', '# ll', '# mass', '# merge', '# merger', '# military', '# misuse', '# more', '# move', '# multiple', '# name', '# names', '# naming', '# national', '# new', '# no', '# non', '# not', '# notability', '# npov', '# of', '# off', '# on', '# or', '# origin', '# original', '# other', '# otrs', '# own', '# page', '# participants', '# people', '# personal', '# photo', '# please', '# plot', '# poll', '# pov', '# primary', '# privacy', '# proposal', '# proposed', '# q', '# question', '# questionable', '# r1', '# re', '# recent', '# redirect', '# references', '# removal', '# removed', '# request', '# requested', '# requesting', '# requests', '# revert', '# review', '# rfc', '# s', '# saltlakecity', '# section', '# self', '# should', '# singles', '# source', '# sources', '# stop', '# suggested', '# switch', '# t', '# talk', '# template', '# thanks', '# the', '# this', '# time', '# title', '# top', '# undue', '# united', '# use', '# user', '# using', '# v', '# vandalism', '# what', '# when', '# why', '# wikihounding', '# wikimedia', '# wikipedia', '# wp', '# wrong', '# your', '$', '$ !', '$ \"', '$ #', '$ $', '$ %', '$ &', '$ )', '$ ,', '$ .', '$ 0', '$ 1', '$ 10', '$ 100', '$ 1000', '$ 13', '$ 14', '$ 15', '$ 150', '$ 160', '$ 19', '$ 2', '$ 20', '$ 200', '$ 21', '$ 25', '$ 250', '$ 2500', '$ 3', '$ 30', '$ 300', '$ 3000', '$ 350', '$ 4', '$ 40', '$ 400', '$ 4000', '$ 5', '$ 50', '$ 500', '$ 5000', '$ 578', '$ 6', '$ 60', '$ 7', '$ 75', '$ 8', '$ 800', '$ 900', '$ @', '$ e', '$ ha', '$ hit', '$ hole', '$ odin', '$ pяingεrαgђ', '$ s', '$ t', '$ to', '$ y', '%', '% !', '% \"', '% #', '% $', '% %', '% &', \"% '\", '% (', '% )', '% *', '% +', '% ,', '% -', '% .', '% /', '% 1', '% 10', '% 100', '% 2', '% 20', '% 201', '% 20and', '% 20apokryltaros', '% 20at', '% 20caste', '% 20gerson', '% 20in', '% 20japanese', '% 20of', '% 20on', '% 20publishes', '% 20research', '% 20singh', '% 20surgeon', '% 20the', '% 20therapy', '% 20uses', '% 20y', '% 22', '% 22nepal', '% 2520guide', '% 2526a', '% 25freehuman', '% 26', '% 26hl', '% 27', '% 27s', '% 27t', '% 282nd', '% 28technical', '% 28united', '% 29', '% 2b', '% 2c', '% 2f', '% 2fwww', '% 30', '% 3a', '% 3aadministrators', '% 3d', '% 3d1', '% 3den', '% 3f', '% 3fq', '% 5d', '% 7e', '% 80', '% 81', '% 82', '% 84', '% 87', '% 92', '% 95', '% 97', '% 98dumb', '% 99', '% 9f', '% ;', '% =', '% ?', '% ^', '% a', '% a2', '% a3', '% a7', '% a9', '% about', '% accurate', '% an', '% and', '% anti', '% approval', '% are', '% as', '% asian', '% at', '% b0', '% b2', '% b3', '% b4', '% b5', '% b8', '% b9', '% ba', '% bd', '% be', '% because', '% black', '% but', '% by', '% c2', '% c3', '% c4', '% c5', '% certain', '% chance', '% christian', '% clear', '% complete', '% confidence', '% correct', '% d0', '% d1', '% dominated', '% e2', '% e6', '% efficiency', '% factual', '% false', '% figure', '% for', '% free', '% from', '% grade', '% guaranteed', '% had', '% have', '% i', '% if', '% in', '% indian', '% interest', '% is', '% jewish', '% k', '% likely', '% more', '% muslim', '% non', '% not', '% now', '% number', '% of', '% on', '% or', '% percent', '% positive', '% power', '% probability', '% reduction', '% relevant', '% reliable', '% right', '% share', '% stake', '% style', '% success', '% support', '% sure', '% that', '% the', '% to', '% true', '% under', '% use', '% valid', '% water', '% were', '% which', '% white', '% who', '% wide', '% with', '% would', '% wrong', '% |', '&', '& \"', '& #', '& %', '& &', \"& '\", '& (', '& *', '& ,', '& -', '& .', '& /', '& 1', '& 14', '& 2', '& 3', '& 4', '& 5', '& 6', '& [', '& ^', '& _', '& a', '& action', '& add', '& added', '& administrators', '& again', '& all', '& also', '& am', '& american', '& an', '& and', '& another', '& aq', '& aqi', '& aql', '& are', '& article', '& as', '& assess', '& b', '& bass', '& bav', '& bih', '& biw', '& btng', '& business', '& c', '& cad', '& cat', '& category', '& catid', '& cd', '& ce', '& cid', '& citations', '& client', '& co', '& company', '& conquer', '& contribs', '& controversy', '& country', '& crew', '& crips', '& ct', '& cultural', '& culture', '& curid', '& current', '& d', '& dat', '& date', '& defid', '& delete', '& diff', '& discussion', '& dq', '& dragons', '& e', '& economic', '& economics', '& edit', '& editing', '& ei', '& elizium23', '& espv', '& etc', '& every', '& f', '& feature', '& feedname', '& film', '& fire', '& focus', '& follow', '& for', '& fowler', '& fp', '& francis', '& friendid', '& friends', '& g', '& george', '& get', '& gl', '& god', '& gs', '& guidelines', '& gws', '& h', '& had', '& happy', '& harald', '& has', '& have', '& hazelnuts', '& he', '& his', '& history', '& hl', '& how', '& http', '& hudson', '& i', '& id', '& ie', '& if', '& in', '& index', '& intentionally', '& international', '& ion', '& ireland', '& irish', '& is', '& it', '& itemid', '& its', '& j', '& jane', '& jesus', '& jewish', '& john', '& johnson', '& just', '& k', '& kashmir', '& kate', '& keywords', '& l', '& leave', '& let', '& limit', '& list', '& live', '& ll', '& lon', '& lost', '& lpg', '& lr', '& m', '& made', '& many', '& men', '& meta', '& miihost', '& more', '& mr', '& my', '& n', '& new', '& no', '& noble', '& not', '& now', '& num', '& o', '& oe', '& of', '& offset', '& oi', '& oldid', '& one', '& oq', '& order', '& other', '& others', '& ots', '& over', '& p', '& page', '& partners', '& paste', '& pasted', '& paul', '& pbx', '& pg', '& pid', '& prev', '& printsec', '& q', '& qid', '& r', '& ramdasia', '& redir', '& redirect', '& redlink', '& regards', '& reliable', '& remove', '& removed', '& report', '& resnum', '& richard', '& right', '& rls', '& rlz', '& roll', '& row', '& s', '& sa', '& safe', '& science', '& sclient', '& scott', '& search', '& section', '& sectionid', '& see', '& should', '& sid', '& sig', '& since', '& sjid', '& so', '& some', '& sons', '& source', '& sourced', '& sourceid', '& south', '& spn', '& sql', '& sr', '& st', '& start', '& state', '& supp', '& surat', '& t', '& tab', '& tag', '& take', '& talk', '& target', '& task', '& tbm', '& tbo', '& tbs', '& technology', '& teller', '& texas', '& thanks', '& that', '& the', '& their', '& then', '& there', '& therefore', '& they', '& this', '& thread', '& time', '& title', '& to', '& try', '& type', '& u', '& um', '& useful', '& user', '& v', '& ved', '& view', '& vikramsingh', '& vision', '& w', '& was', '& we', '& web', '& what', '& when', '& whitney', '& why', '& wikipedia', '& will', '& windows', '& women', '& world', '& wp', '& x', '& y', '& year', '& you', '& your', '& z', \"'\", \"' !\", '\\' \"', \"' #\", \"' &\", \"' '\", \"' (\", \"' )\", \"' *\", \"' +\", \"' ,\", \"' -\", \"' .\", \"' /\", \"' 0\", \"' 00\", \"' 004\", \"' 01\", \"' 03\", \"' 04\", \"' 05\", \"' 06\", \"' 07\", \"' 08\", \"' 09\", \"' 096\", \"' 1\", \"' 10\", \"' 100\", \"' 11\", \"' 12\", \"' 13\", \"' 14\", \"' 16\", \"' 18\", \"' 2\", \"' 2010\", \"' 21\", \"' 22\", \"' 23\", \"' 24\", \"' 3\", \"' 4\", \"' 40s\", \"' 41\", \"' 45\", \"' 48\", \"' 5\", \"' 50s\", \"' 57\", \"' 6\", \"' 60s\", \"' 65\", \"' 7\", \"' 70\", \"' 70s\", \"' 8\", \"' 80s\", \"' 87\", \"' 89\", \"' 9\", \"' 90\", \"' 90s\", \"' 92\", \"' 93\", \"' 94\", \"' 95\", \"' 96\", \"' 97\", \"' 98\", \"' 99\", \"' :\", \"' ;\", \"' =\", \"' >\", \"' ?\", \"' @\", \"' [\", \"' \\\\\", \"' ]\", \"' _\", \"' `\", \"' a\", \"' abad\", \"' abolish\", \"' about\", \"' above\", \"' abrera\", \"' abuse\", \"' academic\", \"' according\", \"' account\", \"' accounts\", \"' accusation\", \"' accuse\", \"' act\", \"' action\", \"' actions\", \"' actual\", \"' actually\", \"' ad\", \"' add\", \"' address\", \"' admin\", \"' administration\", \"' advice\", \"' affairs\", \"' african\", \"' after\", \"' again\", \"' against\", \"' ah\", \"' ai\", \"' ain\", \"' air\", \"' al\", \"' album\", \"' albums\", \"' all\", \"' allah\", \"' allegations\", \"' alleged\", \"' almost\", \"' also\", \"' altering\", \"' always\", \"' am\", \"' america\", \"' american\", \"' an\", \"' analysis\", \"' ancestry\", \"' ancient\", \"' and\", \"' anointed\", \"' anonymous\", \"' another\", \"' answer\", \"' anti\", \"' any\", \"' anyone\", \"' anyway\", \"' anywhere\", \"' approach\", \"' appropriate\", \"' approval\", \"' april\", \"' are\", \"' aretz\", \"' argument\", \"' arguments\", \"' around\", \"' art\", \"' article\", \"' articles\", \"' aryan\", \"' as\", \"' ask\", \"' aspect\", \"' ass\", \"' assault\", \"' association\", \"' at\", \"' ath\", \"' attack\", \"' attacked\", \"' attention\", \"' authentic\", \"' author\", \"' authority\", \"' authors\", \"' auto\", \"' average\", \"' award\", \"' azur\", \"' b\", \"' baby\", \"' back\", \"' bacon\", \"' bad\", \"' balls\", \"' ban\", \"' bare\", \"' based\", \"' battle\", \"' be\", \"' because\", \"' before\", \"' behavior\", \"' behaviour\", \"' behind\", \"' being\", \"' belief\", \"' beliefs\", \"' below\", \"' best\", \"' better\", \"' between\", \"' beyond\", \"' bias\", \"' biased\", \"' bible\", \"' big\", \"' biggest\", \"' birth\", \"' bitch\", \"' black\", \"' blah\", \"' blatant\", \"' blis\", \"' block\", \"' blocked\", \"' blog\", \"' board\", \"' bold\", \"' book\", \"' books\", \"' both\", \"' bots\", \"' bout\", \"' box\", \"' brand\", \"' brian\", \"' brien\", \"' british\", \"' building\", \"' bullshit\", \"' business\", \"' but\", \"' button\", \"' by\", \"' c\", \"' came\", \"' campaign\", \"' can\", \"' cannot\", \"' career\", \"' case\", \"' category\", \"' cause\", \"' causes\", \"' cha\", \"' change\", \"' changes\", \"' changing\", \"' character\", \"' chatspy\", \"' cheers\", \"' child\", \"' children\", \"' chris\", \"' christian\", \"' church\", \"' citation\", \"' cite\", \"' cited\", \"' claim\", \"' claims\", \"' class\", \"' classification\", \"' clean\", \"' cleaning\", \"' clear\", \"' clearly\", \"' clock\", \"' club\", \"' college\", \"' come\", \"' comes\", \"' comfort\", \"' comment\", \"' comments\", \"' committee\", \"' common\", \"' communist\", \"' community\", \"' complete\", \"' completely\", \"' concept\", \"' concerns\", \"' conclusions\", \"' conduct\", \"' conference\", \"' conflict\", \"' connell\", \"' connor\", \"' consensus\", \"' conspiracy\", \"' content\", \"' contribs\", \"' contribution\", \"' contributions\", \"' control\", \"' controversial\", \"' controversy\", \"' cool\", \"' copyrights\", \"' corporate\", \"' correct\", \"' corrected\", \"' cos\", \"' could\", \"' countries\", \"' country\", \"' court\", \"' cover\", \"' crap\", \"' crat\", \"' crazy\", \"' creator\", \"' credentials\", \"' critical\", \"' criticism\", \"' criticisms\", \"' critics\", \"' culture\", \"' current\", \"' cut\", \"' d\", \"' da\", \"' dar\", \"' dark\", \"' date\", \"' dates\", \"' day\", \"' days\", \"' de\", \"' dea\", \"' deal\", \"' death\", \"' debate\", \"' defended\", \"' definition\", \"' delete\", \"' deleted\", \"' deletion\", \"' democracy\", \"' denial\", \"' description\", \"' descriptions\", \"' desire\", \"' despite\", \"' development\", \"' dh\", \"' dick\", \"' did\", \"' diff\", \"' different\", \"' direct\", \"' directly\", \"' discussion\", \"' discussions\", \"' displeasure\", \"' dispute\", \"' disputed\", \"' disruptive\", \"' divorce\", \"' do\", \"' dodo\", \"' does\", \"' doesn\", \"' dominion\", \"' don\", \"' done\", \"' donnell\", \"' donoghue\", \"' donovan\", \"' donuts\", \"' dor\", \"' double\", \"' doul\", \"' down\", \"' dr\", \"' drive\", \"' dubious\", \"' due\", \"' dumb\", \"' during\", \"' e\", \"' early\", \"' ed\", \"' edit\", \"' editing\", \"' editor\", \"' editors\", \"' edits\", \"' ee\", \"' eh\", \"' either\", \"' elaborate\", \"' ello\", \"' em\", \"' emergency\", \"' empire\", \"' en\", \"' encyclopedia\", \"' end\", \"' english\", \"' entries\", \"' entry\", \"' er\", \"' erly\", \"' error\", \"' ers\", \"' es\", \"' est\", \"' established\", \"' etat\", \"' etc\", \"' eternity\", \"' ethnic\", \"' etre\", \"' eu\", \"' european\", \"' even\", \"' every\", \"' everybody\", \"' everyone\", \"' evidence\", \"' evil\", \"' evolution\", \"' exactly\", \"' existence\", \"' expectations\", \"' experience\", \"' experiment\", \"' expert\", \"' explaining\", \"' external\", \"' ez\", \"' f\", \"' fact\", \"' factory\", \"' facts\", \"' factual\", \"' fair\", \"' falcon\", \"' false\", \"' family\", \"' famous\", \"' fan\", \"' fans\", \"' faq\", \"' far\", \"' father\", \"' fault\", \"' favorite\", \"' fenian\", \"' field\", \"' fight\", \"' fighting\", \"' file\", \"' final\", \"' first\", \"' five\", \"' flat\", \"' followed\", \"' food\", \"' for\", \"' foreign\", \"' fortyfive\", \"' free\", \"' friends\", \"' fringe\", \"' from\", \"' front\", \"' frozen\", \"' fuck\", \"' full\", \"' funny\", \"' further\", \"' g\", \"' game\", \"' gang\", \"' ganging\", \"' gay\", \"' gender\", \"' general\", \"' generation\", \"' generic\", \"' genetic\", \"' german\", \"' get\", \"' gets\", \"' getting\", \"' gino\", \"' give\", \"' go\", \"' god\", \"' going\", \"' golden\", \"' good\", \"' got\", \"' government\", \"' governors\", \"' grand\", \"' great\", \"' green\", \"' group\", \"' guide\", \"' guilt\", \"' h\", \"' ha\", \"' habitude\", \"' had\", \"' haddad\", \"' hand\", \"' happened\", \"' hara\", \"' harassing\", \"' harassment\", \"' hard\", \"' hare\", \"' has\", \"' hate\", \"' hatred\", \"' have\", \"' having\", \"' he\", \"' head\", \"' heads\", \"' heart\", \"' heavy\", \"' hell\", \"' hello\", \"' help\", \"' here\", \"' hey\", \"' hi\", \"' high\", \"' him\", \"' hindu\", \"' his\", \"' hispanic\", \"' historical\", \"' history\", \"' hits\", \"' hoax\", \"' holla\", \"' holy\", \"' home\", \"' homosexuality\", \"' hope\", \"' hot\", \"' house\", \"' how\", \"' however\", \"' http\", \"' human\", \"' i\", \"' id\", \"' ideas\", \"' if\", \"' ignore\", \"' il\", \"' im\", \"' image\", \"' impact\", \"' implies\", \"' important\", \"' improvements\", \"' improving\", \"' in\", \"' incident\", \"' included\", \"' includes\", \"' inconvenient\", \"' independent\", \"' indicates\", \"' individual\", \"' industrial\", \"' info\", \"' information\", \"' informer\", \"' ing\", \"' input\", \"' insider\", \"' instead\", \"' intelligence\", \"' intent\", \"' interesting\", \"' internal\", \"' international\", \"' interpretation\", \"' interpretations\", \"' intervention\", \"' into\", \"' intransigence\", \"' intransigent\", \"' introduction\", \"' invasion\", \"' invention\", \"' ip\", \"' irish\", \"' iro\", \"' is\", \"' ish\", \"' islam\", \"' islamic\", \"' isn\", \"' israel\", \"' issue\", \"' issues\", \"' it\", \"' italic\", \"' ite\", \"' its\", \"' itself\", \"' ivoire\", \"' jew\", \"' jewish\", \"' jews\", \"' jim\", \"' job\", \"' joke\", \"' jokes\", \"' judea\", \"' just\", \"' k\", \"' keep\", \"' key\", \"' kid\", \"' killing\", \"' kim\", \"' kind\", \"' king\", \"' kingdom\", \"' know\", \"' knowledge\", \"' known\", \"' ks\", \"' l\", \"' la\", \"' lack\", \"' lady\", \"' land\", \"' language\", \"' last\", \"' later\", \"' latest\", \"' law\", \"' ld\", \"' lead\", \"' leaders\", \"' learn\", \"' learning\", \"' leave\", \"' lebanese\", \"' legacy\", \"' legal\", \"' let\", \"' liberal\", \"' life\", \"' like\", \"' limited\", \"' link\", \"' links\", \"' list\", \"' lists\", \"' literature\", \"' little\", \"' live\", \"' lives\", \"' ll\", \"' location\", \"' logic\", \"' logo\", \"' london\", \"' long\", \"' look\", \"' lord\", \"' loser\", \"' lost\", \"' loughlin\", \"' love\", \"' low\", \"' m\", \"' ma\", \"' macedonians\", \"' magazine\", \"' magic\", \"' main\", \"' mainstream\", \"' major\", \"' make\", \"' makes\", \"' making\", \"' malley\", \"' man\", \"' many\", \"' marketing\", \"' marriage\", \"' mass\", \"' massacre\", \"' material\", \"' may\", \"' me\", \"' mean\", \"' meaning\", \"' means\", \"' meat\", \"' media\", \"' meeting\", \"' members\", \"' men\", \"' mental\", \"' mention\", \"' mentioned\", \"' merely\", \"' message\", \"' michael\", \"' middle\", \"' might\", \"' mikka\", \"' minor\", \"' missing\", \"' mixed\", \"' modern\", \"' momma\", \"' mon\", \"' more\", \"' most\", \"' mostly\", \"' mother\", \"' moved\", \"' movement\", \"' mr\", \"' ms\", \"' msg\", \"' mundo\", \"' murder\", \"' murdered\", \"' music\", \"' musical\", \"' must\", \"' my\", \"' myself\", \"' n\", \"' nai\", \"' name\", \"' named\", \"' names\", \"' nation\", \"' national\", \"' native\", \"' natural\", \"' nazi\", \"' neal\", \"' need\", \"' needs\", \"' neill\", \"' net\", \"' neutral\", \"' never\", \"' new\", \"' news\", \"' next\", \"' nice\", \"' nigger\", \"' nite\", \"' nix\", \"' no\", \"' non\", \"' none\", \"' nonsense\", \"' nor\", \"' normal\", \"' not\", \"' notability\", \"' notable\", \"' note\", \"' nothing\", \"' notice\", \"' noticeboard\", \"' now\", \"' npov\", \"' nt\", \"' nuff\", \"' number\", \"' o\", \"' objectively\", \"' obvious\", \"' of\", \"' off\", \"' office\", \"' official\", \"' oh\", \"' ok\", \"' okay\", \"' ol\", \"' olajuwon\", \"' old\", \"' on\", \"' one\", \"' only\", \"' open\", \"' opinion\", \"' opinions\", \"' oppose\", \"' option\", \"' or\", \"' original\", \"' originated\", \"' other\", \"' others\", \"' our\", \"' out\", \"' outside\", \"' over\", \"' own\", \"' ownership\", \"' p\", \"' page\", \"' pages\", \"' parent\", \"' part\", \"' party\", \"' past\", \"' pedia\", \"' pedian\", \"' peer\", \"' penultimate\", \"' people\", \"' per\", \"' perception\", \"' perhaps\", \"' person\", \"' personal\", \"' petty\", \"' philosopher\", \"' philosophy\", \"' photo\", \"' physical\", \"' picture\", \"' piece\", \"' pink\", \"' play\", \"' please\", \"' point\", \"' points\", \"' police\", \"' policy\", \"' polite\", \"' political\", \"' poll\", \"' poor\", \"' pop\", \"' poppaballoon\", \"' popular\", \"' pose\", \"' position\", \"' positions\", \"' possible\", \"' post\", \"' posts\", \"' pov\", \"' power\", \"' pre\", \"' present\", \"' president\", \"' previous\", \"' prime\", \"' prison\", \"' private\", \"' pro\", \"' problem\", \"' problematic\", \"' professional\", \"' progressive\", \"' promotional\", \"' proof\", \"' propaganda\", \"' proper\", \"' proposal\", \"' protest\", \"' prove\", \"' ps\", \"' pseudo\", \"' public\", \"' published\", \"' punishment\", \"' purpose\", \"' put\", \"' quality\", \"' question\", \"' questionnable\", \"' questions\", \"' quote\", \"' r\", \"' race\", \"' racial\", \"' racism\", \"' racist\", \"' railway\", \"' ran\", \"' random\", \"' ranking\", \"' rant\", \"' rather\", \"' re\", \"' reach\", \"' read\", \"' reading\", \"' real\", \"' really\", \"' reason\", \"' record\", \"' red\", \"' reference\", \"' references\", \"' refers\", \"' regarding\", \"' regular\", \"' reilly\", \"' reliable\", \"' religion\", \"' religious\", \"' relying\", \"' remarks\", \"' removed\", \"' replied\", \"' republic\", \"' reputable\", \"' request\", \"' research\", \"' respective\", \"' response\", \"' retired\", \"' retirement\", \"' return\", \"' revenge\", \"' revert\", \"' review\", \"' reviews\", \"' richard\", \"' right\", \"' rights\", \"' riley\", \"' robert\", \"' rock\", \"' roll\", \"' rolls\", \"' roses\", \"' round\", \"' rule\", \"' rules\", \"' run\", \"' running\", \"' rv\", \"' s\", \"' safety\", \"' said\", \"' sake\", \"' save\", \"' saved\", \"' saw\", \"' say\", \"' saying\", \"' says\", \"' school\", \"' science\", \"' scientific\", \"' scum\", \"' se\", \"' sea\", \"' search\", \"' season\", \"' secret\", \"' section\", \"' sections\", \"' security\", \"' see\", \"' seem\", \"' seemed\", \"' seems\", \"' selected\", \"' self\", \"' semi\", \"' sentence\", \"' series\", \"' set\", \"' seven\", \"' several\", \"' she\", \"' should\", \"' show\", \"' shows\", \"' side\", \"' sign\", \"' significant\", \"' simple\", \"' since\", \"' single\", \"' site\", \"' sites\", \"' slam\", \"' smart\", \"' smear\", \"' so\", \"' soccer\", \"' social\", \"' socialism\", \"' socialist\", \"' society\", \"' sock\", \"' sockpuppet\", \"' sockpuppets\", \"' soft\", \"' some\", \"' someone\", \"' something\", \"' son\", \"' song\", \"' sound\", \"' source\", \"' sources\", \"' southern\", \"' souza\", \"' spam\", \"' speak\", \"' speaketh\", \"' special\", \"' speech\", \"' speedy\", \"' spielchequers\", \"' spin\", \"' standard\", \"' star\", \"' state\", \"' statement\", \"' statements\", \"' states\", \"' status\", \"' steve\", \"' stick\", \"' still\", \"' stop\", \"' story\", \"' strange\", \"' stream\", \"' street\", \"' stuff\", \"' stupid\", \"' style\", \"' sub\", \"' subject\", \"' subjects\", \"' subsequent\", \"' subterfuge\", \"' success\", \"' such\", \"' suggestion\", \"' sullivan\", \"' summary\", \"' sup\", \"' super\", \"' support\", \"' supporters\", \"' surely\", \"' symbol\", \"' system\", \"' t\", \"' tab\", \"' tag\", \"' tagged\", \"' tags\", \"' take\", \"' talk\", \"' talkcontribs\", \"' talkstalk\", \"' talktome\", \"' talk⇒\", \"' target\", \"' tastes\", \"' teachings\", \"' team\", \"' tell\", \"' template\", \"' term\", \"' terrorist\", \"' text\", \"' than\", \"' thank\", \"' thanks\", \"' that\", \"' the\", \"' thefortyfive\", \"' their\", \"' them\", \"' then\", \"' theories\", \"' theory\", \"' there\", \"' therefore\", \"' these\", \"' they\", \"' thing\", \"' think\", \"' thinks\", \"' third\", \"' this\", \"' thor\", \"' those\", \"' though\", \"' thoughts\", \"' threat\", \"' three\", \"' through\", \"' throughout\", \"' til\", \"' till\", \"' time\", \"' tis\", \"' title\", \"' to\", \"' today\", \"' tom\", \"' too\", \"' toole\", \"' top\", \"' traditional\", \"' translation\", \"' tribe\", \"' triplestop\", \"' trivia\", \"' troll\", \"' trolling\", \"' true\", \"' truth\", \"' ts\", \"' tselem\", \"' turned\", \"' two\", \"' type\", \"' typical\", \"' typo\", \"' t♦c\", \"' u\", \"' un\", \"' under\", \"' understanding\", \"' undo\", \"' une\", \"' unfree\", \"' united\", \"' units\", \"' unless\", \"' unsigned\", \"' until\", \"' up\", \"' us\", \"' usa\", \"' use\", \"' used\", \"' user\", \"' userspace\", \"' using\", \"' usual\", \"' usually\", \"' v\", \"' value\", \"' vandalised\", \"' vandalism\"]\n"
     ]
    }
   ],
   "source": [
    "print(vec.get_feature_names()[:8000])"
   ]
  },
  {
   "cell_type": "code",
   "execution_count": 22,
   "metadata": {},
   "outputs": [],
   "source": [
    "# combine\n",
    "ytrain = np.zeros((train_term_doc.shape[0]))\n",
    "ytest = np.ones((test_term_doc.shape[0]))\n",
    "# ydat = np.hstack((ytrain, ytest))\n",
    "\n",
    "# xdat = vstack([train_term_doc, test_term_doc], format='csr') # разреженная матрица"
   ]
  },
  {
   "cell_type": "code",
   "execution_count": 23,
   "metadata": {},
   "outputs": [
    {
     "name": "stdout",
     "output_type": "stream",
     "text": [
      "(312735, 426005)\n"
     ]
    }
   ],
   "source": [
    "print(xdat.shape)"
   ]
  },
  {
   "cell_type": "code",
   "execution_count": 31,
   "metadata": {},
   "outputs": [],
   "source": [
    "nfolds = 10\n",
    "seed = 42\n",
    "\n",
    "# stratified split\n",
    "skf = StratifiedKFold(n_splits=nfolds, random_state=seed, shuffle=True)\n",
    "\n",
    "score_vec = np.zeros((train_term_doc.shape[0]))"
   ]
  },
  {
   "cell_type": "code",
   "execution_count": 33,
   "metadata": {},
   "outputs": [
    {
     "name": "stdout",
     "output_type": "stream",
     "text": [
      "[    20     24     34 ... 159557 159560 159561]\n",
      "[     0      4     12 ... 159564 159568 159570]\n",
      "[    23     31     39 ... 159494 159523 159542]\n",
      "[    22     48     54 ... 159514 159551 159563]\n",
      "[     3      8     14 ... 159549 159554 159555]\n",
      "[     1      7     17 ... 159556 159558 159565]\n",
      "[     6     21     29 ... 159518 159543 159567]\n",
      "[     2      9     11 ... 159544 159550 159569]\n",
      "[    10     16     18 ... 159538 159562 159566]\n",
      "[     5     15     26 ... 159546 159548 159553]\n"
     ]
    }
   ],
   "source": [
    "for (f, (train_index, test_index)) in enumerate(skf.split(train_term_doc, ytrain)):\n",
    "    print(test_index)\n",
    "    score_vec[test_index] = test_index"
   ]
  },
  {
   "cell_type": "code",
   "execution_count": 34,
   "metadata": {},
   "outputs": [
    {
     "data": {
      "text/plain": [
       "array([0.00000e+00, 1.00000e+00, 2.00000e+00, ..., 1.59568e+05,\n",
       "       1.59569e+05, 1.59570e+05])"
      ]
     },
     "execution_count": 34,
     "metadata": {},
     "output_type": "execute_result"
    }
   ],
   "source": [
    "score_vec"
   ]
  },
  {
   "cell_type": "code",
   "execution_count": 35,
   "metadata": {},
   "outputs": [
    {
     "name": "stdout",
     "output_type": "stream",
     "text": [
      "0\n"
     ]
    },
    {
     "name": "stderr",
     "output_type": "stream",
     "text": [
      "/Users/daniil/anaconda3/envs/Losh_env/lib/python3.7/site-packages/sklearn/linear_model/logistic.py:432: FutureWarning: Default solver will be changed to 'lbfgs' in 0.22. Specify a solver to silence this warning.\n",
      "  FutureWarning)\n"
     ]
    },
    {
     "name": "stdout",
     "output_type": "stream",
     "text": [
      "1\n",
      "2\n",
      "3\n",
      "4\n",
      "5\n",
      "6\n",
      "7\n",
      "8\n",
      "9\n"
     ]
    }
   ],
   "source": [
    "for (f, (train_index, test_index)) in enumerate(skf.split(train_term_doc, ytrain)):\n",
    "    print(f)\n",
    "    x_train = vstack([train_term_doc[train_index], test_term_doc], format='csr') # разреженная матрица\n",
    "    y_train = np.hstack((ytrain[train_index], ytest))\n",
    "#     print(x_train.shape, y_train.shape)\n",
    "    \n",
    "    x_pred = train_term_doc[test_index]\n",
    "#     print(x_pred.shape)   \n",
    "\n",
    "    clf = LogisticRegression()\n",
    "    clf.fit(x_train, y_train)\n",
    "    \n",
    "    score_vec[test_index] = clf.predict_proba(x_pred)[:,1]\n",
    "    "
   ]
  },
  {
   "cell_type": "code",
   "execution_count": 41,
   "metadata": {},
   "outputs": [
    {
     "data": {
      "text/plain": [
       "array([0.08667125, 0.01250018, 0.19284555, ..., 0.40650422, 0.13427055,\n",
       "       0.26575731])"
      ]
     },
     "execution_count": 41,
     "metadata": {},
     "output_type": "execute_result"
    }
   ],
   "source": [
    "score_vec"
   ]
  },
  {
   "cell_type": "code",
   "execution_count": 74,
   "metadata": {},
   "outputs": [
    {
     "data": {
      "text/plain": [
       "<zip at 0x144cfdb88>"
      ]
     },
     "execution_count": 74,
     "metadata": {},
     "output_type": "execute_result"
    }
   ],
   "source": [
    "d = zip(score_vec, range(len(score_vec)))\n",
    "d"
   ]
  },
  {
   "cell_type": "code",
   "execution_count": 75,
   "metadata": {},
   "outputs": [],
   "source": [
    "d = list(d)"
   ]
  },
  {
   "cell_type": "code",
   "execution_count": 77,
   "metadata": {},
   "outputs": [
    {
     "data": {
      "text/plain": [
       "[(0.9999999888313106, 138308),\n",
       " (0.9999999870276752, 5899),\n",
       " (0.999999758708364, 21006),\n",
       " (0.9999996949289884, 26302),\n",
       " (0.9999981539808481, 144777),\n",
       " (0.9999979601712197, 152734),\n",
       " (0.9999977730251918, 102168),\n",
       " (0.9999963139872077, 139068),\n",
       " (0.9999937870209032, 76077),\n",
       " (0.9999937093953253, 94613),\n",
       " (0.9999930948890768, 142050),\n",
       " (0.9999918668016571, 132921),\n",
       " (0.9999914607345819, 150297),\n",
       " (0.9999909607320587, 47867),\n",
       " (0.9999908417557195, 67626),\n",
       " (0.9999884709637566, 45228),\n",
       " (0.9999876207262928, 135859),\n",
       " (0.999984701066136, 131779),\n",
       " (0.9999835181334166, 47806),\n",
       " (0.9999819871120508, 17429),\n",
       " (0.9999776471296767, 157945),\n",
       " (0.9999756181645966, 12681),\n",
       " (0.999975524119356, 39344),\n",
       " (0.9999726446491043, 12537),\n",
       " (0.9999719396647894, 89507),\n",
       " (0.9999669727721817, 137634),\n",
       " (0.999961230587763, 112575),\n",
       " (0.9999605504859563, 97057),\n",
       " (0.9999588159733436, 86072),\n",
       " (0.9999567067964075, 124542),\n",
       " (0.9999542282258533, 76007),\n",
       " (0.9999537389752262, 25313),\n",
       " (0.9999490469135941, 82964),\n",
       " (0.9999483948131045, 24171),\n",
       " (0.9999410399383274, 145433),\n",
       " (0.9999403640675328, 138800),\n",
       " (0.9999389679634219, 13686),\n",
       " (0.9999333709047189, 139145),\n",
       " (0.9999305044496444, 19097),\n",
       " (0.9999272577545373, 123252),\n",
       " (0.9999260856934087, 140904),\n",
       " (0.9999224438385698, 80924),\n",
       " (0.9999128705917155, 146376),\n",
       " (0.999910592547304, 62937),\n",
       " (0.9999099598267741, 144761),\n",
       " (0.9999075091077987, 112437),\n",
       " (0.9999008717239218, 94245),\n",
       " (0.9998915745138743, 104281),\n",
       " (0.9998896376334168, 138745),\n",
       " (0.9998853385269649, 124841),\n",
       " (0.9998840854051743, 113456),\n",
       " (0.9998826568750506, 117505),\n",
       " (0.9998810138343976, 36227),\n",
       " (0.9998781298327541, 61655),\n",
       " (0.9998680891972205, 11796),\n",
       " (0.999862773074329, 37790),\n",
       " (0.9998603883940396, 129181),\n",
       " (0.9998569990872808, 79405),\n",
       " (0.9998557600230495, 116325),\n",
       " (0.999855392543352, 83252),\n",
       " (0.9998427935969265, 49323),\n",
       " (0.9998421692655551, 129964),\n",
       " (0.9998366171319909, 154266),\n",
       " (0.9998294032351939, 29250),\n",
       " (0.9998189707896534, 155415),\n",
       " (0.9998158992110345, 118012),\n",
       " (0.9998059067811228, 53971),\n",
       " (0.999805096894834, 39929),\n",
       " (0.9997916604538912, 154990),\n",
       " (0.9997913727346857, 95738),\n",
       " (0.9997904147703749, 64356),\n",
       " (0.9997855401780027, 23894),\n",
       " (0.9997615518111758, 41885),\n",
       " (0.9997544318180164, 151978),\n",
       " (0.9997522011845303, 8586),\n",
       " (0.9997479579931833, 137129),\n",
       " (0.9997478244107801, 45695),\n",
       " (0.9997444476714159, 76698),\n",
       " (0.9997365914734415, 74776),\n",
       " (0.9997340071784033, 126525),\n",
       " (0.9997338614286427, 157511),\n",
       " (0.999731860093312, 148701),\n",
       " (0.9997231787099385, 134435),\n",
       " (0.9996972514252325, 135896),\n",
       " (0.9996857395190034, 84853),\n",
       " (0.9996789634213694, 95718),\n",
       " (0.9996756317690899, 126653),\n",
       " (0.9996700472198974, 103393),\n",
       " (0.9996582753205694, 104958),\n",
       " (0.9996551513016749, 134338),\n",
       " (0.9996440917185363, 49757),\n",
       " (0.9996346421240838, 84413),\n",
       " (0.9996273635566925, 110920),\n",
       " (0.9996267679558419, 45391),\n",
       " (0.9996187777416571, 83566),\n",
       " (0.9996128181607, 109633),\n",
       " (0.9995980930264156, 17176),\n",
       " (0.9995765505230082, 142437),\n",
       " (0.9995583057492741, 29413),\n",
       " (0.9995307291154162, 92915),\n",
       " (0.9995111109463408, 31311),\n",
       " (0.9995067545873552, 11076),\n",
       " (0.9995043591315164, 140926),\n",
       " (0.9995037369791443, 90033),\n",
       " (0.9994808079876508, 155403),\n",
       " (0.9994712147911784, 150762),\n",
       " (0.9994635418270471, 92348),\n",
       " (0.9994625379730636, 135124),\n",
       " (0.999462239845593, 51923),\n",
       " (0.9994619092981774, 76543),\n",
       " (0.9994608456834742, 88655),\n",
       " (0.9994529855077633, 21314),\n",
       " (0.9994519604830006, 146511),\n",
       " (0.999448832565483, 150191),\n",
       " (0.9994305376268184, 17371),\n",
       " (0.9994199817864298, 108238),\n",
       " (0.9994105575357001, 72946),\n",
       " (0.9994065336933424, 117327),\n",
       " (0.9993962624469986, 103194),\n",
       " (0.9993948759734387, 83496),\n",
       " (0.999389407686118, 101024),\n",
       " (0.999387300151677, 53181),\n",
       " (0.9993702470400802, 105576),\n",
       " (0.9993625107151, 7933),\n",
       " (0.9993620689880804, 129442),\n",
       " (0.9993601833179354, 48800),\n",
       " (0.9993499073916663, 143988),\n",
       " (0.9993385267727996, 40055),\n",
       " (0.9993029595706442, 70726),\n",
       " (0.9992880646800507, 45088),\n",
       " (0.9992787025515136, 113751),\n",
       " (0.9992679724113641, 137559),\n",
       " (0.9992562526690939, 124449),\n",
       " (0.9992480263689147, 83327),\n",
       " (0.9992335863535837, 137027),\n",
       " (0.9992162478893107, 147102),\n",
       " (0.9992156399154937, 127687),\n",
       " (0.9992128764697636, 102574),\n",
       " (0.9992073350180949, 93312),\n",
       " (0.9991996744852659, 71485),\n",
       " (0.9991619607198134, 50580),\n",
       " (0.9991441190910422, 22729),\n",
       " (0.9991329740464209, 55948),\n",
       " (0.9991261814204754, 72108),\n",
       " (0.9991009596322005, 87309),\n",
       " (0.9990830837179783, 53911),\n",
       " (0.9990711125907403, 87204),\n",
       " (0.9990399641582934, 16377),\n",
       " (0.9990106572652732, 116435),\n",
       " (0.9989999422354546, 158279),\n",
       " (0.998998262766874, 109563),\n",
       " (0.9989971214587479, 91823),\n",
       " (0.9989937900503711, 56454),\n",
       " (0.9989883074326151, 85443),\n",
       " (0.9989791553747712, 7407),\n",
       " (0.9989755570858595, 78412),\n",
       " (0.9989736973156353, 10227),\n",
       " (0.9989616870937907, 63527),\n",
       " (0.9989444027056092, 3230),\n",
       " (0.9989213922874538, 37717),\n",
       " (0.9989210885742199, 126159),\n",
       " (0.9989176093731243, 22585),\n",
       " (0.9989103789458447, 23483),\n",
       " (0.9989101658193786, 14103),\n",
       " (0.9989017859571052, 131371),\n",
       " (0.9988937473960028, 47648),\n",
       " (0.9988878548403437, 87751),\n",
       " (0.9988748986658316, 109139),\n",
       " (0.9988545663026269, 43265),\n",
       " (0.9988507770835833, 28236),\n",
       " (0.9988438666915417, 70838),\n",
       " (0.9988400820508987, 62226),\n",
       " (0.9988218431981999, 123137),\n",
       " (0.9988110982502408, 7980),\n",
       " (0.9987916286377797, 127486),\n",
       " (0.9987871862081464, 284),\n",
       " (0.9987770089680337, 130252),\n",
       " (0.998772825623075, 139159),\n",
       " (0.9987672639095737, 75949),\n",
       " (0.9987648679906476, 89473),\n",
       " (0.9987345252580092, 30340),\n",
       " (0.9987073276498273, 142968),\n",
       " (0.9987017706191198, 136865),\n",
       " (0.9987001852939954, 138806),\n",
       " (0.9986897906432074, 142230),\n",
       " (0.9986868035388754, 155176),\n",
       " (0.9986747352981638, 32401),\n",
       " (0.9986623491051603, 13616),\n",
       " (0.9986619093398161, 105759),\n",
       " (0.9986583163067241, 123237),\n",
       " (0.9986560433872483, 4648),\n",
       " (0.9986459122947344, 142680),\n",
       " (0.9985683855139971, 151085),\n",
       " (0.9985594537794876, 151024),\n",
       " (0.9985555444367415, 63722),\n",
       " (0.9985549000587142, 10671),\n",
       " (0.9985501774281529, 1861),\n",
       " (0.9985500430258132, 150523),\n",
       " (0.9985255489714147, 149845),\n",
       " (0.9984945251723696, 137263),\n",
       " (0.99849133436783, 154370),\n",
       " (0.9984730735467968, 38673),\n",
       " (0.9984662536574495, 146011),\n",
       " (0.9984642460604461, 67206),\n",
       " (0.998451173298224, 51676),\n",
       " (0.9984451690244286, 35646),\n",
       " (0.9984393609842653, 158866),\n",
       " (0.9983937185705402, 119424),\n",
       " (0.9983883551389906, 58717),\n",
       " (0.9983467035386362, 71233),\n",
       " (0.9983246433745767, 142321),\n",
       " (0.9983079355365632, 144901),\n",
       " (0.9982972163985225, 79391),\n",
       " (0.9982889683529999, 104848),\n",
       " (0.9982813928222685, 70392),\n",
       " (0.9982438193219888, 134334),\n",
       " (0.9982277716584388, 153670),\n",
       " (0.9982091353924482, 8152),\n",
       " (0.998202640428623, 155557),\n",
       " (0.998187896259796, 146178),\n",
       " (0.9981716562620556, 2629),\n",
       " (0.9981714088229922, 111538),\n",
       " (0.9980947961427984, 147180),\n",
       " (0.9980775532370603, 5477),\n",
       " (0.9980662586041144, 143142),\n",
       " (0.9980566810321234, 30919),\n",
       " (0.9980370814242058, 108092),\n",
       " (0.99801399324595, 155645),\n",
       " (0.9979898735288598, 88080),\n",
       " (0.9979770668927196, 14370),\n",
       " (0.9979730137274784, 73345),\n",
       " (0.9979529230570058, 42019),\n",
       " (0.9979528752057782, 31650),\n",
       " (0.9979458721429203, 97774),\n",
       " (0.9979450154794034, 131013),\n",
       " (0.9979417502854329, 101294),\n",
       " (0.9979310774298138, 99437),\n",
       " (0.9979170358536965, 24131),\n",
       " (0.9979026301423731, 55945),\n",
       " (0.9979013845428725, 1261),\n",
       " (0.9978937308694585, 13379),\n",
       " (0.9978693194022247, 116030),\n",
       " (0.9978623575807376, 68969),\n",
       " (0.9978498057460309, 15791),\n",
       " (0.9978480109370568, 101982),\n",
       " (0.9977996108271886, 124273),\n",
       " (0.9977134451148882, 119472),\n",
       " (0.9977126059264573, 146274),\n",
       " (0.9976804811982397, 125198),\n",
       " (0.9976760099276183, 29421),\n",
       " (0.9976602912257667, 34772),\n",
       " (0.9976143862062857, 141721),\n",
       " (0.997603565149704, 92717),\n",
       " (0.99760278042853, 83522),\n",
       " (0.9975973550996708, 14899),\n",
       " (0.9975923224376643, 17510),\n",
       " (0.9975868542374831, 119671),\n",
       " (0.9975803776766546, 95311),\n",
       " (0.9975524494392188, 137871),\n",
       " (0.99753186645692, 34584),\n",
       " (0.997521938974913, 100048),\n",
       " (0.9974813923551514, 41959),\n",
       " (0.9974739230405729, 137569),\n",
       " (0.997472538029666, 53641),\n",
       " (0.9974646657047166, 60481),\n",
       " (0.9974115662459513, 92914),\n",
       " (0.9974038415135327, 56616),\n",
       " (0.9974020191590495, 66932),\n",
       " (0.9973876064162156, 82858),\n",
       " (0.9973859745875051, 10019),\n",
       " (0.9973749558373143, 50922),\n",
       " (0.9973672047941142, 97075),\n",
       " (0.9973570452843045, 77968),\n",
       " (0.9973363596825829, 4819),\n",
       " (0.9973027500853135, 141626),\n",
       " (0.9972721545070893, 88894),\n",
       " (0.9972631405481873, 49026),\n",
       " (0.9972613292204605, 50585),\n",
       " (0.9972554171547905, 114382),\n",
       " (0.9972166892971932, 136387),\n",
       " (0.9972165126823317, 127348),\n",
       " (0.9971724818971262, 157906),\n",
       " (0.9971521205983784, 153174),\n",
       " (0.9971499987655568, 18575),\n",
       " (0.9971360092421657, 51924),\n",
       " (0.9971030852428023, 157387),\n",
       " (0.9970735596131054, 29689),\n",
       " (0.9970538660848121, 157118),\n",
       " (0.9970410940975133, 149423),\n",
       " (0.9970354402654069, 44923),\n",
       " (0.9969992469041743, 45972),\n",
       " (0.9969985241864363, 131044),\n",
       " (0.9969759099152847, 101125),\n",
       " (0.9969662245678151, 47192),\n",
       " (0.9969025677049372, 1192),\n",
       " (0.9968934195061188, 137639),\n",
       " (0.9968586985808743, 106736),\n",
       " (0.9968548453426413, 106612),\n",
       " (0.9967714585591602, 81805),\n",
       " (0.996765052966624, 59670),\n",
       " (0.9967152985675108, 114950),\n",
       " (0.9966779274236326, 8458),\n",
       " (0.9966621859750264, 139496),\n",
       " (0.9966516396117799, 88072),\n",
       " (0.9966360241001646, 85242),\n",
       " (0.9966345514581478, 37278),\n",
       " (0.9966345113815843, 49013),\n",
       " (0.996623546704295, 156888),\n",
       " (0.9966020781305909, 93337),\n",
       " (0.9965403532861276, 24455),\n",
       " (0.9965293786978854, 121430),\n",
       " (0.9964789984229641, 108271),\n",
       " (0.996473547399029, 101873),\n",
       " (0.996424334423051, 64146),\n",
       " (0.9964212470102818, 134777),\n",
       " (0.9964191045832173, 147061),\n",
       " (0.9963861179698863, 59068),\n",
       " (0.9963635802333385, 51008),\n",
       " (0.9963445542556747, 60728),\n",
       " (0.9963146119903639, 84550),\n",
       " (0.9963047249369927, 41315),\n",
       " (0.9963007096493607, 120935),\n",
       " (0.9962776516952778, 80482),\n",
       " (0.9962772853072479, 107066),\n",
       " (0.9962650833663699, 115959),\n",
       " (0.9962543949649799, 132544),\n",
       " (0.9962184945675241, 134112),\n",
       " (0.9962112041831729, 110146),\n",
       " (0.9961764701305361, 59047),\n",
       " (0.9961482538517511, 116772),\n",
       " (0.9961435947838219, 73966),\n",
       " (0.9961319475155708, 74407),\n",
       " (0.9961088458419014, 4075),\n",
       " (0.9961024100429957, 17409),\n",
       " (0.9959924483383402, 80492),\n",
       " (0.9959871199607384, 158097),\n",
       " (0.9959608457415452, 55893),\n",
       " (0.9959567575800942, 103687),\n",
       " (0.9959476107872623, 113680),\n",
       " (0.9959165285620473, 121171),\n",
       " (0.9958949870667794, 45572),\n",
       " (0.9958837032311271, 128278),\n",
       " (0.9958826696231006, 95304),\n",
       " (0.9958449432990748, 136987),\n",
       " (0.9958431667116215, 122335),\n",
       " (0.9958412765140534, 7021),\n",
       " (0.9957988811866616, 156378),\n",
       " (0.9957767473821489, 119402),\n",
       " (0.9957681238532514, 117843),\n",
       " (0.9957426954834482, 133068),\n",
       " (0.9957384968855936, 147568),\n",
       " (0.9957333082950306, 92238),\n",
       " (0.9957178658508232, 76810),\n",
       " (0.9957137568579144, 43578),\n",
       " (0.9956657603861748, 79392),\n",
       " (0.9956514651737213, 60917),\n",
       " (0.9956340857729484, 44192),\n",
       " (0.9956250445996122, 15300),\n",
       " (0.9955593422122607, 137164),\n",
       " (0.9955551612449628, 33580),\n",
       " (0.9955330386951936, 126556),\n",
       " (0.9955287277467938, 53336),\n",
       " (0.9955042975911779, 136527),\n",
       " (0.9954854234286226, 15332),\n",
       " (0.9954659567780582, 6953),\n",
       " (0.9954563982929717, 26009),\n",
       " (0.9954365547962407, 110883),\n",
       " (0.9954329760950724, 98587),\n",
       " (0.9953818666460468, 24180),\n",
       " (0.9953479672264499, 142256),\n",
       " (0.9952593789151264, 7173),\n",
       " (0.9952422265122861, 107798),\n",
       " (0.9951876168513791, 133109),\n",
       " (0.9951853501269439, 144168),\n",
       " (0.9951793979807411, 94539),\n",
       " (0.9951388676827092, 52816),\n",
       " (0.9951254860089332, 142464),\n",
       " (0.9950998330038986, 111566),\n",
       " (0.9950985145111453, 79994),\n",
       " (0.9950812263946708, 12346),\n",
       " (0.9950530759011668, 59534),\n",
       " (0.9949886866528136, 43130),\n",
       " (0.9949561336678829, 13184),\n",
       " (0.9949477866319516, 87815),\n",
       " (0.9948929199850091, 24175),\n",
       " (0.9948336833135909, 47015),\n",
       " (0.9948296583056931, 153163),\n",
       " (0.9948232246529974, 80360),\n",
       " (0.9948142750042034, 59104),\n",
       " (0.994748353331958, 50438),\n",
       " (0.9946244995119151, 130554),\n",
       " (0.994599657353528, 103431),\n",
       " (0.9945891403669007, 104947),\n",
       " (0.9945845981116463, 67774),\n",
       " (0.9945829008403062, 76415),\n",
       " (0.9945515891489878, 124782),\n",
       " (0.9945354471300362, 23614),\n",
       " (0.9944648048060195, 91426),\n",
       " (0.9944642652306903, 98589),\n",
       " (0.9944503350145059, 149750),\n",
       " (0.9944053784430821, 24206),\n",
       " (0.9943931202542788, 132300),\n",
       " (0.9943606946974088, 23195),\n",
       " (0.9943425885476117, 50110),\n",
       " (0.9943279206209963, 135275),\n",
       " (0.9943246353385, 141863),\n",
       " (0.994242591626545, 91704),\n",
       " (0.99417310779739, 126831),\n",
       " (0.9941720912329103, 86940),\n",
       " (0.9940869455566919, 158691),\n",
       " (0.9940642539913298, 120877),\n",
       " (0.9940497135595213, 108500),\n",
       " (0.9940336170854555, 97156),\n",
       " (0.9940300492719167, 129608),\n",
       " (0.9940124944284516, 156937),\n",
       " (0.9939622245689963, 68541),\n",
       " (0.9939526203961818, 153089),\n",
       " (0.9939279828811408, 147141),\n",
       " (0.9939174839183782, 61303),\n",
       " (0.9938402696113453, 158798),\n",
       " (0.9937726137443638, 127572),\n",
       " (0.9937656369914067, 91580),\n",
       " (0.9937589350265025, 32239),\n",
       " (0.9937460895782255, 2674),\n",
       " (0.9937407045198534, 38696),\n",
       " (0.9936648153440011, 150559),\n",
       " (0.9936633189680201, 51895),\n",
       " (0.9936480010690847, 153335),\n",
       " (0.9936413636522192, 146906),\n",
       " (0.9936298063605313, 60954),\n",
       " (0.9936236397826195, 36711),\n",
       " (0.9936048261209725, 141179),\n",
       " (0.9935944690854752, 76632),\n",
       " (0.9935649688414004, 11758),\n",
       " (0.9935506799113791, 59305),\n",
       " (0.9935413325658914, 89942),\n",
       " (0.9935017109209352, 111242),\n",
       " (0.9934672751101036, 33876),\n",
       " (0.9934149609418534, 130744),\n",
       " (0.9933276799688715, 45968),\n",
       " (0.9933093572845824, 111570),\n",
       " (0.993302374365993, 43908),\n",
       " (0.993297372873395, 98578),\n",
       " (0.9932970496537873, 68582),\n",
       " (0.9932196207801496, 54727),\n",
       " (0.9932133723182015, 27264),\n",
       " (0.9932023206795877, 108757),\n",
       " (0.993172082286169, 87951),\n",
       " (0.993169459236636, 81882),\n",
       " (0.993166731317552, 27525),\n",
       " (0.9931072643986404, 72692),\n",
       " (0.9930879335869721, 111224),\n",
       " (0.9930674065561553, 91358),\n",
       " (0.9930591468538165, 106620),\n",
       " (0.993019506921739, 70217),\n",
       " (0.9929545855229251, 131729),\n",
       " (0.9929359666316181, 57158),\n",
       " (0.9928876827854937, 93238),\n",
       " (0.9928843941682755, 43692),\n",
       " (0.9928726927037911, 128055),\n",
       " (0.9928596479530016, 108898),\n",
       " (0.9928285341426152, 128244),\n",
       " (0.9928234849758605, 133300),\n",
       " (0.9927910635397054, 49562),\n",
       " (0.9927782534838622, 35767),\n",
       " (0.9927758432239815, 36721),\n",
       " (0.992765157605944, 79201),\n",
       " (0.9927411644794321, 71061),\n",
       " (0.9926311432513768, 79868),\n",
       " (0.9926278499750292, 135909),\n",
       " (0.9926001404194111, 27574),\n",
       " (0.9925495513130734, 82506),\n",
       " (0.9925461856708881, 17792),\n",
       " (0.9925311171810437, 56029),\n",
       " (0.9925129493971964, 27911),\n",
       " (0.9924814903038413, 38668),\n",
       " (0.9924592923423055, 116887),\n",
       " (0.9924433255405276, 58152),\n",
       " (0.992430620598471, 46771),\n",
       " (0.992407298696476, 102688),\n",
       " (0.9924018456208731, 17791),\n",
       " (0.9923749311397649, 125633),\n",
       " (0.9923404178109547, 145881),\n",
       " (0.9923167403489812, 9127),\n",
       " (0.9923154022765847, 150889),\n",
       " (0.9922986719779427, 11845),\n",
       " (0.9922463102700809, 109075),\n",
       " (0.9922292032944985, 106000),\n",
       " (0.9922182525187284, 149574),\n",
       " (0.9921872457894595, 147730),\n",
       " (0.992183363441812, 116095),\n",
       " (0.9921517456553018, 116489),\n",
       " (0.9921449979806543, 123450),\n",
       " (0.9921143129847323, 135655),\n",
       " (0.9920685273647639, 145891),\n",
       " (0.992051243229645, 57333),\n",
       " (0.9920446105185918, 95715),\n",
       " (0.9920041637617119, 149898),\n",
       " (0.9919616509879243, 18786),\n",
       " (0.991960958352695, 52679),\n",
       " (0.9919440025005068, 139532),\n",
       " (0.9919413586556074, 63903),\n",
       " (0.9919255823567638, 151221),\n",
       " (0.9918817233546451, 14262),\n",
       " (0.9918468750410808, 92849),\n",
       " (0.9917923540863991, 89604),\n",
       " (0.9917825573662502, 136772),\n",
       " (0.9917822688087722, 155451),\n",
       " (0.9917580705287213, 143462),\n",
       " (0.9917568206738803, 128782),\n",
       " (0.9917308410690412, 138288),\n",
       " (0.9917093395012504, 12391),\n",
       " (0.9916647103837546, 129254),\n",
       " (0.9915374280224475, 80524),\n",
       " (0.9914943983064016, 70883),\n",
       " (0.9914910481430906, 48870),\n",
       " (0.9914751423161975, 145988),\n",
       " (0.9914504809329546, 96272),\n",
       " (0.9914311182895001, 7908),\n",
       " (0.9913936555056657, 35947),\n",
       " (0.991313075651252, 32013),\n",
       " (0.9913019590009682, 43991),\n",
       " (0.9912933959184466, 120226),\n",
       " (0.9912804395413383, 104002),\n",
       " (0.991262579209107, 22245),\n",
       " (0.9912511904238007, 143750),\n",
       " (0.9912057882460803, 119815),\n",
       " (0.9911667822748459, 35578),\n",
       " (0.9911593250655102, 148046),\n",
       " (0.9911382708266177, 134145),\n",
       " (0.991079278332067, 79522),\n",
       " (0.9909757041150286, 110885),\n",
       " (0.9909495342098993, 10991),\n",
       " (0.9908450755192078, 137656),\n",
       " (0.990810086278412, 47790),\n",
       " (0.9907999111773688, 71494),\n",
       " (0.9907832695639455, 32042),\n",
       " (0.990751407183082, 12279),\n",
       " (0.9907313788742758, 131192),\n",
       " (0.990641885481602, 131181),\n",
       " (0.9906195012618623, 81377),\n",
       " (0.9906153330650727, 67048),\n",
       " (0.9905995884188873, 88580),\n",
       " (0.990582223651091, 120709),\n",
       " (0.9903845839664844, 125889),\n",
       " (0.9903828122079605, 59036),\n",
       " (0.990238680205691, 54388),\n",
       " (0.9902052994212627, 156608),\n",
       " (0.9901770315358932, 20796),\n",
       " (0.9901534705447781, 11146),\n",
       " (0.9901379704935849, 23481),\n",
       " (0.990117649121879, 79543),\n",
       " (0.9901176234769153, 102700),\n",
       " (0.9900974100955756, 150255),\n",
       " (0.9900851591972738, 21093),\n",
       " (0.9900772482044556, 27924),\n",
       " (0.9900554673430552, 42165),\n",
       " (0.99004717039916, 126933),\n",
       " (0.9900184074110127, 93804),\n",
       " (0.9899844845013561, 47637),\n",
       " (0.9899831429048148, 139016),\n",
       " (0.9898418040790836, 96656),\n",
       " (0.9898358730794387, 12965),\n",
       " (0.9898291482311226, 46222),\n",
       " (0.9898258683253717, 87662),\n",
       " (0.9898186448569896, 153932),\n",
       " (0.9898083756983435, 50755),\n",
       " (0.989697326260707, 155054),\n",
       " (0.9896755699489342, 101069),\n",
       " (0.9896521458364437, 73446),\n",
       " (0.989612867072803, 62834),\n",
       " (0.9895763452116603, 115940),\n",
       " (0.9895727936258324, 140864),\n",
       " (0.989492314937342, 92124),\n",
       " (0.9894626850589313, 16371),\n",
       " (0.9894468730959088, 157376),\n",
       " (0.989434557836364, 61474),\n",
       " (0.9893746523182994, 107160),\n",
       " (0.9893618588298707, 40061),\n",
       " (0.9893407399103477, 32139),\n",
       " (0.9892773050443692, 84420),\n",
       " (0.9892347113565482, 154573),\n",
       " (0.9892118551972127, 135037),\n",
       " (0.9892112922837786, 133397),\n",
       " (0.9891842216055229, 110661),\n",
       " (0.9891249232134692, 5243),\n",
       " (0.989097624591121, 61656),\n",
       " (0.9890223604348953, 80222),\n",
       " (0.9889597946044077, 148426),\n",
       " (0.9888557560965872, 7716),\n",
       " (0.9888495386159851, 19797),\n",
       " (0.9888323171683153, 83746),\n",
       " (0.9888216489118997, 8471),\n",
       " (0.9888144520776746, 26772),\n",
       " (0.9887628182170745, 21179),\n",
       " (0.9886554855295078, 6788),\n",
       " (0.9886040841704287, 6091),\n",
       " (0.9885414474832277, 40572),\n",
       " (0.9885286718765078, 136282),\n",
       " (0.9885286053322493, 48458),\n",
       " (0.9885190048046754, 143404),\n",
       " (0.9884468450583025, 107964),\n",
       " (0.9882819191556534, 78659),\n",
       " (0.9882028445043552, 25876),\n",
       " (0.9881897162815542, 87421),\n",
       " (0.9881528412414071, 85020),\n",
       " (0.988152768039382, 71654),\n",
       " (0.9880940838468241, 148343),\n",
       " (0.9879510456247269, 10181),\n",
       " (0.9879460173152568, 27016),\n",
       " (0.9879138810803764, 91343),\n",
       " (0.9878286226378435, 12160),\n",
       " (0.9878095156216757, 110108),\n",
       " (0.9878089809721813, 2488),\n",
       " (0.9877584321123923, 34850),\n",
       " (0.9876935857248823, 70564),\n",
       " (0.987663423944429, 41091),\n",
       " (0.987647652670867, 116013),\n",
       " (0.9876451799569651, 114296),\n",
       " (0.987575730451533, 68136),\n",
       " (0.9875516388180761, 157525),\n",
       " (0.9875258663297796, 73178),\n",
       " (0.987519643152409, 155941),\n",
       " (0.9875082292329768, 83987),\n",
       " (0.9874378850494557, 138834),\n",
       " (0.9874153454562233, 111617),\n",
       " (0.9874011710598252, 122234),\n",
       " (0.987351483045824, 149066),\n",
       " (0.9872735631354226, 144439),\n",
       " (0.98720901985616, 67839),\n",
       " (0.9871500890879404, 65239),\n",
       " (0.9871394586522145, 37129),\n",
       " (0.9871060923587752, 66531),\n",
       " (0.9871046333729355, 143549),\n",
       " (0.9870662990865409, 57106),\n",
       " (0.987064053063048, 1699),\n",
       " (0.9870050638249462, 87581),\n",
       " (0.9869907100599578, 57671),\n",
       " (0.9869605533119743, 65137),\n",
       " (0.9869241030742222, 51853),\n",
       " (0.9869198111298784, 113811),\n",
       " (0.986879524324124, 43902),\n",
       " (0.9868560714986834, 73044),\n",
       " (0.9867477293865505, 109718),\n",
       " (0.9866692547748837, 104181),\n",
       " (0.9866194851971286, 25871),\n",
       " (0.9865133331362429, 122139),\n",
       " (0.9865111656488164, 88191),\n",
       " (0.9864685284976668, 77759),\n",
       " (0.9864102214269916, 94099),\n",
       " (0.9863911858980756, 36016),\n",
       " (0.9863503658181646, 17643),\n",
       " (0.9862799645128768, 558),\n",
       " (0.9862488409226712, 42956),\n",
       " (0.986214925270601, 132106),\n",
       " (0.9862005922381075, 147874),\n",
       " (0.9861875517027918, 56195),\n",
       " (0.986090693767114, 10071),\n",
       " (0.9860823444401439, 137410),\n",
       " (0.9860634690773039, 76362),\n",
       " (0.9860575813597857, 156784),\n",
       " (0.9860545631621729, 78185),\n",
       " (0.9860433849976252, 62606),\n",
       " (0.9860087828175007, 141505),\n",
       " (0.9859777340924247, 121017),\n",
       " (0.9859720147898847, 71554),\n",
       " (0.9859706595643428, 37403),\n",
       " (0.9859589176100224, 44741),\n",
       " (0.9859319449638011, 100988),\n",
       " (0.9858544887502544, 39213),\n",
       " (0.9858486119773414, 105978),\n",
       " (0.9858479866012974, 27426),\n",
       " (0.9858296248844757, 31286),\n",
       " (0.9857792237421533, 121945),\n",
       " (0.9856718373914446, 78981),\n",
       " (0.9856345323440885, 126312),\n",
       " (0.9855784236911486, 59853),\n",
       " (0.9855715248023821, 86261),\n",
       " (0.9854946696686656, 123973),\n",
       " (0.9854708980804451, 45489),\n",
       " (0.9854245462723941, 155177),\n",
       " (0.9854220566952024, 88286),\n",
       " (0.9853606698097885, 74607),\n",
       " (0.9853039096311991, 768),\n",
       " (0.9852932844374958, 35255),\n",
       " (0.9852848638324878, 129980),\n",
       " (0.9852803447255071, 141399),\n",
       " (0.9851302102549458, 68725),\n",
       " (0.9850837291677067, 134862),\n",
       " (0.9850786993931615, 127456),\n",
       " (0.9849738684287542, 146845),\n",
       " (0.984922242257504, 114662),\n",
       " (0.9849094386380736, 137117),\n",
       " (0.984893072727889, 72562),\n",
       " (0.9847526191368124, 47447),\n",
       " (0.9847480106773383, 114540),\n",
       " (0.9846541761121509, 14211),\n",
       " (0.984638123486012, 127231),\n",
       " (0.9846228779904191, 26489),\n",
       " (0.9846104182697127, 77871),\n",
       " (0.9845516961383451, 18571),\n",
       " (0.9844617866273321, 45291),\n",
       " (0.9844547537420357, 102422),\n",
       " (0.9844262915767961, 58987),\n",
       " (0.9843993463073637, 84317),\n",
       " (0.9842895969703614, 155612),\n",
       " (0.9842884558810128, 156522),\n",
       " (0.9842823962240812, 26273),\n",
       " (0.9842714462339288, 84996),\n",
       " (0.984269369285368, 109054),\n",
       " (0.9842692252270934, 105342),\n",
       " (0.9841984202000201, 10441),\n",
       " (0.9841939895011994, 90913),\n",
       " (0.9841870586158549, 97431),\n",
       " (0.9841697565875, 10264),\n",
       " (0.9841329469004546, 36969),\n",
       " (0.9839950878310194, 10314),\n",
       " (0.9839601279176969, 114589),\n",
       " (0.9838291145058236, 17065),\n",
       " (0.9838000837036946, 13028),\n",
       " (0.9837656061288252, 23782),\n",
       " (0.983764038701311, 78222),\n",
       " (0.9837584751276067, 93610),\n",
       " (0.9836997911572464, 57509),\n",
       " (0.9836433503917721, 106224),\n",
       " (0.9836401995688935, 70454),\n",
       " (0.9836025444384728, 60255),\n",
       " (0.9835158325980582, 23250),\n",
       " (0.9835103563162138, 49047),\n",
       " (0.9835037926933892, 82970),\n",
       " (0.9834964894060423, 153975),\n",
       " (0.9834561567401325, 1713),\n",
       " (0.9834452476057448, 38276),\n",
       " (0.983398685217024, 153043),\n",
       " (0.9833491226820715, 82811),\n",
       " (0.983313134187603, 98522),\n",
       " (0.9833043937323068, 21893),\n",
       " (0.9833014126266642, 34036),\n",
       " (0.9832951214323827, 158136),\n",
       " (0.9832486354451897, 128668),\n",
       " (0.9832180121727071, 48794),\n",
       " (0.9831842965375187, 68875),\n",
       " (0.9831446584720352, 121630),\n",
       " (0.9830881635999629, 28061),\n",
       " (0.9830820052186079, 66321),\n",
       " (0.9829917150057593, 45109),\n",
       " (0.9829801497861177, 66741),\n",
       " (0.9829479931910753, 5419),\n",
       " (0.982931032826941, 153402),\n",
       " (0.9829302825068638, 43807),\n",
       " (0.9829016917033904, 96577),\n",
       " (0.9828415738684306, 83513),\n",
       " (0.9828239812067796, 148295),\n",
       " (0.982798280315505, 53713),\n",
       " (0.9827960369403637, 116483),\n",
       " (0.9827862492657945, 99316),\n",
       " (0.9827545797745614, 7067),\n",
       " (0.9827199852107936, 10813),\n",
       " (0.9827082168386638, 49756),\n",
       " (0.9826537020860788, 86248),\n",
       " (0.9826000848897799, 99195),\n",
       " (0.9825543730255846, 40063),\n",
       " (0.9825512308646044, 5392),\n",
       " (0.9825500092007078, 79538),\n",
       " (0.9825396930596537, 150890),\n",
       " (0.9825372488985741, 94394),\n",
       " (0.9825052275180876, 143125),\n",
       " (0.9824941968551649, 98852),\n",
       " (0.982449212999334, 53611),\n",
       " (0.9824347434856401, 88299),\n",
       " (0.9823174015560205, 119602),\n",
       " (0.982311653898664, 134048),\n",
       " (0.982282735088796, 156158),\n",
       " (0.9822365793556043, 47358),\n",
       " (0.982152554924881, 132531),\n",
       " (0.9821426868981676, 29),\n",
       " (0.9821240418857253, 113721),\n",
       " (0.9820580899082167, 157747),\n",
       " (0.9820497222747143, 45184),\n",
       " (0.9820082502621502, 7507),\n",
       " (0.9818405234152138, 60130),\n",
       " (0.981827948102333, 159566),\n",
       " (0.9817581219741145, 1920),\n",
       " (0.9817329948377214, 142108),\n",
       " (0.9817086833274862, 69899),\n",
       " (0.9816274080433208, 95013),\n",
       " (0.9816019889440125, 102197),\n",
       " (0.9815944999928847, 34605),\n",
       " (0.9815892467734848, 106920),\n",
       " (0.9815540670037323, 26536),\n",
       " (0.9815365112109462, 90351),\n",
       " (0.9815348936620545, 30009),\n",
       " (0.9815222266787055, 32202),\n",
       " (0.9814622915543155, 124639),\n",
       " (0.9814595888070585, 25572),\n",
       " (0.9814409076573358, 338),\n",
       " (0.9813443267155197, 69027),\n",
       " (0.9812632468285754, 42467),\n",
       " (0.981215053621457, 16773),\n",
       " (0.9811731035977697, 76505),\n",
       " (0.9811424288452613, 19683),\n",
       " (0.9811089248256244, 79565),\n",
       " (0.9810743835646507, 3377),\n",
       " (0.9810697966275758, 14786),\n",
       " (0.9810660611422032, 78120),\n",
       " (0.981054204867608, 77025),\n",
       " (0.9810362914405351, 68243),\n",
       " (0.9810286838500002, 75876),\n",
       " (0.9810245406465592, 17827),\n",
       " (0.9809899524032614, 151484),\n",
       " (0.9808783643845173, 29158),\n",
       " (0.9805881095767189, 46156),\n",
       " (0.9805520303625246, 157595),\n",
       " (0.9805460685096634, 127889),\n",
       " (0.9804842169108632, 27704),\n",
       " (0.9804601304218075, 102988),\n",
       " (0.9804033970958275, 130824),\n",
       " (0.9803598908308458, 29037),\n",
       " (0.9803032622881395, 10176),\n",
       " (0.9803017185301786, 34542),\n",
       " (0.980171472521682, 79969),\n",
       " (0.9800771233133381, 44772),\n",
       " (0.9800269764018075, 4851),\n",
       " (0.9800177072662662, 126031),\n",
       " (0.9799993698705051, 74209),\n",
       " (0.9799488679501936, 123754),\n",
       " (0.9799487846945543, 104768),\n",
       " (0.9799073161460174, 110068),\n",
       " (0.9797720587893559, 64369),\n",
       " (0.9797459119755243, 121385),\n",
       " (0.979694291362848, 50830),\n",
       " (0.9796843440913887, 116851),\n",
       " (0.9796637178825319, 140282),\n",
       " (0.979600695368972, 131691),\n",
       " (0.9795949509984841, 21963),\n",
       " (0.9795615744673394, 30551),\n",
       " (0.9795554478937265, 119270),\n",
       " (0.9795120553253276, 129118),\n",
       " (0.9794915752405011, 142297),\n",
       " (0.9794740681615809, 69470),\n",
       " (0.9794180156120497, 100626),\n",
       " (0.9793906556496821, 29568),\n",
       " (0.9792747797661349, 123285),\n",
       " (0.9792699260193389, 54406),\n",
       " (0.9792571498244229, 91754),\n",
       " (0.9792564764638477, 159283),\n",
       " (0.979212217683092, 18940),\n",
       " (0.9792097788480668, 52338),\n",
       " (0.9792071225243362, 78634),\n",
       " (0.9791951592228662, 150558),\n",
       " (0.9791238923526443, 145258),\n",
       " (0.9788955343299696, 153099),\n",
       " (0.9788552223761078, 48752),\n",
       " (0.9787861333929483, 134995),\n",
       " (0.9786881453443198, 111773),\n",
       " (0.9786843859256749, 71160),\n",
       " (0.9786596075679524, 110702),\n",
       " (0.9786451634603809, 125319),\n",
       " (0.9785965243975937, 62770),\n",
       " (0.9785894217185799, 115996),\n",
       " (0.9785520951980226, 100312),\n",
       " (0.9785258029323765, 147231),\n",
       " (0.9785224253104537, 27005),\n",
       " (0.9782321920331972, 141058),\n",
       " (0.978226835430267, 134640),\n",
       " (0.9781876450609278, 20222),\n",
       " (0.9781607710820175, 143827),\n",
       " (0.9781315323392041, 117343),\n",
       " (0.9781214660711547, 110964),\n",
       " (0.9780037777706665, 9729),\n",
       " (0.9779518971856306, 157355),\n",
       " (0.9779408736901963, 61681),\n",
       " (0.9778324357448333, 48157),\n",
       " (0.9778009701091522, 7416),\n",
       " (0.97778901861831, 4085),\n",
       " (0.9777522219368872, 1339),\n",
       " (0.9777445892835387, 36373),\n",
       " (0.9776223145336986, 98698),\n",
       " (0.9775956854884981, 147209),\n",
       " (0.9775810585906334, 114393),\n",
       " (0.9775590770055598, 74505),\n",
       " (0.9774336707986231, 58940),\n",
       " (0.9774332570360124, 7671),\n",
       " (0.9774010860466615, 12815),\n",
       " (0.9773802224389194, 148247),\n",
       " (0.9772811383908573, 122895),\n",
       " (0.9772671986531642, 113766),\n",
       " (0.977252061404317, 134933),\n",
       " (0.9771750501500408, 36637),\n",
       " (0.977045106456165, 108863),\n",
       " (0.977041823059788, 109339),\n",
       " (0.9770350520193712, 125657),\n",
       " (0.9768872203316689, 7869),\n",
       " (0.9768122662360097, 35778),\n",
       " (0.9767780117934912, 33182),\n",
       " (0.9767454602046154, 150062),\n",
       " (0.9767248085532557, 67785),\n",
       " (0.9766737150918045, 33930),\n",
       " (0.9766643072942343, 101271),\n",
       " (0.9765654859244987, 59030),\n",
       " (0.976377726653924, 135326),\n",
       " (0.9763735115307857, 113759),\n",
       " (0.9763589105812994, 5232),\n",
       " (0.9763066115272503, 127864),\n",
       " (0.9762473180789392, 82449),\n",
       " (0.9761717494538996, 70096),\n",
       " (0.9761489919718583, 82830),\n",
       " (0.9761073051137003, 109280),\n",
       " (0.9760754577016899, 121118),\n",
       " (0.9760732213026079, 103089),\n",
       " (0.9760447498611199, 117574),\n",
       " (0.9760128862008054, 80317),\n",
       " (0.9759555074994125, 150024),\n",
       " (0.9759249414626652, 37088),\n",
       " (0.9758871788396714, 105483),\n",
       " (0.9758653022573945, 119075),\n",
       " (0.9757905034347282, 83667),\n",
       " (0.9757402023456161, 19258),\n",
       " (0.9757227026722675, 73371),\n",
       " (0.9756768289162344, 142521),\n",
       " (0.9755262436170172, 75759),\n",
       " (0.9754722787205028, 16247),\n",
       " (0.9754039086505945, 126414),\n",
       " (0.9753633102131077, 77767),\n",
       " (0.9753482292818189, 35661),\n",
       " (0.9753131353016408, 57903),\n",
       " (0.9752974965657151, 28633),\n",
       " (0.9752734944092659, 1645),\n",
       " (0.9752717188361066, 96608),\n",
       " (0.9752712844741737, 133709),\n",
       " (0.9751878150836957, 89852),\n",
       " (0.9751567021662659, 134600),\n",
       " (0.9751394456505292, 50767),\n",
       " (0.9750088249750894, 63247),\n",
       " (0.97496966731567, 25124),\n",
       " (0.9749518010907287, 45465),\n",
       " (0.9748930321659192, 93281),\n",
       " (0.9748706298426719, 8416),\n",
       " (0.9748111863440606, 65373),\n",
       " (0.9747815671950437, 16741),\n",
       " (0.9747807080429396, 109476),\n",
       " (0.9746322337065865, 10827),\n",
       " (0.9745830920706011, 31938),\n",
       " (0.9744956892007557, 66592),\n",
       " (0.974428424505712, 116284),\n",
       " (0.974422111382337, 12603),\n",
       " (0.9744162907805429, 62989),\n",
       " (0.9744033497999323, 142378),\n",
       " (0.9743720666889736, 103481),\n",
       " (0.9743580501330469, 153981),\n",
       " (0.9742998159361894, 147071),\n",
       " (0.9742777221232745, 63025),\n",
       " (0.9742344599154747, 96079),\n",
       " (0.9741340913414008, 13057),\n",
       " (0.9740478872683868, 102932),\n",
       " (0.9740092383782964, 123349),\n",
       " (0.973849137805591, 34044),\n",
       " (0.9738461080839685, 94988),\n",
       " (0.9738448493455604, 107851),\n",
       " (0.9737675497570811, 126723),\n",
       " (0.9737342101809261, 99568),\n",
       " (0.9736464998714425, 110803),\n",
       " (0.9735811191031046, 149859),\n",
       " (0.9735359753351795, 55805),\n",
       " (0.9735256742765093, 74022),\n",
       " (0.9735205934004337, 138273),\n",
       " (0.9734779579329674, 157691),\n",
       " (0.9734519461214233, 57479),\n",
       " (0.9733909985671592, 32823),\n",
       " (0.9733569706561686, 156796),\n",
       " (0.9732612255236872, 9282),\n",
       " (0.9732426809061823, 72777),\n",
       " (0.9732018903067421, 136302),\n",
       " (0.973164671739357, 154204),\n",
       " (0.9731580170521059, 144352),\n",
       " (0.9731350980737491, 49043),\n",
       " (0.9731192307995338, 110809),\n",
       " (0.973074051423486, 115545),\n",
       " (0.9730732445506761, 89933),\n",
       " (0.9730198906277535, 25064),\n",
       " (0.9729130251993997, 121799),\n",
       " (0.9728563230253197, 38512),\n",
       " (0.9728374748769405, 139657),\n",
       " (0.972830845228388, 114757),\n",
       " (0.9728229077577681, 29110),\n",
       " (0.9727536491328953, 45309),\n",
       " (0.9725677218760148, 87184),\n",
       " (0.972549759348897, 68529),\n",
       " (0.9723521747654441, 65380),\n",
       " (0.9722615268789062, 38060),\n",
       " (0.9722526201528435, 103081),\n",
       " (0.972231903442511, 79279),\n",
       " (0.9722139213066852, 78976),\n",
       " (0.9720799938740542, 40964),\n",
       " (0.9720701370590457, 25970),\n",
       " (0.9719618948769309, 137734),\n",
       " (0.9718636075385528, 126578),\n",
       " (0.9718602513126426, 44720),\n",
       " (0.9718539366533706, 9123),\n",
       " (0.9718317190593805, 27570),\n",
       " ...]"
      ]
     },
     "execution_count": 77,
     "metadata": {},
     "output_type": "execute_result"
    }
   ],
   "source": [
    "d.sort(reverse = True)\n",
    "d"
   ]
  },
  {
   "cell_type": "code",
   "execution_count": 133,
   "metadata": {},
   "outputs": [],
   "source": [
    "_val_index = d[:len(d)//100*10]\n",
    "_train_index = d[len(d)//100*10:]"
   ]
  },
  {
   "cell_type": "code",
   "execution_count": 134,
   "metadata": {},
   "outputs": [],
   "source": [
    "_val_index = np.array(_val_index, dtype=int)[:,1]\n",
    "_train_index = np.array(_train_index, dtype=int)[:,1]"
   ]
  },
  {
   "cell_type": "code",
   "execution_count": 135,
   "metadata": {},
   "outputs": [
    {
     "data": {
      "text/plain": [
       "id                                                0000997932d777bf\n",
       "comment_text     Explanation\\nWhy the edits made under my usern...\n",
       "toxic                                                            0\n",
       "severe_toxic                                                     0\n",
       "obscene                                                          0\n",
       "threat                                                           0\n",
       "insult                                                           0\n",
       "identity_hate                                                    0\n",
       "clean                                                         True\n",
       "Name: 0, dtype: object"
      ]
     },
     "execution_count": 135,
     "metadata": {},
     "output_type": "execute_result"
    }
   ],
   "source": [
    "train.iloc[0]"
   ]
  },
  {
   "cell_type": "code",
   "execution_count": 136,
   "metadata": {},
   "outputs": [],
   "source": [
    "_val = train.iloc[_val_index]\n",
    "_train = train.iloc[_train_index]"
   ]
  },
  {
   "cell_type": "code",
   "execution_count": 137,
   "metadata": {},
   "outputs": [
    {
     "data": {
      "text/html": [
       "<div>\n",
       "<style scoped>\n",
       "    .dataframe tbody tr th:only-of-type {\n",
       "        vertical-align: middle;\n",
       "    }\n",
       "\n",
       "    .dataframe tbody tr th {\n",
       "        vertical-align: top;\n",
       "    }\n",
       "\n",
       "    .dataframe thead th {\n",
       "        text-align: right;\n",
       "    }\n",
       "</style>\n",
       "<table border=\"1\" class=\"dataframe\">\n",
       "  <thead>\n",
       "    <tr style=\"text-align: right;\">\n",
       "      <th></th>\n",
       "      <th>id</th>\n",
       "      <th>comment_text</th>\n",
       "      <th>toxic</th>\n",
       "      <th>severe_toxic</th>\n",
       "      <th>obscene</th>\n",
       "      <th>threat</th>\n",
       "      <th>insult</th>\n",
       "      <th>identity_hate</th>\n",
       "      <th>clean</th>\n",
       "    </tr>\n",
       "  </thead>\n",
       "  <tbody>\n",
       "    <tr>\n",
       "      <th>138308</th>\n",
       "      <td>e40d368e676aab57</td>\n",
       "      <td>Bastered You Bastered==Bastered You Bastered==...</td>\n",
       "      <td>1</td>\n",
       "      <td>0</td>\n",
       "      <td>1</td>\n",
       "      <td>0</td>\n",
       "      <td>1</td>\n",
       "      <td>0</td>\n",
       "      <td>False</td>\n",
       "    </tr>\n",
       "    <tr>\n",
       "      <th>5899</th>\n",
       "      <td>0fc49fc47729784d</td>\n",
       "      <td>Copyright ===\\n\\n  \\n\\n===</td>\n",
       "      <td>0</td>\n",
       "      <td>0</td>\n",
       "      <td>0</td>\n",
       "      <td>0</td>\n",
       "      <td>0</td>\n",
       "      <td>0</td>\n",
       "      <td>True</td>\n",
       "    </tr>\n",
       "    <tr>\n",
       "      <th>21006</th>\n",
       "      <td>3775bd2cf73139ec</td>\n",
       "      <td>==============\\nQuestion: When was Mike Allred...</td>\n",
       "      <td>0</td>\n",
       "      <td>0</td>\n",
       "      <td>0</td>\n",
       "      <td>0</td>\n",
       "      <td>0</td>\n",
       "      <td>0</td>\n",
       "      <td>True</td>\n",
       "    </tr>\n",
       "    <tr>\n",
       "      <th>26302</th>\n",
       "      <td>45a16f6a72a97929</td>\n",
       "      <td>\":::::::::::It was in that area.  \\n\"</td>\n",
       "      <td>0</td>\n",
       "      <td>0</td>\n",
       "      <td>0</td>\n",
       "      <td>0</td>\n",
       "      <td>0</td>\n",
       "      <td>0</td>\n",
       "      <td>True</td>\n",
       "    </tr>\n",
       "    <tr>\n",
       "      <th>144777</th>\n",
       "      <td>12354201bf69a812</td>\n",
       "      <td>\":::::::::::::::Prove it is false.  \\n\"</td>\n",
       "      <td>0</td>\n",
       "      <td>0</td>\n",
       "      <td>0</td>\n",
       "      <td>0</td>\n",
       "      <td>0</td>\n",
       "      <td>0</td>\n",
       "      <td>True</td>\n",
       "    </tr>\n",
       "  </tbody>\n",
       "</table>\n",
       "</div>"
      ],
      "text/plain": [
       "                      id                                       comment_text  \\\n",
       "138308  e40d368e676aab57  Bastered You Bastered==Bastered You Bastered==...   \n",
       "5899    0fc49fc47729784d                         Copyright ===\\n\\n  \\n\\n===   \n",
       "21006   3775bd2cf73139ec  ==============\\nQuestion: When was Mike Allred...   \n",
       "26302   45a16f6a72a97929              \":::::::::::It was in that area.  \\n\"   \n",
       "144777  12354201bf69a812            \":::::::::::::::Prove it is false.  \\n\"   \n",
       "\n",
       "        toxic  severe_toxic  obscene  threat  insult  identity_hate  clean  \n",
       "138308      1             0        1       0       1              0  False  \n",
       "5899        0             0        0       0       0              0   True  \n",
       "21006       0             0        0       0       0              0   True  \n",
       "26302       0             0        0       0       0              0   True  \n",
       "144777      0             0        0       0       0              0   True  "
      ]
     },
     "execution_count": 137,
     "metadata": {},
     "output_type": "execute_result"
    }
   ],
   "source": [
    "_val.head()"
   ]
  },
  {
   "cell_type": "code",
   "execution_count": 138,
   "metadata": {},
   "outputs": [],
   "source": [
    "_val.to_csv(\"_val.csv\", index = None, header=True)\n",
    "_train.to_csv(\"_train.csv\", index = None, header=True)"
   ]
  },
  {
   "cell_type": "code",
   "execution_count": 139,
   "metadata": {},
   "outputs": [],
   "source": [
    "_val = pd.read_csv(\"_val.csv\")"
   ]
  },
  {
   "cell_type": "code",
   "execution_count": 140,
   "metadata": {},
   "outputs": [
    {
     "data": {
      "text/html": [
       "<div>\n",
       "<style scoped>\n",
       "    .dataframe tbody tr th:only-of-type {\n",
       "        vertical-align: middle;\n",
       "    }\n",
       "\n",
       "    .dataframe tbody tr th {\n",
       "        vertical-align: top;\n",
       "    }\n",
       "\n",
       "    .dataframe thead th {\n",
       "        text-align: right;\n",
       "    }\n",
       "</style>\n",
       "<table border=\"1\" class=\"dataframe\">\n",
       "  <thead>\n",
       "    <tr style=\"text-align: right;\">\n",
       "      <th></th>\n",
       "      <th>id</th>\n",
       "      <th>comment_text</th>\n",
       "      <th>toxic</th>\n",
       "      <th>severe_toxic</th>\n",
       "      <th>obscene</th>\n",
       "      <th>threat</th>\n",
       "      <th>insult</th>\n",
       "      <th>identity_hate</th>\n",
       "      <th>clean</th>\n",
       "    </tr>\n",
       "  </thead>\n",
       "  <tbody>\n",
       "    <tr>\n",
       "      <th>0</th>\n",
       "      <td>e40d368e676aab57</td>\n",
       "      <td>Bastered You Bastered==Bastered You Bastered==...</td>\n",
       "      <td>1</td>\n",
       "      <td>0</td>\n",
       "      <td>1</td>\n",
       "      <td>0</td>\n",
       "      <td>1</td>\n",
       "      <td>0</td>\n",
       "      <td>False</td>\n",
       "    </tr>\n",
       "    <tr>\n",
       "      <th>1</th>\n",
       "      <td>0fc49fc47729784d</td>\n",
       "      <td>Copyright ===\\n\\n  \\n\\n===</td>\n",
       "      <td>0</td>\n",
       "      <td>0</td>\n",
       "      <td>0</td>\n",
       "      <td>0</td>\n",
       "      <td>0</td>\n",
       "      <td>0</td>\n",
       "      <td>True</td>\n",
       "    </tr>\n",
       "    <tr>\n",
       "      <th>2</th>\n",
       "      <td>3775bd2cf73139ec</td>\n",
       "      <td>==============\\nQuestion: When was Mike Allred...</td>\n",
       "      <td>0</td>\n",
       "      <td>0</td>\n",
       "      <td>0</td>\n",
       "      <td>0</td>\n",
       "      <td>0</td>\n",
       "      <td>0</td>\n",
       "      <td>True</td>\n",
       "    </tr>\n",
       "    <tr>\n",
       "      <th>3</th>\n",
       "      <td>45a16f6a72a97929</td>\n",
       "      <td>\":::::::::::It was in that area.  \\n\"</td>\n",
       "      <td>0</td>\n",
       "      <td>0</td>\n",
       "      <td>0</td>\n",
       "      <td>0</td>\n",
       "      <td>0</td>\n",
       "      <td>0</td>\n",
       "      <td>True</td>\n",
       "    </tr>\n",
       "    <tr>\n",
       "      <th>4</th>\n",
       "      <td>12354201bf69a812</td>\n",
       "      <td>\":::::::::::::::Prove it is false.  \\n\"</td>\n",
       "      <td>0</td>\n",
       "      <td>0</td>\n",
       "      <td>0</td>\n",
       "      <td>0</td>\n",
       "      <td>0</td>\n",
       "      <td>0</td>\n",
       "      <td>True</td>\n",
       "    </tr>\n",
       "  </tbody>\n",
       "</table>\n",
       "</div>"
      ],
      "text/plain": [
       "                 id                                       comment_text  toxic  \\\n",
       "0  e40d368e676aab57  Bastered You Bastered==Bastered You Bastered==...      1   \n",
       "1  0fc49fc47729784d                         Copyright ===\\n\\n  \\n\\n===      0   \n",
       "2  3775bd2cf73139ec  ==============\\nQuestion: When was Mike Allred...      0   \n",
       "3  45a16f6a72a97929              \":::::::::::It was in that area.  \\n\"      0   \n",
       "4  12354201bf69a812            \":::::::::::::::Prove it is false.  \\n\"      0   \n",
       "\n",
       "   severe_toxic  obscene  threat  insult  identity_hate  clean  \n",
       "0             0        1       0       1              0  False  \n",
       "1             0        0       0       0              0   True  \n",
       "2             0        0       0       0              0   True  \n",
       "3             0        0       0       0              0   True  \n",
       "4             0        0       0       0              0   True  "
      ]
     },
     "execution_count": 140,
     "metadata": {},
     "output_type": "execute_result"
    }
   ],
   "source": [
    "_val.head()"
   ]
  },
  {
   "cell_type": "markdown",
   "metadata": {},
   "source": [
    "## лемматезация"
   ]
  },
  {
   "cell_type": "code",
   "execution_count": 148,
   "metadata": {},
   "outputs": [],
   "source": [
    "from nltk import WordNetLemmatizer\n",
    "from nltk import pos_tag, word_tokenize\n",
    "def lemmatize_all(sentence):\n",
    "    wnl = WordNetLemmatizer()\n",
    "    for word, tag in pos_tag(word_tokenize(sentence)):\n",
    "        if tag.startswith(\"NN\"):\n",
    "            yield wnl.lemmatize(word, pos='n')\n",
    "        elif tag.startswith('VB'):\n",
    "            yield wnl.lemmatize(word, pos='v')\n",
    "        elif tag.startswith('JJ'):\n",
    "            yield wnl.lemmatize(word, pos='a')\n",
    "        elif tag.startswith('R'):\n",
    "            yield wnl.lemmatize(word, pos='r')\n",
    "            \n",
    "        else:\n",
    "            yield word"
   ]
  },
  {
   "cell_type": "code",
   "execution_count": 155,
   "metadata": {},
   "outputs": [
    {
     "name": "stderr",
     "output_type": "stream",
     "text": [
      "[nltk_data] Downloading package wordnet to /Users/daniil/nltk_data...\n",
      "[nltk_data]   Unzipping corpora/wordnet.zip.\n"
     ]
    },
    {
     "data": {
      "text/plain": [
       "True"
      ]
     },
     "execution_count": 155,
     "metadata": {},
     "output_type": "execute_result"
    }
   ],
   "source": [
    "import nltk\n",
    "nltk.download('wordnet')"
   ]
  },
  {
   "cell_type": "code",
   "execution_count": 158,
   "metadata": {},
   "outputs": [],
   "source": [
    "import os\n",
    "os.environ['OMP_NUM_THREADS'] = '10'"
   ]
  },
  {
   "cell_type": "code",
   "execution_count": 204,
   "metadata": {},
   "outputs": [],
   "source": [
    "_train = pd.read_csv(\"_train.csv\")\n",
    "y_train = _train[[\"toxic\", \"severe_toxic\", \"obscene\", \"threat\", \"insult\", \"identity_hate\"]].values\n",
    "_val = pd.read_csv(\"_val.csv\")\n",
    "Y_val = _val[[\"toxic\", \"severe_toxic\", \"obscene\", \"threat\", \"insult\", \"identity_hate\"]].values\n",
    "test = pd.read_csv(\"test.csv\")"
   ]
  },
  {
   "cell_type": "code",
   "execution_count": 163,
   "metadata": {},
   "outputs": [
    {
     "name": "stdout",
     "output_type": "stream",
     "text": [
      "Train data lemmatization begins\n",
      "Train data lemmatization ends\n",
      "Val data lemmatization begins\n",
      "Test data lemmatization ends\n",
      "Test data lemmatization begins\n",
      "Test data lemmatization ends\n"
     ]
    }
   ],
   "source": [
    "X_train1 = []\n",
    "X_test1 = []\n",
    "X_val1 = []\n",
    "#Function call to lemmatize X_train and X_test\n",
    "print (\"Train data lemmatization begins\")\n",
    "for i in range(0,len(_train)):\n",
    "    X_train1.append(\" \".join(lemmatize_all(str(_train['comment_text'][i]))))\n",
    "print (\"Train data lemmatization ends\")\n",
    "print (\"Val data lemmatization begins\")\n",
    "for i in range (0, len(_val)):\n",
    "    X_val1.append(\" \".join(lemmatize_all(str(_val['comment_text'][i]))))\n",
    "print (\"VAl data lemmatization ends\")\n",
    "print (\"Test data lemmatization begins\")\n",
    "for i in range (0, len(test)):\n",
    "    X_test1.append(\" \".join(lemmatize_all(str(test['comment_text'][i]))))\n",
    "print (\"Test data lemmatization ends\")"
   ]
  },
  {
   "cell_type": "code",
   "execution_count": 219,
   "metadata": {},
   "outputs": [
    {
     "data": {
      "text/plain": [
       "(143621, 100)"
      ]
     },
     "execution_count": 219,
     "metadata": {},
     "output_type": "execute_result"
    }
   ],
   "source": [
    "np.array(x_train).shape"
   ]
  },
  {
   "cell_type": "code",
   "execution_count": null,
   "metadata": {},
   "outputs": [],
   "source": [
    "x_train, Y_train"
   ]
  },
  {
   "cell_type": "code",
   "execution_count": 165,
   "metadata": {},
   "outputs": [
    {
     "name": "stderr",
     "output_type": "stream",
     "text": [
      "Using TensorFlow backend.\n"
     ]
    }
   ],
   "source": [
    "from keras.preprocessing import text, sequence"
   ]
  },
  {
   "cell_type": "code",
   "execution_count": 185,
   "metadata": {},
   "outputs": [],
   "source": [
    "max_features = 20000\n",
    "maxlen = 100\n",
    "embed_size = 50\n",
    "\n",
    "tokenizer = text.Tokenizer(num_words=max_features)\n",
    "tokenizer.fit_on_texts(list(X_train1) + list(X_val1) + list(X_test1))\n",
    "X_train = tokenizer.texts_to_sequences(X_train1)\n",
    "X_val = tokenizer.texts_to_sequences(X_val1)\n",
    "X_test = tokenizer.texts_to_sequences(X_test1)\n",
    "x_train = sequence.pad_sequences(X_train, maxlen=maxlen)\n",
    "X_val = sequence.pad_sequences(X_val, maxlen=maxlen)\n",
    "x_test = sequence.pad_sequences(X_test, maxlen=maxlen)"
   ]
  },
  {
   "cell_type": "code",
   "execution_count": 186,
   "metadata": {},
   "outputs": [
    {
     "data": {
      "text/plain": [
       "array([[   0,    0,    0, ..., 3909,    7,  167],\n",
       "       [ 560,  936,    9, ...,   11,  140, 1917],\n",
       "       [   0,    0,    0, ...,    1,  152,  126],\n",
       "       ...,\n",
       "       [   0,    0,    0, ...,    7,  202,   42],\n",
       "       [   0,    0,    0, ...,  146,    9,   42],\n",
       "       [   0,    0,    0, ...,    0,    0,   42]], dtype=int32)"
      ]
     },
     "execution_count": 186,
     "metadata": {},
     "output_type": "execute_result"
    }
   ],
   "source": [
    "x_train"
   ]
  },
  {
   "cell_type": "markdown",
   "metadata": {},
   "source": [
    "# 2. Примените любой Embedding (word2vec или Glove) __[5%]__"
   ]
  },
  {
   "cell_type": "code",
   "execution_count": 187,
   "metadata": {},
   "outputs": [],
   "source": [
    "EMBEDDING_FILE = 'glove.6B.50d.txt'"
   ]
  },
  {
   "cell_type": "code",
   "execution_count": 188,
   "metadata": {},
   "outputs": [],
   "source": [
    "EMBEDDING_FILE = 'glove.6B.50d.txt'\n",
    "def get_coefs(word, *arr): \n",
    "    return word, np.asarray(arr, dtype='float32')\n",
    "\n",
    "embeddings_index = dict(get_coefs(*o.rstrip().rsplit(' ')) for o in open(EMBEDDING_FILE))\n",
    "\n",
    "word_index = tokenizer.word_index\n",
    "nb_words = min(max_features, len(word_index))\n",
    "embedding_matrix = np.zeros((nb_words, embed_size))\n",
    "for word, i in word_index.items():\n",
    "    if i >= max_features: \n",
    "        continue\n",
    "    embedding_vector = embeddings_index.get(word)\n",
    "    if embedding_vector is not None: \n",
    "        embedding_matrix[i] = embedding_vector"
   ]
  },
  {
   "cell_type": "code",
   "execution_count": 189,
   "metadata": {},
   "outputs": [
    {
     "data": {
      "text/plain": [
       "array([[ 0.        ,  0.        ,  0.        , ...,  0.        ,\n",
       "         0.        ,  0.        ],\n",
       "       [ 0.41800001,  0.24968   , -0.41242   , ..., -0.18411   ,\n",
       "        -0.11514   , -0.78580999],\n",
       "       [ 0.91101998, -0.22871999,  0.2077    , ...,  0.16692001,\n",
       "        -0.050063  ,  0.19241001],\n",
       "       ...,\n",
       "       [ 0.15728   , -0.17678   , -0.50582999, ...,  0.10733   ,\n",
       "         0.27801001,  0.095631  ],\n",
       "       [ 0.61343998, -1.12650001,  0.14722   , ...,  0.68361002,\n",
       "         0.29001999, -0.50641   ],\n",
       "       [ 0.72033   ,  0.095119  , -0.13764   , ...,  0.50050002,\n",
       "        -0.14820001,  0.31298   ]])"
      ]
     },
     "execution_count": 189,
     "metadata": {},
     "output_type": "execute_result"
    }
   ],
   "source": [
    "embedding_matrix"
   ]
  },
  {
   "cell_type": "markdown",
   "metadata": {},
   "source": [
    "# 3. Постройте следующие модели (для каждой необходимо самостоятельно выбрать оптимальное количество слоеев и архитектуру, оценить качество, переобученность, построить кривые обучения и валидации, сделать выводы по примению модели):"
   ]
  },
  {
   "cell_type": "markdown",
   "metadata": {},
   "source": [
    " - Одномерные свертки __[20%]__"
   ]
  },
  {
   "cell_type": "code",
   "execution_count": 227,
   "metadata": {},
   "outputs": [],
   "source": [
    "import tensorflow as tf\n",
    "from keras import backend as K\n",
    "from sklearn.metrics import roc_auc_score, accuracy_score\n",
    "from keras.models import Model, Sequential\n",
    "from keras.layers import Input, Dense, Embedding, MaxPooling1D, Conv1D, SpatialDropout1D, Flatten\n",
    "from keras.layers import add, Dropout, PReLU, BatchNormalization, GlobalMaxPooling1D, GRU\n",
    "from keras.callbacks import Callback\n",
    "from keras import optimizers\n",
    "from keras import initializers, regularizers, constraints\n",
    "\n",
    "session_conf = tf.ConfigProto(intra_op_parallelism_threads=4, inter_op_parallelism_threads=4)\n",
    "K.set_session(tf.Session(graph=tf.get_default_graph(), config=session_conf))"
   ]
  },
  {
   "cell_type": "code",
   "execution_count": 233,
   "metadata": {},
   "outputs": [],
   "source": [
    "filter_nr = 50\n",
    "filter_size = 3\n",
    "max_pool_size = 3\n",
    "max_pool_strides = 2\n",
    "dense_nr = 256\n",
    "spatial_dropout = 0.2\n",
    "dense_dropout = 0.5\n",
    "train_embed = False\n",
    "conv_kern_reg = regularizers.l2(0.00001)\n",
    "conv_bias_reg = regularizers.l2(0.00001)\n",
    "\n",
    "comment = Input(shape=(maxlen,))\n",
    "emb_comment = Embedding(max_features, embed_size, weights=[embedding_matrix], trainable=train_embed)(comment)\n",
    "emb_comment = SpatialDropout1D(spatial_dropout)(emb_comment)\n",
    "\n",
    "block1 = Conv1D(filter_nr, kernel_size=filter_size, padding='same', activation='linear', \n",
    "            kernel_regularizer=conv_kern_reg, bias_regularizer=conv_bias_reg)(emb_comment)\n",
    "block1 = BatchNormalization()(block1)\n",
    "block1 = PReLU()(block1)\n",
    "block1 = Conv1D(filter_nr, kernel_size=filter_size, padding='same', activation='linear', \n",
    "            kernel_regularizer=conv_kern_reg, bias_regularizer=conv_bias_reg)(block1)\n",
    "block1 = BatchNormalization()(block1)\n",
    "block1 = PReLU()(block1)\n",
    "  \n",
    "block1_output = add([block1, emb_comment])\n",
    "block1_output = MaxPooling1D(pool_size=max_pool_size, strides=max_pool_strides)(block1_output)\n",
    "\n",
    "block2 = Conv1D(filter_nr, kernel_size=filter_size, padding='same', activation='linear', \n",
    "            kernel_regularizer=conv_kern_reg, bias_regularizer=conv_bias_reg)(block1_output)\n",
    "block2 = BatchNormalization()(block2)\n",
    "block2 = PReLU()(block2)\n",
    "block2 = Conv1D(filter_nr, kernel_size=filter_size, padding='same', activation='linear', \n",
    "            kernel_regularizer=conv_kern_reg, bias_regularizer=conv_bias_reg)(block2)\n",
    "block2 = BatchNormalization()(block2)\n",
    "block2 = PReLU()(block2)\n",
    "    \n",
    "block2_output = add([block2, block1_output])\n",
    "block2_output = MaxPooling1D(pool_size=max_pool_size, strides=max_pool_strides)(block2_output)\n",
    "\n",
    "output = GlobalMaxPooling1D()(block2_output)\n",
    "\n",
    "output = Dense(dense_nr, activation='linear')(output)\n",
    "output = BatchNormalization()(output)\n",
    "output = PReLU()(output)\n",
    "output = Dropout(dense_dropout)(output)\n",
    "output = Dense(6, activation='sigmoid')(output)\n",
    "\n",
    "model = Model(comment, output)\n",
    "\n",
    "model.compile(loss='binary_crossentropy', \n",
    "            optimizer=optimizers.Adam(),\n",
    "            metrics=['accuracy'])"
   ]
  },
  {
   "cell_type": "code",
   "execution_count": 221,
   "metadata": {},
   "outputs": [
    {
     "name": "stdout",
     "output_type": "stream",
     "text": [
      "Train on 143621 samples, validate on 15950 samples\n",
      "Epoch 1/1\n",
      "143621/143621 [==============================] - 125s 870us/step - loss: 0.0620 - acc: 0.9817 - val_loss: 0.1966 - val_acc: 0.9252\n"
     ]
    },
    {
     "data": {
      "text/plain": [
       "0.9362290837886551"
      ]
     },
     "execution_count": 221,
     "metadata": {},
     "output_type": "execute_result"
    }
   ],
   "source": [
    "batch_size = 32\n",
    "epochs = 1\n",
    "\n",
    "lr = 0.001\n",
    "model.fit(x_train, y_train, batch_size=batch_size, epochs=epochs, validation_data=(X_val, Y_val), verbose=1)\n",
    "\n",
    "roc_auc_score(Y_val, model.predict(X_val))\n",
    "\n",
    "\n"
   ]
  },
  {
   "cell_type": "markdown",
   "metadata": {},
   "source": [
    " - LSTM или GRU __[20%]__"
   ]
  },
  {
   "cell_type": "code",
   "execution_count": 228,
   "metadata": {},
   "outputs": [],
   "source": [
    "model = Sequential()\n",
    "model.add(Embedding(20000,32,input_length=100))\n",
    "model.add(GRU(50,return_sequences=True))\n",
    "model.add(Dropout(0.25))\n",
    "model.add(GRU(50,return_sequences=True))\n",
    "model.add(Dropout(0.25))\n",
    "model.add(GRU(50,return_sequences=True))\n",
    "model.add(Dropout(0.25))\n",
    "model.add(Flatten())\n",
    "model.add(Dense(128,activation='relu'))\n",
    "model.add(Dropout(0.45))\n",
    "model.add(Dense(6,activation='sigmoid'))\n",
    "model.compile(loss='binary_crossentropy',optimizer='adam',metrics=['accuracy'])\n"
   ]
  },
  {
   "cell_type": "code",
   "execution_count": 230,
   "metadata": {},
   "outputs": [
    {
     "name": "stdout",
     "output_type": "stream",
     "text": [
      "Train on 143621 samples, validate on 15950 samples\n",
      "Epoch 1/1\n",
      "143621/143621 [==============================] - 650s 5ms/step - loss: 0.0550 - acc: 0.9832 - val_loss: 0.1592 - val_acc: 0.9409\n"
     ]
    },
    {
     "data": {
      "text/plain": [
       "<keras.callbacks.History at 0x1b25748d0>"
      ]
     },
     "execution_count": 230,
     "metadata": {},
     "output_type": "execute_result"
    }
   ],
   "source": [
    "model.fit(x_train, y_train, batch_size=batch_size, epochs=epochs, validation_data=(X_val, Y_val), verbose=1)"
   ]
  },
  {
   "cell_type": "code",
   "execution_count": 231,
   "metadata": {},
   "outputs": [
    {
     "data": {
      "text/plain": [
       "0.9273546194016253"
      ]
     },
     "execution_count": 231,
     "metadata": {},
     "output_type": "execute_result"
    }
   ],
   "source": [
    "roc_auc_score(Y_val, model.predict(X_val))"
   ]
  },
  {
   "cell_type": "markdown",
   "metadata": {},
   "source": [
    "- Bidirectional LSTM __[20%]__"
   ]
  },
  {
   "cell_type": "code",
   "execution_count": null,
   "metadata": {},
   "outputs": [],
   "source": []
  },
  {
   "cell_type": "code",
   "execution_count": null,
   "metadata": {},
   "outputs": [],
   "source": []
  },
  {
   "cell_type": "code",
   "execution_count": null,
   "metadata": {},
   "outputs": [],
   "source": []
  },
  {
   "cell_type": "markdown",
   "metadata": {},
   "source": [
    " 4. Попробуйте применить к этой задаче BERT или GPT-2. Выбор оптимального количества слоеев и архитектура на ваш вкус (но не забудьте обосновать его). Оцените качетво и другие параметры работы модели. __[25%]__\n",
    "\n",
    "#### Дополнительные 50%\n",
    "\n",
    "5. Основываясь на полученных результатах, сделайте свою лучшую модель и сделайте Late Submission на тестовых данных [challenge](https://www.kaggle.com/c/jigsaw-toxic-comment-classification-challenge). Не забудьте <u>приложить</u> скриншот с Вашим скором. Скриншот вставьте прямо в ноутбук с решением или выведите в stdout. \n",
    "\n",
    "  \n",
    "  \n",
    "______\n",
    "_Правила полученения дополнительных баллов:_\n",
    "- можно получить от 20% до 50% в зависимости от метрики качества других участников нашего курса полученного на лидерборде\n",
    "- Чтобы получить минимум в 20% нужно: \n",
    "    - Основные задания должны быть полностью решены\n",
    "    - Обосновать то решение которое отправили.\n",
    "    - Предложенная модель должна отличаться от тех, что строились в заданиях 2-4\n",
    "    \n",
    "__ Готовый ноутбук загрузите в эту форму: [http://bit.ly/dafe_hw](http://bit.ly/dafe_hw) __\n",
    "\n"
   ]
  },
  {
   "cell_type": "markdown",
   "metadata": {},
   "source": []
  },
  {
   "cell_type": "code",
   "execution_count": null,
   "metadata": {},
   "outputs": [],
   "source": []
  }
 ],
 "metadata": {
  "kernelspec": {
   "display_name": "Python 3",
   "language": "python",
   "name": "python3"
  },
  "language_info": {
   "codemirror_mode": {
    "name": "ipython",
    "version": 3
   },
   "file_extension": ".py",
   "mimetype": "text/x-python",
   "name": "python",
   "nbconvert_exporter": "python",
   "pygments_lexer": "ipython3",
   "version": "3.7.3"
  }
 },
 "nbformat": 4,
 "nbformat_minor": 2
}
