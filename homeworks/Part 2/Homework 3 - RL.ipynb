{
 "cells": [
  {
   "cell_type": "markdown",
   "metadata": {},
   "source": [
    "# Homework 3 - RL\n",
    "Традиционно, Ваш ноутбук должен быть воспроизводим. Не забудьте сохранить Output   \n",
    "Загружать ноутбук сюда: http://bit.ly/dafe_hw "
   ]
  },
  {
   "cell_type": "code",
   "execution_count": null,
   "metadata": {},
   "outputs": [],
   "source": [
    "# Импортируем необходимые библиотеки\n",
    "import gym\n",
    "import numpy as np\n",
    "import itertools\n",
    "from collections import defaultdict\n",
    "from gym.envs import toy_text\n",
    "import matplotlib.pyplot as plt\n",
    "from IPython.display import Image\n",
    "%matplotlib inline"
   ]
  },
  {
   "cell_type": "markdown",
   "metadata": {},
   "source": [
    "## Part 1 - Tabular Q-learning [30]"
   ]
  },
  {
   "cell_type": "markdown",
   "metadata": {},
   "source": [
    "Реализуем алгоритм Q-learning для среды CliffWalking. "
   ]
  },
  {
   "cell_type": "markdown",
   "metadata": {},
   "source": [
    "Посмотрим, что из себя представляет среда CliffWalking <img src=\"cliffwalking.png\" width=\"500\">"
   ]
  },
  {
   "cell_type": "code",
   "execution_count": null,
   "metadata": {},
   "outputs": [],
   "source": [
    "env = toy_text.CliffWalkingEnv()"
   ]
  },
  {
   "cell_type": "code",
   "execution_count": null,
   "metadata": {},
   "outputs": [],
   "source": [
    "print(env.__doc__)"
   ]
  },
  {
   "cell_type": "markdown",
   "metadata": {},
   "source": [
    "Так как награда выражатеся отрицательными значениями, то фактической целью агента является как можно более быстрое преодоление пути от старта к финишу при этом ему нужно не упасть с обрыва."
   ]
  },
  {
   "cell_type": "markdown",
   "metadata": {},
   "source": [
    "Традиционно посмотрим сколько очков в среднем за 100 эпизодов сможет набрать \"cлучайный\" агент."
   ]
  },
  {
   "cell_type": "code",
   "execution_count": null,
   "metadata": {},
   "outputs": [],
   "source": [
    "total_reward = []\n",
    "for episode in range(100):\n",
    "    episode_reward = 0\n",
    "    observation = env.reset()\n",
    "    for t in range(100):\n",
    "        env.render()\n",
    "        action = env.action_space.sample()\n",
    "        observation, reward, done, _ = env.step(action)\n",
    "        episode_reward += reward\n",
    "        if done:\n",
    "            print(\"Episode {} finished after {} timesteps\".format(episode+1, t+1))\n",
    "            break\n",
    "    total_reward.append(episode_reward)"
   ]
  },
  {
   "cell_type": "code",
   "execution_count": null,
   "metadata": {},
   "outputs": [],
   "source": [
    "print(np.mean(total_reward))"
   ]
  },
  {
   "cell_type": "markdown",
   "metadata": {},
   "source": [
    "Ожидаемо, наш \"случайный\" агент просто блуждает по среде, не пытаясь добраться до цели."
   ]
  },
  {
   "cell_type": "markdown",
   "metadata": {},
   "source": [
    "Вспомним как выглядит реализация данного алгоритма <img src=\"q_learning.png\" width=\"500\">"
   ]
  },
  {
   "cell_type": "markdown",
   "metadata": {},
   "source": [
    "Так как мы раелизуем табличную версию Q-learning, создадим структура, которая будет хранить значения нашей функции *Q(S,A)* для каждого состояния и действия. Она пдетставляет собой словарь (*dict*), хранящий в качестве ключей состояния, а в качестве значений массив значений *Q-функции* для каждого действия для данного ключа-состояния."
   ]
  },
  {
   "cell_type": "code",
   "execution_count": null,
   "metadata": {},
   "outputs": [],
   "source": [
    "Q = defaultdict(lambda: np.zeros(env.action_space.n))\n",
    "\n",
    "print(\"Q-значения для состояния-действия (0, 0): %s\" % Q[(0, 0)], \"хранятся в списке, по значению для каждого действия\")\n",
    "print(\"Таким обарзом, Q-значение для действия 3 в в состоянии (1,2), i.e. Q((1,2), 3), можно получить вот так q_vals[(1,2)][3]:\", Q[(1,2)][3])"
   ]
  },
  {
   "cell_type": "markdown",
   "metadata": {},
   "source": [
    "Сначала напишем функцию реализующую $\\epsilon$-greedy политику для исследования среды."
   ]
  },
  {
   "cell_type": "code",
   "execution_count": null,
   "metadata": {},
   "outputs": [],
   "source": [
    "def eps_greedy(Q, epsilon, state):\n",
    "    \"\"\"\n",
    "    Параметры:\n",
    "        Q: таблица значений Q-функции\n",
    "        epsilon: параметр эпсилон\n",
    "        state: текущее состоние\n",
    "    Результат:\n",
    "        Случайное действие с вероятностью eps или argmax Q(s, .) c вероятностью (1 - eps)\n",
    "        random action with probability of eps; argmax Q(s, .) with probability of (1-eps)\n",
    "    \"\"\"\n",
    "    # To Do"
   ]
  },
  {
   "cell_type": "markdown",
   "metadata": {},
   "source": [
    "Также напишем функцию, которая поможет нам оценить, как ведет себя обученный агент."
   ]
  },
  {
   "cell_type": "code",
   "execution_count": null,
   "metadata": {},
   "outputs": [],
   "source": [
    "def q_eval(Q, render=True):\n",
    "    total_reward = []\n",
    "    for i_episode in range(100):\n",
    "        episode_reward = 0\n",
    "        observation = env.reset()\n",
    "        for t in range(100):\n",
    "            if render:\n",
    "                env.render()\n",
    "            action = np.argmax(Q[observation])\n",
    "            observation, reward, done, info = env.step(action)\n",
    "            episode_reward += reward\n",
    "            if done:\n",
    "                print(\"Episode {} finished after {} timesteps\".format(i_episode+1, t+1))\n",
    "                break\n",
    "        total_reward.append(episode_reward)\n",
    "    return np.mean(total_reward)"
   ]
  },
  {
   "cell_type": "markdown",
   "metadata": {},
   "source": [
    "Теперь реализуем функцию обучения агента (обновления значений Q-функции) с использование функции, реализующей $\\epsilon$-greedy политику."
   ]
  },
  {
   "cell_type": "code",
   "execution_count": null,
   "metadata": {},
   "outputs": [],
   "source": [
    "def q_learning(env, num_episodes, discount_factor=1.0, alpha=0.5, epsilon=0.1):\n",
    "    \"\"\"    \n",
    "    Параменты:\n",
    "        env: среда Open AI\n",
    "        num_episodes: Количество эпизодов\n",
    "        discount_factor: фактор дисконтирования\n",
    "        alpha: константа обучения\n",
    "        epsilon: параметр эпсилон для ϵ-greedy политику\n",
    "    \n",
    "    Результат:\n",
    "        Таблица с оптимальными значениями Q-функции\n",
    "    \"\"\"\n",
    "    Q = defaultdict(lambda: np.zeros(env.action_space.n))\n",
    "\n",
    "    episode_lengths=np.zeros(num_episodes)\n",
    "    episode_rewards=np.zeros(num_episodes)\n",
    "        \n",
    "    for i_episode in range(num_episodes):\n",
    "        if (i_episode + 1) % 100 == 0:\n",
    "            print(\"\\rEpisode {}/{}.\".format(i_episode + 1, num_episodes), end=\"\")\n",
    "        \n",
    "        state = env.reset()\n",
    "        \n",
    "        # To Do\n",
    "    \n",
    "    return Q, episode_lengths, episode_rewards"
   ]
  },
  {
   "cell_type": "code",
   "execution_count": null,
   "metadata": {},
   "outputs": [],
   "source": [
    "env = toy_text.CliffWalkingEnv()"
   ]
  },
  {
   "cell_type": "code",
   "execution_count": null,
   "metadata": {},
   "outputs": [],
   "source": [
    "Q, episode_lengths, episode_rewards = q_learning(env, 500)"
   ]
  },
  {
   "cell_type": "code",
   "execution_count": null,
   "metadata": {},
   "outputs": [],
   "source": [
    "score = q_eval(Q)"
   ]
  },
  {
   "cell_type": "code",
   "execution_count": null,
   "metadata": {},
   "outputs": [],
   "source": [
    "plt.plot(episode_lengths)"
   ]
  },
  {
   "cell_type": "code",
   "execution_count": null,
   "metadata": {},
   "outputs": [],
   "source": [
    "plt.plot(episode_rewards)"
   ]
  },
  {
   "cell_type": "markdown",
   "metadata": {},
   "source": [
    "# Part 2 - Approx Q-Learning [70%]"
   ]
  },
  {
   "cell_type": "markdown",
   "metadata": {},
   "source": [
    "Вам предстоит научиться сажать космисеческий корабль в среде [LunarLander-v2](https://gym.openai.com/envs/LunarLander-v2/)\n",
    "\n",
    "\n",
    "Используйте Approx Q-Learning и repaly buffer\n",
    " \n",
    "Для того, чтобы получить полные баллы, ваш корабль должен садиться 10 раз из 10.\n",
    "  \n",
    "Если меньше, то баллы будут снижены пропорционально. "
   ]
  },
  {
   "cell_type": "code",
   "execution_count": null,
   "metadata": {},
   "outputs": [],
   "source": [
    "# Ваш Код здесь"
   ]
  },
  {
   "cell_type": "markdown",
   "metadata": {},
   "source": [
    "Традиционно, Ваш ноутбук должен быть воспроизводим. Не забудьте сохранить Output   \n",
    "Загружать ноутбук сюда: http://bit.ly/dafe_hw "
   ]
  }
 ],
 "metadata": {
  "kernelspec": {
   "display_name": "Python 3",
   "language": "python",
   "name": "python3"
  },
  "language_info": {
   "codemirror_mode": {
    "name": "ipython",
    "version": 3
   },
   "file_extension": ".py",
   "mimetype": "text/x-python",
   "name": "python",
   "nbconvert_exporter": "python",
   "pygments_lexer": "ipython3",
   "version": "3.7.5"
  }
 },
 "nbformat": 4,
 "nbformat_minor": 2
}
