{
 "cells": [
  {
   "cell_type": "markdown",
   "metadata": {},
   "source": [
    "# Домашнее задание №1 - Применение методов NLP\n",
    "\n",
    "\n",
    "В этом домашнем задании мы будем работать с данными из сорневнования: \n",
    "[Toxic comment classification challenge](https://www.kaggle.com/c/jigsaw-toxic-comment-classification-challenge)\n",
    "  \n",
    "  \n",
    "В задании небходимо по тексту комментария определить веротяности следующих категорий:\n",
    "- toxic\n",
    "- severe_toxic\n",
    "- obscene\n",
    "- threat\n",
    "- insult\n",
    "- identity_hate\n",
    "\n",
    "Как и в соревновании мы везде будем использовать метрику ROC AUC для валидации\n",
    "\n",
    "_Обратите внимание, что каждый комментарий может иметь несколько меток разных классов_\n",
    "\n",
    "### Что нужно сделать? \n",
    "\n",
    "1. Подготовка __[10%]__:\n",
    "    - Скачайте данные, проведите первоначальные EDA: баланс классов, пересечение классов и т.д. \n",
    "    "
   ]
  },
  {
   "cell_type": "code",
   "execution_count": 1,
   "metadata": {},
   "outputs": [],
   "source": [
    "import pandas as pd \n",
    "import numpy as np\n",
    "import matplotlib.pyplot as plt\n",
    "%matplotlib inline"
   ]
  },
  {
   "cell_type": "code",
   "execution_count": 2,
   "metadata": {},
   "outputs": [],
   "source": [
    "train = pd.read_csv(\"train.csv\")\n",
    "test = pd.read_csv(\"test.csv\")"
   ]
  },
  {
   "cell_type": "code",
   "execution_count": 3,
   "metadata": {},
   "outputs": [
    {
     "data": {
      "text/html": [
       "<div>\n",
       "<style scoped>\n",
       "    .dataframe tbody tr th:only-of-type {\n",
       "        vertical-align: middle;\n",
       "    }\n",
       "\n",
       "    .dataframe tbody tr th {\n",
       "        vertical-align: top;\n",
       "    }\n",
       "\n",
       "    .dataframe thead th {\n",
       "        text-align: right;\n",
       "    }\n",
       "</style>\n",
       "<table border=\"1\" class=\"dataframe\">\n",
       "  <thead>\n",
       "    <tr style=\"text-align: right;\">\n",
       "      <th></th>\n",
       "      <th>id</th>\n",
       "      <th>comment_text</th>\n",
       "      <th>toxic</th>\n",
       "      <th>severe_toxic</th>\n",
       "      <th>obscene</th>\n",
       "      <th>threat</th>\n",
       "      <th>insult</th>\n",
       "      <th>identity_hate</th>\n",
       "    </tr>\n",
       "  </thead>\n",
       "  <tbody>\n",
       "    <tr>\n",
       "      <th>0</th>\n",
       "      <td>0000997932d777bf</td>\n",
       "      <td>Explanation\\r\\nWhy the edits made under my use...</td>\n",
       "      <td>0</td>\n",
       "      <td>0</td>\n",
       "      <td>0</td>\n",
       "      <td>0</td>\n",
       "      <td>0</td>\n",
       "      <td>0</td>\n",
       "    </tr>\n",
       "    <tr>\n",
       "      <th>1</th>\n",
       "      <td>000103f0d9cfb60f</td>\n",
       "      <td>D'aww! He matches this background colour I'm s...</td>\n",
       "      <td>0</td>\n",
       "      <td>0</td>\n",
       "      <td>0</td>\n",
       "      <td>0</td>\n",
       "      <td>0</td>\n",
       "      <td>0</td>\n",
       "    </tr>\n",
       "    <tr>\n",
       "      <th>2</th>\n",
       "      <td>000113f07ec002fd</td>\n",
       "      <td>Hey man, I'm really not trying to edit war. It...</td>\n",
       "      <td>0</td>\n",
       "      <td>0</td>\n",
       "      <td>0</td>\n",
       "      <td>0</td>\n",
       "      <td>0</td>\n",
       "      <td>0</td>\n",
       "    </tr>\n",
       "    <tr>\n",
       "      <th>3</th>\n",
       "      <td>0001b41b1c6bb37e</td>\n",
       "      <td>\"\\r\\nMore\\r\\nI can't make any real suggestions...</td>\n",
       "      <td>0</td>\n",
       "      <td>0</td>\n",
       "      <td>0</td>\n",
       "      <td>0</td>\n",
       "      <td>0</td>\n",
       "      <td>0</td>\n",
       "    </tr>\n",
       "    <tr>\n",
       "      <th>4</th>\n",
       "      <td>0001d958c54c6e35</td>\n",
       "      <td>You, sir, are my hero. Any chance you remember...</td>\n",
       "      <td>0</td>\n",
       "      <td>0</td>\n",
       "      <td>0</td>\n",
       "      <td>0</td>\n",
       "      <td>0</td>\n",
       "      <td>0</td>\n",
       "    </tr>\n",
       "  </tbody>\n",
       "</table>\n",
       "</div>"
      ],
      "text/plain": [
       "                 id                                       comment_text  toxic  \\\n",
       "0  0000997932d777bf  Explanation\\r\\nWhy the edits made under my use...      0   \n",
       "1  000103f0d9cfb60f  D'aww! He matches this background colour I'm s...      0   \n",
       "2  000113f07ec002fd  Hey man, I'm really not trying to edit war. It...      0   \n",
       "3  0001b41b1c6bb37e  \"\\r\\nMore\\r\\nI can't make any real suggestions...      0   \n",
       "4  0001d958c54c6e35  You, sir, are my hero. Any chance you remember...      0   \n",
       "\n",
       "   severe_toxic  obscene  threat  insult  identity_hate  \n",
       "0             0        0       0       0              0  \n",
       "1             0        0       0       0              0  \n",
       "2             0        0       0       0              0  \n",
       "3             0        0       0       0              0  \n",
       "4             0        0       0       0              0  "
      ]
     },
     "execution_count": 3,
     "metadata": {},
     "output_type": "execute_result"
    }
   ],
   "source": [
    "train.head()"
   ]
  },
  {
   "cell_type": "code",
   "execution_count": 4,
   "metadata": {},
   "outputs": [
    {
     "name": "stdout",
     "output_type": "stream",
     "text": [
      "Check for missing values in Train dataset\n",
      "id               0\n",
      "comment_text     0\n",
      "toxic            0\n",
      "severe_toxic     0\n",
      "obscene          0\n",
      "threat           0\n",
      "insult           0\n",
      "identity_hate    0\n",
      "dtype: int64\n"
     ]
    }
   ],
   "source": [
    "print(\"Check for missing values in Train dataset\")\n",
    "null_check=train.isnull().sum()\n",
    "print(null_check)"
   ]
  },
  {
   "cell_type": "code",
   "execution_count": 5,
   "metadata": {},
   "outputs": [
    {
     "name": "stdout",
     "output_type": "stream",
     "text": [
      "Total comments =  159571\n",
      "Total clean comments =  143346\n",
      "Total tags =  35098\n"
     ]
    }
   ],
   "source": [
    "count_classes = train.iloc[:,2:].sum(axis = 1)\n",
    "train['clean'] = (count_classes == 0)\n",
    "print(\"Total comments = \", len(train))\n",
    "print(\"Total clean comments = \", train['clean'].sum())\n",
    "print(\"Total tags = \", count_classes.sum())"
   ]
  },
  {
   "cell_type": "code",
   "execution_count": 6,
   "metadata": {},
   "outputs": [
    {
     "data": {
      "image/png": "[encoded data removed]",
      "text/plain": [
       "<Figure size 576x288 with 1 Axes>"
      ]
     },
     "metadata": {
      "needs_background": "light"
     },
     "output_type": "display_data"
    }
   ],
   "source": [
    "import seaborn as sns\n",
    "\n",
    "classes=train.iloc[:,2:].sum()\n",
    "plt.figure(figsize=(8,4))\n",
    "ax= sns.barplot(classes.index, classes.values)\n",
    "plt.title(\"# per class\")\n",
    "plt.ylabel('# of Occurrences', fontsize=12)\n",
    "plt.xlabel('Type ', fontsize=12)\n",
    "rects = ax.patches\n",
    "labels = classes.values\n",
    "for rect, label in zip(rects, labels):\n",
    "    height = rect.get_height()\n",
    "    ax.text(rect.get_x() + rect.get_width()/2, height + 5, label, ha='center', va='bottom')\n",
    "\n",
    "plt.show()"
   ]
  },
  {
   "cell_type": "code",
   "execution_count": 7,
   "metadata": {},
   "outputs": [
    {
     "data": {
      "image/png": "[encoded data removed]",
      "text/plain": [
       "<Figure size 576x288 with 1 Axes>"
      ]
     },
     "metadata": {
      "needs_background": "light"
     },
     "output_type": "display_data"
    },
    {
     "name": "stdout",
     "output_type": "stream",
     "text": [
      "0    143346\n",
      "1      6360\n",
      "3      4209\n",
      "2      3480\n",
      "4      1760\n",
      "5       385\n",
      "6        31\n",
      "dtype: int64\n"
     ]
    }
   ],
   "source": [
    "x=count_classes.value_counts()\n",
    "\n",
    "plt.figure(figsize=(8,4))\n",
    "ax = sns.barplot(x.index, x.values, alpha=0.8)\n",
    "plt.title(\"Multiple tags per comment\")\n",
    "plt.ylabel('# of Occurrences', fontsize=12)\n",
    "plt.xlabel('# of tags ', fontsize=12)\n",
    "plt.show()\n",
    "print(x)"
   ]
  },
  {
   "cell_type": "code",
   "execution_count": 8,
   "metadata": {},
   "outputs": [
    {
     "data": {
      "image/png": "[encoded data removed]",
      "text/plain": [
       "<Figure size 720x576 with 2 Axes>"
      ]
     },
     "metadata": {
      "needs_background": "light"
     },
     "output_type": "display_data"
    }
   ],
   "source": [
    "temp_df=train.iloc[:,2:-1]\n",
    "\n",
    "corr=temp_df.corr()\n",
    "plt.figure(figsize=(10,8))\n",
    "sns.heatmap(corr, annot=True);"
   ]
  },
  {
   "cell_type": "code",
   "execution_count": 9,
   "metadata": {},
   "outputs": [
    {
     "data": {
      "text/html": [
       "<div>\n",
       "<style scoped>\n",
       "    .dataframe tbody tr th:only-of-type {\n",
       "        vertical-align: middle;\n",
       "    }\n",
       "\n",
       "    .dataframe tbody tr th {\n",
       "        vertical-align: top;\n",
       "    }\n",
       "\n",
       "    .dataframe thead tr th {\n",
       "        text-align: left;\n",
       "    }\n",
       "\n",
       "    .dataframe thead tr:last-of-type th {\n",
       "        text-align: right;\n",
       "    }\n",
       "</style>\n",
       "<table border=\"1\" class=\"dataframe\">\n",
       "  <thead>\n",
       "    <tr>\n",
       "      <th></th>\n",
       "      <th colspan=\"2\" halign=\"left\">severe_toxic</th>\n",
       "      <th colspan=\"2\" halign=\"left\">obscene</th>\n",
       "      <th colspan=\"2\" halign=\"left\">threat</th>\n",
       "      <th colspan=\"2\" halign=\"left\">insult</th>\n",
       "      <th colspan=\"2\" halign=\"left\">identity_hate</th>\n",
       "    </tr>\n",
       "    <tr>\n",
       "      <th></th>\n",
       "      <th>0</th>\n",
       "      <th>1</th>\n",
       "      <th>0</th>\n",
       "      <th>1</th>\n",
       "      <th>0</th>\n",
       "      <th>1</th>\n",
       "      <th>0</th>\n",
       "      <th>1</th>\n",
       "      <th>0</th>\n",
       "      <th>1</th>\n",
       "    </tr>\n",
       "    <tr>\n",
       "      <th>toxic</th>\n",
       "      <th></th>\n",
       "      <th></th>\n",
       "      <th></th>\n",
       "      <th></th>\n",
       "      <th></th>\n",
       "      <th></th>\n",
       "      <th></th>\n",
       "      <th></th>\n",
       "      <th></th>\n",
       "      <th></th>\n",
       "    </tr>\n",
       "  </thead>\n",
       "  <tbody>\n",
       "    <tr>\n",
       "      <th>0</th>\n",
       "      <td>144277</td>\n",
       "      <td>0</td>\n",
       "      <td>143754</td>\n",
       "      <td>523</td>\n",
       "      <td>144248</td>\n",
       "      <td>29</td>\n",
       "      <td>143744</td>\n",
       "      <td>533</td>\n",
       "      <td>144174</td>\n",
       "      <td>103</td>\n",
       "    </tr>\n",
       "    <tr>\n",
       "      <th>1</th>\n",
       "      <td>13699</td>\n",
       "      <td>1595</td>\n",
       "      <td>7368</td>\n",
       "      <td>7926</td>\n",
       "      <td>14845</td>\n",
       "      <td>449</td>\n",
       "      <td>7950</td>\n",
       "      <td>7344</td>\n",
       "      <td>13992</td>\n",
       "      <td>1302</td>\n",
       "    </tr>\n",
       "  </tbody>\n",
       "</table>\n",
       "</div>"
      ],
      "text/plain": [
       "      severe_toxic       obscene        threat       insult        \\\n",
       "                 0     1       0     1       0    1       0     1   \n",
       "toxic                                                               \n",
       "0           144277     0  143754   523  144248   29  143744   533   \n",
       "1            13699  1595    7368  7926   14845  449    7950  7344   \n",
       "\n",
       "      identity_hate        \n",
       "                  0     1  \n",
       "toxic                      \n",
       "0            144174   103  \n",
       "1             13992  1302  "
      ]
     },
     "execution_count": 9,
     "metadata": {},
     "output_type": "execute_result"
    }
   ],
   "source": [
    "main_col=\"toxic\"\n",
    "corr_mats=[]\n",
    "for other_col in temp_df.columns[1:]:\n",
    "    confusion_matrix = pd.crosstab(temp_df[main_col], temp_df[other_col])\n",
    "    array_conf_matrix = np.array(confusion_matrix.values)\n",
    "    df_conf_matrix = pd.DataFrame(array_conf_matrix)\n",
    "    corr_mats.append(df_conf_matrix)\n",
    "out = pd.concat(corr_mats,axis=1,keys=temp_df.columns[1:])\n",
    "out.index.name = 'toxic'\n",
    "\n",
    "out"
   ]
  },
  {
   "cell_type": "markdown",
   "metadata": {},
   "source": [
    "## Все очень токсичные комментарии - токсичные"
   ]
  },
  {
   "cell_type": "markdown",
   "metadata": {},
   "source": [
    "# Придумайте и обоснуйте стратегию валидации.\n",
    "Сделайте предбработку данных. Оцените что требуется делать с символами, заглавными буквами. Проведите лемматизацию или стеминг."
   ]
  },
  {
   "cell_type": "markdown",
   "metadata": {},
   "source": [
    "# Сделал Adversarial validation, вроде неплохо сходится с тестом"
   ]
  },
  {
   "cell_type": "code",
   "execution_count": 10,
   "metadata": {},
   "outputs": [],
   "source": [
    "from sklearn.linear_model import LogisticRegression\n",
    "from sklearn.feature_extraction.text import CountVectorizer, TfidfVectorizer\n",
    "import re, string\n",
    "import time\n",
    "from scipy.sparse import hstack, vstack\n",
    "\n",
    "from sklearn.model_selection import StratifiedKFold"
   ]
  },
  {
   "cell_type": "code",
   "execution_count": 11,
   "metadata": {},
   "outputs": [],
   "source": [
    "def tokenize(s): \n",
    "#     global a\n",
    "#     if a == 0:\n",
    "#         print(s)\n",
    "#         a = 1\n",
    "    return re_tok.sub(r' \\1 ', s).split()"
   ]
  },
  {
   "cell_type": "code",
   "execution_count": 12,
   "metadata": {},
   "outputs": [
    {
     "data": {
      "text/plain": [
       "'!\"#$%&\\'()*+,-./:;<=>?@[\\\\]^_`{|}~'"
      ]
     },
     "execution_count": 12,
     "metadata": {},
     "output_type": "execute_result"
    }
   ],
   "source": [
    "string.punctuation"
   ]
  },
  {
   "cell_type": "code",
   "execution_count": 13,
   "metadata": {},
   "outputs": [],
   "source": [
    "tmp = \"explanation why the edits made under my username hardcore metallica fan were reverted? they weren' t vandalisms, just closure on some gas after i voted at new york dolls fac. and please don't remove the template from the talk page since i'm retired now.89.205.38.27\""
   ]
  },
  {
   "cell_type": "code",
   "execution_count": 14,
   "metadata": {},
   "outputs": [
    {
     "data": {
      "text/plain": [
       "0    Explanation\\r\\nWhy the edits made under my use...\n",
       "1    D'aww! He matches this background colour I'm s...\n",
       "2    Hey man, I'm really not trying to edit war. It...\n",
       "3    \"\\r\\nMore\\r\\nI can't make any real suggestions...\n",
       "4    You, sir, are my hero. Any chance you remember...\n",
       "Name: comment_text, dtype: object"
      ]
     },
     "execution_count": 14,
     "metadata": {},
     "output_type": "execute_result"
    }
   ],
   "source": [
    "train['comment_text'][:5]"
   ]
  },
  {
   "cell_type": "code",
   "execution_count": 15,
   "metadata": {},
   "outputs": [],
   "source": [
    "vec = TfidfVectorizer(ngram_range=(1,2), lowercase=True,\n",
    "               min_df=4, strip_accents='unicode', use_idf=1,\n",
    "                      smooth_idf=1, sublinear_tf=1)\n",
    "tmp1 = vec.fit_transform(train['comment_text'][:1000])"
   ]
  },
  {
   "cell_type": "code",
   "execution_count": 16,
   "metadata": {},
   "outputs": [],
   "source": [
    "# print(tmp1)"
   ]
  },
  {
   "cell_type": "code",
   "execution_count": 17,
   "metadata": {},
   "outputs": [],
   "source": [
    "# print(vec.get_feature_names())"
   ]
  },
  {
   "cell_type": "code",
   "execution_count": 18,
   "metadata": {},
   "outputs": [
    {
     "name": "stdout",
     "output_type": "stream",
     "text": [
      "\u0001\n"
     ]
    }
   ],
   "source": [
    "print('\\1')"
   ]
  },
  {
   "cell_type": "code",
   "execution_count": 19,
   "metadata": {},
   "outputs": [],
   "source": [
    "# Tf-idf\n",
    "\n",
    "# prepare tokenizer\n",
    "re_tok = re.compile(f'([{string.punctuation}“”¨«»®´·º½¾¿¡§£₤‘’])')\n",
    "\n",
    "# create sparse matrices\n",
    "n = train.shape[0]\n",
    "vec = TfidfVectorizer(ngram_range=(1,2), tokenizer=tokenize,\n",
    "               min_df=3, max_df=0.9, strip_accents='unicode', use_idf=1,\n",
    "                      smooth_idf=1, sublinear_tf=1)\n",
    "train_term_doc = vec.fit_transform(train['comment_text'])\n",
    "test_term_doc = vec.transform(test['comment_text'])"
   ]
  },
  {
   "cell_type": "code",
   "execution_count": 20,
   "metadata": {},
   "outputs": [],
   "source": [
    "# combine\n",
    "ytrain = np.zeros((train_term_doc.shape[0]))\n",
    "ytest = np.ones((test_term_doc.shape[0]))\n",
    "# ydat = np.hstack((ytrain, ytest))\n",
    "\n",
    "# xdat = vstack([train_term_doc, test_term_doc], format='csr') # разреженная матрица"
   ]
  },
  {
   "cell_type": "code",
   "execution_count": 21,
   "metadata": {},
   "outputs": [],
   "source": [
    "nfolds = 10\n",
    "seed = 42\n",
    "\n",
    "# stratified split\n",
    "skf = StratifiedKFold(n_splits=nfolds, random_state=seed, shuffle=True)\n",
    "\n",
    "score_vec = np.zeros((train_term_doc.shape[0]))"
   ]
  },
  {
   "cell_type": "code",
   "execution_count": 22,
   "metadata": {},
   "outputs": [
    {
     "name": "stdout",
     "output_type": "stream",
     "text": [
      "[    20     24     34 ... 159557 159560 159561]\n",
      "[     0      4     12 ... 159564 159568 159570]\n",
      "[    23     31     39 ... 159494 159523 159542]\n",
      "[    22     48     54 ... 159514 159551 159563]\n",
      "[     3      8     14 ... 159549 159554 159555]\n",
      "[     1      7     17 ... 159556 159558 159565]\n",
      "[     6     21     29 ... 159518 159543 159567]\n",
      "[     2      9     11 ... 159544 159550 159569]\n",
      "[    10     16     18 ... 159538 159562 159566]\n",
      "[     5     15     26 ... 159546 159548 159553]\n"
     ]
    }
   ],
   "source": [
    "for (f, (train_index, test_index)) in enumerate(skf.split(train_term_doc, ytrain)):\n",
    "    print(test_index)\n",
    "    score_vec[test_index] = test_index"
   ]
  },
  {
   "cell_type": "code",
   "execution_count": 23,
   "metadata": {},
   "outputs": [
    {
     "data": {
      "text/plain": [
       "array([0.00000e+00, 1.00000e+00, 2.00000e+00, ..., 1.59568e+05,\n",
       "       1.59569e+05, 1.59570e+05])"
      ]
     },
     "execution_count": 23,
     "metadata": {},
     "output_type": "execute_result"
    }
   ],
   "source": [
    "score_vec"
   ]
  },
  {
   "cell_type": "code",
   "execution_count": 24,
   "metadata": {},
   "outputs": [
    {
     "name": "stdout",
     "output_type": "stream",
     "text": [
      "0\n"
     ]
    },
    {
     "name": "stderr",
     "output_type": "stream",
     "text": [
      "C:\\Users\\daniil\\.conda\\envs\\keras-gpu\\lib\\site-packages\\sklearn\\linear_model\\logistic.py:432: FutureWarning: Default solver will be changed to 'lbfgs' in 0.22. Specify a solver to silence this warning.\n",
      "  FutureWarning)\n"
     ]
    },
    {
     "name": "stdout",
     "output_type": "stream",
     "text": [
      "1\n",
      "2\n",
      "3\n",
      "4\n",
      "5\n",
      "6\n",
      "7\n",
      "8\n",
      "9\n"
     ]
    }
   ],
   "source": [
    "for (f, (train_index, test_index)) in enumerate(skf.split(train_term_doc, ytrain)):\n",
    "    print(f)\n",
    "    x_train = vstack([train_term_doc[train_index], test_term_doc], format='csr') # разреженная матрица\n",
    "    y_train = np.hstack((ytrain[train_index], ytest))\n",
    "#     print(x_train.shape, y_train.shape)\n",
    "    \n",
    "    x_pred = train_term_doc[test_index]\n",
    "#     print(x_pred.shape)   \n",
    "\n",
    "    clf = LogisticRegression()\n",
    "    clf.fit(x_train, y_train)\n",
    "    \n",
    "    score_vec[test_index] = clf.predict_proba(x_pred)[:,1]\n",
    "    "
   ]
  },
  {
   "cell_type": "code",
   "execution_count": 25,
   "metadata": {},
   "outputs": [
    {
     "data": {
      "text/plain": [
       "array([0.08667706, 0.01250078, 0.19284559, ..., 0.40649834, 0.13427026,\n",
       "       0.26577031])"
      ]
     },
     "execution_count": 25,
     "metadata": {},
     "output_type": "execute_result"
    }
   ],
   "source": [
    "score_vec"
   ]
  },
  {
   "cell_type": "code",
   "execution_count": 26,
   "metadata": {},
   "outputs": [
    {
     "data": {
      "text/plain": [
       "<zip at 0x1a644f40088>"
      ]
     },
     "execution_count": 26,
     "metadata": {},
     "output_type": "execute_result"
    }
   ],
   "source": [
    "d = zip(score_vec, range(len(score_vec)))\n",
    "d"
   ]
  },
  {
   "cell_type": "code",
   "execution_count": 27,
   "metadata": {},
   "outputs": [],
   "source": [
    "d = list(d)"
   ]
  },
  {
   "cell_type": "code",
   "execution_count": 28,
   "metadata": {},
   "outputs": [
    {
     "data": {
      "text/plain": [
       "[(0.9999999888361576, 138308),\n",
       " (0.9999999870277558, 5899),\n",
       " (0.9999997587077896, 21006),\n",
       " (0.9999996949288759, 26302),\n",
       " (0.9999981539807209, 144777),\n",
       " (0.9999979601639992, 152734),\n",
       " (0.999997773018945, 102168),\n",
       " (0.9999963140987113, 139068),\n",
       " (0.999993787236596, 76077),\n",
       " (0.9999937096593495, 94613),\n",
       " (0.9999930949126881, 142050),\n",
       " (0.9999918670799578, 132921),\n",
       " (0.9999914606242452, 150297),\n",
       " (0.9999909606585367, 47867),\n",
       " (0.9999908419217896, 67626),\n",
       " (0.9999884698825029, 45228),\n",
       " (0.9999876205582292, 135859),\n",
       " (0.9999847010289344, 131779),\n",
       " (0.9999835180455837, 47806),\n",
       " (0.9999819878144973, 17429),\n",
       " (0.9999776512619029, 157945),\n",
       " (0.9999756180967504, 12681),\n",
       " (0.9999755243780958, 39344),\n",
       " (0.9999726446517953, 12537),\n",
       " (0.9999719399269217, 89507),\n",
       " (0.9999669726760142, 137634),\n",
       " (0.9999612038532105, 112575),\n",
       " (0.99996055059267, 97057),\n",
       " (0.9999588158870268, 86072),\n",
       " (0.9999567068063993, 124542),\n",
       " (0.9999542277008658, 76007),\n",
       " (0.9999537407039889, 25313),\n",
       " (0.9999490489066831, 82964),\n",
       " (0.9999483948379077, 24171),\n",
       " (0.9999410401385103, 145433),\n",
       " (0.9999403639574889, 138800),\n",
       " (0.9999389693382135, 13686),\n",
       " (0.9999333711704249, 139145),\n",
       " (0.9999305044946385, 19097),\n",
       " (0.9999272575858388, 123252),\n",
       " (0.999926085511742, 140904),\n",
       " (0.9999224435949478, 80924),\n",
       " (0.9999128720723894, 146376),\n",
       " (0.999910712759218, 62937),\n",
       " (0.9999099598382417, 144761),\n",
       " (0.9999075080584415, 112437),\n",
       " (0.9999008735875999, 94245),\n",
       " (0.9998917246497093, 104281),\n",
       " (0.9998896392517005, 138745),\n",
       " (0.9998853386130867, 124841),\n",
       " (0.9998840539561622, 113456),\n",
       " (0.999882686165432, 117505),\n",
       " (0.9998810132589866, 36227),\n",
       " (0.9998781302368319, 61655),\n",
       " (0.9998680903364258, 11796),\n",
       " (0.9998627673054097, 37790),\n",
       " (0.9998603881215988, 129181),\n",
       " (0.9998569987084627, 79405),\n",
       " (0.9998557402528336, 116325),\n",
       " (0.9998553966858583, 83252),\n",
       " (0.9998427979329036, 49323),\n",
       " (0.9998422405805225, 129964),\n",
       " (0.999836617645059, 154266),\n",
       " (0.9998294028859496, 29250),\n",
       " (0.9998189704056183, 155415),\n",
       " (0.9998159049129217, 118012),\n",
       " (0.9998059045412494, 53971),\n",
       " (0.9998050963265384, 39929),\n",
       " (0.9997916591030076, 154990),\n",
       " (0.9997913721522471, 95738),\n",
       " (0.99979041543935, 64356),\n",
       " (0.9997855187291985, 23894),\n",
       " (0.9997615238660962, 41885),\n",
       " (0.9997544369080236, 151978),\n",
       " (0.9997522014863809, 8586),\n",
       " (0.9997479632812464, 137129),\n",
       " (0.9997475544296908, 45695),\n",
       " (0.9997444301475208, 76698),\n",
       " (0.9997365998201994, 74776),\n",
       " (0.9997340061289476, 126525),\n",
       " (0.999733860846431, 157511),\n",
       " (0.9997318643096716, 148701),\n",
       " (0.9997231861086305, 134435),\n",
       " (0.9996973697173267, 135896),\n",
       " (0.9996857451380329, 84853),\n",
       " (0.9996789634610238, 95718),\n",
       " (0.999675629116814, 126653),\n",
       " (0.9996700557870445, 103393),\n",
       " (0.9996582764469215, 104958),\n",
       " (0.9996551514302044, 134338),\n",
       " (0.9996440971336926, 49757),\n",
       " (0.9996347583113858, 84413),\n",
       " (0.9996273594493471, 110920),\n",
       " (0.9996268875309247, 45391),\n",
       " (0.9996187163355057, 83566),\n",
       " (0.9996128156850215, 109633),\n",
       " (0.9995980920946471, 17176),\n",
       " (0.9995761164801659, 142437),\n",
       " (0.999558412549149, 29413),\n",
       " (0.9995309877027218, 92915),\n",
       " (0.9995111146141015, 31311),\n",
       " (0.9995067582083171, 11076),\n",
       " (0.99950436044301, 140926),\n",
       " (0.999504075867012, 90033),\n",
       " (0.999480779727571, 155403),\n",
       " (0.9994712762013431, 150762),\n",
       " (0.9994635517300708, 92348),\n",
       " (0.9994625392424475, 135124),\n",
       " (0.9994622398365027, 51923),\n",
       " (0.999461925343816, 76543),\n",
       " (0.9994608419970352, 88655),\n",
       " (0.9994529846761975, 21314),\n",
       " (0.9994519702714473, 146511),\n",
       " (0.9994485551218937, 150191),\n",
       " (0.9994305396470666, 17371),\n",
       " (0.9994199873448613, 108238),\n",
       " (0.9994105570069592, 72946),\n",
       " (0.9994065350465835, 117327),\n",
       " (0.9993960900211606, 103194),\n",
       " (0.999394877809505, 83496),\n",
       " (0.9993894521471481, 101024),\n",
       " (0.9993873046963058, 53181),\n",
       " (0.9993702609616428, 105576),\n",
       " (0.9993625292225848, 7933),\n",
       " (0.9993625106521088, 129442),\n",
       " (0.9993601832832096, 48800),\n",
       " (0.9993499205320889, 143988),\n",
       " (0.9993386551552638, 40055),\n",
       " (0.9993029798246041, 70726),\n",
       " (0.9992880628871581, 45088),\n",
       " (0.9992786296678277, 113751),\n",
       " (0.9992679882222663, 137559),\n",
       " (0.9992565936834792, 124449),\n",
       " (0.9992480246905415, 83327),\n",
       " (0.9992343469940161, 137027),\n",
       " (0.9992162550789501, 147102),\n",
       " (0.9992156380872974, 127687),\n",
       " (0.9992128743582934, 102574),\n",
       " (0.9992073513845238, 93312),\n",
       " (0.9991999125516724, 71485),\n",
       " (0.9991619740175169, 50580),\n",
       " (0.9991441171632783, 22729),\n",
       " (0.9991329772051122, 55948),\n",
       " (0.9991261959948787, 72108),\n",
       " (0.999100970802403, 87309),\n",
       " (0.9990830899952688, 53911),\n",
       " (0.9990709985278485, 87204),\n",
       " (0.9990406046378321, 16377),\n",
       " (0.9990106569035506, 116435),\n",
       " (0.9989999406705241, 158279),\n",
       " (0.9989982626330743, 109563),\n",
       " (0.998997159815831, 91823),\n",
       " (0.9989937829776742, 56454),\n",
       " (0.9989883241890033, 85443),\n",
       " (0.9989791456366796, 7407),\n",
       " (0.9989753458668924, 78412),\n",
       " (0.9989737494816208, 10227),\n",
       " (0.9989616852289103, 63527),\n",
       " (0.9989444026096238, 3230),\n",
       " (0.9989213906205708, 37717),\n",
       " (0.9989211173983035, 126159),\n",
       " (0.9989176081147486, 22585),\n",
       " (0.9989103773666655, 23483),\n",
       " (0.9989101575108311, 14103),\n",
       " (0.9989017871388604, 131371),\n",
       " (0.9988937535659411, 47648),\n",
       " (0.9988879801300563, 87751),\n",
       " (0.9988732942286938, 109139),\n",
       " (0.9988553524590696, 43265),\n",
       " (0.998850804569618, 28236),\n",
       " (0.9988447844021239, 70838),\n",
       " (0.998840082321517, 62226),\n",
       " (0.9988218372468091, 123137),\n",
       " (0.9988108346978142, 7980),\n",
       " (0.998791628402568, 127486),\n",
       " (0.9987871859639648, 284),\n",
       " (0.998777006652209, 130252),\n",
       " (0.9987730857207491, 139159),\n",
       " (0.9987671275128828, 75949),\n",
       " (0.9987648665320333, 89473),\n",
       " (0.9987345245487483, 30340),\n",
       " (0.9987073292415694, 142968),\n",
       " (0.9987017679411523, 136865),\n",
       " (0.9987001856665961, 138806),\n",
       " (0.9986897936753097, 142230),\n",
       " (0.9986868045430755, 155176),\n",
       " (0.998674758590791, 32401),\n",
       " (0.9986623352609144, 13616),\n",
       " (0.9986619079306831, 105759),\n",
       " (0.9986580006708302, 123237),\n",
       " (0.9986560429196384, 4648),\n",
       " (0.9986455941311472, 142680),\n",
       " (0.998568390250694, 151085),\n",
       " (0.9985594756846622, 151024),\n",
       " (0.9985555302538793, 63722),\n",
       " (0.9985552250968502, 10671),\n",
       " (0.9985503720986387, 150523),\n",
       " (0.998549698635649, 1861),\n",
       " (0.9985255433392226, 149845),\n",
       " (0.9984945533170795, 137263),\n",
       " (0.9984913379433598, 154370),\n",
       " (0.9984731145091184, 38673),\n",
       " (0.9984662521299024, 146011),\n",
       " (0.9984642436706507, 67206),\n",
       " (0.9984511710167735, 51676),\n",
       " (0.9984451719190327, 35646),\n",
       " (0.9984393588444791, 158866),\n",
       " (0.9983937182881555, 119424),\n",
       " (0.9983883488863604, 58717),\n",
       " (0.9983477701173178, 71233),\n",
       " (0.9983246395648053, 142321),\n",
       " (0.9983079358395008, 144901),\n",
       " (0.9982972253007251, 79391),\n",
       " (0.9982889657283974, 104848),\n",
       " (0.9982813827910104, 70392),\n",
       " (0.9982438386069981, 134334),\n",
       " (0.9982277730610897, 153670),\n",
       " (0.9982091517806292, 8152),\n",
       " (0.9982021004831408, 155557),\n",
       " (0.9981878933323965, 146178),\n",
       " (0.998173314418813, 2629),\n",
       " (0.9981714171230084, 111538),\n",
       " (0.9980947790637571, 147180),\n",
       " (0.998077539735905, 5477),\n",
       " (0.9980662595435988, 143142),\n",
       " (0.9980566740456374, 30919),\n",
       " (0.9980354055131742, 108092),\n",
       " (0.9980140096023737, 155645),\n",
       " (0.9979898560720356, 88080),\n",
       " (0.9979770812564044, 14370),\n",
       " (0.9979730140146841, 73345),\n",
       " (0.9979528706984199, 31650),\n",
       " (0.9979517927196365, 42019),\n",
       " (0.9979458726824306, 97774),\n",
       " (0.9979450137792802, 131013),\n",
       " (0.9979417460323612, 101294),\n",
       " (0.9979311185791512, 99437),\n",
       " (0.9979170193270366, 24131),\n",
       " (0.9979026311508501, 55945),\n",
       " (0.99790140033771, 1261),\n",
       " (0.997893734989341, 13379),\n",
       " (0.9978693193813895, 116030),\n",
       " (0.9978624088899734, 68969),\n",
       " (0.9978498591883221, 15791),\n",
       " (0.9978480804539199, 101982),\n",
       " (0.9977996088798162, 124273),\n",
       " (0.9977150724629419, 119472),\n",
       " (0.9977126040076211, 146274),\n",
       " (0.9976805182630918, 125198),\n",
       " (0.9976760585244201, 29421),\n",
       " (0.9976602890379379, 34772),\n",
       " (0.9976144084198754, 141721),\n",
       " (0.9976035207132876, 92717),\n",
       " (0.9976027785729294, 83522),\n",
       " (0.9975973539450798, 14899),\n",
       " (0.9975923255711815, 17510),\n",
       " (0.9975868499625825, 119671),\n",
       " (0.9975803730091123, 95311),\n",
       " (0.9975524427386145, 137871),\n",
       " (0.9975331550802623, 34584),\n",
       " (0.997521939562622, 100048),\n",
       " (0.9974813942146445, 41959),\n",
       " (0.9974739626088759, 137569),\n",
       " (0.9974725532491996, 53641),\n",
       " (0.9974646642222199, 60481),\n",
       " (0.9974115675396452, 92914),\n",
       " (0.9974038159335591, 56616),\n",
       " (0.9974020256616579, 66932),\n",
       " (0.9973876074628794, 82858),\n",
       " (0.997385998603628, 10019),\n",
       " (0.9973749733981089, 50922),\n",
       " (0.9973672030888157, 97075),\n",
       " (0.997357040565646, 77968),\n",
       " (0.997336354283693, 4819),\n",
       " (0.9973027688385973, 141626),\n",
       " (0.9972721569740414, 88894),\n",
       " (0.9972631470596292, 49026),\n",
       " (0.9972613221520303, 50585),\n",
       " (0.9972554081533039, 114382),\n",
       " (0.9972189684135034, 136387),\n",
       " (0.9972153578928347, 127348),\n",
       " (0.9971724814064503, 157906),\n",
       " (0.997153706571401, 153174),\n",
       " (0.9971499941528832, 18575),\n",
       " (0.9971360672355477, 51924),\n",
       " (0.9971024277115422, 157387),\n",
       " (0.9970735398598897, 29689),\n",
       " (0.9970538538016072, 157118),\n",
       " (0.9970410903613817, 149423),\n",
       " (0.9970354561162792, 44923),\n",
       " (0.9969992525578308, 45972),\n",
       " (0.9969985328104989, 131044),\n",
       " (0.9969759090705597, 101125),\n",
       " (0.9969662033894033, 47192),\n",
       " (0.9969025668995669, 1192),\n",
       " (0.9968934668374634, 137639),\n",
       " (0.9968587032181822, 106736),\n",
       " (0.9968548289994416, 106612),\n",
       " (0.9967714611953346, 81805),\n",
       " (0.9967650473446591, 59670),\n",
       " (0.9967149398883955, 114950),\n",
       " (0.9966798723797637, 8458),\n",
       " (0.9966621810026662, 139496),\n",
       " (0.9966516385305777, 88072),\n",
       " (0.996636060767967, 85242),\n",
       " (0.9966347833031751, 37278),\n",
       " (0.99663453003535, 49013),\n",
       " (0.9966235387538723, 156888),\n",
       " (0.9966020693599965, 93337),\n",
       " (0.9965403476141195, 24455),\n",
       " (0.9965294455796947, 121430),\n",
       " (0.9964789784799967, 108271),\n",
       " (0.9964735413201457, 101873),\n",
       " (0.9964243612313848, 64146),\n",
       " (0.9964226888038079, 134777),\n",
       " (0.9964190752125722, 147061),\n",
       " (0.9963876314832406, 59068),\n",
       " (0.9963627231004478, 51008),\n",
       " (0.9963445533900883, 60728),\n",
       " (0.9963146217491005, 84550),\n",
       " (0.9963063664469589, 41315),\n",
       " (0.99630069436973, 120935),\n",
       " (0.9962808653455258, 107066),\n",
       " (0.9962776435863839, 80482),\n",
       " (0.9962650814511378, 115959),\n",
       " (0.9962544020848741, 132544),\n",
       " (0.9962184956911027, 134112),\n",
       " (0.9962113086680542, 110146),\n",
       " (0.9961748589681954, 59047),\n",
       " (0.9961482737324702, 116772),\n",
       " (0.9961435893434225, 73966),\n",
       " (0.9961319745601468, 74407),\n",
       " (0.9961087095953233, 4075),\n",
       " (0.9961024197711656, 17409),\n",
       " (0.9959924549504849, 80492),\n",
       " (0.9959871752462488, 158097),\n",
       " (0.9959608481836845, 55893),\n",
       " (0.9959559290579876, 103687),\n",
       " (0.9959475883166925, 113680),\n",
       " (0.9959165323846029, 121171),\n",
       " (0.9958950621385074, 45572),\n",
       " (0.9958836951437032, 128278),\n",
       " (0.9958826787658231, 95304),\n",
       " (0.995844909512824, 136987),\n",
       " (0.9958431336886874, 122335),\n",
       " (0.9958412682655352, 7021),\n",
       " (0.9957989241432399, 156378),\n",
       " (0.9957767160663835, 119402),\n",
       " (0.9957682074267439, 117843),\n",
       " (0.9957426383322523, 133068),\n",
       " (0.9957384978106805, 147568),\n",
       " (0.9957333118205024, 92238),\n",
       " (0.995717875037203, 76810),\n",
       " (0.9957137392823998, 43578),\n",
       " (0.9956657486089945, 79392),\n",
       " (0.9956514703637175, 60917),\n",
       " (0.9956340787637725, 44192),\n",
       " (0.9956250450992438, 15300),\n",
       " (0.9955594282903613, 137164),\n",
       " (0.9955551626261943, 33580),\n",
       " (0.9955330374402162, 126556),\n",
       " (0.995528722222211, 53336),\n",
       " (0.9955042985419053, 136527),\n",
       " (0.9954855327305305, 15332),\n",
       " (0.9954660169927549, 6953),\n",
       " (0.995456359856341, 26009),\n",
       " (0.9954329768285789, 98587),\n",
       " (0.9954324852716077, 110883),\n",
       " (0.9953819168978751, 24180),\n",
       " (0.9953491378838342, 142256),\n",
       " (0.9952586316121587, 7173),\n",
       " (0.9952422122330883, 107798),\n",
       " (0.995187631765778, 133109),\n",
       " (0.9951865552849074, 144168),\n",
       " (0.9951793956601396, 94539),\n",
       " (0.9951388559223419, 52816),\n",
       " (0.9951254858632602, 142464),\n",
       " (0.9950998023188297, 111566),\n",
       " (0.9950935100325494, 79994),\n",
       " (0.9950801418717997, 12346),\n",
       " (0.9950530751793154, 59534),\n",
       " (0.9949886832479734, 43130),\n",
       " (0.9949561276803867, 13184),\n",
       " (0.9949477820919301, 87815),\n",
       " (0.9948929202547603, 24175),\n",
       " (0.9948336666727476, 47015),\n",
       " (0.9948296478383467, 153163),\n",
       " (0.9948233011385748, 80360),\n",
       " (0.9948142617332905, 59104),\n",
       " (0.9947483390806525, 50438),\n",
       " (0.9946245127141833, 130554),\n",
       " (0.9945997498046373, 103431),\n",
       " (0.9945891338495606, 104947),\n",
       " (0.9945846496298246, 67774),\n",
       " (0.9945829116135334, 76415),\n",
       " (0.9945524504775846, 124782),\n",
       " (0.9945354456901798, 23614),\n",
       " (0.994464807083451, 91426),\n",
       " (0.9944642678462065, 98589),\n",
       " (0.9944503380490349, 149750),\n",
       " (0.9944049747696748, 24206),\n",
       " (0.9943931322157654, 132300),\n",
       " (0.994360695027087, 23195),\n",
       " (0.9943426638072143, 50110),\n",
       " (0.9943279228700367, 135275),\n",
       " (0.9943246236081013, 141863),\n",
       " (0.9942425901447717, 91704),\n",
       " (0.9941731710414564, 126831),\n",
       " (0.9941721680449208, 86940),\n",
       " (0.9940870359984804, 158691),\n",
       " (0.9940642147836976, 120877),\n",
       " (0.9940497244956183, 108500),\n",
       " (0.9940335703739686, 97156),\n",
       " (0.9940300288020542, 129608),\n",
       " (0.9940118620838532, 156937),\n",
       " (0.9939620165645358, 68541),\n",
       " (0.9939526204459043, 153089),\n",
       " (0.993927990712354, 147141),\n",
       " (0.9939174860715688, 61303),\n",
       " (0.9938402692477523, 158798),\n",
       " (0.993772597460049, 127572),\n",
       " (0.9937656861484655, 91580),\n",
       " (0.9937591912948657, 32239),\n",
       " (0.9937461939340858, 2674),\n",
       " (0.9937407000703343, 38696),\n",
       " (0.9936662455430522, 150559),\n",
       " (0.993661984867904, 51895),\n",
       " (0.9936479998518065, 153335),\n",
       " (0.9936413636438005, 146906),\n",
       " (0.99362980881775, 60954),\n",
       " (0.9936236537927563, 36711),\n",
       " (0.9936048155620542, 141179),\n",
       " (0.9935944762756197, 76632),\n",
       " (0.9935660606890397, 11758),\n",
       " (0.9935506726363217, 59305),\n",
       " (0.9935413211161787, 89942),\n",
       " (0.993502486085647, 111242),\n",
       " (0.9934724727183386, 33876),\n",
       " (0.9934150753065584, 130744),\n",
       " (0.993327778828134, 45968),\n",
       " (0.9933081228622352, 111570),\n",
       " (0.9933023440975335, 43908),\n",
       " (0.9932971948037718, 68582),\n",
       " (0.9932952230716314, 98578),\n",
       " (0.9932196071007415, 54727),\n",
       " (0.993213423018771, 27264),\n",
       " (0.9932056290177983, 108757),\n",
       " (0.9931721476570406, 87951),\n",
       " (0.9931720558703138, 81882),\n",
       " (0.993166712796744, 27525),\n",
       " (0.9931073794534522, 72692),\n",
       " (0.9930879300239209, 111224),\n",
       " (0.9930673993324931, 91358),\n",
       " (0.9930591393108792, 106620),\n",
       " (0.993024223134735, 70217),\n",
       " (0.9929553268745945, 131729),\n",
       " (0.9929360782139518, 57158),\n",
       " (0.9928876818824441, 93238),\n",
       " (0.9928843946446881, 43692),\n",
       " (0.9928728233232305, 128055),\n",
       " (0.9928596963939671, 108898),\n",
       " (0.9928285574609703, 128244),\n",
       " (0.9928235132656537, 133300),\n",
       " (0.9927912830246585, 49562),\n",
       " (0.9927782529751784, 35767),\n",
       " (0.9927758432395024, 36721),\n",
       " (0.9927631445301593, 79201),\n",
       " (0.9927411514569814, 71061),\n",
       " (0.9926310962333963, 79868),\n",
       " (0.9926279795853802, 135909),\n",
       " (0.9926001065919501, 27574),\n",
       " (0.9925496360463736, 82506),\n",
       " (0.9925490112274121, 17792),\n",
       " (0.9925311049692822, 56029),\n",
       " (0.9925094696485798, 27911),\n",
       " (0.9924814722414539, 38668),\n",
       " (0.9924592970602957, 116887),\n",
       " (0.9924433391233437, 58152),\n",
       " (0.9924306095304051, 46771),\n",
       " (0.9924072903287926, 102688),\n",
       " (0.9924018665535074, 17791),\n",
       " (0.9923749194692555, 125633),\n",
       " (0.992340447278847, 145881),\n",
       " (0.9923167341654896, 9127),\n",
       " (0.9923156033511366, 150889),\n",
       " (0.9922987051239917, 11845),\n",
       " (0.9922462563805935, 109075),\n",
       " (0.9922291970469225, 106000),\n",
       " (0.9922183076416057, 149574),\n",
       " (0.992187250201379, 147730),\n",
       " (0.9921833648451466, 116095),\n",
       " (0.9921518588823591, 116489),\n",
       " (0.9921455718168288, 123450),\n",
       " (0.9921143154805669, 135655),\n",
       " (0.9920685490068941, 145891),\n",
       " (0.9920512316377322, 57333),\n",
       " (0.9920446159089172, 95715),\n",
       " (0.99200415656185, 149898),\n",
       " (0.9919616361536644, 18786),\n",
       " (0.9919608885957352, 52679),\n",
       " (0.9919439612520466, 139532),\n",
       " (0.9919413135793604, 63903),\n",
       " (0.9919255995254412, 151221),\n",
       " (0.9918817631838446, 14262),\n",
       " (0.9918468557134239, 92849),\n",
       " (0.9917923694766333, 89604),\n",
       " (0.9917825767140714, 136772),\n",
       " (0.9917822239853124, 155451),\n",
       " (0.9917580528463847, 143462),\n",
       " (0.9917568403654707, 128782),\n",
       " (0.9917308775829686, 138288),\n",
       " (0.9917094726089063, 12391),\n",
       " (0.9916583813320415, 129254),\n",
       " (0.9915374494030105, 80524),\n",
       " (0.9914944870112545, 70883),\n",
       " (0.9914910379293237, 48870),\n",
       " (0.9914751796507187, 145988),\n",
       " (0.9914504998866974, 96272),\n",
       " (0.9914223096210355, 7908),\n",
       " (0.9913937529824421, 35947),\n",
       " (0.9913130615028936, 32013),\n",
       " (0.9912949578519223, 43991),\n",
       " (0.9912881126276656, 120226),\n",
       " (0.9912805432207359, 104002),\n",
       " (0.9912625749952896, 22245),\n",
       " (0.9912511830719746, 143750),\n",
       " (0.9912058064132983, 119815),\n",
       " (0.9911667729485707, 35578),\n",
       " (0.9911595375991821, 148046),\n",
       " (0.9911382067409144, 134145),\n",
       " (0.9910792129243591, 79522),\n",
       " (0.9909757119443572, 110885),\n",
       " (0.9909495356726913, 10991),\n",
       " (0.9908453442527468, 137656),\n",
       " (0.9908103110649088, 47790),\n",
       " (0.990800002349551, 71494),\n",
       " (0.9907826766590513, 32042),\n",
       " (0.9907514117671073, 12279),\n",
       " (0.9907313859188882, 131192),\n",
       " (0.9906419598517957, 131181),\n",
       " (0.9906195107710684, 81377),\n",
       " (0.9906153496210911, 67048),\n",
       " (0.9905995806971264, 88580),\n",
       " (0.9905846278850301, 120709),\n",
       " (0.9903847127867034, 125889),\n",
       " (0.9903828306021147, 59036),\n",
       " (0.990238687763387, 54388),\n",
       " (0.9902053515221036, 156608),\n",
       " (0.9901770464301427, 20796),\n",
       " (0.9901534896610821, 11146),\n",
       " (0.9901379904162058, 23481),\n",
       " (0.9901176626072925, 79543),\n",
       " (0.9901175744824923, 102700),\n",
       " (0.9900974958251968, 150255),\n",
       " (0.990085208731381, 21093),\n",
       " (0.9900773564626075, 27924),\n",
       " (0.9900554846257223, 42165),\n",
       " (0.9900471690271766, 126933),\n",
       " (0.9900184604529153, 93804),\n",
       " (0.9899845438823635, 47637),\n",
       " (0.9899830883634032, 139016),\n",
       " (0.9898417953681105, 96656),\n",
       " (0.9898359913566954, 12965),\n",
       " (0.9898293481621154, 46222),\n",
       " (0.9898258754889556, 87662),\n",
       " (0.9898188099894654, 153932),\n",
       " (0.9898083596967878, 50755),\n",
       " (0.9896994971492301, 155054),\n",
       " (0.9896757771998727, 101069),\n",
       " (0.9896539896004714, 73446),\n",
       " (0.9896128625891006, 62834),\n",
       " (0.9895763928223803, 115940),\n",
       " (0.9895727895454159, 140864),\n",
       " (0.9894922400763949, 92124),\n",
       " (0.9894626408388706, 16371),\n",
       " (0.9894442491089939, 157376),\n",
       " (0.9894345815760345, 61474),\n",
       " (0.9893747331772104, 107160),\n",
       " (0.9893618814804429, 40061),\n",
       " (0.9893408066674696, 32139),\n",
       " (0.9892674933146564, 84420),\n",
       " (0.9892347239312507, 154573),\n",
       " (0.989211858055534, 135037),\n",
       " (0.9892112508142458, 133397),\n",
       " (0.9891841916335645, 110661),\n",
       " (0.9891250421800991, 5243),\n",
       " (0.9890976784628919, 61656),\n",
       " (0.9890223771607813, 80222),\n",
       " (0.9889599572287266, 148426),\n",
       " (0.9888618478679181, 7716),\n",
       " (0.988849707979236, 19797),\n",
       " (0.988832262989934, 83746),\n",
       " (0.9888218276712786, 8471),\n",
       " (0.9888144735610251, 26772),\n",
       " (0.9887627563923418, 21179),\n",
       " (0.9886554814226517, 6788),\n",
       " (0.9886040770210309, 6091),\n",
       " (0.9885414553532117, 40572),\n",
       " (0.9885288302468909, 48458),\n",
       " (0.9885287024322138, 136282),\n",
       " (0.9885191107536239, 143404),\n",
       " (0.9884472008526817, 107964),\n",
       " (0.9882819132384497, 78659),\n",
       " (0.98820284049015, 25876),\n",
       " (0.9881898858199812, 87421),\n",
       " (0.9881530293611689, 71654),\n",
       " (0.9881456160707294, 85020),\n",
       " (0.9881143752910974, 148343),\n",
       " (0.9879511622714685, 10181),\n",
       " (0.9879460287510773, 27016),\n",
       " (0.9879138869102435, 91343),\n",
       " (0.987828618574472, 12160),\n",
       " (0.9878094813640641, 110108),\n",
       " (0.9878089117212518, 2488),\n",
       " (0.9877585371747888, 34850),\n",
       " (0.9876935760425893, 70564),\n",
       " (0.9876634232927549, 41091),\n",
       " (0.987647701118623, 116013),\n",
       " (0.987645196862313, 114296),\n",
       " (0.9875757511505494, 68136),\n",
       " (0.9875517250263764, 157525),\n",
       " (0.9875222388371037, 73178),\n",
       " (0.9875155803180248, 155941),\n",
       " (0.9875081248829544, 83987),\n",
       " (0.9874381759585047, 138834),\n",
       " (0.9874153534824169, 111617),\n",
       " (0.9874051561653765, 122234),\n",
       " (0.9873514745934733, 149066),\n",
       " (0.9872744067205498, 144439),\n",
       " (0.9872090621336572, 67839),\n",
       " (0.9871500911484741, 65239),\n",
       " (0.9871394553629489, 37129),\n",
       " (0.9871130651685062, 143549),\n",
       " (0.9871060632206483, 66531),\n",
       " (0.9870663287493481, 57106),\n",
       " (0.9870660561377192, 1699),\n",
       " (0.9869980457677454, 87581),\n",
       " (0.9869907203429827, 57671),\n",
       " (0.9869605395337372, 65137),\n",
       " (0.9869243695460916, 51853),\n",
       " (0.9869134143910425, 113811),\n",
       " (0.9868795135804338, 43902),\n",
       " (0.9868560855867208, 73044),\n",
       " (0.9867478872333667, 109718),\n",
       " (0.9866692459803708, 104181),\n",
       " (0.9866194690530002, 25871),\n",
       " (0.9865136273412697, 122139),\n",
       " (0.9865110015749899, 88191),\n",
       " (0.9864687406457374, 77759),\n",
       " (0.986410204357887, 94099),\n",
       " (0.9863911775036929, 36016),\n",
       " (0.9863503529837938, 17643),\n",
       " (0.986279862992961, 558),\n",
       " (0.9862488220982455, 42956),\n",
       " (0.9862149694202722, 132106),\n",
       " (0.9862005676645658, 147874),\n",
       " (0.9861875347188435, 56195),\n",
       " (0.9860908796402973, 10071),\n",
       " (0.9860824290576922, 137410),\n",
       " (0.9860634767396115, 76362),\n",
       " (0.9860623692230601, 78185),\n",
       " (0.9860576129499514, 156784),\n",
       " (0.9860433645273372, 62606),\n",
       " (0.9860087076941433, 141505),\n",
       " (0.9859810106074549, 121017),\n",
       " (0.9859720550166058, 71554),\n",
       " (0.9859707023340274, 37403),\n",
       " (0.9859589370665796, 44741),\n",
       " (0.9859319302977959, 100988),\n",
       " (0.9858544893377835, 39213),\n",
       " (0.9858486324470672, 105978),\n",
       " (0.9858479510586624, 27426),\n",
       " (0.9858296198931765, 31286),\n",
       " (0.9857792180146633, 121945),\n",
       " (0.9856718763493244, 78981),\n",
       " (0.9856293350833708, 126312),\n",
       " (0.9855785263607502, 59853),\n",
       " (0.9855715392237602, 86261),\n",
       " (0.9854901428202515, 123973),\n",
       " (0.9854709270977206, 45489),\n",
       " (0.9854244788615542, 155177),\n",
       " (0.9854220424414992, 88286),\n",
       " (0.9853606250308554, 74607),\n",
       " (0.9853039156628621, 768),\n",
       " (0.9852932962759098, 35255),\n",
       " (0.985284906209785, 129980),\n",
       " (0.9852803471271037, 141399),\n",
       " (0.9851301846949932, 68725),\n",
       " (0.9850837144105662, 134862),\n",
       " (0.98507860198204, 127456),\n",
       " (0.9849739028955447, 146845),\n",
       " (0.9849222485757109, 114662),\n",
       " (0.9849078366991834, 137117),\n",
       " (0.9848930573033384, 72562),\n",
       " (0.9847514670905921, 47447),\n",
       " (0.9847481547076031, 114540),\n",
       " (0.9846540379935663, 14211),\n",
       " (0.9846384726672796, 127231),\n",
       " (0.9846228971439678, 26489),\n",
       " (0.9846104152284036, 77871),\n",
       " (0.9845516936670543, 18571),\n",
       " (0.9844619602335197, 45291),\n",
       " (0.9844547462872155, 102422),\n",
       " (0.9844286236386948, 58987),\n",
       " (0.9844049243302844, 84317),\n",
       " (0.984289584082101, 155612),\n",
       " (0.9842883677792759, 156522),\n",
       " (0.9842824103174234, 26273),\n",
       " (0.9842713707742742, 84996),\n",
       " (0.9842695494603595, 109054),\n",
       " (0.9842691627160716, 105342),\n",
       " (0.9841983243538135, 10441),\n",
       " (0.9841939332113626, 90913),\n",
       " (0.9841870339491237, 97431),\n",
       " (0.9841697461135681, 10264),\n",
       " (0.9841329426968035, 36969),\n",
       " (0.9839955133789869, 10314),\n",
       " (0.9839598434746821, 114589),\n",
       " (0.9838291091463824, 17065),\n",
       " (0.9837999828468895, 13028),\n",
       " (0.9837656208360137, 23782),\n",
       " (0.9837640459169368, 78222),\n",
       " (0.9837585010865021, 93610),\n",
       " (0.9836997756947483, 57509),\n",
       " (0.9836429013691941, 70454),\n",
       " (0.9836422140698197, 106224),\n",
       " (0.9835972066332827, 60255),\n",
       " (0.9835160567680363, 23250),\n",
       " (0.9835103505512144, 49047),\n",
       " (0.9835037722278109, 82970),\n",
       " (0.9834964206152992, 153975),\n",
       " (0.9834561504975872, 1713),\n",
       " (0.9834451938967277, 38276),\n",
       " (0.9833986746624398, 153043),\n",
       " (0.9833490897233308, 82811),\n",
       " (0.9833131411596355, 98522),\n",
       " (0.9833090856336818, 34036),\n",
       " (0.9833012573926054, 21893),\n",
       " (0.9832966319370186, 158136),\n",
       " (0.9832485790085644, 128668),\n",
       " (0.9832099252563452, 48794),\n",
       " (0.983184292534316, 68875),\n",
       " (0.9831448862201492, 121630),\n",
       " (0.9830916134626588, 28061),\n",
       " (0.983081937159332, 66321),\n",
       " (0.9830036091673088, 45109),\n",
       " (0.9829803042795336, 66741),\n",
       " (0.9829509936007526, 5419),\n",
       " (0.9829302586310348, 43807),\n",
       " (0.9829224031760591, 153402),\n",
       " (0.9828888727179907, 96577),\n",
       " (0.9828460189666582, 83513),\n",
       " (0.9828239431247544, 148295),\n",
       " (0.9827982726592119, 53713),\n",
       " (0.9827960218573196, 116483),\n",
       " (0.9827862632194418, 99316),\n",
       " (0.9827545569699639, 7067),\n",
       " (0.9827199961344748, 10813),\n",
       " (0.9827081429486929, 49756),\n",
       " (0.9826539577882005, 86248),\n",
       " (0.9826001691687125, 99195),\n",
       " (0.982554369166274, 40063),\n",
       " (0.9825513059967721, 5392),\n",
       " (0.9825502590284332, 79538),\n",
       " (0.9825396879460655, 150890),\n",
       " (0.9825372319341684, 94394),\n",
       " (0.9825052012301196, 143125),\n",
       " (0.9824864387911518, 98852),\n",
       " (0.9824491721084714, 53611),\n",
       " (0.9824347013458372, 88299),\n",
       " (0.9823173850096577, 119602),\n",
       " (0.9823116254585853, 134048),\n",
       " (0.9822827631250415, 156158),\n",
       " (0.9822366137621393, 47358),\n",
       " (0.9821526802955746, 132531),\n",
       " (0.9821431103538513, 29),\n",
       " (0.982124099874765, 113721),\n",
       " (0.9820580166561386, 157747),\n",
       " (0.9820497540274411, 45184),\n",
       " (0.9820082918560845, 7507),\n",
       " (0.9818408263570526, 60130),\n",
       " (0.9818278860767684, 159566),\n",
       " (0.9817581575192884, 1920),\n",
       " (0.9817330045533815, 142108),\n",
       " (0.9817086842257272, 69899),\n",
       " (0.981627439970724, 95013),\n",
       " (0.9816039597923809, 102197),\n",
       " (0.9815944925876545, 34605),\n",
       " (0.9815892255095577, 106920),\n",
       " (0.9815540672345224, 26536),\n",
       " (0.9815364550247834, 90351),\n",
       " (0.981534919282157, 30009),\n",
       " (0.9815222586230801, 32202),\n",
       " (0.981462257929453, 124639),\n",
       " (0.9814597735262106, 25572),\n",
       " (0.9814408801869303, 338),\n",
       " (0.9813443172209533, 69027),\n",
       " (0.981263501014329, 42467),\n",
       " (0.9812151932515394, 16773),\n",
       " (0.9811834109842786, 76505),\n",
       " (0.9811381764263722, 19683),\n",
       " (0.9811041876263169, 79565),\n",
       " (0.9810783247820578, 3377),\n",
       " (0.9810738131326012, 14786),\n",
       " (0.9810660607165791, 78120),\n",
       " (0.9810542030321976, 77025),\n",
       " (0.9810362842302831, 68243),\n",
       " (0.9810286272889347, 75876),\n",
       " (0.9810245962461486, 17827),\n",
       " (0.9809898602974496, 151484),\n",
       " (0.980880040261312, 29158),\n",
       " (0.9805881202326328, 46156),\n",
       " (0.9805599960573746, 157595),\n",
       " (0.9805428181821044, 127889),\n",
       " (0.9804842504776606, 27704),\n",
       " (0.9804510551313463, 102988),\n",
       " (0.9803916833734215, 130824),\n",
       " (0.9803598768247176, 29037),\n",
       " (0.9803032326755734, 10176),\n",
       " (0.9803017326063602, 34542),\n",
       " (0.9801692586523382, 79969),\n",
       " (0.9800771612725785, 44772),\n",
       " (0.9800269512064735, 4851),\n",
       " (0.9800177785703136, 126031),\n",
       " (0.9799993462062828, 74209),\n",
       " (0.9799488800986095, 123754),\n",
       " (0.9799486715423469, 104768),\n",
       " (0.979907329825771, 110068),\n",
       " (0.9797720509973477, 64369),\n",
       " (0.9797459324441854, 121385),\n",
       " (0.9796843637475857, 116851),\n",
       " (0.9796839724095369, 50830),\n",
       " (0.9796637394148531, 140282),\n",
       " (0.9796006706845093, 131691),\n",
       " (0.9795947739599129, 21963),\n",
       " (0.9795615863080006, 30551),\n",
       " (0.9795560010336416, 119270),\n",
       " (0.9795166215293742, 129118),\n",
       " (0.9794916044356898, 142297),\n",
       " (0.9794745434540357, 69470),\n",
       " (0.9794179802141282, 100626),\n",
       " (0.9793906286901701, 29568),\n",
       " (0.9792748086165498, 123285),\n",
       " (0.9792637771711528, 54406),\n",
       " (0.979257648571546, 91754),\n",
       " (0.979256458178231, 159283),\n",
       " (0.9792124725217383, 18940),\n",
       " (0.9792098131586049, 52338),\n",
       " (0.9792070892280703, 78634),\n",
       " (0.9791951654017618, 150558),\n",
       " (0.979123922867548, 145258),\n",
       " (0.978895467929053, 153099),\n",
       " (0.97885522233375, 48752),\n",
       " (0.9787827877112976, 134995),\n",
       " (0.9786885653658433, 111773),\n",
       " (0.9786844078419854, 71160),\n",
       " (0.9786595105854126, 110702),\n",
       " (0.9786451541414359, 125319),\n",
       " (0.9785930222506806, 62770),\n",
       " (0.9785894121225863, 115996),\n",
       " (0.9785521237334444, 100312),\n",
       " (0.9785257857291613, 147231),\n",
       " (0.9785224571760476, 27005),\n",
       " (0.9782321712141386, 141058),\n",
       " (0.9782286423102932, 134640),\n",
       " (0.9781874369080786, 20222),\n",
       " (0.9781607769916931, 143827),\n",
       " (0.9781411957212423, 117343),\n",
       " (0.9781179942746299, 110964),\n",
       " (0.9780037274266113, 9729),\n",
       " (0.9779519315077697, 157355),\n",
       " (0.9779411494663361, 61681),\n",
       " (0.977832442678221, 48157),\n",
       " (0.97780100837265, 7416),\n",
       " (0.9777890089149343, 4085),\n",
       " (0.9777521898771907, 1339),\n",
       " (0.9777446101325957, 36373),\n",
       " (0.9776222050938095, 98698),\n",
       " (0.9775956408717641, 147209),\n",
       " (0.9775810025789515, 114393),\n",
       " (0.9775590503700397, 74505),\n",
       " (0.977433334231541, 7671),\n",
       " (0.9774258748362353, 58940),\n",
       " (0.9774010260698522, 12815),\n",
       " (0.977380256099455, 148247),\n",
       " (0.9772811654615128, 122895),\n",
       " (0.9772670951943841, 113766),\n",
       " (0.9772519644355168, 134933),\n",
       " (0.9771751496264901, 36637),\n",
       " (0.9770451538131834, 108863),\n",
       " (0.9770418693538458, 109339),\n",
       " (0.9770348106202477, 125657),\n",
       " (0.976887245452984, 7869),\n",
       " (0.9768217644506998, 35778),\n",
       " (0.9767780051646409, 33182),\n",
       " (0.9767455142514198, 150062),\n",
       " (0.976724996929941, 67785),\n",
       " (0.9766698508398007, 101271),\n",
       " (0.9766692538407, 33930),\n",
       " (0.9765657886902577, 59030),\n",
       " (0.9763840654783239, 135326),\n",
       " (0.9763734824488934, 113759),\n",
       " (0.976359015880912, 5232),\n",
       " (0.9763009022030341, 127864),\n",
       " (0.9762659422739893, 82449),\n",
       " (0.9761717333673274, 70096),\n",
       " (0.9761489299578049, 82830),\n",
       " (0.9761100983093263, 109280),\n",
       " (0.9760758319645647, 121118),\n",
       " (0.9760733047721785, 103089),\n",
       " (0.9760447334574869, 117574),\n",
       " (0.9760128693166623, 80317),\n",
       " (0.9759573900550143, 150024),\n",
       " (0.9759251615991542, 37088),\n",
       " (0.9758871583643829, 105483),\n",
       " (0.9758652389264318, 119075),\n",
       " (0.9757905201841595, 83667),\n",
       " (0.9757490288757016, 19258),\n",
       " (0.9757227170570735, 73371),\n",
       " (0.9756796100363718, 142521),\n",
       " (0.9755260908271778, 75759),\n",
       " (0.9754723626849194, 16247),\n",
       " (0.9754038530199974, 126414),\n",
       " (0.9753642973692034, 77767),\n",
       " (0.9753391765306574, 35661),\n",
       " (0.9753131523538401, 57903),\n",
       " (0.9752974794532427, 28633),\n",
       " (0.9752734902152679, 1645),\n",
       " (0.9752720828421148, 96608),\n",
       " (0.9752711472743101, 133709),\n",
       " (0.9751877975981308, 89852),\n",
       " (0.9751566941019417, 134600),\n",
       " (0.9751393609562841, 50767),\n",
       " (0.9750088210685466, 63247),\n",
       " (0.9749700795938808, 25124),\n",
       " (0.9749517900237583, 45465),\n",
       " (0.9748930228774675, 93281),\n",
       " (0.974866930391877, 8416),\n",
       " (0.9748110243710606, 65373),\n",
       " (0.9747816838169227, 16741),\n",
       " (0.974780693005214, 109476),\n",
       " (0.974632281342847, 10827),\n",
       " (0.9745830710513749, 31938),\n",
       " (0.9744955615938365, 66592),\n",
       " (0.9744286333664178, 116284),\n",
       " (0.9744221620889916, 12603),\n",
       " (0.9744166541821437, 62989),\n",
       " (0.9744033587006532, 142378),\n",
       " (0.9743724263787894, 103481),\n",
       " (0.9743580357694218, 153981),\n",
       " (0.9742997536589623, 147071),\n",
       " (0.9742762752186934, 63025),\n",
       " (0.9742345576799757, 96079),\n",
       " (0.9741340676033411, 13057),\n",
       " (0.9740479396357549, 102932),\n",
       " (0.9740092195769884, 123349),\n",
       " (0.9738458704634019, 94988),\n",
       " (0.9738448344390086, 107851),\n",
       " (0.9738432192497375, 34044),\n",
       " (0.9737675346294006, 126723),\n",
       " (0.9737328597188483, 99568),\n",
       " (0.9736467198421841, 110803),\n",
       " (0.973581380136043, 149859),\n",
       " (0.9735360097487561, 55805),\n",
       " (0.9735256556117319, 74022),\n",
       " (0.9735210683660911, 138273),\n",
       " (0.9734891880077103, 157691),\n",
       " (0.9734519895173329, 57479),\n",
       " (0.9733909980732344, 32823),\n",
       " (0.9733568181619868, 156796),\n",
       " (0.9732616401652386, 9282),\n",
       " (0.9732426580219605, 72777),\n",
       " (0.9732018981992261, 136302),\n",
       " (0.9731647005428266, 154204),\n",
       " (0.9731583298640548, 144352),\n",
       " (0.9731351161783061, 49043),\n",
       " (0.9731062412060423, 110809),\n",
       " (0.9730740966540901, 115545),\n",
       " (0.9730732237833853, 89933),\n",
       " (0.9730198950697033, 25064),\n",
       " (0.9729131221753865, 121799),\n",
       " (0.9728562027620745, 38512),\n",
       " (0.9728374816541928, 139657),\n",
       " (0.9728308610466488, 114757),\n",
       " (0.9728228703541327, 29110),\n",
       " (0.9727539056599313, 45309),\n",
       " (0.9725676881905567, 87184),\n",
       " (0.972549731500982, 68529),\n",
       " (0.9723521283622165, 65380),\n",
       " (0.9722613739986836, 38060),\n",
       " (0.972252982949646, 103081),\n",
       " (0.9722319161578216, 79279),\n",
       " (0.9722139860338332, 78976),\n",
       " (0.9720800263316763, 40964),\n",
       " (0.972070199851222, 25970),\n",
       " (0.9719618925723295, 137734),\n",
       " (0.9718602405804659, 44720),\n",
       " (0.9718589064112964, 126578),\n",
       " (0.9718539154651552, 9123),\n",
       " (0.9718386567779138, 158717),\n",
       " ...]"
      ]
     },
     "execution_count": 28,
     "metadata": {},
     "output_type": "execute_result"
    }
   ],
   "source": [
    "d.sort(reverse = True)\n",
    "d"
   ]
  },
  {
   "cell_type": "code",
   "execution_count": 29,
   "metadata": {},
   "outputs": [],
   "source": [
    "_val_index = d[:len(d)//100*10]\n",
    "_train_index = d[len(d)//100*10:]"
   ]
  },
  {
   "cell_type": "code",
   "execution_count": 30,
   "metadata": {},
   "outputs": [],
   "source": [
    "_val_index = np.array(_val_index, dtype=int)[:,1]\n",
    "_train_index = np.array(_train_index, dtype=int)[:,1]"
   ]
  },
  {
   "cell_type": "code",
   "execution_count": 32,
   "metadata": {},
   "outputs": [
    {
     "data": {
      "text/plain": [
       "array([138308,   5899,  21006, ...,  48775,  93344, 115860])"
      ]
     },
     "execution_count": 32,
     "metadata": {},
     "output_type": "execute_result"
    }
   ],
   "source": [
    "_val_index"
   ]
  },
  {
   "cell_type": "code",
   "execution_count": 42,
   "metadata": {},
   "outputs": [
    {
     "data": {
      "text/plain": [
       "id                                                0000997932d777bf\n",
       "comment_text     Explanation\\r\\nWhy the edits made under my use...\n",
       "toxic                                                            0\n",
       "severe_toxic                                                     0\n",
       "obscene                                                          0\n",
       "threat                                                           0\n",
       "insult                                                           0\n",
       "identity_hate                                                    0\n",
       "clean                                                         True\n",
       "Name: 0, dtype: object"
      ]
     },
     "execution_count": 42,
     "metadata": {},
     "output_type": "execute_result"
    }
   ],
   "source": [
    "train.iloc[0]"
   ]
  },
  {
   "cell_type": "code",
   "execution_count": 43,
   "metadata": {},
   "outputs": [],
   "source": [
    "_val = train.iloc[_val_index]\n",
    "_train = train.iloc[_train_index]"
   ]
  },
  {
   "cell_type": "code",
   "execution_count": 44,
   "metadata": {},
   "outputs": [
    {
     "data": {
      "text/html": [
       "<div>\n",
       "<style scoped>\n",
       "    .dataframe tbody tr th:only-of-type {\n",
       "        vertical-align: middle;\n",
       "    }\n",
       "\n",
       "    .dataframe tbody tr th {\n",
       "        vertical-align: top;\n",
       "    }\n",
       "\n",
       "    .dataframe thead th {\n",
       "        text-align: right;\n",
       "    }\n",
       "</style>\n",
       "<table border=\"1\" class=\"dataframe\">\n",
       "  <thead>\n",
       "    <tr style=\"text-align: right;\">\n",
       "      <th></th>\n",
       "      <th>id</th>\n",
       "      <th>comment_text</th>\n",
       "      <th>toxic</th>\n",
       "      <th>severe_toxic</th>\n",
       "      <th>obscene</th>\n",
       "      <th>threat</th>\n",
       "      <th>insult</th>\n",
       "      <th>identity_hate</th>\n",
       "      <th>clean</th>\n",
       "    </tr>\n",
       "  </thead>\n",
       "  <tbody>\n",
       "    <tr>\n",
       "      <th>138308</th>\n",
       "      <td>e40d368e676aab57</td>\n",
       "      <td>Bastered You Bastered==Bastered You Bastered==...</td>\n",
       "      <td>1</td>\n",
       "      <td>0</td>\n",
       "      <td>1</td>\n",
       "      <td>0</td>\n",
       "      <td>1</td>\n",
       "      <td>0</td>\n",
       "      <td>False</td>\n",
       "    </tr>\n",
       "    <tr>\n",
       "      <th>5899</th>\n",
       "      <td>0fc49fc47729784d</td>\n",
       "      <td>Copyright ===\\r\\n\\r\\n  \\r\\n\\r\\n===</td>\n",
       "      <td>0</td>\n",
       "      <td>0</td>\n",
       "      <td>0</td>\n",
       "      <td>0</td>\n",
       "      <td>0</td>\n",
       "      <td>0</td>\n",
       "      <td>True</td>\n",
       "    </tr>\n",
       "    <tr>\n",
       "      <th>21006</th>\n",
       "      <td>3775bd2cf73139ec</td>\n",
       "      <td>==============\\r\\nQuestion: When was Mike Allr...</td>\n",
       "      <td>0</td>\n",
       "      <td>0</td>\n",
       "      <td>0</td>\n",
       "      <td>0</td>\n",
       "      <td>0</td>\n",
       "      <td>0</td>\n",
       "      <td>True</td>\n",
       "    </tr>\n",
       "    <tr>\n",
       "      <th>26302</th>\n",
       "      <td>45a16f6a72a97929</td>\n",
       "      <td>\":::::::::::It was in that area.  \\r\\n\"</td>\n",
       "      <td>0</td>\n",
       "      <td>0</td>\n",
       "      <td>0</td>\n",
       "      <td>0</td>\n",
       "      <td>0</td>\n",
       "      <td>0</td>\n",
       "      <td>True</td>\n",
       "    </tr>\n",
       "    <tr>\n",
       "      <th>144777</th>\n",
       "      <td>12354201bf69a812</td>\n",
       "      <td>\":::::::::::::::Prove it is false.  \\r\\n\"</td>\n",
       "      <td>0</td>\n",
       "      <td>0</td>\n",
       "      <td>0</td>\n",
       "      <td>0</td>\n",
       "      <td>0</td>\n",
       "      <td>0</td>\n",
       "      <td>True</td>\n",
       "    </tr>\n",
       "  </tbody>\n",
       "</table>\n",
       "</div>"
      ],
      "text/plain": [
       "                      id                                       comment_text  \\\n",
       "138308  e40d368e676aab57  Bastered You Bastered==Bastered You Bastered==...   \n",
       "5899    0fc49fc47729784d                 Copyright ===\\r\\n\\r\\n  \\r\\n\\r\\n===   \n",
       "21006   3775bd2cf73139ec  ==============\\r\\nQuestion: When was Mike Allr...   \n",
       "26302   45a16f6a72a97929            \":::::::::::It was in that area.  \\r\\n\"   \n",
       "144777  12354201bf69a812          \":::::::::::::::Prove it is false.  \\r\\n\"   \n",
       "\n",
       "        toxic  severe_toxic  obscene  threat  insult  identity_hate  clean  \n",
       "138308      1             0        1       0       1              0  False  \n",
       "5899        0             0        0       0       0              0   True  \n",
       "21006       0             0        0       0       0              0   True  \n",
       "26302       0             0        0       0       0              0   True  \n",
       "144777      0             0        0       0       0              0   True  "
      ]
     },
     "execution_count": 44,
     "metadata": {},
     "output_type": "execute_result"
    }
   ],
   "source": [
    "_val.head()"
   ]
  },
  {
   "cell_type": "code",
   "execution_count": 45,
   "metadata": {},
   "outputs": [],
   "source": [
    "_val.to_csv(\"_val.csv\", index = None, header=True)\n",
    "_train.to_csv(\"_train.csv\", index = None, header=True)"
   ]
  },
  {
   "cell_type": "code",
   "execution_count": 46,
   "metadata": {},
   "outputs": [],
   "source": [
    "_val = pd.read_csv(\"_val.csv\")"
   ]
  },
  {
   "cell_type": "code",
   "execution_count": 47,
   "metadata": {},
   "outputs": [
    {
     "data": {
      "text/html": [
       "<div>\n",
       "<style scoped>\n",
       "    .dataframe tbody tr th:only-of-type {\n",
       "        vertical-align: middle;\n",
       "    }\n",
       "\n",
       "    .dataframe tbody tr th {\n",
       "        vertical-align: top;\n",
       "    }\n",
       "\n",
       "    .dataframe thead th {\n",
       "        text-align: right;\n",
       "    }\n",
       "</style>\n",
       "<table border=\"1\" class=\"dataframe\">\n",
       "  <thead>\n",
       "    <tr style=\"text-align: right;\">\n",
       "      <th></th>\n",
       "      <th>id</th>\n",
       "      <th>comment_text</th>\n",
       "      <th>toxic</th>\n",
       "      <th>severe_toxic</th>\n",
       "      <th>obscene</th>\n",
       "      <th>threat</th>\n",
       "      <th>insult</th>\n",
       "      <th>identity_hate</th>\n",
       "      <th>clean</th>\n",
       "    </tr>\n",
       "  </thead>\n",
       "  <tbody>\n",
       "    <tr>\n",
       "      <th>0</th>\n",
       "      <td>e40d368e676aab57</td>\n",
       "      <td>Bastered You Bastered==Bastered You Bastered==...</td>\n",
       "      <td>1</td>\n",
       "      <td>0</td>\n",
       "      <td>1</td>\n",
       "      <td>0</td>\n",
       "      <td>1</td>\n",
       "      <td>0</td>\n",
       "      <td>False</td>\n",
       "    </tr>\n",
       "    <tr>\n",
       "      <th>1</th>\n",
       "      <td>0fc49fc47729784d</td>\n",
       "      <td>Copyright ===\\r\\n\\r\\n  \\r\\n\\r\\n===</td>\n",
       "      <td>0</td>\n",
       "      <td>0</td>\n",
       "      <td>0</td>\n",
       "      <td>0</td>\n",
       "      <td>0</td>\n",
       "      <td>0</td>\n",
       "      <td>True</td>\n",
       "    </tr>\n",
       "    <tr>\n",
       "      <th>2</th>\n",
       "      <td>3775bd2cf73139ec</td>\n",
       "      <td>==============\\r\\nQuestion: When was Mike Allr...</td>\n",
       "      <td>0</td>\n",
       "      <td>0</td>\n",
       "      <td>0</td>\n",
       "      <td>0</td>\n",
       "      <td>0</td>\n",
       "      <td>0</td>\n",
       "      <td>True</td>\n",
       "    </tr>\n",
       "    <tr>\n",
       "      <th>3</th>\n",
       "      <td>45a16f6a72a97929</td>\n",
       "      <td>\":::::::::::It was in that area.  \\r\\n\"</td>\n",
       "      <td>0</td>\n",
       "      <td>0</td>\n",
       "      <td>0</td>\n",
       "      <td>0</td>\n",
       "      <td>0</td>\n",
       "      <td>0</td>\n",
       "      <td>True</td>\n",
       "    </tr>\n",
       "    <tr>\n",
       "      <th>4</th>\n",
       "      <td>12354201bf69a812</td>\n",
       "      <td>\":::::::::::::::Prove it is false.  \\r\\n\"</td>\n",
       "      <td>0</td>\n",
       "      <td>0</td>\n",
       "      <td>0</td>\n",
       "      <td>0</td>\n",
       "      <td>0</td>\n",
       "      <td>0</td>\n",
       "      <td>True</td>\n",
       "    </tr>\n",
       "  </tbody>\n",
       "</table>\n",
       "</div>"
      ],
      "text/plain": [
       "                 id                                       comment_text  toxic  \\\n",
       "0  e40d368e676aab57  Bastered You Bastered==Bastered You Bastered==...      1   \n",
       "1  0fc49fc47729784d                 Copyright ===\\r\\n\\r\\n  \\r\\n\\r\\n===      0   \n",
       "2  3775bd2cf73139ec  ==============\\r\\nQuestion: When was Mike Allr...      0   \n",
       "3  45a16f6a72a97929            \":::::::::::It was in that area.  \\r\\n\"      0   \n",
       "4  12354201bf69a812          \":::::::::::::::Prove it is false.  \\r\\n\"      0   \n",
       "\n",
       "   severe_toxic  obscene  threat  insult  identity_hate  clean  \n",
       "0             0        1       0       1              0  False  \n",
       "1             0        0       0       0              0   True  \n",
       "2             0        0       0       0              0   True  \n",
       "3             0        0       0       0              0   True  \n",
       "4             0        0       0       0              0   True  "
      ]
     },
     "execution_count": 47,
     "metadata": {},
     "output_type": "execute_result"
    }
   ],
   "source": [
    "_val.head()"
   ]
  },
  {
   "cell_type": "markdown",
   "metadata": {},
   "source": [
    "## лемматезация"
   ]
  },
  {
   "cell_type": "code",
   "execution_count": 48,
   "metadata": {},
   "outputs": [],
   "source": [
    "from nltk import WordNetLemmatizer\n",
    "from nltk import pos_tag, word_tokenize\n",
    "def lemmatize_all(sentence):\n",
    "    wnl = WordNetLemmatizer()\n",
    "    for word, tag in pos_tag(word_tokenize(sentence)):\n",
    "        if tag.startswith(\"NN\"):\n",
    "            yield wnl.lemmatize(word, pos='n')\n",
    "        elif tag.startswith('VB'):\n",
    "            yield wnl.lemmatize(word, pos='v')\n",
    "        elif tag.startswith('JJ'):\n",
    "            yield wnl.lemmatize(word, pos='a')\n",
    "        elif tag.startswith('R'):\n",
    "            yield wnl.lemmatize(word, pos='r')\n",
    "            \n",
    "        else:\n",
    "            yield word"
   ]
  },
  {
   "cell_type": "code",
   "execution_count": 56,
   "metadata": {},
   "outputs": [
    {
     "name": "stderr",
     "output_type": "stream",
     "text": [
      "[nltk_data] Downloading package wordnet to\n",
      "[nltk_data]     C:\\Users\\daniil\\AppData\\Roaming\\nltk_data...\n",
      "[nltk_data]   Package wordnet is already up-to-date!\n",
      "[nltk_data] Downloading package averaged_perceptron_tagger to\n",
      "[nltk_data]     C:\\Users\\daniil\\AppData\\Roaming\\nltk_data...\n",
      "[nltk_data]   Unzipping taggers\\averaged_perceptron_tagger.zip.\n"
     ]
    },
    {
     "data": {
      "text/plain": [
       "True"
      ]
     },
     "execution_count": 56,
     "metadata": {},
     "output_type": "execute_result"
    }
   ],
   "source": [
    "import nltk\n",
    "nltk.download('wordnet')"
   ]
  },
  {
   "cell_type": "code",
   "execution_count": 51,
   "metadata": {},
   "outputs": [],
   "source": [
    "import os\n",
    "os.environ['OMP_NUM_THREADS'] = '10'"
   ]
  },
  {
   "cell_type": "code",
   "execution_count": 118,
   "metadata": {},
   "outputs": [],
   "source": [
    "_train = pd.read_csv(\"_train.csv\")\n",
    "y_train = _train[[\"toxic\", \"severe_toxic\", \"obscene\", \"threat\", \"insult\", \"identity_hate\"]].values\n",
    "_val = pd.read_csv(\"_val.csv\")\n",
    "y_val = _val[[\"toxic\", \"severe_toxic\", \"obscene\", \"threat\", \"insult\", \"identity_hate\"]].values\n",
    "test = pd.read_csv(\"test.csv\")"
   ]
  },
  {
   "cell_type": "code",
   "execution_count": 57,
   "metadata": {},
   "outputs": [
    {
     "name": "stdout",
     "output_type": "stream",
     "text": [
      "Train data lemmatization begins\n",
      "Train data lemmatization ends\n",
      "Val data lemmatization begins\n",
      "VAl data lemmatization ends\n",
      "Test data lemmatization begins\n",
      "Test data lemmatization ends\n"
     ]
    }
   ],
   "source": [
    "X_train1 = []\n",
    "X_test1 = []\n",
    "X_val1 = []\n",
    "#Function call to lemmatize X_train and X_test\n",
    "print (\"Train data lemmatization begins\")\n",
    "for i in range(0,len(_train)):\n",
    "    X_train1.append(\" \".join(lemmatize_all(str(_train['comment_text'][i]))))\n",
    "print (\"Train data lemmatization ends\")\n",
    "print (\"Val data lemmatization begins\")\n",
    "for i in range (0, len(_val)):\n",
    "    X_val1.append(\" \".join(lemmatize_all(str(_val['comment_text'][i]))))\n",
    "print (\"VAl data lemmatization ends\")\n",
    "print (\"Test data lemmatization begins\")\n",
    "for i in range (0, len(test)):\n",
    "    X_test1.append(\" \".join(lemmatize_all(str(test['comment_text'][i]))))\n",
    "print (\"Test data lemmatization ends\")"
   ]
  },
  {
   "cell_type": "code",
   "execution_count": 3,
   "metadata": {},
   "outputs": [
    {
     "name": "stderr",
     "output_type": "stream",
     "text": [
      "Using TensorFlow backend.\n"
     ]
    }
   ],
   "source": [
    "from keras.preprocessing import text, sequence"
   ]
  },
  {
   "cell_type": "code",
   "execution_count": 121,
   "metadata": {},
   "outputs": [],
   "source": [
    "max_features = 20000\n",
    "maxlen = 100\n",
    "embed_size = 50\n",
    "\n",
    "tokenizer = text.Tokenizer(num_words=max_features)\n",
    "tokenizer.fit_on_texts(list(X_train1) + list(X_val1) + list(X_test1))\n",
    "X_train = tokenizer.texts_to_sequences(X_train1)\n",
    "X_val = tokenizer.texts_to_sequences(X_val1)\n",
    "X_test = tokenizer.texts_to_sequences(X_test1)\n",
    "x_train = sequence.pad_sequences(X_train, maxlen=maxlen)\n",
    "x_val = sequence.pad_sequences(X_val, maxlen=maxlen)\n",
    "x_test = sequence.pad_sequences(X_test, maxlen=maxlen)"
   ]
  },
  {
   "cell_type": "code",
   "execution_count": 122,
   "metadata": {},
   "outputs": [],
   "source": [
    "pd.DataFrame(x_train).to_csv(\"x_train.csv\", index = None, header=True)\n",
    "pd.DataFrame(x_val).to_csv(\"x_val.csv\", index = None, header=True)\n",
    "pd.DataFrame(x_test).to_csv(\"x_test.csv\", index = None, header=True)\n",
    "pd.DataFrame(y_train).to_csv(\"y_train.csv\", index = None, header=True)\n",
    "pd.DataFrame(y_val).to_csv(\"y_val.csv\", index = None, header=True)"
   ]
  },
  {
   "cell_type": "code",
   "execution_count": 123,
   "metadata": {},
   "outputs": [
    {
     "data": {
      "text/plain": [
       "(143621, 100)"
      ]
     },
     "execution_count": 123,
     "metadata": {},
     "output_type": "execute_result"
    }
   ],
   "source": [
    "x_train.shape"
   ]
  },
  {
   "cell_type": "code",
   "execution_count": 124,
   "metadata": {},
   "outputs": [
    {
     "data": {
      "text/plain": [
       "(143621, 6)"
      ]
     },
     "execution_count": 124,
     "metadata": {},
     "output_type": "execute_result"
    }
   ],
   "source": [
    "y_train.shape"
   ]
  },
  {
   "cell_type": "code",
   "execution_count": 125,
   "metadata": {},
   "outputs": [],
   "source": [
    "x_train = pd.read_csv(\"x_train.csv\")\n",
    "x_val = pd.read_csv(\"x_val.csv\")\n",
    "test = pd.read_csv(\"test.csv\")\n",
    "y_train = pd.read_csv(\"y_train.csv\")\n",
    "y_val = pd.read_csv(\"y_val.csv\")"
   ]
  },
  {
   "cell_type": "code",
   "execution_count": 126,
   "metadata": {},
   "outputs": [
    {
     "data": {
      "text/plain": [
       "(143621, 100)"
      ]
     },
     "execution_count": 126,
     "metadata": {},
     "output_type": "execute_result"
    }
   ],
   "source": [
    "x_train.shape"
   ]
  },
  {
   "cell_type": "code",
   "execution_count": 127,
   "metadata": {},
   "outputs": [
    {
     "data": {
      "text/plain": [
       "(143621, 6)"
      ]
     },
     "execution_count": 127,
     "metadata": {},
     "output_type": "execute_result"
    }
   ],
   "source": [
    "y_train.shape"
   ]
  },
  {
   "cell_type": "markdown",
   "metadata": {},
   "source": [
    "# 2. Примените любой Embedding (word2vec или Glove) __[5%]__"
   ]
  },
  {
   "cell_type": "code",
   "execution_count": 128,
   "metadata": {},
   "outputs": [],
   "source": [
    "EMBEDDING_FILE = '../../data/glove.6B.50d.txt'"
   ]
  },
  {
   "cell_type": "code",
   "execution_count": 129,
   "metadata": {},
   "outputs": [
    {
     "ename": "KeyboardInterrupt",
     "evalue": "",
     "output_type": "error",
     "traceback": [
      "\u001b[1;31m---------------------------------------------------------------------------\u001b[0m",
      "\u001b[1;31mKeyboardInterrupt\u001b[0m                         Traceback (most recent call last)",
      "\u001b[1;32m<ipython-input-129-3e558aeb7aff>\u001b[0m in \u001b[0;36m<module>\u001b[1;34m\u001b[0m\n\u001b[0;32m      2\u001b[0m     \u001b[1;32mreturn\u001b[0m \u001b[0mword\u001b[0m\u001b[1;33m,\u001b[0m \u001b[0mnp\u001b[0m\u001b[1;33m.\u001b[0m\u001b[0masarray\u001b[0m\u001b[1;33m(\u001b[0m\u001b[0marr\u001b[0m\u001b[1;33m,\u001b[0m \u001b[0mdtype\u001b[0m\u001b[1;33m=\u001b[0m\u001b[1;34m'float32'\u001b[0m\u001b[1;33m)\u001b[0m\u001b[1;33m\u001b[0m\u001b[1;33m\u001b[0m\u001b[0m\n\u001b[0;32m      3\u001b[0m \u001b[1;33m\u001b[0m\u001b[0m\n\u001b[1;32m----> 4\u001b[1;33m \u001b[0membeddings_index\u001b[0m \u001b[1;33m=\u001b[0m \u001b[0mdict\u001b[0m\u001b[1;33m(\u001b[0m\u001b[0mget_coefs\u001b[0m\u001b[1;33m(\u001b[0m\u001b[1;33m*\u001b[0m\u001b[0mo\u001b[0m\u001b[1;33m.\u001b[0m\u001b[0mrstrip\u001b[0m\u001b[1;33m(\u001b[0m\u001b[1;33m)\u001b[0m\u001b[1;33m.\u001b[0m\u001b[0mrsplit\u001b[0m\u001b[1;33m(\u001b[0m\u001b[1;34m' '\u001b[0m\u001b[1;33m)\u001b[0m\u001b[1;33m)\u001b[0m \u001b[1;32mfor\u001b[0m \u001b[0mo\u001b[0m \u001b[1;32min\u001b[0m \u001b[0mopen\u001b[0m\u001b[1;33m(\u001b[0m\u001b[0mEMBEDDING_FILE\u001b[0m\u001b[1;33m,\u001b[0m \u001b[0mencoding\u001b[0m\u001b[1;33m=\u001b[0m\u001b[1;34m\"utf8\"\u001b[0m\u001b[1;33m)\u001b[0m\u001b[1;33m)\u001b[0m\u001b[1;33m\u001b[0m\u001b[1;33m\u001b[0m\u001b[0m\n\u001b[0m\u001b[0;32m      5\u001b[0m \u001b[1;33m\u001b[0m\u001b[0m\n\u001b[0;32m      6\u001b[0m \u001b[0mword_index\u001b[0m \u001b[1;33m=\u001b[0m \u001b[0mtokenizer\u001b[0m\u001b[1;33m.\u001b[0m\u001b[0mword_index\u001b[0m\u001b[1;33m\u001b[0m\u001b[1;33m\u001b[0m\u001b[0m\n",
      "\u001b[1;32m<ipython-input-129-3e558aeb7aff>\u001b[0m in \u001b[0;36m<genexpr>\u001b[1;34m(.0)\u001b[0m\n\u001b[0;32m      2\u001b[0m     \u001b[1;32mreturn\u001b[0m \u001b[0mword\u001b[0m\u001b[1;33m,\u001b[0m \u001b[0mnp\u001b[0m\u001b[1;33m.\u001b[0m\u001b[0masarray\u001b[0m\u001b[1;33m(\u001b[0m\u001b[0marr\u001b[0m\u001b[1;33m,\u001b[0m \u001b[0mdtype\u001b[0m\u001b[1;33m=\u001b[0m\u001b[1;34m'float32'\u001b[0m\u001b[1;33m)\u001b[0m\u001b[1;33m\u001b[0m\u001b[1;33m\u001b[0m\u001b[0m\n\u001b[0;32m      3\u001b[0m \u001b[1;33m\u001b[0m\u001b[0m\n\u001b[1;32m----> 4\u001b[1;33m \u001b[0membeddings_index\u001b[0m \u001b[1;33m=\u001b[0m \u001b[0mdict\u001b[0m\u001b[1;33m(\u001b[0m\u001b[0mget_coefs\u001b[0m\u001b[1;33m(\u001b[0m\u001b[1;33m*\u001b[0m\u001b[0mo\u001b[0m\u001b[1;33m.\u001b[0m\u001b[0mrstrip\u001b[0m\u001b[1;33m(\u001b[0m\u001b[1;33m)\u001b[0m\u001b[1;33m.\u001b[0m\u001b[0mrsplit\u001b[0m\u001b[1;33m(\u001b[0m\u001b[1;34m' '\u001b[0m\u001b[1;33m)\u001b[0m\u001b[1;33m)\u001b[0m \u001b[1;32mfor\u001b[0m \u001b[0mo\u001b[0m \u001b[1;32min\u001b[0m \u001b[0mopen\u001b[0m\u001b[1;33m(\u001b[0m\u001b[0mEMBEDDING_FILE\u001b[0m\u001b[1;33m,\u001b[0m \u001b[0mencoding\u001b[0m\u001b[1;33m=\u001b[0m\u001b[1;34m\"utf8\"\u001b[0m\u001b[1;33m)\u001b[0m\u001b[1;33m)\u001b[0m\u001b[1;33m\u001b[0m\u001b[1;33m\u001b[0m\u001b[0m\n\u001b[0m\u001b[0;32m      5\u001b[0m \u001b[1;33m\u001b[0m\u001b[0m\n\u001b[0;32m      6\u001b[0m \u001b[0mword_index\u001b[0m \u001b[1;33m=\u001b[0m \u001b[0mtokenizer\u001b[0m\u001b[1;33m.\u001b[0m\u001b[0mword_index\u001b[0m\u001b[1;33m\u001b[0m\u001b[1;33m\u001b[0m\u001b[0m\n",
      "\u001b[1;32m~\\.conda\\envs\\keras-gpu\\lib\\codecs.py\u001b[0m in \u001b[0;36mdecode\u001b[1;34m(self, input, final)\u001b[0m\n\u001b[0;32m    317\u001b[0m         \u001b[1;32mraise\u001b[0m \u001b[0mNotImplementedError\u001b[0m\u001b[1;33m\u001b[0m\u001b[1;33m\u001b[0m\u001b[0m\n\u001b[0;32m    318\u001b[0m \u001b[1;33m\u001b[0m\u001b[0m\n\u001b[1;32m--> 319\u001b[1;33m     \u001b[1;32mdef\u001b[0m \u001b[0mdecode\u001b[0m\u001b[1;33m(\u001b[0m\u001b[0mself\u001b[0m\u001b[1;33m,\u001b[0m \u001b[0minput\u001b[0m\u001b[1;33m,\u001b[0m \u001b[0mfinal\u001b[0m\u001b[1;33m=\u001b[0m\u001b[1;32mFalse\u001b[0m\u001b[1;33m)\u001b[0m\u001b[1;33m:\u001b[0m\u001b[1;33m\u001b[0m\u001b[1;33m\u001b[0m\u001b[0m\n\u001b[0m\u001b[0;32m    320\u001b[0m         \u001b[1;31m# decode input (taking the buffer into account)\u001b[0m\u001b[1;33m\u001b[0m\u001b[1;33m\u001b[0m\u001b[1;33m\u001b[0m\u001b[0m\n\u001b[0;32m    321\u001b[0m         \u001b[0mdata\u001b[0m \u001b[1;33m=\u001b[0m \u001b[0mself\u001b[0m\u001b[1;33m.\u001b[0m\u001b[0mbuffer\u001b[0m \u001b[1;33m+\u001b[0m \u001b[0minput\u001b[0m\u001b[1;33m\u001b[0m\u001b[1;33m\u001b[0m\u001b[0m\n",
      "\u001b[1;31mKeyboardInterrupt\u001b[0m: "
     ]
    }
   ],
   "source": [
    "def get_coefs(word, *arr): \n",
    "    return word, np.asarray(arr, dtype='float32')\n",
    "\n",
    "embeddings_index = dict(get_coefs(*o.rstrip().rsplit(' ')) for o in open(EMBEDDING_FILE, encoding=\"utf8\"))\n",
    "\n",
    "word_index = tokenizer.word_index\n",
    "nb_words = min(max_features, len(word_index))\n",
    "embedding_matrix = np.zeros((nb_words, embed_size))\n",
    "for word, i in word_index.items():\n",
    "    if i >= max_features: \n",
    "        continue\n",
    "    embedding_vector = embeddings_index.get(word)\n",
    "    if embedding_vector is not None: \n",
    "        embedding_matrix[i] = embedding_vector"
   ]
  },
  {
   "cell_type": "markdown",
   "metadata": {},
   "source": [
    "# 3. Постройте следующие модели (для каждой необходимо самостоятельно выбрать оптимальное количество слоеев и архитектуру, оценить качество, переобученность, построить кривые обучения и валидации, сделать выводы по примению модели):"
   ]
  },
  {
   "cell_type": "markdown",
   "metadata": {},
   "source": [
    " - Одномерные свертки __[20%]__"
   ]
  },
  {
   "cell_type": "code",
   "execution_count": 2,
   "metadata": {},
   "outputs": [],
   "source": [
    "import tensorflow as tf\n",
    "from tensorflow.keras import backend as K\n",
    "from sklearn.metrics import roc_auc_score, accuracy_score\n",
    "from tensorflow.keras.models import Model, Sequential\n",
    "from tensorflow.keras.layers import Input, Dense, Embedding, MaxPooling1D, Conv1D, SpatialDropout1D, Flatten, LSTM, GlobalMaxPool1D\n",
    "from tensorflow.keras.layers import add, Dropout, PReLU, BatchNormalization, GlobalMaxPooling1D, GRU, Bidirectional\n",
    "from tensorflow.keras.callbacks import Callback\n",
    "from tensorflow.keras import optimizers\n",
    "from tensorflow.keras import initializers, regularizers, constraints"
   ]
  },
  {
   "cell_type": "code",
   "execution_count": 131,
   "metadata": {},
   "outputs": [],
   "source": [
    "filter_nr = 50\n",
    "filter_size = 3\n",
    "max_pool_size = 3\n",
    "max_pool_strides = 2\n",
    "dense_nr = 256\n",
    "spatial_dropout = 0.2\n",
    "dense_dropout = 0.5\n",
    "train_embed = False\n",
    "conv_kern_reg = regularizers.l2(0.00001)\n",
    "conv_bias_reg = regularizers.l2(0.00001)\n",
    "\n",
    "comment = Input(shape=(maxlen,))\n",
    "emb_comment = Embedding(max_features, embed_size, weights=[embedding_matrix], trainable=train_embed)(comment)\n",
    "emb_comment = SpatialDropout1D(spatial_dropout)(emb_comment)\n",
    "\n",
    "block1 = Conv1D(filter_nr, kernel_size=filter_size, padding='same', activation='linear', \n",
    "            kernel_regularizer=conv_kern_reg, bias_regularizer=conv_bias_reg)(emb_comment)\n",
    "block1 = BatchNormalization()(block1)\n",
    "block1 = PReLU()(block1)\n",
    "block1 = Conv1D(filter_nr, kernel_size=filter_size, padding='same', activation='linear', \n",
    "            kernel_regularizer=conv_kern_reg, bias_regularizer=conv_bias_reg)(block1)\n",
    "block1 = BatchNormalization()(block1)\n",
    "block1 = PReLU()(block1)\n",
    "  \n",
    "block1_output = add([block1, emb_comment])\n",
    "block1_output = MaxPooling1D(pool_size=max_pool_size, strides=max_pool_strides)(block1_output)\n",
    "\n",
    "block2 = Conv1D(filter_nr, kernel_size=filter_size, padding='same', activation='linear', \n",
    "            kernel_regularizer=conv_kern_reg, bias_regularizer=conv_bias_reg)(block1_output)\n",
    "block2 = BatchNormalization()(block2)\n",
    "block2 = PReLU()(block2)\n",
    "block2 = Conv1D(filter_nr, kernel_size=filter_size, padding='same', activation='linear', \n",
    "            kernel_regularizer=conv_kern_reg, bias_regularizer=conv_bias_reg)(block2)\n",
    "block2 = BatchNormalization()(block2)\n",
    "block2 = PReLU()(block2)\n",
    "    \n",
    "block2_output = add([block2, block1_output])\n",
    "block2_output = MaxPooling1D(pool_size=max_pool_size, strides=max_pool_strides)(block2_output)\n",
    "\n",
    "output = GlobalMaxPooling1D()(block2_output)\n",
    "\n",
    "output = Dense(dense_nr, activation='linear')(output)\n",
    "output = BatchNormalization()(output)\n",
    "output = PReLU()(output)\n",
    "output = Dropout(dense_dropout)(output)\n",
    "output = Dense(6, activation='sigmoid')(output)\n",
    "\n",
    "model = Model(comment, output)\n",
    "\n",
    "model.compile(loss='binary_crossentropy', \n",
    "            optimizer=optimizers.Adam(),\n",
    "            metrics=['accuracy'])"
   ]
  },
  {
   "cell_type": "code",
   "execution_count": 132,
   "metadata": {},
   "outputs": [
    {
     "name": "stdout",
     "output_type": "stream",
     "text": [
      "WARNING:tensorflow:Falling back from v2 loop because of error: Failed to find data adapter that can handle input: <class 'pandas.core.frame.DataFrame'>, <class 'NoneType'>\n",
      "Train on 143621 samples, validate on 15950 samples\n",
      "143621/143621 [==============================] - 48s 332us/sample - loss: 0.0701 - accuracy: 0.9788 - val_loss: 0.1801 - val_accuracy: 0.9319\n",
      "WARNING:tensorflow:Falling back from v2 loop because of error: Failed to find data adapter that can handle input: <class 'pandas.core.frame.DataFrame'>, <class 'NoneType'>\n"
     ]
    },
    {
     "ename": "ValueError",
     "evalue": "Error when checking input: expected input_2 to have shape (100,) but got array with shape (6,)",
     "output_type": "error",
     "traceback": [
      "\u001b[1;31m---------------------------------------------------------------------------\u001b[0m",
      "\u001b[1;31mValueError\u001b[0m                                Traceback (most recent call last)",
      "\u001b[1;32m<ipython-input-132-53ad7df9ea61>\u001b[0m in \u001b[0;36m<module>\u001b[1;34m\u001b[0m\n\u001b[0;32m      5\u001b[0m \u001b[0mmodel\u001b[0m\u001b[1;33m.\u001b[0m\u001b[0mfit\u001b[0m\u001b[1;33m(\u001b[0m\u001b[0mx_train\u001b[0m\u001b[1;33m,\u001b[0m \u001b[0my_train\u001b[0m\u001b[1;33m,\u001b[0m \u001b[0mbatch_size\u001b[0m\u001b[1;33m=\u001b[0m\u001b[0mbatch_size\u001b[0m\u001b[1;33m,\u001b[0m \u001b[0mepochs\u001b[0m\u001b[1;33m=\u001b[0m\u001b[0mepochs\u001b[0m\u001b[1;33m,\u001b[0m \u001b[0mvalidation_data\u001b[0m\u001b[1;33m=\u001b[0m\u001b[1;33m(\u001b[0m\u001b[0mx_val\u001b[0m\u001b[1;33m,\u001b[0m \u001b[0my_val\u001b[0m\u001b[1;33m)\u001b[0m\u001b[1;33m,\u001b[0m \u001b[0mverbose\u001b[0m\u001b[1;33m=\u001b[0m\u001b[1;36m1\u001b[0m\u001b[1;33m)\u001b[0m\u001b[1;33m\u001b[0m\u001b[1;33m\u001b[0m\u001b[0m\n\u001b[0;32m      6\u001b[0m \u001b[1;33m\u001b[0m\u001b[0m\n\u001b[1;32m----> 7\u001b[1;33m \u001b[0mroc_auc_score\u001b[0m\u001b[1;33m(\u001b[0m\u001b[0my_val\u001b[0m\u001b[1;33m,\u001b[0m \u001b[0mmodel\u001b[0m\u001b[1;33m.\u001b[0m\u001b[0mpredict\u001b[0m\u001b[1;33m(\u001b[0m\u001b[0my_val\u001b[0m\u001b[1;33m)\u001b[0m\u001b[1;33m)\u001b[0m\u001b[1;33m\u001b[0m\u001b[1;33m\u001b[0m\u001b[0m\n\u001b[0m\u001b[0;32m      8\u001b[0m \u001b[1;33m\u001b[0m\u001b[0m\n\u001b[0;32m      9\u001b[0m \u001b[1;33m\u001b[0m\u001b[0m\n",
      "\u001b[1;32m~\\.conda\\envs\\keras-gpu\\lib\\site-packages\\tensorflow_core\\python\\keras\\engine\\training.py\u001b[0m in \u001b[0;36mpredict\u001b[1;34m(self, x, batch_size, verbose, steps, callbacks, max_queue_size, workers, use_multiprocessing)\u001b[0m\n\u001b[0;32m    907\u001b[0m         \u001b[0mmax_queue_size\u001b[0m\u001b[1;33m=\u001b[0m\u001b[0mmax_queue_size\u001b[0m\u001b[1;33m,\u001b[0m\u001b[1;33m\u001b[0m\u001b[1;33m\u001b[0m\u001b[0m\n\u001b[0;32m    908\u001b[0m         \u001b[0mworkers\u001b[0m\u001b[1;33m=\u001b[0m\u001b[0mworkers\u001b[0m\u001b[1;33m,\u001b[0m\u001b[1;33m\u001b[0m\u001b[1;33m\u001b[0m\u001b[0m\n\u001b[1;32m--> 909\u001b[1;33m         use_multiprocessing=use_multiprocessing)\n\u001b[0m\u001b[0;32m    910\u001b[0m \u001b[1;33m\u001b[0m\u001b[0m\n\u001b[0;32m    911\u001b[0m   \u001b[1;32mdef\u001b[0m \u001b[0mreset_metrics\u001b[0m\u001b[1;33m(\u001b[0m\u001b[0mself\u001b[0m\u001b[1;33m)\u001b[0m\u001b[1;33m:\u001b[0m\u001b[1;33m\u001b[0m\u001b[1;33m\u001b[0m\u001b[0m\n",
      "\u001b[1;32m~\\.conda\\envs\\keras-gpu\\lib\\site-packages\\tensorflow_core\\python\\keras\\engine\\training_arrays.py\u001b[0m in \u001b[0;36mpredict\u001b[1;34m(self, model, x, batch_size, verbose, steps, callbacks, **kwargs)\u001b[0m\n\u001b[0;32m    713\u001b[0m     \u001b[0mbatch_size\u001b[0m \u001b[1;33m=\u001b[0m \u001b[0mmodel\u001b[0m\u001b[1;33m.\u001b[0m\u001b[0m_validate_or_infer_batch_size\u001b[0m\u001b[1;33m(\u001b[0m\u001b[0mbatch_size\u001b[0m\u001b[1;33m,\u001b[0m \u001b[0msteps\u001b[0m\u001b[1;33m,\u001b[0m \u001b[0mx\u001b[0m\u001b[1;33m)\u001b[0m\u001b[1;33m\u001b[0m\u001b[1;33m\u001b[0m\u001b[0m\n\u001b[0;32m    714\u001b[0m     x, _, _ = model._standardize_user_data(\n\u001b[1;32m--> 715\u001b[1;33m         x, check_steps=True, steps_name='steps', steps=steps)\n\u001b[0m\u001b[0;32m    716\u001b[0m     return predict_loop(\n\u001b[0;32m    717\u001b[0m         \u001b[0mmodel\u001b[0m\u001b[1;33m,\u001b[0m\u001b[1;33m\u001b[0m\u001b[1;33m\u001b[0m\u001b[0m\n",
      "\u001b[1;32m~\\.conda\\envs\\keras-gpu\\lib\\site-packages\\tensorflow_core\\python\\keras\\engine\\training.py\u001b[0m in \u001b[0;36m_standardize_user_data\u001b[1;34m(self, x, y, sample_weight, class_weight, batch_size, check_steps, steps_name, steps, validation_split, shuffle, extract_tensors_from_dataset)\u001b[0m\n\u001b[0;32m   2470\u001b[0m           \u001b[0mfeed_input_shapes\u001b[0m\u001b[1;33m,\u001b[0m\u001b[1;33m\u001b[0m\u001b[1;33m\u001b[0m\u001b[0m\n\u001b[0;32m   2471\u001b[0m           \u001b[0mcheck_batch_axis\u001b[0m\u001b[1;33m=\u001b[0m\u001b[1;32mFalse\u001b[0m\u001b[1;33m,\u001b[0m  \u001b[1;31m# Don't enforce the batch size.\u001b[0m\u001b[1;33m\u001b[0m\u001b[1;33m\u001b[0m\u001b[0m\n\u001b[1;32m-> 2472\u001b[1;33m           exception_prefix='input')\n\u001b[0m\u001b[0;32m   2473\u001b[0m \u001b[1;33m\u001b[0m\u001b[0m\n\u001b[0;32m   2474\u001b[0m     \u001b[1;31m# Get typespecs for the input data and sanitize it if necessary.\u001b[0m\u001b[1;33m\u001b[0m\u001b[1;33m\u001b[0m\u001b[1;33m\u001b[0m\u001b[0m\n",
      "\u001b[1;32m~\\.conda\\envs\\keras-gpu\\lib\\site-packages\\tensorflow_core\\python\\keras\\engine\\training_utils.py\u001b[0m in \u001b[0;36mstandardize_input_data\u001b[1;34m(data, names, shapes, check_batch_axis, exception_prefix)\u001b[0m\n\u001b[0;32m    572\u001b[0m                              \u001b[1;34m': expected '\u001b[0m \u001b[1;33m+\u001b[0m \u001b[0mnames\u001b[0m\u001b[1;33m[\u001b[0m\u001b[0mi\u001b[0m\u001b[1;33m]\u001b[0m \u001b[1;33m+\u001b[0m \u001b[1;34m' to have shape '\u001b[0m \u001b[1;33m+\u001b[0m\u001b[1;33m\u001b[0m\u001b[1;33m\u001b[0m\u001b[0m\n\u001b[0;32m    573\u001b[0m                              \u001b[0mstr\u001b[0m\u001b[1;33m(\u001b[0m\u001b[0mshape\u001b[0m\u001b[1;33m)\u001b[0m \u001b[1;33m+\u001b[0m \u001b[1;34m' but got array with shape '\u001b[0m \u001b[1;33m+\u001b[0m\u001b[1;33m\u001b[0m\u001b[1;33m\u001b[0m\u001b[0m\n\u001b[1;32m--> 574\u001b[1;33m                              str(data_shape))\n\u001b[0m\u001b[0;32m    575\u001b[0m   \u001b[1;32mreturn\u001b[0m \u001b[0mdata\u001b[0m\u001b[1;33m\u001b[0m\u001b[1;33m\u001b[0m\u001b[0m\n\u001b[0;32m    576\u001b[0m \u001b[1;33m\u001b[0m\u001b[0m\n",
      "\u001b[1;31mValueError\u001b[0m: Error when checking input: expected input_2 to have shape (100,) but got array with shape (6,)"
     ]
    }
   ],
   "source": [
    "batch_size = 32\n",
    "epochs = 1\n",
    "\n",
    "lr = 0.001\n",
    "model.fit(x_train, y_train, batch_size=batch_size, epochs=epochs, validation_data=(x_val, y_val), verbose=1)"
   ]
  },
  {
   "cell_type": "code",
   "execution_count": 133,
   "metadata": {},
   "outputs": [
    {
     "name": "stdout",
     "output_type": "stream",
     "text": [
      "WARNING:tensorflow:Falling back from v2 loop because of error: Failed to find data adapter that can handle input: <class 'pandas.core.frame.DataFrame'>, <class 'NoneType'>\n"
     ]
    },
    {
     "data": {
      "text/plain": [
       "0.9236493965912413"
      ]
     },
     "execution_count": 133,
     "metadata": {},
     "output_type": "execute_result"
    }
   ],
   "source": [
    "roc_auc_score(y_val, model.predict(x_val))"
   ]
  },
  {
   "cell_type": "markdown",
   "metadata": {},
   "source": [
    " - LSTM или GRU __[20%]__"
   ]
  },
  {
   "cell_type": "code",
   "execution_count": 134,
   "metadata": {},
   "outputs": [],
   "source": [
    "model = Sequential()\n",
    "model.add(Embedding(20000,32,input_length=100))\n",
    "model.add(GRU(50,return_sequences=True))\n",
    "model.add(Dropout(0.25))\n",
    "model.add(GRU(50,return_sequences=True))\n",
    "model.add(Dropout(0.25))\n",
    "model.add(Flatten())\n",
    "model.add(Dense(128,activation='relu'))\n",
    "model.add(Dropout(0.45))\n",
    "model.add(Dense(6,activation='sigmoid'))\n",
    "model.compile(loss='binary_crossentropy',optimizer='adam',metrics=['accuracy'])\n"
   ]
  },
  {
   "cell_type": "code",
   "execution_count": 135,
   "metadata": {},
   "outputs": [
    {
     "name": "stdout",
     "output_type": "stream",
     "text": [
      "WARNING:tensorflow:Falling back from v2 loop because of error: Failed to find data adapter that can handle input: <class 'pandas.core.frame.DataFrame'>, <class 'NoneType'>\n",
      "Train on 143621 samples, validate on 15950 samples\n",
      "143621/143621 [==============================] - 80s 554us/sample - loss: 0.0540 - accuracy: 0.9835 - val_loss: 0.1481 - val_accuracy: 0.9412\n"
     ]
    },
    {
     "data": {
      "text/plain": [
       "<tensorflow.python.keras.callbacks.History at 0x1b447afd6a0>"
      ]
     },
     "execution_count": 135,
     "metadata": {},
     "output_type": "execute_result"
    }
   ],
   "source": [
    "model.fit(x_train, y_train, batch_size=batch_size, epochs=epochs, validation_data=(x_val, y_val), verbose=1)"
   ]
  },
  {
   "cell_type": "code",
   "execution_count": 137,
   "metadata": {},
   "outputs": [
    {
     "name": "stdout",
     "output_type": "stream",
     "text": [
      "WARNING:tensorflow:Falling back from v2 loop because of error: Failed to find data adapter that can handle input: <class 'pandas.core.frame.DataFrame'>, <class 'NoneType'>\n"
     ]
    },
    {
     "data": {
      "text/plain": [
       "0.9296594742631852"
      ]
     },
     "execution_count": 137,
     "metadata": {},
     "output_type": "execute_result"
    }
   ],
   "source": [
    "roc_auc_score(y_val, model.predict(x_val))"
   ]
  },
  {
   "cell_type": "markdown",
   "metadata": {},
   "source": [
    "- Bidirectional LSTM __[20%]__"
   ]
  },
  {
   "cell_type": "code",
   "execution_count": 147,
   "metadata": {},
   "outputs": [],
   "source": [
    "inp = Input(shape=(maxlen,))\n",
    "emb = Embedding(max_features, embed_size, weights=[embedding_matrix])(inp)\n",
    "b_lstm = Bidirectional(LSTM(50, return_sequences=True, dropout=0.1, recurrent_dropout=0.1))(emb)\n",
    "layer = GlobalMaxPool1D()(b_lstm)\n",
    "layer = Dense(50, activation=\"relu\")(layer)\n",
    "layer = Dropout(0.1)(layer)\n",
    "layer = Dense(6, activation=\"sigmoid\")(layer)\n",
    "model = Model(inputs=inp, outputs=layer)\n",
    "model.compile(loss='binary_crossentropy', optimizer='adam', metrics=['accuracy'])"
   ]
  },
  {
   "cell_type": "code",
   "execution_count": 148,
   "metadata": {},
   "outputs": [
    {
     "name": "stdout",
     "output_type": "stream",
     "text": [
      "WARNING:tensorflow:Falling back from v2 loop because of error: Failed to find data adapter that can handle input: <class 'pandas.core.frame.DataFrame'>, <class 'NoneType'>\n",
      "Train on 143621 samples, validate on 15950 samples\n",
      "143621/143621 [==============================] - 653s 5ms/sample - loss: 0.0537 - accuracy: 0.9829 - val_loss: 0.1400 - val_accuracy: 0.9434\n"
     ]
    },
    {
     "data": {
      "text/plain": [
       "<tensorflow.python.keras.callbacks.History at 0x1b1d5bcdbe0>"
      ]
     },
     "execution_count": 148,
     "metadata": {},
     "output_type": "execute_result"
    }
   ],
   "source": [
    "model.fit(x_train, y_train, batch_size=batch_size, epochs=epochs, validation_data=(x_val, y_val), verbose=1)"
   ]
  },
  {
   "cell_type": "code",
   "execution_count": 150,
   "metadata": {},
   "outputs": [
    {
     "name": "stdout",
     "output_type": "stream",
     "text": [
      "WARNING:tensorflow:Falling back from v2 loop because of error: Failed to find data adapter that can handle input: <class 'pandas.core.frame.DataFrame'>, <class 'NoneType'>\n"
     ]
    },
    {
     "data": {
      "text/plain": [
       "0.93999635301342"
      ]
     },
     "execution_count": 150,
     "metadata": {},
     "output_type": "execute_result"
    }
   ],
   "source": [
    "roc_auc_score(y_val, model.predict(x_val))"
   ]
  },
  {
   "cell_type": "markdown",
   "metadata": {},
   "source": [
    "## Попробуйте применить к этой задаче BERT или GPT-2. Выбор оптимального количества слоеев и архитектура на ваш вкус (но не забудьте обосновать его). Оцените качетво и другие параметры работы модели. [25%]"
   ]
  },
  {
   "cell_type": "code",
   "execution_count": 3,
   "metadata": {},
   "outputs": [
    {
     "name": "stderr",
     "output_type": "stream",
     "text": [
      "/home/kp0hyc/kp_env/kp_env/lib/python3.6/site-packages/tensorflow/python/framework/dtypes.py:526: FutureWarning: Passing (type, 1) or '1type' as a synonym of type is deprecated; in a future version of numpy, it will be understood as (type, (1,)) / '(1,)type'.\n",
      "  _np_qint8 = np.dtype([(\"qint8\", np.int8, 1)])\n",
      "/home/kp0hyc/kp_env/kp_env/lib/python3.6/site-packages/tensorflow/python/framework/dtypes.py:527: FutureWarning: Passing (type, 1) or '1type' as a synonym of type is deprecated; in a future version of numpy, it will be understood as (type, (1,)) / '(1,)type'.\n",
      "  _np_quint8 = np.dtype([(\"quint8\", np.uint8, 1)])\n",
      "/home/kp0hyc/kp_env/kp_env/lib/python3.6/site-packages/tensorflow/python/framework/dtypes.py:528: FutureWarning: Passing (type, 1) or '1type' as a synonym of type is deprecated; in a future version of numpy, it will be understood as (type, (1,)) / '(1,)type'.\n",
      "  _np_qint16 = np.dtype([(\"qint16\", np.int16, 1)])\n",
      "/home/kp0hyc/kp_env/kp_env/lib/python3.6/site-packages/tensorflow/python/framework/dtypes.py:529: FutureWarning: Passing (type, 1) or '1type' as a synonym of type is deprecated; in a future version of numpy, it will be understood as (type, (1,)) / '(1,)type'.\n",
      "  _np_quint16 = np.dtype([(\"quint16\", np.uint16, 1)])\n",
      "/home/kp0hyc/kp_env/kp_env/lib/python3.6/site-packages/tensorflow/python/framework/dtypes.py:530: FutureWarning: Passing (type, 1) or '1type' as a synonym of type is deprecated; in a future version of numpy, it will be understood as (type, (1,)) / '(1,)type'.\n",
      "  _np_qint32 = np.dtype([(\"qint32\", np.int32, 1)])\n",
      "/home/kp0hyc/kp_env/kp_env/lib/python3.6/site-packages/tensorflow/python/framework/dtypes.py:535: FutureWarning: Passing (type, 1) or '1type' as a synonym of type is deprecated; in a future version of numpy, it will be understood as (type, (1,)) / '(1,)type'.\n",
      "  np_resource = np.dtype([(\"resource\", np.ubyte, 1)])\n"
     ]
    },
    {
     "name": "stdout",
     "output_type": "stream",
     "text": [
      "using Keras version: 2.2.4-tf\n"
     ]
    },
    {
     "ename": "ImportError",
     "evalue": "cannot import name 'backend_config'",
     "output_type": "error",
     "traceback": [
      "\u001b[0;31m---------------------------------------------------------------------------\u001b[0m",
      "\u001b[0;31mImportError\u001b[0m                               Traceback (most recent call last)",
      "\u001b[0;32m<ipython-input-3-d851226d5f91>\u001b[0m in \u001b[0;36m<module>\u001b[0;34m\u001b[0m\n\u001b[0;32m----> 1\u001b[0;31m \u001b[0;32mimport\u001b[0m \u001b[0mktrain\u001b[0m\u001b[0;34m\u001b[0m\u001b[0;34m\u001b[0m\u001b[0m\n\u001b[0m\u001b[1;32m      2\u001b[0m \u001b[0;32mfrom\u001b[0m \u001b[0mktrain\u001b[0m \u001b[0;32mimport\u001b[0m \u001b[0mtext\u001b[0m\u001b[0;34m\u001b[0m\u001b[0;34m\u001b[0m\u001b[0m\n",
      "\u001b[0;32m~/kp_env/kp_env/lib/python3.6/site-packages/ktrain/__init__.py\u001b[0m in \u001b[0;36m<module>\u001b[0;34m\u001b[0m\n\u001b[1;32m      1\u001b[0m \u001b[0;32mfrom\u001b[0m \u001b[0;34m.\u001b[0m\u001b[0mversion\u001b[0m \u001b[0;32mimport\u001b[0m \u001b[0m__version__\u001b[0m\u001b[0;34m\u001b[0m\u001b[0;34m\u001b[0m\u001b[0m\n\u001b[0;32m----> 2\u001b[0;31m \u001b[0;32mfrom\u001b[0m \u001b[0;34m.\u001b[0m\u001b[0mimports\u001b[0m \u001b[0;32mimport\u001b[0m \u001b[0;34m*\u001b[0m\u001b[0;34m\u001b[0m\u001b[0;34m\u001b[0m\u001b[0m\n\u001b[0m\u001b[1;32m      3\u001b[0m \u001b[0;32mfrom\u001b[0m \u001b[0;34m.\u001b[0m\u001b[0mcore\u001b[0m \u001b[0;32mimport\u001b[0m \u001b[0mArrayLearner\u001b[0m\u001b[0;34m,\u001b[0m \u001b[0mGenLearner\u001b[0m\u001b[0;34m,\u001b[0m \u001b[0mget_predictor\u001b[0m\u001b[0;34m,\u001b[0m \u001b[0mload_predictor\u001b[0m\u001b[0;34m,\u001b[0m \u001b[0mrelease_gpu_memory\u001b[0m\u001b[0;34m\u001b[0m\u001b[0;34m\u001b[0m\u001b[0m\n\u001b[1;32m      4\u001b[0m \u001b[0;32mfrom\u001b[0m \u001b[0;34m.\u001b[0m\u001b[0mvision\u001b[0m\u001b[0;34m.\u001b[0m\u001b[0mlearner\u001b[0m \u001b[0;32mimport\u001b[0m \u001b[0mImageClassLearner\u001b[0m\u001b[0;34m\u001b[0m\u001b[0;34m\u001b[0m\u001b[0m\n\u001b[1;32m      5\u001b[0m \u001b[0;32mfrom\u001b[0m \u001b[0;34m.\u001b[0m\u001b[0mtext\u001b[0m\u001b[0;34m.\u001b[0m\u001b[0mlearner\u001b[0m \u001b[0;32mimport\u001b[0m \u001b[0mBERTTextClassLearner\u001b[0m\u001b[0;34m\u001b[0m\u001b[0;34m\u001b[0m\u001b[0m\n",
      "\u001b[0;32m~/kp_env/kp_env/lib/python3.6/site-packages/ktrain/imports.py\u001b[0m in \u001b[0;36m<module>\u001b[0;34m\u001b[0m\n\u001b[1;32m    172\u001b[0m \u001b[0;32mimport\u001b[0m \u001b[0mpandas\u001b[0m \u001b[0;32mas\u001b[0m \u001b[0mpd\u001b[0m\u001b[0;34m\u001b[0m\u001b[0;34m\u001b[0m\u001b[0m\n\u001b[1;32m    173\u001b[0m \u001b[0;32mfrom\u001b[0m \u001b[0mfastprogress\u001b[0m \u001b[0;32mimport\u001b[0m \u001b[0mmaster_bar\u001b[0m\u001b[0;34m,\u001b[0m \u001b[0mprogress_bar\u001b[0m\u001b[0;34m\u001b[0m\u001b[0;34m\u001b[0m\u001b[0m\n\u001b[0;32m--> 174\u001b[0;31m \u001b[0;32mimport\u001b[0m \u001b[0mkeras_bert\u001b[0m\u001b[0;34m\u001b[0m\u001b[0;34m\u001b[0m\u001b[0m\n\u001b[0m\u001b[1;32m    175\u001b[0m \u001b[0;32mfrom\u001b[0m \u001b[0mkeras_bert\u001b[0m \u001b[0;32mimport\u001b[0m \u001b[0mTokenizer\u001b[0m \u001b[0;32mas\u001b[0m \u001b[0mBERT_Tokenizer\u001b[0m\u001b[0;34m\u001b[0m\u001b[0;34m\u001b[0m\u001b[0m\n\u001b[1;32m    176\u001b[0m \u001b[0;32mimport\u001b[0m \u001b[0mrequests\u001b[0m\u001b[0;34m\u001b[0m\u001b[0;34m\u001b[0m\u001b[0m\n",
      "\u001b[0;32m~/kp_env/kp_env/lib/python3.6/site-packages/keras_bert/__init__.py\u001b[0m in \u001b[0;36m<module>\u001b[0;34m\u001b[0m\n\u001b[0;32m----> 1\u001b[0;31m \u001b[0;32mfrom\u001b[0m \u001b[0;34m.\u001b[0m\u001b[0mbert\u001b[0m \u001b[0;32mimport\u001b[0m \u001b[0;34m*\u001b[0m\u001b[0;34m\u001b[0m\u001b[0;34m\u001b[0m\u001b[0m\n\u001b[0m\u001b[1;32m      2\u001b[0m \u001b[0;32mfrom\u001b[0m \u001b[0;34m.\u001b[0m\u001b[0mloader\u001b[0m \u001b[0;32mimport\u001b[0m \u001b[0;34m*\u001b[0m\u001b[0;34m\u001b[0m\u001b[0;34m\u001b[0m\u001b[0m\n\u001b[1;32m      3\u001b[0m \u001b[0;32mfrom\u001b[0m \u001b[0;34m.\u001b[0m\u001b[0mtokenizer\u001b[0m \u001b[0;32mimport\u001b[0m \u001b[0mTokenizer\u001b[0m\u001b[0;34m\u001b[0m\u001b[0;34m\u001b[0m\u001b[0m\n\u001b[1;32m      4\u001b[0m \u001b[0;32mfrom\u001b[0m \u001b[0;34m.\u001b[0m\u001b[0moptimizers\u001b[0m \u001b[0;32mimport\u001b[0m \u001b[0;34m*\u001b[0m\u001b[0;34m\u001b[0m\u001b[0;34m\u001b[0m\u001b[0m\n\u001b[1;32m      5\u001b[0m \u001b[0;32mfrom\u001b[0m \u001b[0;34m.\u001b[0m\u001b[0mutil\u001b[0m \u001b[0;32mimport\u001b[0m \u001b[0;34m*\u001b[0m\u001b[0;34m\u001b[0m\u001b[0;34m\u001b[0m\u001b[0m\n",
      "\u001b[0;32m~/kp_env/kp_env/lib/python3.6/site-packages/keras_bert/bert.py\u001b[0m in \u001b[0;36m<module>\u001b[0;34m\u001b[0m\n\u001b[1;32m      7\u001b[0m \u001b[0;32mfrom\u001b[0m \u001b[0;34m.\u001b[0m\u001b[0mactivations\u001b[0m \u001b[0;32mimport\u001b[0m \u001b[0mgelu\u001b[0m\u001b[0;34m\u001b[0m\u001b[0;34m\u001b[0m\u001b[0m\n\u001b[1;32m      8\u001b[0m \u001b[0;32mfrom\u001b[0m \u001b[0;34m.\u001b[0m\u001b[0mlayers\u001b[0m \u001b[0;32mimport\u001b[0m \u001b[0mget_inputs\u001b[0m\u001b[0;34m,\u001b[0m \u001b[0mget_embedding\u001b[0m\u001b[0;34m,\u001b[0m \u001b[0mTokenEmbedding\u001b[0m\u001b[0;34m,\u001b[0m \u001b[0mEmbeddingSimilarity\u001b[0m\u001b[0;34m,\u001b[0m \u001b[0mMasked\u001b[0m\u001b[0;34m,\u001b[0m \u001b[0mExtract\u001b[0m\u001b[0;34m,\u001b[0m \u001b[0mTaskEmbedding\u001b[0m\u001b[0;34m\u001b[0m\u001b[0;34m\u001b[0m\u001b[0m\n\u001b[0;32m----> 9\u001b[0;31m \u001b[0;32mfrom\u001b[0m \u001b[0;34m.\u001b[0m\u001b[0moptimizers\u001b[0m \u001b[0;32mimport\u001b[0m \u001b[0mAdamWarmup\u001b[0m\u001b[0;34m\u001b[0m\u001b[0;34m\u001b[0m\u001b[0m\n\u001b[0m\u001b[1;32m     10\u001b[0m \u001b[0;34m\u001b[0m\u001b[0m\n\u001b[1;32m     11\u001b[0m \u001b[0;34m\u001b[0m\u001b[0m\n",
      "\u001b[0;32m~/kp_env/kp_env/lib/python3.6/site-packages/keras_bert/optimizers/__init__.py\u001b[0m in \u001b[0;36m<module>\u001b[0;34m\u001b[0m\n\u001b[0;32m----> 1\u001b[0;31m \u001b[0;32mfrom\u001b[0m \u001b[0;34m.\u001b[0m\u001b[0mutil\u001b[0m \u001b[0;32mimport\u001b[0m \u001b[0;34m*\u001b[0m\u001b[0;34m\u001b[0m\u001b[0;34m\u001b[0m\u001b[0m\n\u001b[0m",
      "\u001b[0;32m~/kp_env/kp_env/lib/python3.6/site-packages/keras_bert/optimizers/util.py\u001b[0m in \u001b[0;36m<module>\u001b[0;34m\u001b[0m\n\u001b[1;32m     23\u001b[0m \u001b[0;34m\u001b[0m\u001b[0m\n\u001b[1;32m     24\u001b[0m \u001b[0;32mif\u001b[0m \u001b[0mTF_KERAS\u001b[0m\u001b[0;34m:\u001b[0m\u001b[0;34m\u001b[0m\u001b[0;34m\u001b[0m\u001b[0m\n\u001b[0;32m---> 25\u001b[0;31m     \u001b[0;32mfrom\u001b[0m \u001b[0;34m.\u001b[0m\u001b[0mwarmup_v2\u001b[0m \u001b[0;32mimport\u001b[0m \u001b[0mAdamWarmup\u001b[0m\u001b[0;34m\u001b[0m\u001b[0;34m\u001b[0m\u001b[0m\n\u001b[0m\u001b[1;32m     26\u001b[0m \u001b[0;32melse\u001b[0m\u001b[0;34m:\u001b[0m\u001b[0;34m\u001b[0m\u001b[0;34m\u001b[0m\u001b[0m\n\u001b[1;32m     27\u001b[0m     \u001b[0;32mfrom\u001b[0m \u001b[0;34m.\u001b[0m\u001b[0mwarmup\u001b[0m \u001b[0;32mimport\u001b[0m \u001b[0mAdamWarmup\u001b[0m\u001b[0;34m\u001b[0m\u001b[0;34m\u001b[0m\u001b[0m\n",
      "\u001b[0;32m~/kp_env/kp_env/lib/python3.6/site-packages/keras_bert/optimizers/warmup_v2.py\u001b[0m in \u001b[0;36m<module>\u001b[0;34m\u001b[0m\n\u001b[1;32m      2\u001b[0m \u001b[0;32mfrom\u001b[0m \u001b[0mtensorflow\u001b[0m\u001b[0;34m.\u001b[0m\u001b[0mpython\u001b[0m\u001b[0;34m.\u001b[0m\u001b[0mkeras\u001b[0m\u001b[0;34m.\u001b[0m\u001b[0moptimizer_v2\u001b[0m\u001b[0;34m.\u001b[0m\u001b[0moptimizer_v2\u001b[0m \u001b[0;32mimport\u001b[0m \u001b[0mOptimizerV2\u001b[0m\u001b[0;34m\u001b[0m\u001b[0;34m\u001b[0m\u001b[0m\n\u001b[1;32m      3\u001b[0m \u001b[0;32mfrom\u001b[0m \u001b[0mtensorflow\u001b[0m\u001b[0;34m.\u001b[0m\u001b[0mpython\u001b[0m \u001b[0;32mimport\u001b[0m \u001b[0mops\u001b[0m\u001b[0;34m,\u001b[0m \u001b[0mmath_ops\u001b[0m\u001b[0;34m,\u001b[0m \u001b[0mstate_ops\u001b[0m\u001b[0;34m,\u001b[0m \u001b[0mcontrol_flow_ops\u001b[0m\u001b[0;34m\u001b[0m\u001b[0;34m\u001b[0m\u001b[0m\n\u001b[0;32m----> 4\u001b[0;31m \u001b[0;32mfrom\u001b[0m \u001b[0mtensorflow\u001b[0m\u001b[0;34m.\u001b[0m\u001b[0mpython\u001b[0m\u001b[0;34m.\u001b[0m\u001b[0mkeras\u001b[0m \u001b[0;32mimport\u001b[0m \u001b[0mbackend_config\u001b[0m\u001b[0;34m\u001b[0m\u001b[0;34m\u001b[0m\u001b[0m\n\u001b[0m\u001b[1;32m      5\u001b[0m \u001b[0;34m\u001b[0m\u001b[0m\n\u001b[1;32m      6\u001b[0m \u001b[0;34m\u001b[0m\u001b[0m\n",
      "\u001b[0;31mImportError\u001b[0m: cannot import name 'backend_config'"
     ]
    }
   ],
   "source": [
    "import ktrain\n",
    "from ktrain import text"
   ]
  },
  {
   "cell_type": "code",
   "execution_count": 2,
   "metadata": {},
   "outputs": [
    {
     "name": "stdout",
     "output_type": "stream",
     "text": [
      "Processing /home/kp0hyc/.cache/pip/wheels/ed/db/bd/fb2cb12563e8a7e5ef04f99cc9014bc0e509f1bb3834e6ee5d/ktrain-0.7.2-cp36-none-any.whl\n",
      "Requirement already satisfied: matplotlib>=3.0.0 in /home/kp0hyc/kp_env/kp_env/lib/python3.6/site-packages (from ktrain) (3.1.2)\n",
      "Collecting packaging\n",
      "  Downloading https://files.pythonhosted.org/packages/cf/94/9672c2d4b126e74c4496c6b3c58a8b51d6419267be9e70660ba23374c875/packaging-19.2-py2.py3-none-any.whl\n",
      "Requirement already satisfied: pandas>=0.24.2 in /home/kp0hyc/kp_env/kp_env/lib/python3.6/site-packages (from ktrain) (0.25.3)\n",
      "Collecting scikit-learn==0.21.3\n",
      "\u001b[?25l  Downloading https://files.pythonhosted.org/packages/a0/c5/d2238762d780dde84a20b8c761f563fe882b88c5a5fb03c056547c442a19/scikit_learn-0.21.3-cp36-cp36m-manylinux1_x86_64.whl (6.7MB)\n",
      "\u001b[K     |████████████████████████████████| 6.7MB 2.5MB/s eta 0:00:01\n",
      "\u001b[?25hRequirement already satisfied: requests in /home/kp0hyc/kp_env/kp_env/lib/python3.6/site-packages (from ktrain) (2.22.0)\n",
      "Requirement already satisfied: joblib in /home/kp0hyc/kp_env/kp_env/lib/python3.6/site-packages (from ktrain) (0.14.1)\n",
      "Processing /home/kp0hyc/.cache/pip/wheels/c9/c7/63/a9ec0322ccc7c365fd51e475942a82395807186e94f0522243/jieba-0.39-cp36-none-any.whl\n",
      "Processing /home/kp0hyc/.cache/pip/wheels/fb/f8/47/09700d9a19cbcbf0b7a3130690b75c0d6ff80fbda0b1774c7c/bokeh-1.4.0-cp36-none-any.whl\n",
      "Collecting cchardet\n",
      "\u001b[?25l  Downloading https://files.pythonhosted.org/packages/fa/4e/847feebfc3e71c773b23ee06c74687b8c50a5a6d6aaff452a0a4f4eb9a32/cchardet-2.1.5-cp36-cp36m-manylinux1_x86_64.whl (241kB)\n",
      "\u001b[K     |████████████████████████████████| 245kB 41.2MB/s eta 0:00:01\n",
      "\u001b[?25hCollecting fastprogress>=0.1.21\n",
      "  Downloading https://files.pythonhosted.org/packages/f0/4f/eb76f71e7da768325e029b10a443aa015236a04217ec482e861fae7ccb8f/fastprogress-0.1.22-py3-none-any.whl\n",
      "Processing /home/kp0hyc/.cache/pip/wheels/4f/32/0a/df3b340a82583566975377d65e724895b3fad101a3fb729f68/seqeval-0.0.12-cp36-none-any.whl\n",
      "Processing /home/kp0hyc/.cache/pip/wheels/de/63/64/3699be2a9d0ccdb37c7f16329acf3863fd76eda58c39c737af/networkx-2.3-py2.py3-none-any.whl\n",
      "Processing /home/kp0hyc/.cache/pip/wheels/ec/0c/a9/1647275e7ef5014e7b83ff30105180e332867d65e7617ddafe/langdetect-1.0.7-cp36-none-any.whl\n",
      "Requirement already satisfied: keras-bert in /home/kp0hyc/kp_env/kp_env/lib/python3.6/site-packages (from ktrain) (0.80.0)\n",
      "Requirement already satisfied: cycler>=0.10 in /home/kp0hyc/kp_env/kp_env/lib/python3.6/site-packages (from matplotlib>=3.0.0->ktrain) (0.10.0)\n",
      "Requirement already satisfied: numpy>=1.11 in /home/kp0hyc/kp_env/kp_env/lib/python3.6/site-packages (from matplotlib>=3.0.0->ktrain) (1.17.4)\n",
      "Requirement already satisfied: kiwisolver>=1.0.1 in /home/kp0hyc/kp_env/kp_env/lib/python3.6/site-packages (from matplotlib>=3.0.0->ktrain) (1.1.0)\n",
      "Requirement already satisfied: python-dateutil>=2.1 in /home/kp0hyc/kp_env/kp_env/lib/python3.6/site-packages (from matplotlib>=3.0.0->ktrain) (2.8.1)\n",
      "Requirement already satisfied: pyparsing!=2.0.4,!=2.1.2,!=2.1.6,>=2.0.1 in /home/kp0hyc/kp_env/kp_env/lib/python3.6/site-packages (from matplotlib>=3.0.0->ktrain) (2.4.5)\n",
      "Requirement already satisfied: six in /home/kp0hyc/kp_env/kp_env/lib/python3.6/site-packages (from packaging->ktrain) (1.13.0)\n",
      "Requirement already satisfied: pytz>=2017.2 in /home/kp0hyc/kp_env/kp_env/lib/python3.6/site-packages (from pandas>=0.24.2->ktrain) (2019.3)\n",
      "Requirement already satisfied: scipy>=0.17.0 in /home/kp0hyc/kp_env/kp_env/lib/python3.6/site-packages (from scikit-learn==0.21.3->ktrain) (1.4.0)\n",
      "Requirement already satisfied: idna<2.9,>=2.5 in /home/kp0hyc/kp_env/kp_env/lib/python3.6/site-packages (from requests->ktrain) (2.8)\n",
      "Requirement already satisfied: urllib3!=1.25.0,!=1.25.1,<1.26,>=1.21.1 in /home/kp0hyc/kp_env/kp_env/lib/python3.6/site-packages (from requests->ktrain) (1.25.7)\n",
      "Requirement already satisfied: chardet<3.1.0,>=3.0.2 in /home/kp0hyc/kp_env/kp_env/lib/python3.6/site-packages (from requests->ktrain) (3.0.4)\n",
      "Requirement already satisfied: certifi>=2017.4.17 in /home/kp0hyc/kp_env/kp_env/lib/python3.6/site-packages (from requests->ktrain) (2019.11.28)\n",
      "Requirement already satisfied: Jinja2>=2.7 in /home/kp0hyc/kp_env/kp_env/lib/python3.6/site-packages (from bokeh->ktrain) (2.10.3)\n",
      "Requirement already satisfied: pillow>=4.0 in /home/kp0hyc/kp_env/kp_env/lib/python3.6/site-packages (from bokeh->ktrain) (6.2.1)\n",
      "Requirement already satisfied: tornado>=4.3 in /home/kp0hyc/kp_env/kp_env/lib/python3.6/site-packages (from bokeh->ktrain) (6.0.3)\n",
      "Requirement already satisfied: PyYAML>=3.10 in /home/kp0hyc/kp_env/kp_env/lib/python3.6/site-packages (from bokeh->ktrain) (5.2)\n",
      "Requirement already satisfied: Keras>=2.2.4 in /home/kp0hyc/kp_env/kp_env/lib/python3.6/site-packages (from seqeval->ktrain) (2.3.1)\n",
      "Requirement already satisfied: decorator>=4.3.0 in /home/kp0hyc/kp_env/kp_env/lib/python3.6/site-packages (from networkx==2.3->ktrain) (4.4.1)\n",
      "Requirement already satisfied: keras-transformer>=0.30.0 in /home/kp0hyc/kp_env/kp_env/lib/python3.6/site-packages (from keras-bert->ktrain) (0.31.0)\n",
      "Requirement already satisfied: setuptools in /home/kp0hyc/kp_env/kp_env/lib/python3.6/site-packages (from kiwisolver>=1.0.1->matplotlib>=3.0.0->ktrain) (42.0.2)\n",
      "Requirement already satisfied: MarkupSafe>=0.23 in /home/kp0hyc/kp_env/kp_env/lib/python3.6/site-packages (from Jinja2>=2.7->bokeh->ktrain) (1.1.1)\n",
      "Requirement already satisfied: keras-applications>=1.0.6 in /home/kp0hyc/kp_env/kp_env/lib/python3.6/site-packages (from Keras>=2.2.4->seqeval->ktrain) (1.0.8)\n",
      "Requirement already satisfied: h5py in /home/kp0hyc/kp_env/kp_env/lib/python3.6/site-packages (from Keras>=2.2.4->seqeval->ktrain) (2.10.0)\n",
      "Requirement already satisfied: keras-preprocessing>=1.0.5 in /home/kp0hyc/kp_env/kp_env/lib/python3.6/site-packages (from Keras>=2.2.4->seqeval->ktrain) (1.1.0)\n",
      "Requirement already satisfied: keras-multi-head>=0.22.0 in /home/kp0hyc/kp_env/kp_env/lib/python3.6/site-packages (from keras-transformer>=0.30.0->keras-bert->ktrain) (0.22.0)\n",
      "Requirement already satisfied: keras-pos-embd>=0.10.0 in /home/kp0hyc/kp_env/kp_env/lib/python3.6/site-packages (from keras-transformer>=0.30.0->keras-bert->ktrain) (0.11.0)\n",
      "Requirement already satisfied: keras-position-wise-feed-forward>=0.5.0 in /home/kp0hyc/kp_env/kp_env/lib/python3.6/site-packages (from keras-transformer>=0.30.0->keras-bert->ktrain) (0.6.0)\n",
      "Requirement already satisfied: keras-embed-sim>=0.7.0 in /home/kp0hyc/kp_env/kp_env/lib/python3.6/site-packages (from keras-transformer>=0.30.0->keras-bert->ktrain) (0.7.0)\n",
      "Requirement already satisfied: keras-layer-normalization>=0.12.0 in /home/kp0hyc/kp_env/kp_env/lib/python3.6/site-packages (from keras-transformer>=0.30.0->keras-bert->ktrain) (0.14.0)\n",
      "Requirement already satisfied: keras-self-attention==0.41.0 in /home/kp0hyc/kp_env/kp_env/lib/python3.6/site-packages (from keras-multi-head>=0.22.0->keras-transformer>=0.30.0->keras-bert->ktrain) (0.41.0)\n",
      "Installing collected packages: packaging, scikit-learn, jieba, bokeh, cchardet, fastprogress, seqeval, networkx, langdetect, ktrain\n",
      "  Found existing installation: scikit-learn 0.22\n",
      "    Uninstalling scikit-learn-0.22:\n",
      "      Successfully uninstalled scikit-learn-0.22\n",
      "Successfully installed bokeh-1.4.0 cchardet-2.1.5 fastprogress-0.1.22 jieba-0.39 ktrain-0.7.2 langdetect-1.0.7 networkx-2.3 packaging-19.2 scikit-learn-0.21.3 seqeval-0.0.12\n",
      "Note: you may need to restart the kernel to use updated packages.\n"
     ]
    }
   ],
   "source": [
    "pip install ktrain"
   ]
  },
  {
   "cell_type": "code",
   "execution_count": 152,
   "metadata": {},
   "outputs": [],
   "source": [
    "k_train = pd.read_csv(\"train.csv\")"
   ]
  },
  {
   "cell_type": "code",
   "execution_count": 153,
   "metadata": {},
   "outputs": [
    {
     "name": "stdout",
     "output_type": "stream",
     "text": [
      "downloading pretrained BERT model (uncased_L-12_H-768_A-12.zip)...\n",
      "[██████████████████████████████████████████████████]\n",
      "extracting pretrained BERT model...\n",
      "done.\n",
      "\n",
      "cleanup downloaded zip...\n",
      "done.\n",
      "\n",
      "preprocessing train...\n",
      "language: en\n"
     ]
    },
    {
     "data": {
      "text/html": [
       "done."
      ],
      "text/plain": [
       "<IPython.core.display.HTML object>"
      ]
     },
     "metadata": {},
     "output_type": "display_data"
    },
    {
     "name": "stdout",
     "output_type": "stream",
     "text": [
      "preprocessing test...\n",
      "language: en\n"
     ]
    },
    {
     "data": {
      "text/html": [
       "done."
      ],
      "text/plain": [
       "<IPython.core.display.HTML object>"
      ]
     },
     "metadata": {},
     "output_type": "display_data"
    }
   ],
   "source": [
    "(x_train, y_train), (x_test, y_test), preproc = text.texts_from_df(k_train, 'comment_text',\n",
    "                      label_columns = [\"toxic\", \"severe_toxic\", \"obscene\", \"threat\", \"insult\", \"identity_hate\"],\n",
    "                      preprocess_mode='bert',\n",
    "                      max_features=max_features, maxlen=maxlen)"
   ]
  },
  {
   "cell_type": "code",
   "execution_count": 158,
   "metadata": {},
   "outputs": [
    {
     "name": "stdout",
     "output_type": "stream",
     "text": [
      "Is Multi-Label? True\n",
      "maxlen is 100\n",
      "done.\n"
     ]
    }
   ],
   "source": [
    "model = text.text_classifier('bert', train_data=(x_train, y_train), preproc=preproc)\n",
    "learner = ktrain.get_learner(model, train_data=(x_train, y_train), val_data=(x_test, y_test), batch_size=24)"
   ]
  },
  {
   "cell_type": "code",
   "execution_count": 161,
   "metadata": {},
   "outputs": [
    {
     "name": "stdout",
     "output_type": "stream",
     "text": [
      "\n",
      "\n",
      "begin training using onecycle policy with max lr of 0.001...\n",
      "Train on 143613 samples, validate on 15958 samples\n",
      "143613/143613 [==============================] - 2383s 17ms/sample - loss: 0.1439 - acc: 0.9634 - val_loss: 0.1433 - val_acc: 0.9626\n"
     ]
    },
    {
     "data": {
      "text/plain": [
       "<tensorflow.python.keras.callbacks.History at 0x1b41e7c5898>"
      ]
     },
     "execution_count": 161,
     "metadata": {},
     "output_type": "execute_result"
    }
   ],
   "source": [
    "learner.fit_onecycle(0.001, 1)"
   ]
  },
  {
   "cell_type": "code",
   "execution_count": 162,
   "metadata": {},
   "outputs": [
    {
     "data": {
      "text/plain": [
       "0.5000875061968181"
      ]
     },
     "execution_count": 162,
     "metadata": {},
     "output_type": "execute_result"
    }
   ],
   "source": [
    "roc_auc_score(y_test, learner.model.predict(x_test))"
   ]
  },
  {
   "cell_type": "markdown",
   "metadata": {},
   "source": [
    "## Скор совпадает со скором на k"
   ]
  },
  {
   "cell_type": "code",
   "execution_count": 164,
   "metadata": {},
   "outputs": [],
   "source": [
    "predictor = ktrain.get_predictor(learner.model, preproc)"
   ]
  },
  {
   "cell_type": "code",
   "execution_count": 183,
   "metadata": {},
   "outputs": [
    {
     "data": {
      "text/html": [
       "<div>\n",
       "<style scoped>\n",
       "    .dataframe tbody tr th:only-of-type {\n",
       "        vertical-align: middle;\n",
       "    }\n",
       "\n",
       "    .dataframe tbody tr th {\n",
       "        vertical-align: top;\n",
       "    }\n",
       "\n",
       "    .dataframe thead th {\n",
       "        text-align: right;\n",
       "    }\n",
       "</style>\n",
       "<table border=\"1\" class=\"dataframe\">\n",
       "  <thead>\n",
       "    <tr style=\"text-align: right;\">\n",
       "      <th></th>\n",
       "      <th>id</th>\n",
       "      <th>comment_text</th>\n",
       "    </tr>\n",
       "  </thead>\n",
       "  <tbody>\n",
       "    <tr>\n",
       "      <th>0</th>\n",
       "      <td>00001cee341fdb12</td>\n",
       "      <td>Yo bitch Ja Rule is more succesful then you'll...</td>\n",
       "    </tr>\n",
       "    <tr>\n",
       "      <th>1</th>\n",
       "      <td>0000247867823ef7</td>\n",
       "      <td>== From RfC == \\n\\n The title is fine as it is...</td>\n",
       "    </tr>\n",
       "    <tr>\n",
       "      <th>2</th>\n",
       "      <td>00013b17ad220c46</td>\n",
       "      <td>\" \\n\\n == Sources == \\n\\n * Zawe Ashton on Lap...</td>\n",
       "    </tr>\n",
       "    <tr>\n",
       "      <th>3</th>\n",
       "      <td>00017563c3f7919a</td>\n",
       "      <td>:If you have a look back at the source, the in...</td>\n",
       "    </tr>\n",
       "    <tr>\n",
       "      <th>4</th>\n",
       "      <td>00017695ad8997eb</td>\n",
       "      <td>I don't anonymously edit articles at all.</td>\n",
       "    </tr>\n",
       "    <tr>\n",
       "      <th>...</th>\n",
       "      <td>...</td>\n",
       "      <td>...</td>\n",
       "    </tr>\n",
       "    <tr>\n",
       "      <th>153159</th>\n",
       "      <td>fffcd0960ee309b5</td>\n",
       "      <td>. \\n i totally agree, this stuff is nothing bu...</td>\n",
       "    </tr>\n",
       "    <tr>\n",
       "      <th>153160</th>\n",
       "      <td>fffd7a9a6eb32c16</td>\n",
       "      <td>== Throw from out field to home plate. == \\n\\n...</td>\n",
       "    </tr>\n",
       "    <tr>\n",
       "      <th>153161</th>\n",
       "      <td>fffda9e8d6fafa9e</td>\n",
       "      <td>\" \\n\\n == Okinotorishima categories == \\n\\n I ...</td>\n",
       "    </tr>\n",
       "    <tr>\n",
       "      <th>153162</th>\n",
       "      <td>fffe8f1340a79fc2</td>\n",
       "      <td>\" \\n\\n == \"\"One of the founding nations of the...</td>\n",
       "    </tr>\n",
       "    <tr>\n",
       "      <th>153163</th>\n",
       "      <td>ffffce3fb183ee80</td>\n",
       "      <td>\" \\n :::Stop already. Your bullshit is not wel...</td>\n",
       "    </tr>\n",
       "  </tbody>\n",
       "</table>\n",
       "<p>153164 rows × 2 columns</p>\n",
       "</div>"
      ],
      "text/plain": [
       "                      id                                       comment_text\n",
       "0       00001cee341fdb12  Yo bitch Ja Rule is more succesful then you'll...\n",
       "1       0000247867823ef7  == From RfC == \\n\\n The title is fine as it is...\n",
       "2       00013b17ad220c46  \" \\n\\n == Sources == \\n\\n * Zawe Ashton on Lap...\n",
       "3       00017563c3f7919a  :If you have a look back at the source, the in...\n",
       "4       00017695ad8997eb          I don't anonymously edit articles at all.\n",
       "...                  ...                                                ...\n",
       "153159  fffcd0960ee309b5  . \\n i totally agree, this stuff is nothing bu...\n",
       "153160  fffd7a9a6eb32c16  == Throw from out field to home plate. == \\n\\n...\n",
       "153161  fffda9e8d6fafa9e  \" \\n\\n == Okinotorishima categories == \\n\\n I ...\n",
       "153162  fffe8f1340a79fc2  \" \\n\\n == \"\"One of the founding nations of the...\n",
       "153163  ffffce3fb183ee80  \" \\n :::Stop already. Your bullshit is not wel...\n",
       "\n",
       "[153164 rows x 2 columns]"
      ]
     },
     "execution_count": 183,
     "metadata": {},
     "output_type": "execute_result"
    }
   ],
   "source": [
    "test = pd.read_csv(\"test.csv\")\n",
    "test"
   ]
  },
  {
   "cell_type": "code",
   "execution_count": 184,
   "metadata": {},
   "outputs": [
    {
     "data": {
      "text/html": [],
      "text/plain": [
       "<IPython.core.display.HTML object>"
      ]
     },
     "metadata": {},
     "output_type": "display_data"
    }
   ],
   "source": [
    "prediction = predictor.predict(list(test['comment_text']))"
   ]
  },
  {
   "cell_type": "code",
   "execution_count": 191,
   "metadata": {},
   "outputs": [],
   "source": [
    "pred = np.copy(prediction)"
   ]
  },
  {
   "cell_type": "code",
   "execution_count": 195,
   "metadata": {},
   "outputs": [],
   "source": [
    "list_classes = [\"toxic\", \"severe_toxic\", \"obscene\", \"threat\", \"insult\", \"identity_hate\"]\n",
    "sample_submission = pd.read_csv(\"sample_submission.csv\")"
   ]
  },
  {
   "cell_type": "code",
   "execution_count": 208,
   "metadata": {},
   "outputs": [
    {
     "data": {
      "text/plain": [
       "array([['0.08816865', '0.08816865', '0.08816865', ..., '0.08816865',\n",
       "        '0.08816865', '0.08816865'],\n",
       "       ['0.008706719', '0.008706719', '0.008706719', ..., '0.008706719',\n",
       "        '0.008706719', '0.008706719'],\n",
       "       ['0.046646744', '0.046646744', '0.046646744', ..., '0.046646744',\n",
       "        '0.046646744', '0.046646744'],\n",
       "       ['0.0018521547', '0.0018521547', '0.0018521547', ...,\n",
       "        '0.0018521547', '0.0018521547', '0.0018521547'],\n",
       "       ['0.04432538', '0.04432538', '0.04432538', ..., '0.04432538',\n",
       "        '0.04432538', '0.04432538'],\n",
       "       ['0.009221703', '0.009221703', '0.009221703', ..., '0.009221703',\n",
       "        '0.009221703', '0.009221703']], dtype='<U13')"
      ]
     },
     "execution_count": 208,
     "metadata": {},
     "output_type": "execute_result"
    }
   ],
   "source": [
    "np.array(prediction).T[1]"
   ]
  },
  {
   "cell_type": "code",
   "execution_count": 210,
   "metadata": {},
   "outputs": [
    {
     "data": {
      "text/plain": [
       "array([['0.08816865', '0.008706719', '0.046646744', '0.0018521547',\n",
       "        '0.04432538', '0.009221703'],\n",
       "       ['0.08816865', '0.008706719', '0.046646744', '0.0018521547',\n",
       "        '0.04432538', '0.009221703'],\n",
       "       ['0.08816865', '0.008706719', '0.046646744', '0.0018521547',\n",
       "        '0.04432538', '0.009221703'],\n",
       "       ...,\n",
       "       ['0.08816865', '0.008706719', '0.046646744', '0.0018521547',\n",
       "        '0.04432538', '0.009221703'],\n",
       "       ['0.08816865', '0.008706719', '0.046646744', '0.0018521547',\n",
       "        '0.04432538', '0.009221703'],\n",
       "       ['0.08816865', '0.008706719', '0.046646744', '0.0018521547',\n",
       "        '0.04432538', '0.009221703']], dtype=object)"
      ]
     },
     "execution_count": 210,
     "metadata": {},
     "output_type": "execute_result"
    }
   ],
   "source": [
    "np.array(sample_submission[list_classes])"
   ]
  },
  {
   "cell_type": "code",
   "execution_count": 214,
   "metadata": {},
   "outputs": [
    {
     "data": {
      "text/html": [
       "<div>\n",
       "<style scoped>\n",
       "    .dataframe tbody tr th:only-of-type {\n",
       "        vertical-align: middle;\n",
       "    }\n",
       "\n",
       "    .dataframe tbody tr th {\n",
       "        vertical-align: top;\n",
       "    }\n",
       "\n",
       "    .dataframe thead th {\n",
       "        text-align: right;\n",
       "    }\n",
       "</style>\n",
       "<table border=\"1\" class=\"dataframe\">\n",
       "  <thead>\n",
       "    <tr style=\"text-align: right;\">\n",
       "      <th></th>\n",
       "      <th>0</th>\n",
       "      <th>1</th>\n",
       "      <th>2</th>\n",
       "      <th>3</th>\n",
       "      <th>4</th>\n",
       "      <th>5</th>\n",
       "    </tr>\n",
       "  </thead>\n",
       "  <tbody>\n",
       "    <tr>\n",
       "      <th>0</th>\n",
       "      <td>0.08816865</td>\n",
       "      <td>0.008706719</td>\n",
       "      <td>0.046646744</td>\n",
       "      <td>0.0018521547</td>\n",
       "      <td>0.04432538</td>\n",
       "      <td>0.009221703</td>\n",
       "    </tr>\n",
       "    <tr>\n",
       "      <th>1</th>\n",
       "      <td>0.08816865</td>\n",
       "      <td>0.008706719</td>\n",
       "      <td>0.046646744</td>\n",
       "      <td>0.0018521547</td>\n",
       "      <td>0.04432538</td>\n",
       "      <td>0.009221703</td>\n",
       "    </tr>\n",
       "    <tr>\n",
       "      <th>2</th>\n",
       "      <td>0.08816865</td>\n",
       "      <td>0.008706719</td>\n",
       "      <td>0.046646744</td>\n",
       "      <td>0.0018521547</td>\n",
       "      <td>0.04432538</td>\n",
       "      <td>0.009221703</td>\n",
       "    </tr>\n",
       "    <tr>\n",
       "      <th>3</th>\n",
       "      <td>0.08816865</td>\n",
       "      <td>0.008706719</td>\n",
       "      <td>0.046646744</td>\n",
       "      <td>0.0018521547</td>\n",
       "      <td>0.04432538</td>\n",
       "      <td>0.009221703</td>\n",
       "    </tr>\n",
       "    <tr>\n",
       "      <th>4</th>\n",
       "      <td>0.08816865</td>\n",
       "      <td>0.008706719</td>\n",
       "      <td>0.046646744</td>\n",
       "      <td>0.0018521547</td>\n",
       "      <td>0.04432538</td>\n",
       "      <td>0.009221703</td>\n",
       "    </tr>\n",
       "    <tr>\n",
       "      <th>...</th>\n",
       "      <td>...</td>\n",
       "      <td>...</td>\n",
       "      <td>...</td>\n",
       "      <td>...</td>\n",
       "      <td>...</td>\n",
       "      <td>...</td>\n",
       "    </tr>\n",
       "    <tr>\n",
       "      <th>153159</th>\n",
       "      <td>0.08816865</td>\n",
       "      <td>0.008706719</td>\n",
       "      <td>0.046646744</td>\n",
       "      <td>0.0018521547</td>\n",
       "      <td>0.04432538</td>\n",
       "      <td>0.009221703</td>\n",
       "    </tr>\n",
       "    <tr>\n",
       "      <th>153160</th>\n",
       "      <td>0.08816865</td>\n",
       "      <td>0.008706719</td>\n",
       "      <td>0.046646744</td>\n",
       "      <td>0.0018521547</td>\n",
       "      <td>0.04432538</td>\n",
       "      <td>0.009221703</td>\n",
       "    </tr>\n",
       "    <tr>\n",
       "      <th>153161</th>\n",
       "      <td>0.08816865</td>\n",
       "      <td>0.008706719</td>\n",
       "      <td>0.046646744</td>\n",
       "      <td>0.0018521547</td>\n",
       "      <td>0.04432538</td>\n",
       "      <td>0.009221703</td>\n",
       "    </tr>\n",
       "    <tr>\n",
       "      <th>153162</th>\n",
       "      <td>0.08816865</td>\n",
       "      <td>0.008706719</td>\n",
       "      <td>0.046646744</td>\n",
       "      <td>0.0018521547</td>\n",
       "      <td>0.04432538</td>\n",
       "      <td>0.009221703</td>\n",
       "    </tr>\n",
       "    <tr>\n",
       "      <th>153163</th>\n",
       "      <td>0.08816865</td>\n",
       "      <td>0.008706719</td>\n",
       "      <td>0.046646744</td>\n",
       "      <td>0.0018521547</td>\n",
       "      <td>0.04432538</td>\n",
       "      <td>0.009221703</td>\n",
       "    </tr>\n",
       "  </tbody>\n",
       "</table>\n",
       "<p>153164 rows × 6 columns</p>\n",
       "</div>"
      ],
      "text/plain": [
       "                 0            1            2             3           4  \\\n",
       "0       0.08816865  0.008706719  0.046646744  0.0018521547  0.04432538   \n",
       "1       0.08816865  0.008706719  0.046646744  0.0018521547  0.04432538   \n",
       "2       0.08816865  0.008706719  0.046646744  0.0018521547  0.04432538   \n",
       "3       0.08816865  0.008706719  0.046646744  0.0018521547  0.04432538   \n",
       "4       0.08816865  0.008706719  0.046646744  0.0018521547  0.04432538   \n",
       "...            ...          ...          ...           ...         ...   \n",
       "153159  0.08816865  0.008706719  0.046646744  0.0018521547  0.04432538   \n",
       "153160  0.08816865  0.008706719  0.046646744  0.0018521547  0.04432538   \n",
       "153161  0.08816865  0.008706719  0.046646744  0.0018521547  0.04432538   \n",
       "153162  0.08816865  0.008706719  0.046646744  0.0018521547  0.04432538   \n",
       "153163  0.08816865  0.008706719  0.046646744  0.0018521547  0.04432538   \n",
       "\n",
       "                  5  \n",
       "0       0.009221703  \n",
       "1       0.009221703  \n",
       "2       0.009221703  \n",
       "3       0.009221703  \n",
       "4       0.009221703  \n",
       "...             ...  \n",
       "153159  0.009221703  \n",
       "153160  0.009221703  \n",
       "153161  0.009221703  \n",
       "153162  0.009221703  \n",
       "153163  0.009221703  \n",
       "\n",
       "[153164 rows x 6 columns]"
      ]
     },
     "execution_count": 214,
     "metadata": {},
     "output_type": "execute_result"
    }
   ],
   "source": [
    "_pred.T"
   ]
  },
  {
   "cell_type": "code",
   "execution_count": 215,
   "metadata": {},
   "outputs": [],
   "source": [
    "sample_submission[list_classes] = _pred.T"
   ]
  },
  {
   "cell_type": "code",
   "execution_count": 217,
   "metadata": {},
   "outputs": [],
   "source": [
    "sample_submission.to_csv('submission.csv', index=False)"
   ]
  },
  {
   "cell_type": "markdown",
   "metadata": {},
   "source": [
    "# Дополнительные 50%\n",
    "Основываясь на полученных результатах, сделайте свою лучшую модель и сделайте Late Submission на тестовых данных challenge. Не забудьте приложить скриншот с Вашим скором. Скриншот вставьте прямо в ноутбук с решением или выведите в stdout."
   ]
  },
  {
   "cell_type": "code",
   "execution_count": 218,
   "metadata": {},
   "outputs": [],
   "source": [
    "_k_val = train.iloc[_val_index]\n",
    "_k_train = train.iloc[_train_index]"
   ]
  },
  {
   "cell_type": "code",
   "execution_count": 252,
   "metadata": {},
   "outputs": [],
   "source": [
    "_k_val.to_csv(\"_k_val.csv\", index = None, header=True)\n",
    "_k_train.to_csv(\"_k_train.csv\", index = None, header=True)"
   ]
  },
  {
   "cell_type": "code",
   "execution_count": 34,
   "metadata": {},
   "outputs": [],
   "source": [
    "_k_val = pd.read_csv(\"_k_val.csv\")\n",
    "_k_train = pd.read_csv(\"_k_train.csv\")"
   ]
  },
  {
   "cell_type": "code",
   "execution_count": 54,
   "metadata": {},
   "outputs": [],
   "source": [
    "_k_train_F = _k_train[(_k_train.clean == False)]"
   ]
  },
  {
   "cell_type": "code",
   "execution_count": 55,
   "metadata": {},
   "outputs": [],
   "source": [
    "_k_train_conc = pd.concat([_k_val, _k_train_F], ignore_index=True)"
   ]
  },
  {
   "cell_type": "code",
   "execution_count": 62,
   "metadata": {},
   "outputs": [
    {
     "name": "stdout",
     "output_type": "stream",
     "text": [
      "16225 10572\n"
     ]
    }
   ],
   "source": [
    "print(len(_k_train_conc[(_k_train_conc.clean == False)]), len(_k_train_conc[(_k_train_conc.clean == True)]))"
   ]
  },
  {
   "cell_type": "code",
   "execution_count": 64,
   "metadata": {},
   "outputs": [
    {
     "name": "stdout",
     "output_type": "stream",
     "text": [
      "preprocessing train...\n",
      "language: en\n"
     ]
    },
    {
     "data": {
      "text/html": [
       "done."
      ],
      "text/plain": [
       "<IPython.core.display.HTML object>"
      ]
     },
     "metadata": {},
     "output_type": "display_data"
    },
    {
     "name": "stdout",
     "output_type": "stream",
     "text": [
      "preprocessing test...\n",
      "language: en\n"
     ]
    },
    {
     "data": {
      "text/html": [
       "done."
      ],
      "text/plain": [
       "<IPython.core.display.HTML object>"
      ]
     },
     "metadata": {},
     "output_type": "display_data"
    }
   ],
   "source": [
    "NUM_WORDS = 35000\n",
    "MAXLEN = 150\n",
    "(x_train, y_train), (x_test, y_test), preproc = text.texts_from_df(_k_train_conc, 'comment_text',\n",
    "                      label_columns = [\"toxic\", \"severe_toxic\", \"obscene\", \"threat\", \"insult\", \"identity_hate\"],\n",
    "                      preprocess_mode='bert',\n",
    "                      max_features=NUM_WORDS, maxlen=MAXLEN,\n",
    "                      ngram_range=1)"
   ]
  },
  {
   "cell_type": "code",
   "execution_count": 26,
   "metadata": {},
   "outputs": [
    {
     "data": {
      "text/plain": [
       "<function ktrain.text.data.texts_from_df(train_df, text_column, label_columns=[], val_df=None, max_features=20000, maxlen=400, val_pct=0.1, ngram_range=1, preprocess_mode='standard', lang=None, random_state=None, verbose=1)>"
      ]
     },
     "execution_count": 26,
     "metadata": {},
     "output_type": "execute_result"
    }
   ],
   "source": [
    "text.texts_from_df"
   ]
  },
  {
   "cell_type": "code",
   "execution_count": 78,
   "metadata": {},
   "outputs": [
    {
     "name": "stdout",
     "output_type": "stream",
     "text": [
      "Is Multi-Label? True\n",
      "maxlen is 150\n",
      "done.\n"
     ]
    }
   ],
   "source": [
    "model = text.text_classifier('bert', train_data=(x_train, y_train), preproc=preproc)\n",
    "learner = ktrain.get_learner(model, train_data=(x_train, y_train), val_data=(x_test, y_test), batch_size=6)"
   ]
  },
  {
   "cell_type": "code",
   "execution_count": 34,
   "metadata": {},
   "outputs": [
    {
     "name": "stdout",
     "output_type": "stream",
     "text": [
      "simulating training for different learning rates... this may take a few moments...\n",
      "Train on 14355 samples\n",
      "Epoch 1/1024\n",
      " 7002/14355 [=============>................] - ETA: 3:58 - loss: 0.4073 - acc: 0.8271 - ETA: 4:00 - loss: 0.4026 - acc\n",
      "\n",
      "done.\n",
      "Please invoke the Learner.lr_plot() method to visually inspect the loss plot to help identify the maximal learning rate associated with falling loss.\n"
     ]
    }
   ],
   "source": [
    "learner.lr_find()"
   ]
  },
  {
   "cell_type": "code",
   "execution_count": 35,
   "metadata": {},
   "outputs": [
    {
     "data": {
      "image/png": "[encoded data removed]",
      "text/plain": [
       "<Figure size 432x288 with 1 Axes>"
      ]
     },
     "metadata": {
      "needs_background": "light"
     },
     "output_type": "display_data"
    }
   ],
   "source": [
    "learner.lr_plot()"
   ]
  },
  {
   "cell_type": "code",
   "execution_count": null,
   "metadata": {},
   "outputs": [
    {
     "name": "stdout",
     "output_type": "stream",
     "text": [
      "\n",
      "\n",
      "begin training using triangular learning rate policy with max lr of 2e-05...\n",
      "Train on 24117 samples, validate on 2680 samples\n",
      "Epoch 1/5\n"
     ]
    }
   ],
   "source": [
    "learner.autofit(2e-5, 5)"
   ]
  },
  {
   "cell_type": "code",
   "execution_count": null,
   "metadata": {},
   "outputs": [],
   "source": [
    "predictor = ktrain.get_predictor(learner.model, preproc)"
   ]
  },
  {
   "cell_type": "code",
   "execution_count": null,
   "metadata": {},
   "outputs": [],
   "source": [
    "test = pd.read_csv(\"test.csv\")"
   ]
  },
  {
   "cell_type": "code",
   "execution_count": null,
   "metadata": {},
   "outputs": [],
   "source": [
    "prediction = predictor.predict(list(test['comment_text']))"
   ]
  },
  {
   "cell_type": "code",
   "execution_count": null,
   "metadata": {},
   "outputs": [],
   "source": [
    "list_classes = [\"toxic\", \"severe_toxic\", \"obscene\", \"threat\", \"insult\", \"identity_hate\"]\n",
    "sample_submission = pd.read_csv(\"sample_submission.csv\")"
   ]
  },
  {
   "cell_type": "code",
   "execution_count": null,
   "metadata": {},
   "outputs": [],
   "source": [
    "roc_auc_score(y_test, learner.model.predict(x_test))"
   ]
  },
  {
   "cell_type": "code",
   "execution_count": null,
   "metadata": {},
   "outputs": [],
   "source": [
    "_pred = np.copy(prediction)"
   ]
  },
  {
   "cell_type": "code",
   "execution_count": null,
   "metadata": {},
   "outputs": [],
   "source": [
    "_pred = _pred.T[1].T"
   ]
  },
  {
   "cell_type": "code",
   "execution_count": null,
   "metadata": {},
   "outputs": [],
   "source": [
    "sample_submission[list_classes] = _pred"
   ]
  },
  {
   "cell_type": "code",
   "execution_count": null,
   "metadata": {},
   "outputs": [],
   "source": [
    "sample_submission.to_csv('submission.csv', index=False)"
   ]
  },
  {
   "cell_type": "code",
   "execution_count": 1,
   "metadata": {},
   "outputs": [],
   "source": [
    "from PIL import Image"
   ]
  },
  {
   "cell_type": "code",
   "execution_count": 2,
   "metadata": {},
   "outputs": [
    {
     "data": {
      "image/png": "[encoded data removed]",
      "text/plain": [
       "<PIL.PngImagePlugin.PngImageFile image mode=RGB size=1016x85 at 0x24C8A8D0D30>"
      ]
     },
     "execution_count": 2,
     "metadata": {},
     "output_type": "execute_result"
    }
   ],
   "source": [
    "im = Image.open(\"score.png\")\n",
    "im"
   ]
  },
  {
   "cell_type": "markdown",
   "metadata": {},
   "source": [
    "______\n",
    "_Правила полученения дополнительных баллов:_\n",
    "- можно получить от 20% до 50% в зависимости от метрики качества других участников нашего курса полученного на лидерборде\n",
    "- Чтобы получить минимум в 20% нужно: \n",
    "    - Основные задания должны быть полностью решены\n",
    "    - Обосновать то решение которое отправили.\n",
    "    - Предложенная модель должна отличаться от тех, что строились в заданиях 2-4\n",
    "    \n",
    "__ Готовый ноутбук загрузите в эту форму: [http://bit.ly/dafe_hw](http://bit.ly/dafe_hw) __\n",
    "\n"
   ]
  },
  {
   "cell_type": "markdown",
   "metadata": {},
   "source": []
  },
  {
   "cell_type": "code",
   "execution_count": null,
   "metadata": {},
   "outputs": [],
   "source": []
  }
 ],
 "metadata": {
  "kernelspec": {
   "display_name": "Python 3",
   "language": "python",
   "name": "python3"
  },
  "language_info": {
   "codemirror_mode": {
    "name": "ipython",
    "version": 3
   },
   "file_extension": ".py",
   "mimetype": "text/x-python",
   "name": "python",
   "nbconvert_exporter": "python",
   "pygments_lexer": "ipython3",
   "version": "3.6.9"
  }
 },
 "nbformat": 4,
 "nbformat_minor": 2
}
